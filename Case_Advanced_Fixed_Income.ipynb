{
 "cells": [
  {
   "cell_type": "markdown",
   "id": "666d56421f94ae60",
   "metadata": {},
   "source": [
    "<h1 style=\"text-align: center;\"> <b> Advanced Fixed Income Case Study </b>\n",
    "<P> \"Deutsche Bank: Finding Relative Value Trades\"  \n",
    "</h1>\n",
    "\n"
   ]
  },
  {
   "cell_type": "markdown",
   "id": "a16be8542fbdfcca",
   "metadata": {},
   "source": [
    "#### Maël Thuillier - 79372, Solal Fuster - 72950, Grigory Sheleg - 80985, Felix Tremblot de La Croix - 87510, Elyazid Benkhadra - 80574,"
   ]
  },
  {
   "cell_type": "markdown",
   "id": "c72c91c8e81684e3",
   "metadata": {},
   "source": [
    "#### First of all, let's install and import the required libraries:"
   ]
  },
  {
   "cell_type": "code",
   "execution_count": 1,
   "id": "7ec29d49",
   "metadata": {},
   "outputs": [],
   "source": [
    "#Check if the require libraries are installed and install them if not\n",
    "#import sys\n",
    "\n",
    "#!py -m pip install -r requirements.txt"
   ]
  },
  {
   "cell_type": "code",
   "execution_count": 2,
   "id": "85863ee7a040cf9",
   "metadata": {
    "ExecuteTime": {
     "end_time": "2024-10-29T10:28:02.044339Z",
     "start_time": "2024-10-29T10:28:01.723024Z"
    }
   },
   "outputs": [],
   "source": [
    "%load_ext autoreload\n",
    "%autoreload 2\n",
    "import pandas as pd\n",
    "import numpy as np\n",
    "import datetime\n",
    "\n",
    "import QuantLib as ql\n",
    "from scipy.optimize import linprog\n",
    "from scipy.optimize import least_squares\n",
    "from scipy.interpolate import CubicSpline\n",
    "\n",
    "from nelson_siegel_svensson import NelsonSiegelSvenssonCurve\n",
    "from nelson_siegel_svensson import NelsonSiegelCurve\n",
    "from nelson_siegel_svensson.calibrate import calibrate_nss_ols\n",
    "\n",
    "import graph as gr"
   ]
  },
  {
   "cell_type": "code",
   "execution_count": 3,
   "id": "f6486906",
   "metadata": {},
   "outputs": [],
   "source": [
    "# For better readibility we will always show only the first and last 6 rows of huge dataframe, run pd.reset_option to revert to default\n",
    "pd.set_option('display.max_rows', 13)\n",
    "\n",
    "#pd.reset_option('display.max_rows')"
   ]
  },
  {
   "cell_type": "markdown",
   "id": "7c3b3c821e7fa344",
   "metadata": {},
   "source": [
    "#### Data importation and cleaning for Exhibit 1 (df):"
   ]
  },
  {
   "cell_type": "code",
   "execution_count": 4,
   "id": "d851cde96942f772",
   "metadata": {
    "ExecuteTime": {
     "end_time": "2024-10-29T10:28:04.121192Z",
     "start_time": "2024-10-29T10:28:03.777936Z"
    }
   },
   "outputs": [
    {
     "data": {
      "text/html": [
       "<div>\n",
       "<style scoped>\n",
       "    .dataframe tbody tr th:only-of-type {\n",
       "        vertical-align: middle;\n",
       "    }\n",
       "\n",
       "    .dataframe tbody tr th {\n",
       "        vertical-align: top;\n",
       "    }\n",
       "\n",
       "    .dataframe thead th {\n",
       "        text-align: right;\n",
       "    }\n",
       "</style>\n",
       "<table border=\"1\" class=\"dataframe\">\n",
       "  <thead>\n",
       "    <tr style=\"text-align: right;\">\n",
       "      <th></th>\n",
       "      <th>Coupon Rate (%)</th>\n",
       "      <th>Maturity Date</th>\n",
       "      <th>Current Price</th>\n",
       "      <th>Starting Date</th>\n",
       "      <th>Time to Maturity</th>\n",
       "    </tr>\n",
       "  </thead>\n",
       "  <tbody>\n",
       "    <tr>\n",
       "      <th>0</th>\n",
       "      <td>3</td>\n",
       "      <td>2004-02-15</td>\n",
       "      <td>101.0544</td>\n",
       "      <td>2003-08-15</td>\n",
       "      <td>0.5</td>\n",
       "    </tr>\n",
       "    <tr>\n",
       "      <th>1</th>\n",
       "      <td>2.125</td>\n",
       "      <td>2004-08-15</td>\n",
       "      <td>100.9254</td>\n",
       "      <td>2003-08-15</td>\n",
       "      <td>1.0</td>\n",
       "    </tr>\n",
       "    <tr>\n",
       "      <th>2</th>\n",
       "      <td>1.5</td>\n",
       "      <td>2005-02-15</td>\n",
       "      <td>99.8942</td>\n",
       "      <td>2003-08-15</td>\n",
       "      <td>1.5</td>\n",
       "    </tr>\n",
       "    <tr>\n",
       "      <th>3</th>\n",
       "      <td>6.5</td>\n",
       "      <td>2005-08-15</td>\n",
       "      <td>109.0934</td>\n",
       "      <td>2003-08-15</td>\n",
       "      <td>2.0</td>\n",
       "    </tr>\n",
       "    <tr>\n",
       "      <th>4</th>\n",
       "      <td>5.625</td>\n",
       "      <td>2006-02-15</td>\n",
       "      <td>108.4380</td>\n",
       "      <td>2003-08-15</td>\n",
       "      <td>2.5</td>\n",
       "    </tr>\n",
       "  </tbody>\n",
       "</table>\n",
       "</div>"
      ],
      "text/plain": [
       "  Coupon Rate (%) Maturity Date  Current Price Starting Date  Time to Maturity\n",
       "0               3    2004-02-15       101.0544    2003-08-15               0.5\n",
       "1           2.125    2004-08-15       100.9254    2003-08-15               1.0\n",
       "2             1.5    2005-02-15        99.8942    2003-08-15               1.5\n",
       "3             6.5    2005-08-15       109.0934    2003-08-15               2.0\n",
       "4           5.625    2006-02-15       108.4380    2003-08-15               2.5"
      ]
     },
     "execution_count": 4,
     "metadata": {},
     "output_type": "execute_result"
    }
   ],
   "source": [
    "# We set a random state globally for our calculations\n",
    "np.random.seed(2**32 - 1)\n",
    "\n",
    "# Extract data\n",
    "df = pd.read_excel(\n",
    "    r\"XLS698-XLS-ENG.xls\",\n",
    "    sheet_name=\"Exhibit 1\",\n",
    "    header=2\n",
    ")\n",
    "\n",
    "StartDate = datetime.datetime(2003, 8, 15)\n",
    "df['Starting Date'] = pd.to_datetime('2003-08-15')\n",
    "\n",
    "df['Maturity Date']=pd.to_datetime(df['Maturity Date'])\n",
    "\n",
    "df['Time to Maturity'] = (df['Maturity Date'] - StartDate)/ pd.Timedelta(days=1) #change format to get Time to Maturity in years float\n",
    "df['Time to Maturity'] = (df['Time to Maturity'] / 365.25).round(1)\n",
    "\n",
    "df.dropna(subset=[\"Maturity Date\", \"Current Price\"], inplace=True)\n",
    "df.reset_index(drop=True, inplace=True)\n",
    "\n",
    "df.head()"
   ]
  },
  {
   "cell_type": "markdown",
   "id": "538aeda1d15a0ab4",
   "metadata": {},
   "source": [
    "#### Question 1.1"
   ]
  },
  {
   "cell_type": "code",
   "execution_count": 5,
   "id": "fd0d16b86dc567e5",
   "metadata": {
    "ExecuteTime": {
     "end_time": "2024-10-29T10:28:05.036153Z",
     "start_time": "2024-10-29T10:28:04.298660Z"
    }
   },
   "outputs": [
    {
     "data": {
      "text/html": [
       "<div>\n",
       "<style scoped>\n",
       "    .dataframe tbody tr th:only-of-type {\n",
       "        vertical-align: middle;\n",
       "    }\n",
       "\n",
       "    .dataframe tbody tr th {\n",
       "        vertical-align: top;\n",
       "    }\n",
       "\n",
       "    .dataframe thead th {\n",
       "        text-align: right;\n",
       "    }\n",
       "</style>\n",
       "<table border=\"1\" class=\"dataframe\">\n",
       "  <thead>\n",
       "    <tr style=\"text-align: right;\">\n",
       "      <th></th>\n",
       "      <th>Coupon Rate (%)</th>\n",
       "      <th>Maturity Date</th>\n",
       "      <th>Current Price</th>\n",
       "      <th>Starting Date</th>\n",
       "      <th>Time to Maturity</th>\n",
       "      <th>Coupon Rate</th>\n",
       "      <th>Quote</th>\n",
       "      <th>Zero-Coupon Yield</th>\n",
       "    </tr>\n",
       "  </thead>\n",
       "  <tbody>\n",
       "    <tr>\n",
       "      <th>0</th>\n",
       "      <td>3</td>\n",
       "      <td>2004-02-15</td>\n",
       "      <td>101.0544</td>\n",
       "      <td>2003-08-15</td>\n",
       "      <td>0.5</td>\n",
       "      <td>0.03</td>\n",
       "      <td>101.0544</td>\n",
       "      <td>0.897514</td>\n",
       "    </tr>\n",
       "    <tr>\n",
       "      <th>1</th>\n",
       "      <td>2.125</td>\n",
       "      <td>2004-08-15</td>\n",
       "      <td>100.9254</td>\n",
       "      <td>2003-08-15</td>\n",
       "      <td>1.0</td>\n",
       "      <td>0.02125</td>\n",
       "      <td>100.9254</td>\n",
       "      <td>1.193858</td>\n",
       "    </tr>\n",
       "    <tr>\n",
       "      <th>2</th>\n",
       "      <td>1.5</td>\n",
       "      <td>2005-02-15</td>\n",
       "      <td>99.8942</td>\n",
       "      <td>2003-08-15</td>\n",
       "      <td>1.5</td>\n",
       "      <td>0.015</td>\n",
       "      <td>99.8942</td>\n",
       "      <td>1.575041</td>\n",
       "    </tr>\n",
       "    <tr>\n",
       "      <th>3</th>\n",
       "      <td>6.5</td>\n",
       "      <td>2005-08-15</td>\n",
       "      <td>109.0934</td>\n",
       "      <td>2003-08-15</td>\n",
       "      <td>2.0</td>\n",
       "      <td>0.065</td>\n",
       "      <td>109.0934</td>\n",
       "      <td>1.872713</td>\n",
       "    </tr>\n",
       "    <tr>\n",
       "      <th>4</th>\n",
       "      <td>5.625</td>\n",
       "      <td>2006-02-15</td>\n",
       "      <td>108.4380</td>\n",
       "      <td>2003-08-15</td>\n",
       "      <td>2.5</td>\n",
       "      <td>0.05625</td>\n",
       "      <td>108.4380</td>\n",
       "      <td>2.179647</td>\n",
       "    </tr>\n",
       "    <tr>\n",
       "      <th>...</th>\n",
       "      <td>...</td>\n",
       "      <td>...</td>\n",
       "      <td>...</td>\n",
       "      <td>...</td>\n",
       "      <td>...</td>\n",
       "      <td>...</td>\n",
       "      <td>...</td>\n",
       "      <td>...</td>\n",
       "    </tr>\n",
       "    <tr>\n",
       "      <th>47</th>\n",
       "      <td>6.375</td>\n",
       "      <td>2027-08-15</td>\n",
       "      <td>111.4036</td>\n",
       "      <td>2003-08-15</td>\n",
       "      <td>24.0</td>\n",
       "      <td>0.06375</td>\n",
       "      <td>111.4036</td>\n",
       "      <td>5.960242</td>\n",
       "    </tr>\n",
       "    <tr>\n",
       "      <th>48</th>\n",
       "      <td>6.125</td>\n",
       "      <td>2028-02-15</td>\n",
       "      <td>108.0391</td>\n",
       "      <td>2003-08-15</td>\n",
       "      <td>24.5</td>\n",
       "      <td>0.06125</td>\n",
       "      <td>108.0391</td>\n",
       "      <td>5.955634</td>\n",
       "    </tr>\n",
       "    <tr>\n",
       "      <th>49</th>\n",
       "      <td>5.5</td>\n",
       "      <td>2028-08-15</td>\n",
       "      <td>99.6330</td>\n",
       "      <td>2003-08-15</td>\n",
       "      <td>25.0</td>\n",
       "      <td>0.055</td>\n",
       "      <td>99.6330</td>\n",
       "      <td>5.912716</td>\n",
       "    </tr>\n",
       "    <tr>\n",
       "      <th>50</th>\n",
       "      <td>5.25</td>\n",
       "      <td>2029-02-15</td>\n",
       "      <td>96.2876</td>\n",
       "      <td>2003-08-15</td>\n",
       "      <td>25.5</td>\n",
       "      <td>0.0525</td>\n",
       "      <td>96.2876</td>\n",
       "      <td>5.878123</td>\n",
       "    </tr>\n",
       "    <tr>\n",
       "      <th>51</th>\n",
       "      <td>6.125</td>\n",
       "      <td>2029-08-15</td>\n",
       "      <td>108.4062</td>\n",
       "      <td>2003-08-15</td>\n",
       "      <td>26.0</td>\n",
       "      <td>0.06125</td>\n",
       "      <td>108.4062</td>\n",
       "      <td>5.904781</td>\n",
       "    </tr>\n",
       "  </tbody>\n",
       "</table>\n",
       "<p>52 rows × 8 columns</p>\n",
       "</div>"
      ],
      "text/plain": [
       "   Coupon Rate (%) Maturity Date  Current Price Starting Date  \\\n",
       "0                3    2004-02-15       101.0544    2003-08-15   \n",
       "1            2.125    2004-08-15       100.9254    2003-08-15   \n",
       "2              1.5    2005-02-15        99.8942    2003-08-15   \n",
       "3              6.5    2005-08-15       109.0934    2003-08-15   \n",
       "4            5.625    2006-02-15       108.4380    2003-08-15   \n",
       "..             ...           ...            ...           ...   \n",
       "47           6.375    2027-08-15       111.4036    2003-08-15   \n",
       "48           6.125    2028-02-15       108.0391    2003-08-15   \n",
       "49             5.5    2028-08-15        99.6330    2003-08-15   \n",
       "50            5.25    2029-02-15        96.2876    2003-08-15   \n",
       "51           6.125    2029-08-15       108.4062    2003-08-15   \n",
       "\n",
       "    Time to Maturity Coupon Rate     Quote  Zero-Coupon Yield  \n",
       "0                0.5        0.03  101.0544           0.897514  \n",
       "1                1.0     0.02125  100.9254           1.193858  \n",
       "2                1.5       0.015   99.8942           1.575041  \n",
       "3                2.0       0.065  109.0934           1.872713  \n",
       "4                2.5     0.05625  108.4380           2.179647  \n",
       "..               ...         ...       ...                ...  \n",
       "47              24.0     0.06375  111.4036           5.960242  \n",
       "48              24.5     0.06125  108.0391           5.955634  \n",
       "49              25.0       0.055   99.6330           5.912716  \n",
       "50              25.5      0.0525   96.2876           5.878123  \n",
       "51              26.0     0.06125  108.4062           5.904781  \n",
       "\n",
       "[52 rows x 8 columns]"
      ]
     },
     "execution_count": 5,
     "metadata": {},
     "output_type": "execute_result"
    }
   ],
   "source": [
    "#Quantlib is a free/open-source library for quantitative finance based on C++ and used in Python that we will use for the rest of the assignement\n",
    "#as it is a very powerful library and it is easy to use \n",
    "\n",
    "# We assume face value is $100 for all bonds\n",
    "face_value = 100\n",
    "\n",
    "# We prepare the bond data for the QuantLib package\n",
    "df['Coupon Rate'] = df['Coupon Rate (%)'] / 100\n",
    "df['Quote'] = df['Current Price'] \n",
    "\n",
    "#  We set evaluation date with the one we have in the case study\n",
    "ql.Settings.instance().evaluationDate = ql.Date(15, 8, 2003)\n",
    "\n",
    "# We define the calendar and day count convention (important for QuantLib, \n",
    "# here we have U.S. government bonds, so the U.S. government bond calendar prevails \n",
    "# and the day count is based on the ISDA convention)\n",
    "calendar = ql.UnitedStates(ql.UnitedStates.GovernmentBond)\n",
    "day_count = ql.ActualActual(ql.ActualActual.ISDA)\n",
    "business_convention = ql.Unadjusted\n",
    "\n",
    "# Define the compounding and frequency\n",
    "compounding = ql.Compounded\n",
    "compounding_frequency = ql.Semiannual\n",
    "\n",
    "# Create an empty list to store the bond helpers\n",
    "bond_helpers = []\n",
    "\n",
    "# Flag for identifying the first two bonds\n",
    "is_first_bond = True\n",
    "\n",
    "for index, row in df.iterrows():\n",
    "    # Define bond terms\n",
    "    issue_date = ql.Date(15, 8, 2003)\n",
    "    maturity_date = ql.Date(row['Maturity Date'].day, row['Maturity Date'].month, row['Maturity Date'].year)\n",
    "    tenor = ql.Period(ql.Semiannual)\n",
    "    settlement_days = 0\n",
    "    face_amount = face_value\n",
    "    coupon_rate = [row['Coupon Rate']]\n",
    "    coupons = coupon_rate\n",
    "    accrual_day_count = ql.ActualActual(ql.ActualActual.ISDA)  # Specify the convention\n",
    "    payment_convention = ql.Unadjusted\n",
    "\n",
    "    # Create a schedule for the bond\n",
    "    schedule = ql.Schedule(\n",
    "        issue_date,\n",
    "        maturity_date,\n",
    "        tenor,\n",
    "        calendar,\n",
    "        ql.Unadjusted,\n",
    "        ql.Unadjusted,\n",
    "        ql.DateGeneration.Backward,\n",
    "        False\n",
    "    )\n",
    "\n",
    "    # Calculate accrued interest\n",
    "    bond = ql.FixedRateBond(\n",
    "        settlement_days,\n",
    "        face_amount,\n",
    "        schedule,\n",
    "        coupons,\n",
    "        accrual_day_count,\n",
    "        payment_convention\n",
    "    )\n",
    "    \n",
    "    accrued_interest = bond.accruedAmount(ql.Settings.instance().evaluationDate)\n",
    "\n",
    "    # Adjust the price for the first two bonds with remaining coupon payments\n",
    "    if is_first_bond or index == 1:\n",
    "        # Account for the fact that these are old coupon bonds; accrued interest\n",
    "        clean_price = row['Quote']\n",
    "        full_price = clean_price + accrued_interest\n",
    "        quote_handle = ql.QuoteHandle(ql.SimpleQuote(full_price))\n",
    "    else:\n",
    "        # For the rest of the bonds, use the clean price (no coupon adjustments needed)\n",
    "        quote_handle = ql.QuoteHandle(ql.SimpleQuote(row['Quote']))\n",
    "\n",
    "    bond_helper = ql.FixedRateBondHelper(\n",
    "        quote_handle,\n",
    "        settlement_days,\n",
    "        face_amount,\n",
    "        schedule,\n",
    "        coupons,\n",
    "        accrual_day_count,\n",
    "        payment_convention\n",
    "    )\n",
    "\n",
    "    bond_helpers.append(bond_helper)\n",
    "\n",
    "    # Set flag to false after processing the first two bonds\n",
    "    is_first_bond = False\n",
    "\n",
    "# Build the yield curve\n",
    "yieldcurve = ql.PiecewiseLogCubicDiscount(\n",
    "    ql.Settings.instance().evaluationDate,\n",
    "    bond_helpers,\n",
    "    day_count\n",
    ")\n",
    "\n",
    "zero_rates = []\n",
    "maturities = []\n",
    "\n",
    "# Loop through each bond to extract zero-coupon rates\n",
    "for index, row in df.iterrows():\n",
    "    maturity_date = ql.Date(row['Maturity Date'].day, row['Maturity Date'].month, row['Maturity Date'].year)\n",
    "    ttm = day_count.yearFraction(ql.Settings.instance().evaluationDate, maturity_date)\n",
    "    rate = yieldcurve.zeroRate(\n",
    "        ttm,\n",
    "        compounding,\n",
    "        compounding_frequency\n",
    "        \n",
    "    ).rate()\n",
    "\n",
    "    zero_rates.append(rate * 100)\n",
    "    maturities.append(ttm)\n",
    "\n",
    "\n",
    "df['Zero-Coupon Yield'] = zero_rates\n",
    "df['Zero-Coupon Yield'] = df['Zero-Coupon Yield']\n",
    "\n",
    "df"
   ]
  },
  {
   "cell_type": "markdown",
   "id": "a5b405c742c4dd3a",
   "metadata": {},
   "source": [
    "#### Question 1.2\n",
    "####\n",
    "#### Data importation and cleaning for the Exhibit 4 (df_db):"
   ]
  },
  {
   "cell_type": "code",
   "execution_count": 6,
   "id": "bf5062dc",
   "metadata": {
    "ExecuteTime": {
     "end_time": "2024-10-29T10:28:05.604899Z",
     "start_time": "2024-10-29T10:28:05.201253Z"
    }
   },
   "outputs": [
    {
     "data": {
      "text/html": [
       "<div>\n",
       "<style scoped>\n",
       "    .dataframe tbody tr th:only-of-type {\n",
       "        vertical-align: middle;\n",
       "    }\n",
       "\n",
       "    .dataframe tbody tr th {\n",
       "        vertical-align: top;\n",
       "    }\n",
       "\n",
       "    .dataframe thead th {\n",
       "        text-align: right;\n",
       "    }\n",
       "</style>\n",
       "<table border=\"1\" class=\"dataframe\">\n",
       "  <thead>\n",
       "    <tr style=\"text-align: right;\">\n",
       "      <th></th>\n",
       "      <th>Model Prediction (BEY)</th>\n",
       "      <th>Time to Maturity</th>\n",
       "    </tr>\n",
       "  </thead>\n",
       "  <tbody>\n",
       "    <tr>\n",
       "      <th>0</th>\n",
       "      <td>1.2443</td>\n",
       "      <td>1.0</td>\n",
       "    </tr>\n",
       "    <tr>\n",
       "      <th>1</th>\n",
       "      <td>1.8727</td>\n",
       "      <td>2.0</td>\n",
       "    </tr>\n",
       "    <tr>\n",
       "      <th>2</th>\n",
       "      <td>2.4110</td>\n",
       "      <td>3.0</td>\n",
       "    </tr>\n",
       "    <tr>\n",
       "      <th>3</th>\n",
       "      <td>2.9665</td>\n",
       "      <td>4.0</td>\n",
       "    </tr>\n",
       "    <tr>\n",
       "      <th>4</th>\n",
       "      <td>3.4454</td>\n",
       "      <td>5.0</td>\n",
       "    </tr>\n",
       "    <tr>\n",
       "      <th>5</th>\n",
       "      <td>3.8557</td>\n",
       "      <td>6.0</td>\n",
       "    </tr>\n",
       "    <tr>\n",
       "      <th>6</th>\n",
       "      <td>4.1996</td>\n",
       "      <td>7.0</td>\n",
       "    </tr>\n",
       "    <tr>\n",
       "      <th>7</th>\n",
       "      <td>4.4677</td>\n",
       "      <td>8.0</td>\n",
       "    </tr>\n",
       "    <tr>\n",
       "      <th>8</th>\n",
       "      <td>4.6528</td>\n",
       "      <td>9.0</td>\n",
       "    </tr>\n",
       "    <tr>\n",
       "      <th>9</th>\n",
       "      <td>4.7107</td>\n",
       "      <td>10.0</td>\n",
       "    </tr>\n",
       "    <tr>\n",
       "      <th>10</th>\n",
       "      <td>5.7160</td>\n",
       "      <td>15.0</td>\n",
       "    </tr>\n",
       "    <tr>\n",
       "      <th>11</th>\n",
       "      <td>5.9517</td>\n",
       "      <td>20.0</td>\n",
       "    </tr>\n",
       "    <tr>\n",
       "      <th>12</th>\n",
       "      <td>5.9315</td>\n",
       "      <td>25.0</td>\n",
       "    </tr>\n",
       "  </tbody>\n",
       "</table>\n",
       "</div>"
      ],
      "text/plain": [
       "    Model Prediction (BEY)  Time to Maturity\n",
       "0                   1.2443               1.0\n",
       "1                   1.8727               2.0\n",
       "2                   2.4110               3.0\n",
       "3                   2.9665               4.0\n",
       "4                   3.4454               5.0\n",
       "5                   3.8557               6.0\n",
       "6                   4.1996               7.0\n",
       "7                   4.4677               8.0\n",
       "8                   4.6528               9.0\n",
       "9                   4.7107              10.0\n",
       "10                  5.7160              15.0\n",
       "11                  5.9517              20.0\n",
       "12                  5.9315              25.0"
      ]
     },
     "execution_count": 6,
     "metadata": {},
     "output_type": "execute_result"
    }
   ],
   "source": [
    "# Data importation and cleaning for sheet exhibit_4\n",
    "df_db = pd.read_excel(\n",
    "    r\"XLS698-XLS-ENG.xls\",\n",
    "    sheet_name=\"Exhibit 4 \",\n",
    "    header=2 \n",
    ")\n",
    "\n",
    "df_db['Time to Maturity'] = pd.to_numeric(df_db['Maturity (years)'].str.replace('y', ''), errors='coerce')\n",
    "df_db = df_db.drop(columns='Maturity (years)')\n",
    "\n",
    "df_db['Model Prediction (BEY)'] = pd.to_numeric(df_db['Model Prediction (BEY)'].str.replace('%', ''), errors='coerce')\n",
    "\n",
    "df_db.dropna(subset=[\"Time to Maturity\", \"Model Prediction (BEY)\"], inplace=True)\n",
    "df_db.reset_index(drop=True, inplace=True)\n",
    "\n",
    "df_db"
   ]
  },
  {
   "cell_type": "code",
   "execution_count": 7,
   "id": "807494b4",
   "metadata": {
    "ExecuteTime": {
     "end_time": "2024-10-29T10:29:38.426538Z",
     "start_time": "2024-10-29T10:29:38.046439Z"
    }
   },
   "outputs": [
    {
     "data": {
      "application/vnd.plotly.v1+json": {
       "config": {
        "plotlyServerURL": "https://plot.ly"
       },
       "data": [
        {
         "marker": {
          "color": "rgb(0, 71, 102)",
          "size": 8
         },
         "mode": "markers",
         "name": "Zero-Coupon Yields",
         "type": "scatter",
         "x": [
          0.5,
          1,
          1.5,
          2,
          2.5,
          3,
          3.5,
          4,
          4.5,
          5,
          5.5,
          6,
          6.5,
          7,
          7.5,
          8,
          8.5,
          9,
          9.5,
          10,
          10.5,
          11,
          11.5,
          12,
          12.5,
          13,
          13.5,
          14,
          14.5,
          15,
          15.5,
          16,
          16.5,
          17,
          17.5,
          18,
          18.5,
          19,
          19.5,
          20,
          20.5,
          21,
          21.5,
          22,
          22.5,
          23,
          23.5,
          24,
          24.5,
          25,
          25.5,
          26
         ],
         "xaxis": "x",
         "y": [
          0.8975140133952841,
          1.193857624074246,
          1.5750406785273618,
          1.872712674900212,
          2.1796474039821323,
          2.471083666528262,
          2.79431070373497,
          3.0083207311893734,
          3.2540711325878213,
          3.4798434592520078,
          3.656250399038141,
          3.8817130232450037,
          4.076543337951977,
          4.22033079161781,
          4.352036191127384,
          4.486544588554109,
          4.587907613268483,
          4.663953098000073,
          4.69610587080127,
          4.710713178511705,
          4.738867248332834,
          4.928472994544508,
          5.33082226139534,
          5.382521987495759,
          5.463427825344391,
          5.519714061502334,
          5.5750998027986665,
          5.6633621194221995,
          5.674433382705679,
          5.716564734153673,
          5.7903746000884215,
          5.8297101392990935,
          5.8507473934286125,
          5.902296980536459,
          5.916501958949771,
          5.929748893333597,
          5.949503086392305,
          5.95617503285073,
          5.966130672483416,
          5.951192774131808,
          5.939830492761677,
          5.978837053209274,
          6.0016907895611205,
          5.996086220867181,
          5.945526075708729,
          5.982158396770876,
          5.964655314069445,
          5.9602422029392255,
          5.955634185953151,
          5.912715538369984,
          5.878122555322385,
          5.904780645931895
         ],
         "yaxis": "y"
        },
        {
         "marker": {
          "color": "red",
          "size": 5
         },
         "mode": "markers",
         "name": "Model Prediction by DB",
         "type": "scatter",
         "x": [
          1,
          2,
          3,
          4,
          5,
          6,
          7,
          8,
          9,
          10,
          15,
          20,
          25
         ],
         "xaxis": "x",
         "y": [
          1.2443,
          1.8727,
          2.411,
          2.9665,
          3.4454,
          3.8557,
          4.1996,
          4.4677,
          4.6528,
          4.7107,
          5.716,
          5.9517,
          5.9315
         ],
         "yaxis": "y"
        },
        {
         "line": {
          "color": "rgb(0, 0, 0)",
          "width": 2
         },
         "mode": "lines",
         "name": "Polyfit Zero-Coupon Yield",
         "type": "scatter",
         "x": [
          0,
          0.5306122448979592,
          1.0612244897959184,
          1.5918367346938775,
          2.122448979591837,
          2.653061224489796,
          3.183673469387755,
          3.7142857142857144,
          4.244897959183674,
          4.775510204081633,
          5.306122448979592,
          5.836734693877552,
          6.36734693877551,
          6.8979591836734695,
          7.428571428571429,
          7.959183673469388,
          8.489795918367347,
          9.020408163265307,
          9.551020408163266,
          10.081632653061225,
          10.612244897959185,
          11.142857142857144,
          11.673469387755103,
          12.204081632653063,
          12.73469387755102,
          13.26530612244898,
          13.795918367346939,
          14.326530612244898,
          14.857142857142858,
          15.387755102040817,
          15.918367346938776,
          16.448979591836736,
          16.979591836734695,
          17.510204081632654,
          18.040816326530614,
          18.571428571428573,
          19.102040816326532,
          19.63265306122449,
          20.16326530612245,
          20.69387755102041,
          21.22448979591837,
          21.75510204081633,
          22.28571428571429,
          22.816326530612248,
          23.346938775510207,
          23.877551020408166,
          24.408163265306126,
          24.938775510204085,
          25.46938775510204,
          26
         ],
         "xaxis": "x",
         "y": [
          0.6675520834771772,
          1.0167704235996393,
          1.3504252725555892,
          1.6688672697054425,
          1.9724470544096162,
          2.261515266028525,
          2.5364225439225865,
          2.7975195274522147,
          3.045156855977827,
          3.279685168859839,
          3.5014551054586662,
          3.7108173051347255,
          3.908122407248432,
          4.093721051160202,
          4.267963876230452,
          4.431201521819596,
          4.583784627288052,
          4.726063831996236,
          4.8583897753045635,
          4.98111309657345,
          5.094584435163313,
          5.199154430434566,
          5.295173721747626,
          5.382992948462911,
          5.462962749940833,
          5.5354337655418115,
          5.6007566346262605,
          5.659281996554597,
          5.711360490687237,
          5.7573427563845945,
          5.797579433007089,
          5.832421159915134,
          5.862218576469146,
          5.88732232202954,
          5.908083035956734,
          5.924851357611142,
          5.937977926353182,
          5.947813381543269,
          5.954708362541818,
          5.959013508709247,
          5.961079459405969,
          5.961256853992403,
          5.959896331828962,
          5.9573485322760655,
          5.953964094694126,
          5.950093658443563,
          5.94608786288479,
          5.942297347378223,
          5.93907275128428,
          5.936764713963374
         ],
         "yaxis": "y"
        },
        {
         "cells": {
          "align": "center",
          "fill": {
           "color": "white"
          },
          "height": 27,
          "line": {
           "color": "rgb(0, 71, 102)"
          },
          "values": [
           [
            1,
            2,
            3,
            4,
            5,
            6,
            7,
            8,
            9,
            10,
            15,
            20,
            25
           ],
           [
            1.2443,
            1.8727,
            2.411,
            2.9665,
            3.4454,
            3.8557,
            4.1996,
            4.4677,
            4.6528,
            4.7107,
            5.716,
            5.9517,
            5.9315
           ],
           [
            1.1939,
            1.8727,
            2.4711,
            3.0083,
            3.4798,
            3.8817,
            4.2203,
            4.4865,
            4.664,
            4.7107,
            5.7166,
            5.9512,
            5.9127
           ]
          ]
         },
         "domain": {
          "x": [
           0.715,
           1
          ],
          "y": [
           0,
           1
          ]
         },
         "header": {
          "align": "center",
          "fill": {
           "color": "white"
          },
          "line": {
           "color": "rgb(0, 71, 102)",
           "width": 1.5
          },
          "values": [
           " <b>Maturity ",
           "<b>Model DB",
           "<b>Yield ZC"
          ]
         },
         "type": "table"
        }
       ],
       "layout": {
        "font": {
         "color": "Black",
         "family": "Time New Roman",
         "size": 15
        },
        "height": 585,
        "legend": {
         "bgcolor": "rgba(255,255,255,0)",
         "x": 0.39,
         "xanchor": "left",
         "y": 0.75,
         "yanchor": "top"
        },
        "plot_bgcolor": "rgba(255,255,255,1)",
        "template": {
         "data": {
          "bar": [
           {
            "error_x": {
             "color": "#2a3f5f"
            },
            "error_y": {
             "color": "#2a3f5f"
            },
            "marker": {
             "line": {
              "color": "#E5ECF6",
              "width": 0.5
             },
             "pattern": {
              "fillmode": "overlay",
              "size": 10,
              "solidity": 0.2
             }
            },
            "type": "bar"
           }
          ],
          "barpolar": [
           {
            "marker": {
             "line": {
              "color": "#E5ECF6",
              "width": 0.5
             },
             "pattern": {
              "fillmode": "overlay",
              "size": 10,
              "solidity": 0.2
             }
            },
            "type": "barpolar"
           }
          ],
          "carpet": [
           {
            "aaxis": {
             "endlinecolor": "#2a3f5f",
             "gridcolor": "white",
             "linecolor": "white",
             "minorgridcolor": "white",
             "startlinecolor": "#2a3f5f"
            },
            "baxis": {
             "endlinecolor": "#2a3f5f",
             "gridcolor": "white",
             "linecolor": "white",
             "minorgridcolor": "white",
             "startlinecolor": "#2a3f5f"
            },
            "type": "carpet"
           }
          ],
          "choropleth": [
           {
            "colorbar": {
             "outlinewidth": 0,
             "ticks": ""
            },
            "type": "choropleth"
           }
          ],
          "contour": [
           {
            "colorbar": {
             "outlinewidth": 0,
             "ticks": ""
            },
            "colorscale": [
             [
              0,
              "#0d0887"
             ],
             [
              0.1111111111111111,
              "#46039f"
             ],
             [
              0.2222222222222222,
              "#7201a8"
             ],
             [
              0.3333333333333333,
              "#9c179e"
             ],
             [
              0.4444444444444444,
              "#bd3786"
             ],
             [
              0.5555555555555556,
              "#d8576b"
             ],
             [
              0.6666666666666666,
              "#ed7953"
             ],
             [
              0.7777777777777778,
              "#fb9f3a"
             ],
             [
              0.8888888888888888,
              "#fdca26"
             ],
             [
              1,
              "#f0f921"
             ]
            ],
            "type": "contour"
           }
          ],
          "contourcarpet": [
           {
            "colorbar": {
             "outlinewidth": 0,
             "ticks": ""
            },
            "type": "contourcarpet"
           }
          ],
          "heatmap": [
           {
            "colorbar": {
             "outlinewidth": 0,
             "ticks": ""
            },
            "colorscale": [
             [
              0,
              "#0d0887"
             ],
             [
              0.1111111111111111,
              "#46039f"
             ],
             [
              0.2222222222222222,
              "#7201a8"
             ],
             [
              0.3333333333333333,
              "#9c179e"
             ],
             [
              0.4444444444444444,
              "#bd3786"
             ],
             [
              0.5555555555555556,
              "#d8576b"
             ],
             [
              0.6666666666666666,
              "#ed7953"
             ],
             [
              0.7777777777777778,
              "#fb9f3a"
             ],
             [
              0.8888888888888888,
              "#fdca26"
             ],
             [
              1,
              "#f0f921"
             ]
            ],
            "type": "heatmap"
           }
          ],
          "heatmapgl": [
           {
            "colorbar": {
             "outlinewidth": 0,
             "ticks": ""
            },
            "colorscale": [
             [
              0,
              "#0d0887"
             ],
             [
              0.1111111111111111,
              "#46039f"
             ],
             [
              0.2222222222222222,
              "#7201a8"
             ],
             [
              0.3333333333333333,
              "#9c179e"
             ],
             [
              0.4444444444444444,
              "#bd3786"
             ],
             [
              0.5555555555555556,
              "#d8576b"
             ],
             [
              0.6666666666666666,
              "#ed7953"
             ],
             [
              0.7777777777777778,
              "#fb9f3a"
             ],
             [
              0.8888888888888888,
              "#fdca26"
             ],
             [
              1,
              "#f0f921"
             ]
            ],
            "type": "heatmapgl"
           }
          ],
          "histogram": [
           {
            "marker": {
             "pattern": {
              "fillmode": "overlay",
              "size": 10,
              "solidity": 0.2
             }
            },
            "type": "histogram"
           }
          ],
          "histogram2d": [
           {
            "colorbar": {
             "outlinewidth": 0,
             "ticks": ""
            },
            "colorscale": [
             [
              0,
              "#0d0887"
             ],
             [
              0.1111111111111111,
              "#46039f"
             ],
             [
              0.2222222222222222,
              "#7201a8"
             ],
             [
              0.3333333333333333,
              "#9c179e"
             ],
             [
              0.4444444444444444,
              "#bd3786"
             ],
             [
              0.5555555555555556,
              "#d8576b"
             ],
             [
              0.6666666666666666,
              "#ed7953"
             ],
             [
              0.7777777777777778,
              "#fb9f3a"
             ],
             [
              0.8888888888888888,
              "#fdca26"
             ],
             [
              1,
              "#f0f921"
             ]
            ],
            "type": "histogram2d"
           }
          ],
          "histogram2dcontour": [
           {
            "colorbar": {
             "outlinewidth": 0,
             "ticks": ""
            },
            "colorscale": [
             [
              0,
              "#0d0887"
             ],
             [
              0.1111111111111111,
              "#46039f"
             ],
             [
              0.2222222222222222,
              "#7201a8"
             ],
             [
              0.3333333333333333,
              "#9c179e"
             ],
             [
              0.4444444444444444,
              "#bd3786"
             ],
             [
              0.5555555555555556,
              "#d8576b"
             ],
             [
              0.6666666666666666,
              "#ed7953"
             ],
             [
              0.7777777777777778,
              "#fb9f3a"
             ],
             [
              0.8888888888888888,
              "#fdca26"
             ],
             [
              1,
              "#f0f921"
             ]
            ],
            "type": "histogram2dcontour"
           }
          ],
          "mesh3d": [
           {
            "colorbar": {
             "outlinewidth": 0,
             "ticks": ""
            },
            "type": "mesh3d"
           }
          ],
          "parcoords": [
           {
            "line": {
             "colorbar": {
              "outlinewidth": 0,
              "ticks": ""
             }
            },
            "type": "parcoords"
           }
          ],
          "pie": [
           {
            "automargin": true,
            "type": "pie"
           }
          ],
          "scatter": [
           {
            "fillpattern": {
             "fillmode": "overlay",
             "size": 10,
             "solidity": 0.2
            },
            "type": "scatter"
           }
          ],
          "scatter3d": [
           {
            "line": {
             "colorbar": {
              "outlinewidth": 0,
              "ticks": ""
             }
            },
            "marker": {
             "colorbar": {
              "outlinewidth": 0,
              "ticks": ""
             }
            },
            "type": "scatter3d"
           }
          ],
          "scattercarpet": [
           {
            "marker": {
             "colorbar": {
              "outlinewidth": 0,
              "ticks": ""
             }
            },
            "type": "scattercarpet"
           }
          ],
          "scattergeo": [
           {
            "marker": {
             "colorbar": {
              "outlinewidth": 0,
              "ticks": ""
             }
            },
            "type": "scattergeo"
           }
          ],
          "scattergl": [
           {
            "marker": {
             "colorbar": {
              "outlinewidth": 0,
              "ticks": ""
             }
            },
            "type": "scattergl"
           }
          ],
          "scattermapbox": [
           {
            "marker": {
             "colorbar": {
              "outlinewidth": 0,
              "ticks": ""
             }
            },
            "type": "scattermapbox"
           }
          ],
          "scatterpolar": [
           {
            "marker": {
             "colorbar": {
              "outlinewidth": 0,
              "ticks": ""
             }
            },
            "type": "scatterpolar"
           }
          ],
          "scatterpolargl": [
           {
            "marker": {
             "colorbar": {
              "outlinewidth": 0,
              "ticks": ""
             }
            },
            "type": "scatterpolargl"
           }
          ],
          "scatterternary": [
           {
            "marker": {
             "colorbar": {
              "outlinewidth": 0,
              "ticks": ""
             }
            },
            "type": "scatterternary"
           }
          ],
          "surface": [
           {
            "colorbar": {
             "outlinewidth": 0,
             "ticks": ""
            },
            "colorscale": [
             [
              0,
              "#0d0887"
             ],
             [
              0.1111111111111111,
              "#46039f"
             ],
             [
              0.2222222222222222,
              "#7201a8"
             ],
             [
              0.3333333333333333,
              "#9c179e"
             ],
             [
              0.4444444444444444,
              "#bd3786"
             ],
             [
              0.5555555555555556,
              "#d8576b"
             ],
             [
              0.6666666666666666,
              "#ed7953"
             ],
             [
              0.7777777777777778,
              "#fb9f3a"
             ],
             [
              0.8888888888888888,
              "#fdca26"
             ],
             [
              1,
              "#f0f921"
             ]
            ],
            "type": "surface"
           }
          ],
          "table": [
           {
            "cells": {
             "fill": {
              "color": "#EBF0F8"
             },
             "line": {
              "color": "white"
             }
            },
            "header": {
             "fill": {
              "color": "#C8D4E3"
             },
             "line": {
              "color": "white"
             }
            },
            "type": "table"
           }
          ]
         },
         "layout": {
          "annotationdefaults": {
           "arrowcolor": "#2a3f5f",
           "arrowhead": 0,
           "arrowwidth": 1
          },
          "autotypenumbers": "strict",
          "coloraxis": {
           "colorbar": {
            "outlinewidth": 0,
            "ticks": ""
           }
          },
          "colorscale": {
           "diverging": [
            [
             0,
             "#8e0152"
            ],
            [
             0.1,
             "#c51b7d"
            ],
            [
             0.2,
             "#de77ae"
            ],
            [
             0.3,
             "#f1b6da"
            ],
            [
             0.4,
             "#fde0ef"
            ],
            [
             0.5,
             "#f7f7f7"
            ],
            [
             0.6,
             "#e6f5d0"
            ],
            [
             0.7,
             "#b8e186"
            ],
            [
             0.8,
             "#7fbc41"
            ],
            [
             0.9,
             "#4d9221"
            ],
            [
             1,
             "#276419"
            ]
           ],
           "sequential": [
            [
             0,
             "#0d0887"
            ],
            [
             0.1111111111111111,
             "#46039f"
            ],
            [
             0.2222222222222222,
             "#7201a8"
            ],
            [
             0.3333333333333333,
             "#9c179e"
            ],
            [
             0.4444444444444444,
             "#bd3786"
            ],
            [
             0.5555555555555556,
             "#d8576b"
            ],
            [
             0.6666666666666666,
             "#ed7953"
            ],
            [
             0.7777777777777778,
             "#fb9f3a"
            ],
            [
             0.8888888888888888,
             "#fdca26"
            ],
            [
             1,
             "#f0f921"
            ]
           ],
           "sequentialminus": [
            [
             0,
             "#0d0887"
            ],
            [
             0.1111111111111111,
             "#46039f"
            ],
            [
             0.2222222222222222,
             "#7201a8"
            ],
            [
             0.3333333333333333,
             "#9c179e"
            ],
            [
             0.4444444444444444,
             "#bd3786"
            ],
            [
             0.5555555555555556,
             "#d8576b"
            ],
            [
             0.6666666666666666,
             "#ed7953"
            ],
            [
             0.7777777777777778,
             "#fb9f3a"
            ],
            [
             0.8888888888888888,
             "#fdca26"
            ],
            [
             1,
             "#f0f921"
            ]
           ]
          },
          "colorway": [
           "#636efa",
           "#EF553B",
           "#00cc96",
           "#ab63fa",
           "#FFA15A",
           "#19d3f3",
           "#FF6692",
           "#B6E880",
           "#FF97FF",
           "#FECB52"
          ],
          "font": {
           "color": "#2a3f5f"
          },
          "geo": {
           "bgcolor": "white",
           "lakecolor": "white",
           "landcolor": "#E5ECF6",
           "showlakes": true,
           "showland": true,
           "subunitcolor": "white"
          },
          "hoverlabel": {
           "align": "left"
          },
          "hovermode": "closest",
          "mapbox": {
           "style": "light"
          },
          "paper_bgcolor": "white",
          "plot_bgcolor": "#E5ECF6",
          "polar": {
           "angularaxis": {
            "gridcolor": "white",
            "linecolor": "white",
            "ticks": ""
           },
           "bgcolor": "#E5ECF6",
           "radialaxis": {
            "gridcolor": "white",
            "linecolor": "white",
            "ticks": ""
           }
          },
          "scene": {
           "xaxis": {
            "backgroundcolor": "#E5ECF6",
            "gridcolor": "white",
            "gridwidth": 2,
            "linecolor": "white",
            "showbackground": true,
            "ticks": "",
            "zerolinecolor": "white"
           },
           "yaxis": {
            "backgroundcolor": "#E5ECF6",
            "gridcolor": "white",
            "gridwidth": 2,
            "linecolor": "white",
            "showbackground": true,
            "ticks": "",
            "zerolinecolor": "white"
           },
           "zaxis": {
            "backgroundcolor": "#E5ECF6",
            "gridcolor": "white",
            "gridwidth": 2,
            "linecolor": "white",
            "showbackground": true,
            "ticks": "",
            "zerolinecolor": "white"
           }
          },
          "shapedefaults": {
           "line": {
            "color": "#2a3f5f"
           }
          },
          "ternary": {
           "aaxis": {
            "gridcolor": "white",
            "linecolor": "white",
            "ticks": ""
           },
           "baxis": {
            "gridcolor": "white",
            "linecolor": "white",
            "ticks": ""
           },
           "bgcolor": "#E5ECF6",
           "caxis": {
            "gridcolor": "white",
            "linecolor": "white",
            "ticks": ""
           }
          },
          "title": {
           "x": 0.05
          },
          "xaxis": {
           "automargin": true,
           "gridcolor": "white",
           "linecolor": "white",
           "ticks": "",
           "title": {
            "standoff": 15
           },
           "zerolinecolor": "white",
           "zerolinewidth": 2
          },
          "yaxis": {
           "automargin": true,
           "gridcolor": "white",
           "linecolor": "white",
           "ticks": "",
           "title": {
            "standoff": 15
           },
           "zerolinecolor": "white",
           "zerolinewidth": 2
          }
         }
        },
        "title": {
         "text": "Zero-Coupon Yield Curve over 25 Years",
         "x": 0.5
        },
        "width": 900,
        "xaxis": {
         "anchor": "y",
         "domain": [
          0,
          0.6649999999999999
         ],
         "linecolor": "black",
         "linewidth": 1,
         "range": [
          0,
          27
         ],
         "showline": true,
         "ticklen": 5,
         "ticks": "inside",
         "tickson": "boundaries",
         "tickvals": [
          1,
          2,
          3,
          4,
          5,
          6,
          7,
          8,
          9,
          10,
          15,
          20,
          25
         ],
         "title": {
          "text": "Time to Maturity (Years)"
         }
        },
        "yaxis": {
         "anchor": "x",
         "domain": [
          0,
          1
         ],
         "gridcolor": "rgba(255,255,255,1)",
         "linecolor": "Grey",
         "linewidth": 1,
         "showline": true,
         "title": {
          "text": "Rate (%)"
         }
        }
       }
      }
     },
     "metadata": {},
     "output_type": "display_data"
    }
   ],
   "source": [
    "Yield = df[['Zero-Coupon Yield','Time to Maturity']]\n",
    "DBvsYield = pd.merge(df_db, Yield, on='Time to Maturity', how='inner').round(4)\n",
    "\n",
    "gr.Graph_Curve(Yield,DBvsYield.round(4))"
   ]
  },
  {
   "cell_type": "code",
   "execution_count": 8,
   "id": "52abe370d54a2880",
   "metadata": {
    "ExecuteTime": {
     "end_time": "2024-10-29T10:28:06.663254Z",
     "start_time": "2024-10-29T10:28:06.344838Z"
    }
   },
   "outputs": [
    {
     "data": {
      "text/html": [
       "<div>\n",
       "<style scoped>\n",
       "    .dataframe tbody tr th:only-of-type {\n",
       "        vertical-align: middle;\n",
       "    }\n",
       "\n",
       "    .dataframe tbody tr th {\n",
       "        vertical-align: top;\n",
       "    }\n",
       "\n",
       "    .dataframe thead th {\n",
       "        text-align: right;\n",
       "    }\n",
       "</style>\n",
       "<table border=\"1\" class=\"dataframe\">\n",
       "  <thead>\n",
       "    <tr style=\"text-align: right;\">\n",
       "      <th></th>\n",
       "      <th>Time to Maturity</th>\n",
       "      <th>Model Prediction (BEY)</th>\n",
       "      <th>Zero-Coupon Yield</th>\n",
       "      <th>Buy or Sell ?</th>\n",
       "    </tr>\n",
       "  </thead>\n",
       "  <tbody>\n",
       "    <tr>\n",
       "      <th>0</th>\n",
       "      <td>1.0</td>\n",
       "      <td>1.2443</td>\n",
       "      <td>1.1939</td>\n",
       "      <td>Sell</td>\n",
       "    </tr>\n",
       "    <tr>\n",
       "      <th>1</th>\n",
       "      <td>2.0</td>\n",
       "      <td>1.8727</td>\n",
       "      <td>1.8727</td>\n",
       "      <td>Hold</td>\n",
       "    </tr>\n",
       "    <tr>\n",
       "      <th>2</th>\n",
       "      <td>3.0</td>\n",
       "      <td>2.4110</td>\n",
       "      <td>2.4711</td>\n",
       "      <td>Buy</td>\n",
       "    </tr>\n",
       "    <tr>\n",
       "      <th>3</th>\n",
       "      <td>4.0</td>\n",
       "      <td>2.9665</td>\n",
       "      <td>3.0083</td>\n",
       "      <td>Buy</td>\n",
       "    </tr>\n",
       "    <tr>\n",
       "      <th>4</th>\n",
       "      <td>5.0</td>\n",
       "      <td>3.4454</td>\n",
       "      <td>3.4798</td>\n",
       "      <td>Buy</td>\n",
       "    </tr>\n",
       "    <tr>\n",
       "      <th>5</th>\n",
       "      <td>6.0</td>\n",
       "      <td>3.8557</td>\n",
       "      <td>3.8817</td>\n",
       "      <td>Buy</td>\n",
       "    </tr>\n",
       "    <tr>\n",
       "      <th>6</th>\n",
       "      <td>7.0</td>\n",
       "      <td>4.1996</td>\n",
       "      <td>4.2203</td>\n",
       "      <td>Buy</td>\n",
       "    </tr>\n",
       "    <tr>\n",
       "      <th>7</th>\n",
       "      <td>8.0</td>\n",
       "      <td>4.4677</td>\n",
       "      <td>4.4865</td>\n",
       "      <td>Buy</td>\n",
       "    </tr>\n",
       "    <tr>\n",
       "      <th>8</th>\n",
       "      <td>9.0</td>\n",
       "      <td>4.6528</td>\n",
       "      <td>4.6640</td>\n",
       "      <td>Buy</td>\n",
       "    </tr>\n",
       "    <tr>\n",
       "      <th>9</th>\n",
       "      <td>10.0</td>\n",
       "      <td>4.7107</td>\n",
       "      <td>4.7107</td>\n",
       "      <td>Hold</td>\n",
       "    </tr>\n",
       "    <tr>\n",
       "      <th>10</th>\n",
       "      <td>15.0</td>\n",
       "      <td>5.7160</td>\n",
       "      <td>5.7166</td>\n",
       "      <td>Buy</td>\n",
       "    </tr>\n",
       "    <tr>\n",
       "      <th>11</th>\n",
       "      <td>20.0</td>\n",
       "      <td>5.9517</td>\n",
       "      <td>5.9512</td>\n",
       "      <td>Sell</td>\n",
       "    </tr>\n",
       "    <tr>\n",
       "      <th>12</th>\n",
       "      <td>25.0</td>\n",
       "      <td>5.9315</td>\n",
       "      <td>5.9127</td>\n",
       "      <td>Sell</td>\n",
       "    </tr>\n",
       "  </tbody>\n",
       "</table>\n",
       "</div>"
      ],
      "text/plain": [
       "    Time to Maturity  Model Prediction (BEY)  Zero-Coupon Yield Buy or Sell ?\n",
       "0                1.0                  1.2443             1.1939          Sell\n",
       "1                2.0                  1.8727             1.8727          Hold\n",
       "2                3.0                  2.4110             2.4711           Buy\n",
       "3                4.0                  2.9665             3.0083           Buy\n",
       "4                5.0                  3.4454             3.4798           Buy\n",
       "5                6.0                  3.8557             3.8817           Buy\n",
       "6                7.0                  4.1996             4.2203           Buy\n",
       "7                8.0                  4.4677             4.4865           Buy\n",
       "8                9.0                  4.6528             4.6640           Buy\n",
       "9               10.0                  4.7107             4.7107          Hold\n",
       "10              15.0                  5.7160             5.7166           Buy\n",
       "11              20.0                  5.9517             5.9512          Sell\n",
       "12              25.0                  5.9315             5.9127          Sell"
      ]
     },
     "execution_count": 8,
     "metadata": {},
     "output_type": "execute_result"
    }
   ],
   "source": [
    "DBvsYield['Buy or Sell ?']= np.where(DBvsYield['Model Prediction (BEY)'] < DBvsYield['Zero-Coupon Yield'], \"Buy\",\n",
    "                            np.where(DBvsYield['Model Prediction (BEY)'] > DBvsYield['Zero-Coupon Yield'], \"Sell\", \n",
    "                            \"Hold\"))\n",
    "\n",
    "new_order = ['Time to Maturity', 'Model Prediction (BEY)', 'Zero-Coupon Yield', 'Buy or Sell ?']\n",
    "\n",
    "DBvsYield = DBvsYield.reindex(columns=new_order)\n",
    "\n",
    "DBvsYield"
   ]
  },
  {
   "cell_type": "markdown",
   "id": "50413f389f76b9b7",
   "metadata": {},
   "source": [
    "#### Question 2.1:"
   ]
  },
  {
   "cell_type": "code",
   "execution_count": 9,
   "id": "4f8b3ec2e90f36aa",
   "metadata": {
    "ExecuteTime": {
     "end_time": "2024-10-29T10:28:07.068200Z",
     "start_time": "2024-10-29T10:28:06.759854Z"
    }
   },
   "outputs": [],
   "source": [
    "#Define parameters for the Cubic Spline interpolation\n",
    "DataCubic = DBvsYield[DBvsYield['Time to Maturity'].isin([2,5,10,15,20])]  #5 knots\n",
    "X_Cubic = DataCubic['Time to Maturity']\n",
    "Y_Cubic = DataCubic['Zero-Coupon Yield']/100\n",
    "\n",
    "maturity_range = np.linspace(0.5, 26, 100)\n",
    "\n",
    "cs = CubicSpline(X_Cubic, Y_Cubic, bc_type='natural') #interpolation\n",
    "\n",
    "x_newQ1 = maturity_range\n",
    "y_newQ1 = cs(x_newQ1)*100"
   ]
  },
  {
   "cell_type": "code",
   "execution_count": 10,
   "id": "7f1877ac",
   "metadata": {
    "ExecuteTime": {
     "end_time": "2024-10-29T10:28:07.555688Z",
     "start_time": "2024-10-29T10:28:07.186249Z"
    }
   },
   "outputs": [
    {
     "data": {
      "application/vnd.plotly.v1+json": {
       "config": {
        "plotlyServerURL": "https://plot.ly"
       },
       "data": [
        {
         "marker": {
          "color": "rgb(0, 71, 102)",
          "size": 8
         },
         "mode": "markers",
         "name": "Zero-Coupon Yields",
         "type": "scatter",
         "x": [
          0.5,
          1,
          1.5,
          2,
          2.5,
          3,
          3.5,
          4,
          4.5,
          5,
          5.5,
          6,
          6.5,
          7,
          7.5,
          8,
          8.5,
          9,
          9.5,
          10,
          10.5,
          11,
          11.5,
          12,
          12.5,
          13,
          13.5,
          14,
          14.5,
          15,
          15.5,
          16,
          16.5,
          17,
          17.5,
          18,
          18.5,
          19,
          19.5,
          20,
          20.5,
          21,
          21.5,
          22,
          22.5,
          23,
          23.5,
          24,
          24.5,
          25,
          25.5,
          26
         ],
         "y": [
          0.8975140133952841,
          1.193857624074246,
          1.5750406785273618,
          1.872712674900212,
          2.1796474039821323,
          2.471083666528262,
          2.79431070373497,
          3.0083207311893734,
          3.2540711325878213,
          3.4798434592520078,
          3.656250399038141,
          3.8817130232450037,
          4.076543337951977,
          4.22033079161781,
          4.352036191127384,
          4.486544588554109,
          4.587907613268483,
          4.663953098000073,
          4.69610587080127,
          4.710713178511705,
          4.738867248332834,
          4.928472994544508,
          5.33082226139534,
          5.382521987495759,
          5.463427825344391,
          5.519714061502334,
          5.5750998027986665,
          5.6633621194221995,
          5.674433382705679,
          5.716564734153673,
          5.7903746000884215,
          5.8297101392990935,
          5.8507473934286125,
          5.902296980536459,
          5.916501958949771,
          5.929748893333597,
          5.949503086392305,
          5.95617503285073,
          5.966130672483416,
          5.951192774131808,
          5.939830492761677,
          5.978837053209274,
          6.0016907895611205,
          5.996086220867181,
          5.945526075708729,
          5.982158396770876,
          5.964655314069445,
          5.9602422029392255,
          5.955634185953151,
          5.912715538369984,
          5.878122555322385,
          5.904780645931895
         ]
        },
        {
         "marker": {
          "color": "red",
          "size": 5
         },
         "mode": "lines",
         "name": "Cubic Splines",
         "type": "scatter",
         "x": [
          0.5,
          0.7575757575757576,
          1.0151515151515151,
          1.2727272727272727,
          1.5303030303030303,
          1.7878787878787878,
          2.0454545454545454,
          2.3030303030303028,
          2.5606060606060606,
          2.8181818181818183,
          3.0757575757575757,
          3.333333333333333,
          3.590909090909091,
          3.8484848484848486,
          4.1060606060606055,
          4.363636363636363,
          4.621212121212121,
          4.878787878787879,
          5.136363636363637,
          5.393939393939394,
          5.651515151515151,
          5.909090909090909,
          6.166666666666666,
          6.424242424242424,
          6.681818181818182,
          6.9393939393939394,
          7.196969696969697,
          7.454545454545454,
          7.712121212121212,
          7.96969696969697,
          8.227272727272727,
          8.484848484848484,
          8.742424242424242,
          9,
          9.257575757575758,
          9.515151515151516,
          9.772727272727273,
          10.03030303030303,
          10.287878787878787,
          10.545454545454545,
          10.803030303030303,
          11.06060606060606,
          11.318181818181818,
          11.575757575757576,
          11.833333333333332,
          12.09090909090909,
          12.348484848484848,
          12.606060606060606,
          12.863636363636363,
          13.121212121212121,
          13.378787878787879,
          13.636363636363637,
          13.893939393939394,
          14.15151515151515,
          14.409090909090908,
          14.666666666666666,
          14.924242424242424,
          15.181818181818182,
          15.43939393939394,
          15.696969696969697,
          15.954545454545453,
          16.21212121212121,
          16.46969696969697,
          16.727272727272727,
          16.984848484848484,
          17.242424242424242,
          17.5,
          17.757575757575758,
          18.015151515151516,
          18.272727272727273,
          18.53030303030303,
          18.78787878787879,
          19.045454545454547,
          19.3030303030303,
          19.56060606060606,
          19.818181818181817,
          20.075757575757574,
          20.333333333333332,
          20.59090909090909,
          20.848484848484848,
          21.106060606060606,
          21.363636363636363,
          21.62121212121212,
          21.87878787878788,
          22.136363636363637,
          22.393939393939394,
          22.651515151515152,
          22.90909090909091,
          23.166666666666664,
          23.424242424242422,
          23.68181818181818,
          23.939393939393938,
          24.196969696969695,
          24.454545454545453,
          24.71212121212121,
          24.96969696969697,
          25.227272727272727,
          25.484848484848484,
          25.742424242424242,
          26
         ],
         "y": [
          1.0029223749999998,
          1.1465375763141052,
          1.2933877850996187,
          1.4428023290758827,
          1.5941105359622394,
          1.7466417334780313,
          1.8997252493425998,
          2.0526904112752873,
          2.2048665469954365,
          2.3555829842223894,
          2.5041690506754875,
          2.649954074074074,
          2.792267382137491,
          2.9304383025850798,
          3.0637961631361827,
          3.191670291510143,
          3.3133900154263025,
          3.4282846626040016,
          3.535712577952668,
          3.635615634511506,
          3.728476125607452,
          3.814796724267469,
          3.8950801035185187,
          3.9698289363875676,
          4.039545895901578,
          4.104733655087514,
          4.165894886972341,
          4.223532264583022,
          4.278148460946518,
          4.330246149089797,
          4.38032800203982,
          4.428896692823553,
          4.476454894467958,
          4.523505279999999,
          4.570550522446643,
          4.618093294834851,
          4.666636270191585,
          4.716681908183767,
          4.768550592348415,
          4.8220488285499625,
          4.876893111383115,
          4.9327999354425796,
          4.989485795323065,
          5.046667185619278,
          5.1040606009259255,
          5.161382535837715,
          5.218349484949355,
          5.274677942855552,
          5.330084404151014,
          5.384285363430448,
          5.4369973152885605,
          5.48793675432006,
          5.5368201751196535,
          5.583364072282048,
          5.627284940401952,
          5.668299274074073,
          5.706123567893117,
          5.740501676814425,
          5.771454178607423,
          5.799162329826085,
          5.823809366217129,
          5.8455785235272835,
          5.864653037503269,
          5.881216143891811,
          5.89545107843963,
          5.907541076893452,
          5.917669374999999,
          5.926019208505997,
          5.932773813158166,
          5.938116424703231,
          5.942230278887915,
          5.945298611458942,
          5.9475046581630355,
          5.949031654746918,
          5.950062836957314,
          5.950781440540946,
          5.951370701244539,
          5.952013854814815,
          5.952894136998498,
          5.954194783542311,
          5.956099030192977,
          5.958790112697221,
          5.9624512668017635,
          5.967265728253333,
          5.973416732798649,
          5.981087516184434,
          5.9904613141574155,
          6.0017213624643135,
          6.015050896851852,
          6.0306331530667565,
          6.048651366855749,
          6.069288773965551,
          6.09272861014289,
          6.1191541111344865,
          6.148748512687064,
          6.181695050547347,
          6.21817696046206,
          6.258377478177923,
          6.302479839441663,
          6.3506672800000015
         ]
        }
       ],
       "layout": {
        "font": {
         "color": "Black",
         "family": "Time New Roman",
         "size": 15
        },
        "height": 500,
        "legend": {
         "bgcolor": "rgba(255,255,255,0)",
         "xanchor": "left",
         "yanchor": "top"
        },
        "plot_bgcolor": "rgba(255,255,255,1)",
        "template": {
         "data": {
          "bar": [
           {
            "error_x": {
             "color": "#2a3f5f"
            },
            "error_y": {
             "color": "#2a3f5f"
            },
            "marker": {
             "line": {
              "color": "#E5ECF6",
              "width": 0.5
             },
             "pattern": {
              "fillmode": "overlay",
              "size": 10,
              "solidity": 0.2
             }
            },
            "type": "bar"
           }
          ],
          "barpolar": [
           {
            "marker": {
             "line": {
              "color": "#E5ECF6",
              "width": 0.5
             },
             "pattern": {
              "fillmode": "overlay",
              "size": 10,
              "solidity": 0.2
             }
            },
            "type": "barpolar"
           }
          ],
          "carpet": [
           {
            "aaxis": {
             "endlinecolor": "#2a3f5f",
             "gridcolor": "white",
             "linecolor": "white",
             "minorgridcolor": "white",
             "startlinecolor": "#2a3f5f"
            },
            "baxis": {
             "endlinecolor": "#2a3f5f",
             "gridcolor": "white",
             "linecolor": "white",
             "minorgridcolor": "white",
             "startlinecolor": "#2a3f5f"
            },
            "type": "carpet"
           }
          ],
          "choropleth": [
           {
            "colorbar": {
             "outlinewidth": 0,
             "ticks": ""
            },
            "type": "choropleth"
           }
          ],
          "contour": [
           {
            "colorbar": {
             "outlinewidth": 0,
             "ticks": ""
            },
            "colorscale": [
             [
              0,
              "#0d0887"
             ],
             [
              0.1111111111111111,
              "#46039f"
             ],
             [
              0.2222222222222222,
              "#7201a8"
             ],
             [
              0.3333333333333333,
              "#9c179e"
             ],
             [
              0.4444444444444444,
              "#bd3786"
             ],
             [
              0.5555555555555556,
              "#d8576b"
             ],
             [
              0.6666666666666666,
              "#ed7953"
             ],
             [
              0.7777777777777778,
              "#fb9f3a"
             ],
             [
              0.8888888888888888,
              "#fdca26"
             ],
             [
              1,
              "#f0f921"
             ]
            ],
            "type": "contour"
           }
          ],
          "contourcarpet": [
           {
            "colorbar": {
             "outlinewidth": 0,
             "ticks": ""
            },
            "type": "contourcarpet"
           }
          ],
          "heatmap": [
           {
            "colorbar": {
             "outlinewidth": 0,
             "ticks": ""
            },
            "colorscale": [
             [
              0,
              "#0d0887"
             ],
             [
              0.1111111111111111,
              "#46039f"
             ],
             [
              0.2222222222222222,
              "#7201a8"
             ],
             [
              0.3333333333333333,
              "#9c179e"
             ],
             [
              0.4444444444444444,
              "#bd3786"
             ],
             [
              0.5555555555555556,
              "#d8576b"
             ],
             [
              0.6666666666666666,
              "#ed7953"
             ],
             [
              0.7777777777777778,
              "#fb9f3a"
             ],
             [
              0.8888888888888888,
              "#fdca26"
             ],
             [
              1,
              "#f0f921"
             ]
            ],
            "type": "heatmap"
           }
          ],
          "heatmapgl": [
           {
            "colorbar": {
             "outlinewidth": 0,
             "ticks": ""
            },
            "colorscale": [
             [
              0,
              "#0d0887"
             ],
             [
              0.1111111111111111,
              "#46039f"
             ],
             [
              0.2222222222222222,
              "#7201a8"
             ],
             [
              0.3333333333333333,
              "#9c179e"
             ],
             [
              0.4444444444444444,
              "#bd3786"
             ],
             [
              0.5555555555555556,
              "#d8576b"
             ],
             [
              0.6666666666666666,
              "#ed7953"
             ],
             [
              0.7777777777777778,
              "#fb9f3a"
             ],
             [
              0.8888888888888888,
              "#fdca26"
             ],
             [
              1,
              "#f0f921"
             ]
            ],
            "type": "heatmapgl"
           }
          ],
          "histogram": [
           {
            "marker": {
             "pattern": {
              "fillmode": "overlay",
              "size": 10,
              "solidity": 0.2
             }
            },
            "type": "histogram"
           }
          ],
          "histogram2d": [
           {
            "colorbar": {
             "outlinewidth": 0,
             "ticks": ""
            },
            "colorscale": [
             [
              0,
              "#0d0887"
             ],
             [
              0.1111111111111111,
              "#46039f"
             ],
             [
              0.2222222222222222,
              "#7201a8"
             ],
             [
              0.3333333333333333,
              "#9c179e"
             ],
             [
              0.4444444444444444,
              "#bd3786"
             ],
             [
              0.5555555555555556,
              "#d8576b"
             ],
             [
              0.6666666666666666,
              "#ed7953"
             ],
             [
              0.7777777777777778,
              "#fb9f3a"
             ],
             [
              0.8888888888888888,
              "#fdca26"
             ],
             [
              1,
              "#f0f921"
             ]
            ],
            "type": "histogram2d"
           }
          ],
          "histogram2dcontour": [
           {
            "colorbar": {
             "outlinewidth": 0,
             "ticks": ""
            },
            "colorscale": [
             [
              0,
              "#0d0887"
             ],
             [
              0.1111111111111111,
              "#46039f"
             ],
             [
              0.2222222222222222,
              "#7201a8"
             ],
             [
              0.3333333333333333,
              "#9c179e"
             ],
             [
              0.4444444444444444,
              "#bd3786"
             ],
             [
              0.5555555555555556,
              "#d8576b"
             ],
             [
              0.6666666666666666,
              "#ed7953"
             ],
             [
              0.7777777777777778,
              "#fb9f3a"
             ],
             [
              0.8888888888888888,
              "#fdca26"
             ],
             [
              1,
              "#f0f921"
             ]
            ],
            "type": "histogram2dcontour"
           }
          ],
          "mesh3d": [
           {
            "colorbar": {
             "outlinewidth": 0,
             "ticks": ""
            },
            "type": "mesh3d"
           }
          ],
          "parcoords": [
           {
            "line": {
             "colorbar": {
              "outlinewidth": 0,
              "ticks": ""
             }
            },
            "type": "parcoords"
           }
          ],
          "pie": [
           {
            "automargin": true,
            "type": "pie"
           }
          ],
          "scatter": [
           {
            "fillpattern": {
             "fillmode": "overlay",
             "size": 10,
             "solidity": 0.2
            },
            "type": "scatter"
           }
          ],
          "scatter3d": [
           {
            "line": {
             "colorbar": {
              "outlinewidth": 0,
              "ticks": ""
             }
            },
            "marker": {
             "colorbar": {
              "outlinewidth": 0,
              "ticks": ""
             }
            },
            "type": "scatter3d"
           }
          ],
          "scattercarpet": [
           {
            "marker": {
             "colorbar": {
              "outlinewidth": 0,
              "ticks": ""
             }
            },
            "type": "scattercarpet"
           }
          ],
          "scattergeo": [
           {
            "marker": {
             "colorbar": {
              "outlinewidth": 0,
              "ticks": ""
             }
            },
            "type": "scattergeo"
           }
          ],
          "scattergl": [
           {
            "marker": {
             "colorbar": {
              "outlinewidth": 0,
              "ticks": ""
             }
            },
            "type": "scattergl"
           }
          ],
          "scattermapbox": [
           {
            "marker": {
             "colorbar": {
              "outlinewidth": 0,
              "ticks": ""
             }
            },
            "type": "scattermapbox"
           }
          ],
          "scatterpolar": [
           {
            "marker": {
             "colorbar": {
              "outlinewidth": 0,
              "ticks": ""
             }
            },
            "type": "scatterpolar"
           }
          ],
          "scatterpolargl": [
           {
            "marker": {
             "colorbar": {
              "outlinewidth": 0,
              "ticks": ""
             }
            },
            "type": "scatterpolargl"
           }
          ],
          "scatterternary": [
           {
            "marker": {
             "colorbar": {
              "outlinewidth": 0,
              "ticks": ""
             }
            },
            "type": "scatterternary"
           }
          ],
          "surface": [
           {
            "colorbar": {
             "outlinewidth": 0,
             "ticks": ""
            },
            "colorscale": [
             [
              0,
              "#0d0887"
             ],
             [
              0.1111111111111111,
              "#46039f"
             ],
             [
              0.2222222222222222,
              "#7201a8"
             ],
             [
              0.3333333333333333,
              "#9c179e"
             ],
             [
              0.4444444444444444,
              "#bd3786"
             ],
             [
              0.5555555555555556,
              "#d8576b"
             ],
             [
              0.6666666666666666,
              "#ed7953"
             ],
             [
              0.7777777777777778,
              "#fb9f3a"
             ],
             [
              0.8888888888888888,
              "#fdca26"
             ],
             [
              1,
              "#f0f921"
             ]
            ],
            "type": "surface"
           }
          ],
          "table": [
           {
            "cells": {
             "fill": {
              "color": "#EBF0F8"
             },
             "line": {
              "color": "white"
             }
            },
            "header": {
             "fill": {
              "color": "#C8D4E3"
             },
             "line": {
              "color": "white"
             }
            },
            "type": "table"
           }
          ]
         },
         "layout": {
          "annotationdefaults": {
           "arrowcolor": "#2a3f5f",
           "arrowhead": 0,
           "arrowwidth": 1
          },
          "autotypenumbers": "strict",
          "coloraxis": {
           "colorbar": {
            "outlinewidth": 0,
            "ticks": ""
           }
          },
          "colorscale": {
           "diverging": [
            [
             0,
             "#8e0152"
            ],
            [
             0.1,
             "#c51b7d"
            ],
            [
             0.2,
             "#de77ae"
            ],
            [
             0.3,
             "#f1b6da"
            ],
            [
             0.4,
             "#fde0ef"
            ],
            [
             0.5,
             "#f7f7f7"
            ],
            [
             0.6,
             "#e6f5d0"
            ],
            [
             0.7,
             "#b8e186"
            ],
            [
             0.8,
             "#7fbc41"
            ],
            [
             0.9,
             "#4d9221"
            ],
            [
             1,
             "#276419"
            ]
           ],
           "sequential": [
            [
             0,
             "#0d0887"
            ],
            [
             0.1111111111111111,
             "#46039f"
            ],
            [
             0.2222222222222222,
             "#7201a8"
            ],
            [
             0.3333333333333333,
             "#9c179e"
            ],
            [
             0.4444444444444444,
             "#bd3786"
            ],
            [
             0.5555555555555556,
             "#d8576b"
            ],
            [
             0.6666666666666666,
             "#ed7953"
            ],
            [
             0.7777777777777778,
             "#fb9f3a"
            ],
            [
             0.8888888888888888,
             "#fdca26"
            ],
            [
             1,
             "#f0f921"
            ]
           ],
           "sequentialminus": [
            [
             0,
             "#0d0887"
            ],
            [
             0.1111111111111111,
             "#46039f"
            ],
            [
             0.2222222222222222,
             "#7201a8"
            ],
            [
             0.3333333333333333,
             "#9c179e"
            ],
            [
             0.4444444444444444,
             "#bd3786"
            ],
            [
             0.5555555555555556,
             "#d8576b"
            ],
            [
             0.6666666666666666,
             "#ed7953"
            ],
            [
             0.7777777777777778,
             "#fb9f3a"
            ],
            [
             0.8888888888888888,
             "#fdca26"
            ],
            [
             1,
             "#f0f921"
            ]
           ]
          },
          "colorway": [
           "#636efa",
           "#EF553B",
           "#00cc96",
           "#ab63fa",
           "#FFA15A",
           "#19d3f3",
           "#FF6692",
           "#B6E880",
           "#FF97FF",
           "#FECB52"
          ],
          "font": {
           "color": "#2a3f5f"
          },
          "geo": {
           "bgcolor": "white",
           "lakecolor": "white",
           "landcolor": "#E5ECF6",
           "showlakes": true,
           "showland": true,
           "subunitcolor": "white"
          },
          "hoverlabel": {
           "align": "left"
          },
          "hovermode": "closest",
          "mapbox": {
           "style": "light"
          },
          "paper_bgcolor": "white",
          "plot_bgcolor": "#E5ECF6",
          "polar": {
           "angularaxis": {
            "gridcolor": "white",
            "linecolor": "white",
            "ticks": ""
           },
           "bgcolor": "#E5ECF6",
           "radialaxis": {
            "gridcolor": "white",
            "linecolor": "white",
            "ticks": ""
           }
          },
          "scene": {
           "xaxis": {
            "backgroundcolor": "#E5ECF6",
            "gridcolor": "white",
            "gridwidth": 2,
            "linecolor": "white",
            "showbackground": true,
            "ticks": "",
            "zerolinecolor": "white"
           },
           "yaxis": {
            "backgroundcolor": "#E5ECF6",
            "gridcolor": "white",
            "gridwidth": 2,
            "linecolor": "white",
            "showbackground": true,
            "ticks": "",
            "zerolinecolor": "white"
           },
           "zaxis": {
            "backgroundcolor": "#E5ECF6",
            "gridcolor": "white",
            "gridwidth": 2,
            "linecolor": "white",
            "showbackground": true,
            "ticks": "",
            "zerolinecolor": "white"
           }
          },
          "shapedefaults": {
           "line": {
            "color": "#2a3f5f"
           }
          },
          "ternary": {
           "aaxis": {
            "gridcolor": "white",
            "linecolor": "white",
            "ticks": ""
           },
           "baxis": {
            "gridcolor": "white",
            "linecolor": "white",
            "ticks": ""
           },
           "bgcolor": "#E5ECF6",
           "caxis": {
            "gridcolor": "white",
            "linecolor": "white",
            "ticks": ""
           }
          },
          "title": {
           "x": 0.05
          },
          "xaxis": {
           "automargin": true,
           "gridcolor": "white",
           "linecolor": "white",
           "ticks": "",
           "title": {
            "standoff": 15
           },
           "zerolinecolor": "white",
           "zerolinewidth": 2
          },
          "yaxis": {
           "automargin": true,
           "gridcolor": "white",
           "linecolor": "white",
           "ticks": "",
           "title": {
            "standoff": 15
           },
           "zerolinecolor": "white",
           "zerolinewidth": 2
          }
         }
        },
        "title": {
         "text": "Zero-Coupon Yield Curve over 25 Years",
         "x": 0.5
        },
        "width": 900,
        "xaxis": {
         "linecolor": "black",
         "linewidth": 1,
         "range": [
          0,
          27
         ],
         "showline": true,
         "ticklen": 5,
         "ticks": "inside",
         "tickson": "boundaries",
         "tickvals": [
          1,
          2,
          3,
          4,
          5,
          6,
          7,
          8,
          9,
          10,
          15,
          20,
          25
         ],
         "title": {
          "text": "Time to Maturity (Years)"
         }
        },
        "yaxis": {
         "gridcolor": "rgba(38,38,38,0.15)",
         "linecolor": "Grey",
         "linewidth": 1,
         "showline": true,
         "title": {
          "text": "Yield (%)"
         }
        }
       }
      }
     },
     "metadata": {},
     "output_type": "display_data"
    }
   ],
   "source": [
    "gr.Graph_EstimationVSZero(Yield,Yield['Zero-Coupon Yield'],x_newQ1,y_newQ1,'Zero-Coupon Yield Curve over 25 Years','Cubic Splines')"
   ]
  },
  {
   "cell_type": "code",
   "execution_count": 11,
   "id": "9e139bac",
   "metadata": {
    "ExecuteTime": {
     "end_time": "2024-10-29T10:28:07.940602Z",
     "start_time": "2024-10-29T10:28:07.593382Z"
    }
   },
   "outputs": [
    {
     "data": {
      "application/vnd.plotly.v1+json": {
       "config": {
        "plotlyServerURL": "https://plot.ly"
       },
       "data": [
        {
         "marker": {
          "color": "rgb(0, 71, 102)",
          "size": 8
         },
         "mode": "lines",
         "name": "Discount Function Cubic",
         "type": "scatter",
         "x": [
          0.5,
          0.7575757575757576,
          1.0151515151515151,
          1.2727272727272727,
          1.5303030303030303,
          1.7878787878787878,
          2.0454545454545454,
          2.3030303030303028,
          2.5606060606060606,
          2.8181818181818183,
          3.0757575757575757,
          3.333333333333333,
          3.590909090909091,
          3.8484848484848486,
          4.1060606060606055,
          4.363636363636363,
          4.621212121212121,
          4.878787878787879,
          5.136363636363637,
          5.393939393939394,
          5.651515151515151,
          5.909090909090909,
          6.166666666666666,
          6.424242424242424,
          6.681818181818182,
          6.9393939393939394,
          7.196969696969697,
          7.454545454545454,
          7.712121212121212,
          7.96969696969697,
          8.227272727272727,
          8.484848484848484,
          8.742424242424242,
          9,
          9.257575757575758,
          9.515151515151516,
          9.772727272727273,
          10.03030303030303,
          10.287878787878787,
          10.545454545454545,
          10.803030303030303,
          11.06060606060606,
          11.318181818181818,
          11.575757575757576,
          11.833333333333332,
          12.09090909090909,
          12.348484848484848,
          12.606060606060606,
          12.863636363636363,
          13.121212121212121,
          13.378787878787879,
          13.636363636363637,
          13.893939393939394,
          14.15151515151515,
          14.409090909090908,
          14.666666666666666,
          14.924242424242424,
          15.181818181818182,
          15.43939393939394,
          15.696969696969697,
          15.954545454545453,
          16.21212121212121,
          16.46969696969697,
          16.727272727272727,
          16.984848484848484,
          17.242424242424242,
          17.5,
          17.757575757575758,
          18.015151515151516,
          18.272727272727273,
          18.53030303030303,
          18.78787878787879,
          19.045454545454547,
          19.3030303030303,
          19.56060606060606,
          19.818181818181817,
          20.075757575757574,
          20.333333333333332,
          20.59090909090909,
          20.848484848484848,
          21.106060606060606,
          21.363636363636363,
          21.62121212121212,
          21.87878787878788,
          22.136363636363637,
          22.393939393939394,
          22.651515151515152,
          22.90909090909091,
          23.166666666666664,
          23.424242424242422,
          23.68181818181818,
          23.939393939393938,
          24.196969696969695,
          24.454545454545453,
          24.71212121212121,
          24.96969696969697,
          25.227272727272727,
          25.484848484848484,
          25.742424242424242,
          26
         ],
         "y": [
          0.9950227951173798,
          0.9914007126273054,
          0.9870390648987394,
          0.9819334636894808,
          0.9760882033042536,
          0.9695160471728774,
          0.9622379326654136,
          0.9542825989757464,
          0.9456861451202915,
          0.9364915270617631,
          0.9267480046368168,
          0.9165105503108814,
          0.9058392327872128,
          0.8947985891580479,
          0.8834569996156925,
          0.8718860787663394,
          0.8601600973474731,
          0.8483554476903887,
          0.8365489614124526,
          0.8247934879716223,
          0.8131154721117213,
          0.8015351397555391,
          0.7900676435792963,
          0.7787233856157577,
          0.7675083301303324,
          0.7564243053930508,
          0.7454692937881583,
          0.7346377104228774,
          0.7239206710250778,
          0.7133062504625853,
          0.7027797336804524,
          0.6923238612409504,
          0.6819190719671593,
          0.67154374543588,
          0.6611744472382594,
          0.6507861800243264,
          0.6403526433661296,
          0.629846518278948,
          0.6192508125951076,
          0.6085798538740919,
          0.5978542909046999,
          0.587095532928237,
          0.5763255753865284,
          0.5655668322132567,
          0.5548419763259048,
          0.5441737898646145,
          0.533585025594342,
          0.5230982807423629,
          0.512735884389675,
          0.5025197993770371,
          0.4924715395294342,
          0.48261210285156486,
          0.4729619212063065,
          0.4635408268624907,
          0.45436803619222166,
          0.4454621507151766,
          0.436841175631925,
          0.42852087260336574,
          0.420499526932041,
          0.4127653099174084,
          0.4053061304468312,
          0.3981097891256178,
          0.39116400543206586,
          0.384456440558059,
          0.37797471650565523,
          0.37170643198970016,
          0.36563917567713666,
          0.3597605372758194,
          0.35405811696903244,
          0.34851953367673744,
          0.3431324326104514,
          0.3378844925755961,
          0.33276343346261217,
          0.3277570243559216,
          0.32285309267733275,
          0.31803953476726665,
          0.31330432829262855,
          0.30863554685356764,
          0.3040213771421063,
          0.2994501389828676,
          0.2949103085591511,
          0.29039054509556816,
          0.28587972123058375,
          0.28136695726783434,
          0.27684165944324374,
          0.2722935622852385,
          0.26771277507701613,
          0.26308983235280436,
          0.25841574827383534,
          0.2536820746348026,
          0.24888096214791544,
          0.24400522454031337,
          0.23904840488241477,
          0.2340048434414829,
          0.22886974622813033,
          0.2236392532762505,
          0.21831050557182013,
          0.21288170942676807,
          0.20735219698444576,
          0.20172248144759622
         ]
        }
       ],
       "layout": {
        "font": {
         "color": "Black",
         "family": "Time New Roman",
         "size": 15
        },
        "height": 500,
        "legend": {
         "bgcolor": "rgba(0, 0, 0, 0)"
        },
        "plot_bgcolor": "rgba(255,255,255,1)",
        "showlegend": true,
        "template": {
         "data": {
          "bar": [
           {
            "error_x": {
             "color": "#2a3f5f"
            },
            "error_y": {
             "color": "#2a3f5f"
            },
            "marker": {
             "line": {
              "color": "#E5ECF6",
              "width": 0.5
             },
             "pattern": {
              "fillmode": "overlay",
              "size": 10,
              "solidity": 0.2
             }
            },
            "type": "bar"
           }
          ],
          "barpolar": [
           {
            "marker": {
             "line": {
              "color": "#E5ECF6",
              "width": 0.5
             },
             "pattern": {
              "fillmode": "overlay",
              "size": 10,
              "solidity": 0.2
             }
            },
            "type": "barpolar"
           }
          ],
          "carpet": [
           {
            "aaxis": {
             "endlinecolor": "#2a3f5f",
             "gridcolor": "white",
             "linecolor": "white",
             "minorgridcolor": "white",
             "startlinecolor": "#2a3f5f"
            },
            "baxis": {
             "endlinecolor": "#2a3f5f",
             "gridcolor": "white",
             "linecolor": "white",
             "minorgridcolor": "white",
             "startlinecolor": "#2a3f5f"
            },
            "type": "carpet"
           }
          ],
          "choropleth": [
           {
            "colorbar": {
             "outlinewidth": 0,
             "ticks": ""
            },
            "type": "choropleth"
           }
          ],
          "contour": [
           {
            "colorbar": {
             "outlinewidth": 0,
             "ticks": ""
            },
            "colorscale": [
             [
              0,
              "#0d0887"
             ],
             [
              0.1111111111111111,
              "#46039f"
             ],
             [
              0.2222222222222222,
              "#7201a8"
             ],
             [
              0.3333333333333333,
              "#9c179e"
             ],
             [
              0.4444444444444444,
              "#bd3786"
             ],
             [
              0.5555555555555556,
              "#d8576b"
             ],
             [
              0.6666666666666666,
              "#ed7953"
             ],
             [
              0.7777777777777778,
              "#fb9f3a"
             ],
             [
              0.8888888888888888,
              "#fdca26"
             ],
             [
              1,
              "#f0f921"
             ]
            ],
            "type": "contour"
           }
          ],
          "contourcarpet": [
           {
            "colorbar": {
             "outlinewidth": 0,
             "ticks": ""
            },
            "type": "contourcarpet"
           }
          ],
          "heatmap": [
           {
            "colorbar": {
             "outlinewidth": 0,
             "ticks": ""
            },
            "colorscale": [
             [
              0,
              "#0d0887"
             ],
             [
              0.1111111111111111,
              "#46039f"
             ],
             [
              0.2222222222222222,
              "#7201a8"
             ],
             [
              0.3333333333333333,
              "#9c179e"
             ],
             [
              0.4444444444444444,
              "#bd3786"
             ],
             [
              0.5555555555555556,
              "#d8576b"
             ],
             [
              0.6666666666666666,
              "#ed7953"
             ],
             [
              0.7777777777777778,
              "#fb9f3a"
             ],
             [
              0.8888888888888888,
              "#fdca26"
             ],
             [
              1,
              "#f0f921"
             ]
            ],
            "type": "heatmap"
           }
          ],
          "heatmapgl": [
           {
            "colorbar": {
             "outlinewidth": 0,
             "ticks": ""
            },
            "colorscale": [
             [
              0,
              "#0d0887"
             ],
             [
              0.1111111111111111,
              "#46039f"
             ],
             [
              0.2222222222222222,
              "#7201a8"
             ],
             [
              0.3333333333333333,
              "#9c179e"
             ],
             [
              0.4444444444444444,
              "#bd3786"
             ],
             [
              0.5555555555555556,
              "#d8576b"
             ],
             [
              0.6666666666666666,
              "#ed7953"
             ],
             [
              0.7777777777777778,
              "#fb9f3a"
             ],
             [
              0.8888888888888888,
              "#fdca26"
             ],
             [
              1,
              "#f0f921"
             ]
            ],
            "type": "heatmapgl"
           }
          ],
          "histogram": [
           {
            "marker": {
             "pattern": {
              "fillmode": "overlay",
              "size": 10,
              "solidity": 0.2
             }
            },
            "type": "histogram"
           }
          ],
          "histogram2d": [
           {
            "colorbar": {
             "outlinewidth": 0,
             "ticks": ""
            },
            "colorscale": [
             [
              0,
              "#0d0887"
             ],
             [
              0.1111111111111111,
              "#46039f"
             ],
             [
              0.2222222222222222,
              "#7201a8"
             ],
             [
              0.3333333333333333,
              "#9c179e"
             ],
             [
              0.4444444444444444,
              "#bd3786"
             ],
             [
              0.5555555555555556,
              "#d8576b"
             ],
             [
              0.6666666666666666,
              "#ed7953"
             ],
             [
              0.7777777777777778,
              "#fb9f3a"
             ],
             [
              0.8888888888888888,
              "#fdca26"
             ],
             [
              1,
              "#f0f921"
             ]
            ],
            "type": "histogram2d"
           }
          ],
          "histogram2dcontour": [
           {
            "colorbar": {
             "outlinewidth": 0,
             "ticks": ""
            },
            "colorscale": [
             [
              0,
              "#0d0887"
             ],
             [
              0.1111111111111111,
              "#46039f"
             ],
             [
              0.2222222222222222,
              "#7201a8"
             ],
             [
              0.3333333333333333,
              "#9c179e"
             ],
             [
              0.4444444444444444,
              "#bd3786"
             ],
             [
              0.5555555555555556,
              "#d8576b"
             ],
             [
              0.6666666666666666,
              "#ed7953"
             ],
             [
              0.7777777777777778,
              "#fb9f3a"
             ],
             [
              0.8888888888888888,
              "#fdca26"
             ],
             [
              1,
              "#f0f921"
             ]
            ],
            "type": "histogram2dcontour"
           }
          ],
          "mesh3d": [
           {
            "colorbar": {
             "outlinewidth": 0,
             "ticks": ""
            },
            "type": "mesh3d"
           }
          ],
          "parcoords": [
           {
            "line": {
             "colorbar": {
              "outlinewidth": 0,
              "ticks": ""
             }
            },
            "type": "parcoords"
           }
          ],
          "pie": [
           {
            "automargin": true,
            "type": "pie"
           }
          ],
          "scatter": [
           {
            "fillpattern": {
             "fillmode": "overlay",
             "size": 10,
             "solidity": 0.2
            },
            "type": "scatter"
           }
          ],
          "scatter3d": [
           {
            "line": {
             "colorbar": {
              "outlinewidth": 0,
              "ticks": ""
             }
            },
            "marker": {
             "colorbar": {
              "outlinewidth": 0,
              "ticks": ""
             }
            },
            "type": "scatter3d"
           }
          ],
          "scattercarpet": [
           {
            "marker": {
             "colorbar": {
              "outlinewidth": 0,
              "ticks": ""
             }
            },
            "type": "scattercarpet"
           }
          ],
          "scattergeo": [
           {
            "marker": {
             "colorbar": {
              "outlinewidth": 0,
              "ticks": ""
             }
            },
            "type": "scattergeo"
           }
          ],
          "scattergl": [
           {
            "marker": {
             "colorbar": {
              "outlinewidth": 0,
              "ticks": ""
             }
            },
            "type": "scattergl"
           }
          ],
          "scattermapbox": [
           {
            "marker": {
             "colorbar": {
              "outlinewidth": 0,
              "ticks": ""
             }
            },
            "type": "scattermapbox"
           }
          ],
          "scatterpolar": [
           {
            "marker": {
             "colorbar": {
              "outlinewidth": 0,
              "ticks": ""
             }
            },
            "type": "scatterpolar"
           }
          ],
          "scatterpolargl": [
           {
            "marker": {
             "colorbar": {
              "outlinewidth": 0,
              "ticks": ""
             }
            },
            "type": "scatterpolargl"
           }
          ],
          "scatterternary": [
           {
            "marker": {
             "colorbar": {
              "outlinewidth": 0,
              "ticks": ""
             }
            },
            "type": "scatterternary"
           }
          ],
          "surface": [
           {
            "colorbar": {
             "outlinewidth": 0,
             "ticks": ""
            },
            "colorscale": [
             [
              0,
              "#0d0887"
             ],
             [
              0.1111111111111111,
              "#46039f"
             ],
             [
              0.2222222222222222,
              "#7201a8"
             ],
             [
              0.3333333333333333,
              "#9c179e"
             ],
             [
              0.4444444444444444,
              "#bd3786"
             ],
             [
              0.5555555555555556,
              "#d8576b"
             ],
             [
              0.6666666666666666,
              "#ed7953"
             ],
             [
              0.7777777777777778,
              "#fb9f3a"
             ],
             [
              0.8888888888888888,
              "#fdca26"
             ],
             [
              1,
              "#f0f921"
             ]
            ],
            "type": "surface"
           }
          ],
          "table": [
           {
            "cells": {
             "fill": {
              "color": "#EBF0F8"
             },
             "line": {
              "color": "white"
             }
            },
            "header": {
             "fill": {
              "color": "#C8D4E3"
             },
             "line": {
              "color": "white"
             }
            },
            "type": "table"
           }
          ]
         },
         "layout": {
          "annotationdefaults": {
           "arrowcolor": "#2a3f5f",
           "arrowhead": 0,
           "arrowwidth": 1
          },
          "autotypenumbers": "strict",
          "coloraxis": {
           "colorbar": {
            "outlinewidth": 0,
            "ticks": ""
           }
          },
          "colorscale": {
           "diverging": [
            [
             0,
             "#8e0152"
            ],
            [
             0.1,
             "#c51b7d"
            ],
            [
             0.2,
             "#de77ae"
            ],
            [
             0.3,
             "#f1b6da"
            ],
            [
             0.4,
             "#fde0ef"
            ],
            [
             0.5,
             "#f7f7f7"
            ],
            [
             0.6,
             "#e6f5d0"
            ],
            [
             0.7,
             "#b8e186"
            ],
            [
             0.8,
             "#7fbc41"
            ],
            [
             0.9,
             "#4d9221"
            ],
            [
             1,
             "#276419"
            ]
           ],
           "sequential": [
            [
             0,
             "#0d0887"
            ],
            [
             0.1111111111111111,
             "#46039f"
            ],
            [
             0.2222222222222222,
             "#7201a8"
            ],
            [
             0.3333333333333333,
             "#9c179e"
            ],
            [
             0.4444444444444444,
             "#bd3786"
            ],
            [
             0.5555555555555556,
             "#d8576b"
            ],
            [
             0.6666666666666666,
             "#ed7953"
            ],
            [
             0.7777777777777778,
             "#fb9f3a"
            ],
            [
             0.8888888888888888,
             "#fdca26"
            ],
            [
             1,
             "#f0f921"
            ]
           ],
           "sequentialminus": [
            [
             0,
             "#0d0887"
            ],
            [
             0.1111111111111111,
             "#46039f"
            ],
            [
             0.2222222222222222,
             "#7201a8"
            ],
            [
             0.3333333333333333,
             "#9c179e"
            ],
            [
             0.4444444444444444,
             "#bd3786"
            ],
            [
             0.5555555555555556,
             "#d8576b"
            ],
            [
             0.6666666666666666,
             "#ed7953"
            ],
            [
             0.7777777777777778,
             "#fb9f3a"
            ],
            [
             0.8888888888888888,
             "#fdca26"
            ],
            [
             1,
             "#f0f921"
            ]
           ]
          },
          "colorway": [
           "#636efa",
           "#EF553B",
           "#00cc96",
           "#ab63fa",
           "#FFA15A",
           "#19d3f3",
           "#FF6692",
           "#B6E880",
           "#FF97FF",
           "#FECB52"
          ],
          "font": {
           "color": "#2a3f5f"
          },
          "geo": {
           "bgcolor": "white",
           "lakecolor": "white",
           "landcolor": "#E5ECF6",
           "showlakes": true,
           "showland": true,
           "subunitcolor": "white"
          },
          "hoverlabel": {
           "align": "left"
          },
          "hovermode": "closest",
          "mapbox": {
           "style": "light"
          },
          "paper_bgcolor": "white",
          "plot_bgcolor": "#E5ECF6",
          "polar": {
           "angularaxis": {
            "gridcolor": "white",
            "linecolor": "white",
            "ticks": ""
           },
           "bgcolor": "#E5ECF6",
           "radialaxis": {
            "gridcolor": "white",
            "linecolor": "white",
            "ticks": ""
           }
          },
          "scene": {
           "xaxis": {
            "backgroundcolor": "#E5ECF6",
            "gridcolor": "white",
            "gridwidth": 2,
            "linecolor": "white",
            "showbackground": true,
            "ticks": "",
            "zerolinecolor": "white"
           },
           "yaxis": {
            "backgroundcolor": "#E5ECF6",
            "gridcolor": "white",
            "gridwidth": 2,
            "linecolor": "white",
            "showbackground": true,
            "ticks": "",
            "zerolinecolor": "white"
           },
           "zaxis": {
            "backgroundcolor": "#E5ECF6",
            "gridcolor": "white",
            "gridwidth": 2,
            "linecolor": "white",
            "showbackground": true,
            "ticks": "",
            "zerolinecolor": "white"
           }
          },
          "shapedefaults": {
           "line": {
            "color": "#2a3f5f"
           }
          },
          "ternary": {
           "aaxis": {
            "gridcolor": "white",
            "linecolor": "white",
            "ticks": ""
           },
           "baxis": {
            "gridcolor": "white",
            "linecolor": "white",
            "ticks": ""
           },
           "bgcolor": "#E5ECF6",
           "caxis": {
            "gridcolor": "white",
            "linecolor": "white",
            "ticks": ""
           }
          },
          "title": {
           "x": 0.05
          },
          "xaxis": {
           "automargin": true,
           "gridcolor": "white",
           "linecolor": "white",
           "ticks": "",
           "title": {
            "standoff": 15
           },
           "zerolinecolor": "white",
           "zerolinewidth": 2
          },
          "yaxis": {
           "automargin": true,
           "gridcolor": "white",
           "linecolor": "white",
           "ticks": "",
           "title": {
            "standoff": 15
           },
           "zerolinecolor": "white",
           "zerolinewidth": 2
          }
         }
        },
        "title": {
         "text": "Discount Function (Cubic Splines)",
         "x": 0.5
        },
        "width": 900,
        "xaxis": {
         "linecolor": "black",
         "linewidth": 1,
         "range": [
          0,
          27
         ],
         "showline": true,
         "ticklen": 5,
         "ticks": "inside",
         "tickson": "boundaries",
         "tickvals": [
          1,
          2,
          3,
          4,
          5,
          6,
          7,
          8,
          9,
          10,
          15,
          20,
          25
         ],
         "title": {
          "text": "Time to Maturity (Years)"
         }
        },
        "yaxis": {
         "gridcolor": "rgba(38,38,38,0.15)",
         "linecolor": "Grey",
         "linewidth": 1,
         "showline": true,
         "title": {
          "text": "Discount Factors"
         }
        }
       }
      }
     },
     "metadata": {},
     "output_type": "display_data"
    }
   ],
   "source": [
    "# Calculate the discount function using the interpolated zero-coupon yields\n",
    "discount_function = 1 / ((1 + cs(maturity_range)) ** maturity_range)\n",
    "\n",
    "gr.graph_discount(maturity_range, discount_function,\"Discount Function (Cubic Splines)\",\"Discount Function Cubic\")"
   ]
  },
  {
   "cell_type": "markdown",
   "id": "5c9a406dc9977b9c",
   "metadata": {},
   "source": [
    "#### Question 2.2"
   ]
  },
  {
   "cell_type": "code",
   "execution_count": 12,
   "id": "dfa7044a905a15ec",
   "metadata": {
    "ExecuteTime": {
     "end_time": "2024-10-29T10:31:04.461659Z",
     "start_time": "2024-10-29T10:31:04.075249Z"
    }
   },
   "outputs": [
    {
     "data": {
      "text/html": [
       "<div>\n",
       "<style scoped>\n",
       "    .dataframe tbody tr th:only-of-type {\n",
       "        vertical-align: middle;\n",
       "    }\n",
       "\n",
       "    .dataframe tbody tr th {\n",
       "        vertical-align: top;\n",
       "    }\n",
       "\n",
       "    .dataframe thead th {\n",
       "        text-align: right;\n",
       "    }\n",
       "</style>\n",
       "<table border=\"1\" class=\"dataframe\">\n",
       "  <thead>\n",
       "    <tr style=\"text-align: right;\">\n",
       "      <th></th>\n",
       "      <th>Time to Maturity</th>\n",
       "      <th>Spline Zero-Coupon Yield</th>\n",
       "      <th>Model Prediction (BEY)</th>\n",
       "      <th>Buy or Sell ?</th>\n",
       "    </tr>\n",
       "  </thead>\n",
       "  <tbody>\n",
       "    <tr>\n",
       "      <th>0</th>\n",
       "      <td>1.0</td>\n",
       "      <td>1.2847</td>\n",
       "      <td>1.2443</td>\n",
       "      <td>Buy</td>\n",
       "    </tr>\n",
       "    <tr>\n",
       "      <th>1</th>\n",
       "      <td>2.0</td>\n",
       "      <td>1.8727</td>\n",
       "      <td>1.8727</td>\n",
       "      <td>Hold</td>\n",
       "    </tr>\n",
       "    <tr>\n",
       "      <th>2</th>\n",
       "      <td>3.0</td>\n",
       "      <td>2.4607</td>\n",
       "      <td>2.4110</td>\n",
       "      <td>Buy</td>\n",
       "    </tr>\n",
       "    <tr>\n",
       "      <th>3</th>\n",
       "      <td>4.0</td>\n",
       "      <td>3.0095</td>\n",
       "      <td>2.9665</td>\n",
       "      <td>Buy</td>\n",
       "    </tr>\n",
       "    <tr>\n",
       "      <th>4</th>\n",
       "      <td>5.0</td>\n",
       "      <td>3.4798</td>\n",
       "      <td>3.4454</td>\n",
       "      <td>Buy</td>\n",
       "    </tr>\n",
       "    <tr>\n",
       "      <th>5</th>\n",
       "      <td>6.0</td>\n",
       "      <td>3.8438</td>\n",
       "      <td>3.8557</td>\n",
       "      <td>Sell</td>\n",
       "    </tr>\n",
       "    <tr>\n",
       "      <th>6</th>\n",
       "      <td>7.0</td>\n",
       "      <td>4.1195</td>\n",
       "      <td>4.1996</td>\n",
       "      <td>Sell</td>\n",
       "    </tr>\n",
       "    <tr>\n",
       "      <th>7</th>\n",
       "      <td>8.0</td>\n",
       "      <td>4.3362</td>\n",
       "      <td>4.4677</td>\n",
       "      <td>Sell</td>\n",
       "    </tr>\n",
       "    <tr>\n",
       "      <th>8</th>\n",
       "      <td>9.0</td>\n",
       "      <td>4.5235</td>\n",
       "      <td>4.6528</td>\n",
       "      <td>Sell</td>\n",
       "    </tr>\n",
       "    <tr>\n",
       "      <th>9</th>\n",
       "      <td>10.0</td>\n",
       "      <td>4.7107</td>\n",
       "      <td>4.7107</td>\n",
       "      <td>Hold</td>\n",
       "    </tr>\n",
       "    <tr>\n",
       "      <th>10</th>\n",
       "      <td>15.0</td>\n",
       "      <td>5.7166</td>\n",
       "      <td>5.7160</td>\n",
       "      <td>Buy</td>\n",
       "    </tr>\n",
       "    <tr>\n",
       "      <th>11</th>\n",
       "      <td>20.0</td>\n",
       "      <td>5.9512</td>\n",
       "      <td>5.9517</td>\n",
       "      <td>Sell</td>\n",
       "    </tr>\n",
       "    <tr>\n",
       "      <th>12</th>\n",
       "      <td>25.0</td>\n",
       "      <td>6.1858</td>\n",
       "      <td>5.9315</td>\n",
       "      <td>Buy</td>\n",
       "    </tr>\n",
       "  </tbody>\n",
       "</table>\n",
       "</div>"
      ],
      "text/plain": [
       "    Time to Maturity  Spline Zero-Coupon Yield  Model Prediction (BEY)  \\\n",
       "0                1.0                    1.2847                  1.2443   \n",
       "1                2.0                    1.8727                  1.8727   \n",
       "2                3.0                    2.4607                  2.4110   \n",
       "3                4.0                    3.0095                  2.9665   \n",
       "4                5.0                    3.4798                  3.4454   \n",
       "5                6.0                    3.8438                  3.8557   \n",
       "6                7.0                    4.1195                  4.1996   \n",
       "7                8.0                    4.3362                  4.4677   \n",
       "8                9.0                    4.5235                  4.6528   \n",
       "9               10.0                    4.7107                  4.7107   \n",
       "10              15.0                    5.7166                  5.7160   \n",
       "11              20.0                    5.9512                  5.9517   \n",
       "12              25.0                    6.1858                  5.9315   \n",
       "\n",
       "   Buy or Sell ?  \n",
       "0            Buy  \n",
       "1           Hold  \n",
       "2            Buy  \n",
       "3            Buy  \n",
       "4            Buy  \n",
       "5           Sell  \n",
       "6           Sell  \n",
       "7           Sell  \n",
       "8           Sell  \n",
       "9           Hold  \n",
       "10           Buy  \n",
       "11          Sell  \n",
       "12           Buy  "
      ]
     },
     "execution_count": 12,
     "metadata": {},
     "output_type": "execute_result"
    }
   ],
   "source": [
    "#Decision with new interpolated zerp-coupon yield curve\n",
    "specified_maturities = DBvsYield['Time to Maturity']\n",
    "spline_yields = cs(specified_maturities) * 100\n",
    "spline_yields = spline_yields.round(4)\n",
    "\n",
    "df_spline_yields = pd.DataFrame({\n",
    "    'Time to Maturity': specified_maturities,\n",
    "    'Spline Zero-Coupon Yield': spline_yields\n",
    "})\n",
    "\n",
    "df_merged = pd.merge(DBvsYield, df_spline_yields, on='Time to Maturity', how='inner')\n",
    "\n",
    "df_merged['Buy or Sell ?']= np.where(df_merged['Model Prediction (BEY)'] < df_merged['Spline Zero-Coupon Yield'], \"Buy\",\n",
    "                            np.where(df_merged['Model Prediction (BEY)'] > df_merged['Spline Zero-Coupon Yield'], \"Sell\", \n",
    "                            \"Hold\"))\n",
    "\n",
    "df_merged[['Time to Maturity', 'Spline Zero-Coupon Yield', 'Model Prediction (BEY)', 'Buy or Sell ?']]"
   ]
  },
  {
   "cell_type": "code",
   "execution_count": 13,
   "id": "113b428d",
   "metadata": {
    "ExecuteTime": {
     "end_time": "2024-10-29T10:31:17.636797Z",
     "start_time": "2024-10-29T10:31:17.280233Z"
    }
   },
   "outputs": [
    {
     "data": {
      "application/vnd.plotly.v1+json": {
       "config": {
        "plotlyServerURL": "https://plot.ly"
       },
       "data": [
        {
         "marker": {
          "color": "rgb(0, 71, 102)",
          "size": 8
         },
         "mode": "markers",
         "name": "Zero-Coupon Yields",
         "type": "scatter",
         "x": [
          1,
          2,
          3,
          4,
          5,
          6,
          7,
          8,
          9,
          10,
          15,
          20,
          25
         ],
         "y": [
          1.2847,
          1.8727,
          2.4607,
          3.0095,
          3.4798,
          3.8438,
          4.1195,
          4.3362,
          4.5235,
          4.7107,
          5.7166,
          5.9512,
          6.1858
         ]
        },
        {
         "marker": {
          "color": "red",
          "size": 5
         },
         "mode": "lines",
         "name": "Model BEY",
         "type": "scatter",
         "x": [
          1,
          2,
          3,
          4,
          5,
          6,
          7,
          8,
          9,
          10,
          15,
          20,
          25
         ],
         "y": [
          1.2443,
          1.8727,
          2.411,
          2.9665,
          3.4454,
          3.8557,
          4.1996,
          4.4677,
          4.6528,
          4.7107,
          5.716,
          5.9517,
          5.9315
         ]
        }
       ],
       "layout": {
        "font": {
         "color": "Black",
         "family": "Time New Roman",
         "size": 15
        },
        "height": 500,
        "legend": {
         "bgcolor": "rgba(255,255,255,0)",
         "xanchor": "left",
         "yanchor": "top"
        },
        "plot_bgcolor": "rgba(255,255,255,1)",
        "template": {
         "data": {
          "bar": [
           {
            "error_x": {
             "color": "#2a3f5f"
            },
            "error_y": {
             "color": "#2a3f5f"
            },
            "marker": {
             "line": {
              "color": "#E5ECF6",
              "width": 0.5
             },
             "pattern": {
              "fillmode": "overlay",
              "size": 10,
              "solidity": 0.2
             }
            },
            "type": "bar"
           }
          ],
          "barpolar": [
           {
            "marker": {
             "line": {
              "color": "#E5ECF6",
              "width": 0.5
             },
             "pattern": {
              "fillmode": "overlay",
              "size": 10,
              "solidity": 0.2
             }
            },
            "type": "barpolar"
           }
          ],
          "carpet": [
           {
            "aaxis": {
             "endlinecolor": "#2a3f5f",
             "gridcolor": "white",
             "linecolor": "white",
             "minorgridcolor": "white",
             "startlinecolor": "#2a3f5f"
            },
            "baxis": {
             "endlinecolor": "#2a3f5f",
             "gridcolor": "white",
             "linecolor": "white",
             "minorgridcolor": "white",
             "startlinecolor": "#2a3f5f"
            },
            "type": "carpet"
           }
          ],
          "choropleth": [
           {
            "colorbar": {
             "outlinewidth": 0,
             "ticks": ""
            },
            "type": "choropleth"
           }
          ],
          "contour": [
           {
            "colorbar": {
             "outlinewidth": 0,
             "ticks": ""
            },
            "colorscale": [
             [
              0,
              "#0d0887"
             ],
             [
              0.1111111111111111,
              "#46039f"
             ],
             [
              0.2222222222222222,
              "#7201a8"
             ],
             [
              0.3333333333333333,
              "#9c179e"
             ],
             [
              0.4444444444444444,
              "#bd3786"
             ],
             [
              0.5555555555555556,
              "#d8576b"
             ],
             [
              0.6666666666666666,
              "#ed7953"
             ],
             [
              0.7777777777777778,
              "#fb9f3a"
             ],
             [
              0.8888888888888888,
              "#fdca26"
             ],
             [
              1,
              "#f0f921"
             ]
            ],
            "type": "contour"
           }
          ],
          "contourcarpet": [
           {
            "colorbar": {
             "outlinewidth": 0,
             "ticks": ""
            },
            "type": "contourcarpet"
           }
          ],
          "heatmap": [
           {
            "colorbar": {
             "outlinewidth": 0,
             "ticks": ""
            },
            "colorscale": [
             [
              0,
              "#0d0887"
             ],
             [
              0.1111111111111111,
              "#46039f"
             ],
             [
              0.2222222222222222,
              "#7201a8"
             ],
             [
              0.3333333333333333,
              "#9c179e"
             ],
             [
              0.4444444444444444,
              "#bd3786"
             ],
             [
              0.5555555555555556,
              "#d8576b"
             ],
             [
              0.6666666666666666,
              "#ed7953"
             ],
             [
              0.7777777777777778,
              "#fb9f3a"
             ],
             [
              0.8888888888888888,
              "#fdca26"
             ],
             [
              1,
              "#f0f921"
             ]
            ],
            "type": "heatmap"
           }
          ],
          "heatmapgl": [
           {
            "colorbar": {
             "outlinewidth": 0,
             "ticks": ""
            },
            "colorscale": [
             [
              0,
              "#0d0887"
             ],
             [
              0.1111111111111111,
              "#46039f"
             ],
             [
              0.2222222222222222,
              "#7201a8"
             ],
             [
              0.3333333333333333,
              "#9c179e"
             ],
             [
              0.4444444444444444,
              "#bd3786"
             ],
             [
              0.5555555555555556,
              "#d8576b"
             ],
             [
              0.6666666666666666,
              "#ed7953"
             ],
             [
              0.7777777777777778,
              "#fb9f3a"
             ],
             [
              0.8888888888888888,
              "#fdca26"
             ],
             [
              1,
              "#f0f921"
             ]
            ],
            "type": "heatmapgl"
           }
          ],
          "histogram": [
           {
            "marker": {
             "pattern": {
              "fillmode": "overlay",
              "size": 10,
              "solidity": 0.2
             }
            },
            "type": "histogram"
           }
          ],
          "histogram2d": [
           {
            "colorbar": {
             "outlinewidth": 0,
             "ticks": ""
            },
            "colorscale": [
             [
              0,
              "#0d0887"
             ],
             [
              0.1111111111111111,
              "#46039f"
             ],
             [
              0.2222222222222222,
              "#7201a8"
             ],
             [
              0.3333333333333333,
              "#9c179e"
             ],
             [
              0.4444444444444444,
              "#bd3786"
             ],
             [
              0.5555555555555556,
              "#d8576b"
             ],
             [
              0.6666666666666666,
              "#ed7953"
             ],
             [
              0.7777777777777778,
              "#fb9f3a"
             ],
             [
              0.8888888888888888,
              "#fdca26"
             ],
             [
              1,
              "#f0f921"
             ]
            ],
            "type": "histogram2d"
           }
          ],
          "histogram2dcontour": [
           {
            "colorbar": {
             "outlinewidth": 0,
             "ticks": ""
            },
            "colorscale": [
             [
              0,
              "#0d0887"
             ],
             [
              0.1111111111111111,
              "#46039f"
             ],
             [
              0.2222222222222222,
              "#7201a8"
             ],
             [
              0.3333333333333333,
              "#9c179e"
             ],
             [
              0.4444444444444444,
              "#bd3786"
             ],
             [
              0.5555555555555556,
              "#d8576b"
             ],
             [
              0.6666666666666666,
              "#ed7953"
             ],
             [
              0.7777777777777778,
              "#fb9f3a"
             ],
             [
              0.8888888888888888,
              "#fdca26"
             ],
             [
              1,
              "#f0f921"
             ]
            ],
            "type": "histogram2dcontour"
           }
          ],
          "mesh3d": [
           {
            "colorbar": {
             "outlinewidth": 0,
             "ticks": ""
            },
            "type": "mesh3d"
           }
          ],
          "parcoords": [
           {
            "line": {
             "colorbar": {
              "outlinewidth": 0,
              "ticks": ""
             }
            },
            "type": "parcoords"
           }
          ],
          "pie": [
           {
            "automargin": true,
            "type": "pie"
           }
          ],
          "scatter": [
           {
            "fillpattern": {
             "fillmode": "overlay",
             "size": 10,
             "solidity": 0.2
            },
            "type": "scatter"
           }
          ],
          "scatter3d": [
           {
            "line": {
             "colorbar": {
              "outlinewidth": 0,
              "ticks": ""
             }
            },
            "marker": {
             "colorbar": {
              "outlinewidth": 0,
              "ticks": ""
             }
            },
            "type": "scatter3d"
           }
          ],
          "scattercarpet": [
           {
            "marker": {
             "colorbar": {
              "outlinewidth": 0,
              "ticks": ""
             }
            },
            "type": "scattercarpet"
           }
          ],
          "scattergeo": [
           {
            "marker": {
             "colorbar": {
              "outlinewidth": 0,
              "ticks": ""
             }
            },
            "type": "scattergeo"
           }
          ],
          "scattergl": [
           {
            "marker": {
             "colorbar": {
              "outlinewidth": 0,
              "ticks": ""
             }
            },
            "type": "scattergl"
           }
          ],
          "scattermapbox": [
           {
            "marker": {
             "colorbar": {
              "outlinewidth": 0,
              "ticks": ""
             }
            },
            "type": "scattermapbox"
           }
          ],
          "scatterpolar": [
           {
            "marker": {
             "colorbar": {
              "outlinewidth": 0,
              "ticks": ""
             }
            },
            "type": "scatterpolar"
           }
          ],
          "scatterpolargl": [
           {
            "marker": {
             "colorbar": {
              "outlinewidth": 0,
              "ticks": ""
             }
            },
            "type": "scatterpolargl"
           }
          ],
          "scatterternary": [
           {
            "marker": {
             "colorbar": {
              "outlinewidth": 0,
              "ticks": ""
             }
            },
            "type": "scatterternary"
           }
          ],
          "surface": [
           {
            "colorbar": {
             "outlinewidth": 0,
             "ticks": ""
            },
            "colorscale": [
             [
              0,
              "#0d0887"
             ],
             [
              0.1111111111111111,
              "#46039f"
             ],
             [
              0.2222222222222222,
              "#7201a8"
             ],
             [
              0.3333333333333333,
              "#9c179e"
             ],
             [
              0.4444444444444444,
              "#bd3786"
             ],
             [
              0.5555555555555556,
              "#d8576b"
             ],
             [
              0.6666666666666666,
              "#ed7953"
             ],
             [
              0.7777777777777778,
              "#fb9f3a"
             ],
             [
              0.8888888888888888,
              "#fdca26"
             ],
             [
              1,
              "#f0f921"
             ]
            ],
            "type": "surface"
           }
          ],
          "table": [
           {
            "cells": {
             "fill": {
              "color": "#EBF0F8"
             },
             "line": {
              "color": "white"
             }
            },
            "header": {
             "fill": {
              "color": "#C8D4E3"
             },
             "line": {
              "color": "white"
             }
            },
            "type": "table"
           }
          ]
         },
         "layout": {
          "annotationdefaults": {
           "arrowcolor": "#2a3f5f",
           "arrowhead": 0,
           "arrowwidth": 1
          },
          "autotypenumbers": "strict",
          "coloraxis": {
           "colorbar": {
            "outlinewidth": 0,
            "ticks": ""
           }
          },
          "colorscale": {
           "diverging": [
            [
             0,
             "#8e0152"
            ],
            [
             0.1,
             "#c51b7d"
            ],
            [
             0.2,
             "#de77ae"
            ],
            [
             0.3,
             "#f1b6da"
            ],
            [
             0.4,
             "#fde0ef"
            ],
            [
             0.5,
             "#f7f7f7"
            ],
            [
             0.6,
             "#e6f5d0"
            ],
            [
             0.7,
             "#b8e186"
            ],
            [
             0.8,
             "#7fbc41"
            ],
            [
             0.9,
             "#4d9221"
            ],
            [
             1,
             "#276419"
            ]
           ],
           "sequential": [
            [
             0,
             "#0d0887"
            ],
            [
             0.1111111111111111,
             "#46039f"
            ],
            [
             0.2222222222222222,
             "#7201a8"
            ],
            [
             0.3333333333333333,
             "#9c179e"
            ],
            [
             0.4444444444444444,
             "#bd3786"
            ],
            [
             0.5555555555555556,
             "#d8576b"
            ],
            [
             0.6666666666666666,
             "#ed7953"
            ],
            [
             0.7777777777777778,
             "#fb9f3a"
            ],
            [
             0.8888888888888888,
             "#fdca26"
            ],
            [
             1,
             "#f0f921"
            ]
           ],
           "sequentialminus": [
            [
             0,
             "#0d0887"
            ],
            [
             0.1111111111111111,
             "#46039f"
            ],
            [
             0.2222222222222222,
             "#7201a8"
            ],
            [
             0.3333333333333333,
             "#9c179e"
            ],
            [
             0.4444444444444444,
             "#bd3786"
            ],
            [
             0.5555555555555556,
             "#d8576b"
            ],
            [
             0.6666666666666666,
             "#ed7953"
            ],
            [
             0.7777777777777778,
             "#fb9f3a"
            ],
            [
             0.8888888888888888,
             "#fdca26"
            ],
            [
             1,
             "#f0f921"
            ]
           ]
          },
          "colorway": [
           "#636efa",
           "#EF553B",
           "#00cc96",
           "#ab63fa",
           "#FFA15A",
           "#19d3f3",
           "#FF6692",
           "#B6E880",
           "#FF97FF",
           "#FECB52"
          ],
          "font": {
           "color": "#2a3f5f"
          },
          "geo": {
           "bgcolor": "white",
           "lakecolor": "white",
           "landcolor": "#E5ECF6",
           "showlakes": true,
           "showland": true,
           "subunitcolor": "white"
          },
          "hoverlabel": {
           "align": "left"
          },
          "hovermode": "closest",
          "mapbox": {
           "style": "light"
          },
          "paper_bgcolor": "white",
          "plot_bgcolor": "#E5ECF6",
          "polar": {
           "angularaxis": {
            "gridcolor": "white",
            "linecolor": "white",
            "ticks": ""
           },
           "bgcolor": "#E5ECF6",
           "radialaxis": {
            "gridcolor": "white",
            "linecolor": "white",
            "ticks": ""
           }
          },
          "scene": {
           "xaxis": {
            "backgroundcolor": "#E5ECF6",
            "gridcolor": "white",
            "gridwidth": 2,
            "linecolor": "white",
            "showbackground": true,
            "ticks": "",
            "zerolinecolor": "white"
           },
           "yaxis": {
            "backgroundcolor": "#E5ECF6",
            "gridcolor": "white",
            "gridwidth": 2,
            "linecolor": "white",
            "showbackground": true,
            "ticks": "",
            "zerolinecolor": "white"
           },
           "zaxis": {
            "backgroundcolor": "#E5ECF6",
            "gridcolor": "white",
            "gridwidth": 2,
            "linecolor": "white",
            "showbackground": true,
            "ticks": "",
            "zerolinecolor": "white"
           }
          },
          "shapedefaults": {
           "line": {
            "color": "#2a3f5f"
           }
          },
          "ternary": {
           "aaxis": {
            "gridcolor": "white",
            "linecolor": "white",
            "ticks": ""
           },
           "baxis": {
            "gridcolor": "white",
            "linecolor": "white",
            "ticks": ""
           },
           "bgcolor": "#E5ECF6",
           "caxis": {
            "gridcolor": "white",
            "linecolor": "white",
            "ticks": ""
           }
          },
          "title": {
           "x": 0.05
          },
          "xaxis": {
           "automargin": true,
           "gridcolor": "white",
           "linecolor": "white",
           "ticks": "",
           "title": {
            "standoff": 15
           },
           "zerolinecolor": "white",
           "zerolinewidth": 2
          },
          "yaxis": {
           "automargin": true,
           "gridcolor": "white",
           "linecolor": "white",
           "ticks": "",
           "title": {
            "standoff": 15
           },
           "zerolinecolor": "white",
           "zerolinewidth": 2
          }
         }
        },
        "title": {
         "text": "Comparison of Spline-Based Zero-Coupon Yields with Model Predictions",
         "x": 0.5
        },
        "width": 900,
        "xaxis": {
         "linecolor": "black",
         "linewidth": 1,
         "range": [
          0,
          27
         ],
         "showline": true,
         "ticklen": 5,
         "ticks": "inside",
         "tickson": "boundaries",
         "tickvals": [
          1,
          2,
          3,
          4,
          5,
          6,
          7,
          8,
          9,
          10,
          15,
          20,
          25
         ],
         "title": {
          "text": "Time to Maturity (Years)"
         }
        },
        "yaxis": {
         "gridcolor": "rgba(38,38,38,0.15)",
         "linecolor": "Grey",
         "linewidth": 1,
         "showline": true,
         "title": {
          "text": "Yield (%)"
         }
        }
       }
      }
     },
     "metadata": {},
     "output_type": "display_data"
    }
   ],
   "source": [
    "gr.Graph_EstimationVSZero(df_merged,df_merged['Spline Zero-Coupon Yield'],df_merged['Time to Maturity'],df_merged['Model Prediction (BEY)'],'Comparison of Spline-Based Zero-Coupon Yields with Model Predictions','Model BEY')"
   ]
  },
  {
   "cell_type": "markdown",
   "id": "2def5badae0c080d",
   "metadata": {},
   "source": [
    "#### Question 2.3"
   ]
  },
  {
   "cell_type": "code",
   "execution_count": 14,
   "id": "b9c4257ff2671523",
   "metadata": {
    "ExecuteTime": {
     "end_time": "2024-10-29T10:28:09.413110Z",
     "start_time": "2024-10-29T10:28:09.099462Z"
    }
   },
   "outputs": [],
   "source": [
    "#Define parameters for the Cubic Spline interpolation with 2 Knots now\n",
    "DataCubic2 = DBvsYield[DBvsYield['Time to Maturity'].isin([5,20])]\n",
    "X_Cubic = DataCubic2['Time to Maturity']\n",
    "Y_Cubic = DataCubic2['Zero-Coupon Yield']/100\n",
    "\n",
    "cs2 = CubicSpline(X_Cubic, Y_Cubic, bc_type='natural', extrapolate=True)\n",
    "\n",
    "x_newQ2 = maturity_range\n",
    "y_newQ2 = cs2(x_newQ2)*100"
   ]
  },
  {
   "cell_type": "code",
   "execution_count": 15,
   "id": "4721a9ed",
   "metadata": {
    "ExecuteTime": {
     "end_time": "2024-10-29T10:28:09.873239Z",
     "start_time": "2024-10-29T10:28:09.463471Z"
    }
   },
   "outputs": [
    {
     "data": {
      "application/vnd.plotly.v1+json": {
       "config": {
        "plotlyServerURL": "https://plot.ly"
       },
       "data": [
        {
         "marker": {
          "color": "rgb(0, 71, 102)",
          "size": 8
         },
         "mode": "markers",
         "name": "Zero-Coupon Yields",
         "type": "scatter",
         "x": [
          0.5,
          1,
          1.5,
          2,
          2.5,
          3,
          3.5,
          4,
          4.5,
          5,
          5.5,
          6,
          6.5,
          7,
          7.5,
          8,
          8.5,
          9,
          9.5,
          10,
          10.5,
          11,
          11.5,
          12,
          12.5,
          13,
          13.5,
          14,
          14.5,
          15,
          15.5,
          16,
          16.5,
          17,
          17.5,
          18,
          18.5,
          19,
          19.5,
          20,
          20.5,
          21,
          21.5,
          22,
          22.5,
          23,
          23.5,
          24,
          24.5,
          25,
          25.5,
          26
         ],
         "y": [
          0.8975140133952841,
          1.193857624074246,
          1.5750406785273618,
          1.872712674900212,
          2.1796474039821323,
          2.471083666528262,
          2.79431070373497,
          3.0083207311893734,
          3.2540711325878213,
          3.4798434592520078,
          3.656250399038141,
          3.8817130232450037,
          4.076543337951977,
          4.22033079161781,
          4.352036191127384,
          4.486544588554109,
          4.587907613268483,
          4.663953098000073,
          4.69610587080127,
          4.710713178511705,
          4.738867248332834,
          4.928472994544508,
          5.33082226139534,
          5.382521987495759,
          5.463427825344391,
          5.519714061502334,
          5.5750998027986665,
          5.6633621194221995,
          5.674433382705679,
          5.716564734153673,
          5.7903746000884215,
          5.8297101392990935,
          5.8507473934286125,
          5.902296980536459,
          5.916501958949771,
          5.929748893333597,
          5.949503086392305,
          5.95617503285073,
          5.966130672483416,
          5.951192774131808,
          5.939830492761677,
          5.978837053209274,
          6.0016907895611205,
          5.996086220867181,
          5.945526075708729,
          5.982158396770876,
          5.964655314069445,
          5.9602422029392255,
          5.955634185953151,
          5.912715538369984,
          5.878122555322385,
          5.904780645931895
         ]
        },
        {
         "marker": {
          "color": "red",
          "size": 5
         },
         "mode": "lines",
         "name": "Cubic Spline",
         "type": "scatter",
         "x": [
          0.5,
          0.7575757575757576,
          1.0151515151515151,
          1.2727272727272727,
          1.5303030303030303,
          1.7878787878787878,
          2.0454545454545454,
          2.3030303030303028,
          2.5606060606060606,
          2.8181818181818183,
          3.0757575757575757,
          3.333333333333333,
          3.590909090909091,
          3.8484848484848486,
          4.1060606060606055,
          4.363636363636363,
          4.621212121212121,
          4.878787878787879,
          5.136363636363637,
          5.393939393939394,
          5.651515151515151,
          5.909090909090909,
          6.166666666666666,
          6.424242424242424,
          6.681818181818182,
          6.9393939393939394,
          7.196969696969697,
          7.454545454545454,
          7.712121212121212,
          7.96969696969697,
          8.227272727272727,
          8.484848484848484,
          8.742424242424242,
          9,
          9.257575757575758,
          9.515151515151516,
          9.772727272727273,
          10.03030303030303,
          10.287878787878787,
          10.545454545454545,
          10.803030303030303,
          11.06060606060606,
          11.318181818181818,
          11.575757575757576,
          11.833333333333332,
          12.09090909090909,
          12.348484848484848,
          12.606060606060606,
          12.863636363636363,
          13.121212121212121,
          13.378787878787879,
          13.636363636363637,
          13.893939393939394,
          14.15151515151515,
          14.409090909090908,
          14.666666666666666,
          14.924242424242424,
          15.181818181818182,
          15.43939393939394,
          15.696969696969697,
          15.954545454545453,
          16.21212121212121,
          16.46969696969697,
          16.727272727272727,
          16.984848484848484,
          17.242424242424242,
          17.5,
          17.757575757575758,
          18.015151515151516,
          18.272727272727273,
          18.53030303030303,
          18.78787878787879,
          19.045454545454547,
          19.3030303030303,
          19.56060606060606,
          19.818181818181817,
          20.075757575757574,
          20.333333333333332,
          20.59090909090909,
          20.848484848484848,
          21.106060606060606,
          21.363636363636363,
          21.62121212121212,
          21.87878787878788,
          22.136363636363637,
          22.393939393939394,
          22.651515151515152,
          22.90909090909091,
          23.166666666666664,
          23.424242424242422,
          23.68181818181818,
          23.939393939393938,
          24.196969696969695,
          24.454545454545453,
          24.71212121212121,
          24.96969696969697,
          25.227272727272727,
          25.484848484848484,
          25.742424242424242,
          26
         ],
         "y": [
          2.7383800000000003,
          2.7808181818181823,
          2.823256363636364,
          2.8656945454545455,
          2.9081327272727275,
          2.9505709090909096,
          2.993009090909091,
          3.0354472727272728,
          3.077885454545455,
          3.1203236363636364,
          3.162761818181818,
          3.2052000000000005,
          3.247638181818182,
          3.290076363636364,
          3.3325145454545457,
          3.3749527272727273,
          3.4173909090909094,
          3.459829090909091,
          3.5022672727272735,
          3.544705454545455,
          3.587143636363636,
          3.6295818181818187,
          3.6720200000000003,
          3.714458181818182,
          3.756896363636364,
          3.7993345454545455,
          3.8417727272727276,
          3.884210909090909,
          3.9266490909090916,
          3.969087272727273,
          4.011525454545454,
          4.053963636363637,
          4.0964018181818185,
          4.138840000000001,
          4.181278181818183,
          4.223716363636363,
          4.266154545454546,
          4.308592727272727,
          4.351030909090909,
          4.393469090909091,
          4.435907272727273,
          4.478345454545455,
          4.520783636363636,
          4.563221818181819,
          4.60566,
          4.648098181818182,
          4.6905363636363635,
          4.732974545454546,
          4.775412727272728,
          4.817850909090909,
          4.860289090909091,
          4.902727272727273,
          4.945165454545455,
          4.9876036363636365,
          5.030041818181818,
          5.07248,
          5.114918181818181,
          5.157356363636364,
          5.199794545454546,
          5.242232727272728,
          5.284670909090909,
          5.327109090909091,
          5.369547272727273,
          5.411985454545454,
          5.454423636363637,
          5.496861818181818,
          5.5393,
          5.581738181818182,
          5.624176363636364,
          5.666614545454546,
          5.709052727272727,
          5.75149090909091,
          5.793929090909091,
          5.836367272727273,
          5.878805454545455,
          5.921243636363636,
          5.963681818181818,
          6.006119999999999,
          6.048558181818182,
          6.090996363636364,
          6.133434545454546,
          6.175872727272727,
          6.218310909090909,
          6.2607490909090915,
          6.303187272727273,
          6.345625454545455,
          6.388063636363636,
          6.430501818181819,
          6.4729399999999995,
          6.515378181818182,
          6.5578163636363636,
          6.600254545454545,
          6.642692727272727,
          6.685130909090908,
          6.727569090909091,
          6.770007272727272,
          6.812445454545454,
          6.854883636363637,
          6.897321818181817,
          6.939760000000001
         ]
        }
       ],
       "layout": {
        "font": {
         "color": "Black",
         "family": "Time New Roman",
         "size": 15
        },
        "height": 500,
        "legend": {
         "bgcolor": "rgba(255,255,255,0)",
         "xanchor": "left",
         "yanchor": "top"
        },
        "plot_bgcolor": "rgba(255,255,255,1)",
        "template": {
         "data": {
          "bar": [
           {
            "error_x": {
             "color": "#2a3f5f"
            },
            "error_y": {
             "color": "#2a3f5f"
            },
            "marker": {
             "line": {
              "color": "#E5ECF6",
              "width": 0.5
             },
             "pattern": {
              "fillmode": "overlay",
              "size": 10,
              "solidity": 0.2
             }
            },
            "type": "bar"
           }
          ],
          "barpolar": [
           {
            "marker": {
             "line": {
              "color": "#E5ECF6",
              "width": 0.5
             },
             "pattern": {
              "fillmode": "overlay",
              "size": 10,
              "solidity": 0.2
             }
            },
            "type": "barpolar"
           }
          ],
          "carpet": [
           {
            "aaxis": {
             "endlinecolor": "#2a3f5f",
             "gridcolor": "white",
             "linecolor": "white",
             "minorgridcolor": "white",
             "startlinecolor": "#2a3f5f"
            },
            "baxis": {
             "endlinecolor": "#2a3f5f",
             "gridcolor": "white",
             "linecolor": "white",
             "minorgridcolor": "white",
             "startlinecolor": "#2a3f5f"
            },
            "type": "carpet"
           }
          ],
          "choropleth": [
           {
            "colorbar": {
             "outlinewidth": 0,
             "ticks": ""
            },
            "type": "choropleth"
           }
          ],
          "contour": [
           {
            "colorbar": {
             "outlinewidth": 0,
             "ticks": ""
            },
            "colorscale": [
             [
              0,
              "#0d0887"
             ],
             [
              0.1111111111111111,
              "#46039f"
             ],
             [
              0.2222222222222222,
              "#7201a8"
             ],
             [
              0.3333333333333333,
              "#9c179e"
             ],
             [
              0.4444444444444444,
              "#bd3786"
             ],
             [
              0.5555555555555556,
              "#d8576b"
             ],
             [
              0.6666666666666666,
              "#ed7953"
             ],
             [
              0.7777777777777778,
              "#fb9f3a"
             ],
             [
              0.8888888888888888,
              "#fdca26"
             ],
             [
              1,
              "#f0f921"
             ]
            ],
            "type": "contour"
           }
          ],
          "contourcarpet": [
           {
            "colorbar": {
             "outlinewidth": 0,
             "ticks": ""
            },
            "type": "contourcarpet"
           }
          ],
          "heatmap": [
           {
            "colorbar": {
             "outlinewidth": 0,
             "ticks": ""
            },
            "colorscale": [
             [
              0,
              "#0d0887"
             ],
             [
              0.1111111111111111,
              "#46039f"
             ],
             [
              0.2222222222222222,
              "#7201a8"
             ],
             [
              0.3333333333333333,
              "#9c179e"
             ],
             [
              0.4444444444444444,
              "#bd3786"
             ],
             [
              0.5555555555555556,
              "#d8576b"
             ],
             [
              0.6666666666666666,
              "#ed7953"
             ],
             [
              0.7777777777777778,
              "#fb9f3a"
             ],
             [
              0.8888888888888888,
              "#fdca26"
             ],
             [
              1,
              "#f0f921"
             ]
            ],
            "type": "heatmap"
           }
          ],
          "heatmapgl": [
           {
            "colorbar": {
             "outlinewidth": 0,
             "ticks": ""
            },
            "colorscale": [
             [
              0,
              "#0d0887"
             ],
             [
              0.1111111111111111,
              "#46039f"
             ],
             [
              0.2222222222222222,
              "#7201a8"
             ],
             [
              0.3333333333333333,
              "#9c179e"
             ],
             [
              0.4444444444444444,
              "#bd3786"
             ],
             [
              0.5555555555555556,
              "#d8576b"
             ],
             [
              0.6666666666666666,
              "#ed7953"
             ],
             [
              0.7777777777777778,
              "#fb9f3a"
             ],
             [
              0.8888888888888888,
              "#fdca26"
             ],
             [
              1,
              "#f0f921"
             ]
            ],
            "type": "heatmapgl"
           }
          ],
          "histogram": [
           {
            "marker": {
             "pattern": {
              "fillmode": "overlay",
              "size": 10,
              "solidity": 0.2
             }
            },
            "type": "histogram"
           }
          ],
          "histogram2d": [
           {
            "colorbar": {
             "outlinewidth": 0,
             "ticks": ""
            },
            "colorscale": [
             [
              0,
              "#0d0887"
             ],
             [
              0.1111111111111111,
              "#46039f"
             ],
             [
              0.2222222222222222,
              "#7201a8"
             ],
             [
              0.3333333333333333,
              "#9c179e"
             ],
             [
              0.4444444444444444,
              "#bd3786"
             ],
             [
              0.5555555555555556,
              "#d8576b"
             ],
             [
              0.6666666666666666,
              "#ed7953"
             ],
             [
              0.7777777777777778,
              "#fb9f3a"
             ],
             [
              0.8888888888888888,
              "#fdca26"
             ],
             [
              1,
              "#f0f921"
             ]
            ],
            "type": "histogram2d"
           }
          ],
          "histogram2dcontour": [
           {
            "colorbar": {
             "outlinewidth": 0,
             "ticks": ""
            },
            "colorscale": [
             [
              0,
              "#0d0887"
             ],
             [
              0.1111111111111111,
              "#46039f"
             ],
             [
              0.2222222222222222,
              "#7201a8"
             ],
             [
              0.3333333333333333,
              "#9c179e"
             ],
             [
              0.4444444444444444,
              "#bd3786"
             ],
             [
              0.5555555555555556,
              "#d8576b"
             ],
             [
              0.6666666666666666,
              "#ed7953"
             ],
             [
              0.7777777777777778,
              "#fb9f3a"
             ],
             [
              0.8888888888888888,
              "#fdca26"
             ],
             [
              1,
              "#f0f921"
             ]
            ],
            "type": "histogram2dcontour"
           }
          ],
          "mesh3d": [
           {
            "colorbar": {
             "outlinewidth": 0,
             "ticks": ""
            },
            "type": "mesh3d"
           }
          ],
          "parcoords": [
           {
            "line": {
             "colorbar": {
              "outlinewidth": 0,
              "ticks": ""
             }
            },
            "type": "parcoords"
           }
          ],
          "pie": [
           {
            "automargin": true,
            "type": "pie"
           }
          ],
          "scatter": [
           {
            "fillpattern": {
             "fillmode": "overlay",
             "size": 10,
             "solidity": 0.2
            },
            "type": "scatter"
           }
          ],
          "scatter3d": [
           {
            "line": {
             "colorbar": {
              "outlinewidth": 0,
              "ticks": ""
             }
            },
            "marker": {
             "colorbar": {
              "outlinewidth": 0,
              "ticks": ""
             }
            },
            "type": "scatter3d"
           }
          ],
          "scattercarpet": [
           {
            "marker": {
             "colorbar": {
              "outlinewidth": 0,
              "ticks": ""
             }
            },
            "type": "scattercarpet"
           }
          ],
          "scattergeo": [
           {
            "marker": {
             "colorbar": {
              "outlinewidth": 0,
              "ticks": ""
             }
            },
            "type": "scattergeo"
           }
          ],
          "scattergl": [
           {
            "marker": {
             "colorbar": {
              "outlinewidth": 0,
              "ticks": ""
             }
            },
            "type": "scattergl"
           }
          ],
          "scattermapbox": [
           {
            "marker": {
             "colorbar": {
              "outlinewidth": 0,
              "ticks": ""
             }
            },
            "type": "scattermapbox"
           }
          ],
          "scatterpolar": [
           {
            "marker": {
             "colorbar": {
              "outlinewidth": 0,
              "ticks": ""
             }
            },
            "type": "scatterpolar"
           }
          ],
          "scatterpolargl": [
           {
            "marker": {
             "colorbar": {
              "outlinewidth": 0,
              "ticks": ""
             }
            },
            "type": "scatterpolargl"
           }
          ],
          "scatterternary": [
           {
            "marker": {
             "colorbar": {
              "outlinewidth": 0,
              "ticks": ""
             }
            },
            "type": "scatterternary"
           }
          ],
          "surface": [
           {
            "colorbar": {
             "outlinewidth": 0,
             "ticks": ""
            },
            "colorscale": [
             [
              0,
              "#0d0887"
             ],
             [
              0.1111111111111111,
              "#46039f"
             ],
             [
              0.2222222222222222,
              "#7201a8"
             ],
             [
              0.3333333333333333,
              "#9c179e"
             ],
             [
              0.4444444444444444,
              "#bd3786"
             ],
             [
              0.5555555555555556,
              "#d8576b"
             ],
             [
              0.6666666666666666,
              "#ed7953"
             ],
             [
              0.7777777777777778,
              "#fb9f3a"
             ],
             [
              0.8888888888888888,
              "#fdca26"
             ],
             [
              1,
              "#f0f921"
             ]
            ],
            "type": "surface"
           }
          ],
          "table": [
           {
            "cells": {
             "fill": {
              "color": "#EBF0F8"
             },
             "line": {
              "color": "white"
             }
            },
            "header": {
             "fill": {
              "color": "#C8D4E3"
             },
             "line": {
              "color": "white"
             }
            },
            "type": "table"
           }
          ]
         },
         "layout": {
          "annotationdefaults": {
           "arrowcolor": "#2a3f5f",
           "arrowhead": 0,
           "arrowwidth": 1
          },
          "autotypenumbers": "strict",
          "coloraxis": {
           "colorbar": {
            "outlinewidth": 0,
            "ticks": ""
           }
          },
          "colorscale": {
           "diverging": [
            [
             0,
             "#8e0152"
            ],
            [
             0.1,
             "#c51b7d"
            ],
            [
             0.2,
             "#de77ae"
            ],
            [
             0.3,
             "#f1b6da"
            ],
            [
             0.4,
             "#fde0ef"
            ],
            [
             0.5,
             "#f7f7f7"
            ],
            [
             0.6,
             "#e6f5d0"
            ],
            [
             0.7,
             "#b8e186"
            ],
            [
             0.8,
             "#7fbc41"
            ],
            [
             0.9,
             "#4d9221"
            ],
            [
             1,
             "#276419"
            ]
           ],
           "sequential": [
            [
             0,
             "#0d0887"
            ],
            [
             0.1111111111111111,
             "#46039f"
            ],
            [
             0.2222222222222222,
             "#7201a8"
            ],
            [
             0.3333333333333333,
             "#9c179e"
            ],
            [
             0.4444444444444444,
             "#bd3786"
            ],
            [
             0.5555555555555556,
             "#d8576b"
            ],
            [
             0.6666666666666666,
             "#ed7953"
            ],
            [
             0.7777777777777778,
             "#fb9f3a"
            ],
            [
             0.8888888888888888,
             "#fdca26"
            ],
            [
             1,
             "#f0f921"
            ]
           ],
           "sequentialminus": [
            [
             0,
             "#0d0887"
            ],
            [
             0.1111111111111111,
             "#46039f"
            ],
            [
             0.2222222222222222,
             "#7201a8"
            ],
            [
             0.3333333333333333,
             "#9c179e"
            ],
            [
             0.4444444444444444,
             "#bd3786"
            ],
            [
             0.5555555555555556,
             "#d8576b"
            ],
            [
             0.6666666666666666,
             "#ed7953"
            ],
            [
             0.7777777777777778,
             "#fb9f3a"
            ],
            [
             0.8888888888888888,
             "#fdca26"
            ],
            [
             1,
             "#f0f921"
            ]
           ]
          },
          "colorway": [
           "#636efa",
           "#EF553B",
           "#00cc96",
           "#ab63fa",
           "#FFA15A",
           "#19d3f3",
           "#FF6692",
           "#B6E880",
           "#FF97FF",
           "#FECB52"
          ],
          "font": {
           "color": "#2a3f5f"
          },
          "geo": {
           "bgcolor": "white",
           "lakecolor": "white",
           "landcolor": "#E5ECF6",
           "showlakes": true,
           "showland": true,
           "subunitcolor": "white"
          },
          "hoverlabel": {
           "align": "left"
          },
          "hovermode": "closest",
          "mapbox": {
           "style": "light"
          },
          "paper_bgcolor": "white",
          "plot_bgcolor": "#E5ECF6",
          "polar": {
           "angularaxis": {
            "gridcolor": "white",
            "linecolor": "white",
            "ticks": ""
           },
           "bgcolor": "#E5ECF6",
           "radialaxis": {
            "gridcolor": "white",
            "linecolor": "white",
            "ticks": ""
           }
          },
          "scene": {
           "xaxis": {
            "backgroundcolor": "#E5ECF6",
            "gridcolor": "white",
            "gridwidth": 2,
            "linecolor": "white",
            "showbackground": true,
            "ticks": "",
            "zerolinecolor": "white"
           },
           "yaxis": {
            "backgroundcolor": "#E5ECF6",
            "gridcolor": "white",
            "gridwidth": 2,
            "linecolor": "white",
            "showbackground": true,
            "ticks": "",
            "zerolinecolor": "white"
           },
           "zaxis": {
            "backgroundcolor": "#E5ECF6",
            "gridcolor": "white",
            "gridwidth": 2,
            "linecolor": "white",
            "showbackground": true,
            "ticks": "",
            "zerolinecolor": "white"
           }
          },
          "shapedefaults": {
           "line": {
            "color": "#2a3f5f"
           }
          },
          "ternary": {
           "aaxis": {
            "gridcolor": "white",
            "linecolor": "white",
            "ticks": ""
           },
           "baxis": {
            "gridcolor": "white",
            "linecolor": "white",
            "ticks": ""
           },
           "bgcolor": "#E5ECF6",
           "caxis": {
            "gridcolor": "white",
            "linecolor": "white",
            "ticks": ""
           }
          },
          "title": {
           "x": 0.05
          },
          "xaxis": {
           "automargin": true,
           "gridcolor": "white",
           "linecolor": "white",
           "ticks": "",
           "title": {
            "standoff": 15
           },
           "zerolinecolor": "white",
           "zerolinewidth": 2
          },
          "yaxis": {
           "automargin": true,
           "gridcolor": "white",
           "linecolor": "white",
           "ticks": "",
           "title": {
            "standoff": 15
           },
           "zerolinecolor": "white",
           "zerolinewidth": 2
          }
         }
        },
        "title": {
         "text": "Zero-Coupon Yield Curve, 2 nods Cubic Spline",
         "x": 0.5
        },
        "width": 900,
        "xaxis": {
         "linecolor": "black",
         "linewidth": 1,
         "range": [
          0,
          27
         ],
         "showline": true,
         "ticklen": 5,
         "ticks": "inside",
         "tickson": "boundaries",
         "tickvals": [
          1,
          2,
          3,
          4,
          5,
          6,
          7,
          8,
          9,
          10,
          15,
          20,
          25
         ],
         "title": {
          "text": "Time to Maturity (Years)"
         }
        },
        "yaxis": {
         "gridcolor": "rgba(38,38,38,0.15)",
         "linecolor": "Grey",
         "linewidth": 1,
         "showline": true,
         "title": {
          "text": "Yield (%)"
         }
        }
       }
      }
     },
     "metadata": {},
     "output_type": "display_data"
    }
   ],
   "source": [
    "gr.Graph_EstimationVSZero(Yield,Yield['Zero-Coupon Yield'],x_newQ2,y_newQ2,'Zero-Coupon Yield Curve, 2 nods Cubic Spline','Cubic Spline')"
   ]
  },
  {
   "cell_type": "code",
   "execution_count": 16,
   "id": "2ebacc48",
   "metadata": {
    "ExecuteTime": {
     "end_time": "2024-10-29T10:28:10.449676Z",
     "start_time": "2024-10-29T10:28:09.977796Z"
    }
   },
   "outputs": [
    {
     "data": {
      "application/vnd.plotly.v1+json": {
       "config": {
        "plotlyServerURL": "https://plot.ly"
       },
       "data": [
        {
         "marker": {
          "color": "rgb(0, 71, 102)",
          "size": 8
         },
         "mode": "lines",
         "name": "Discount Function Cubic Splines",
         "type": "scatter",
         "x": [
          0.5,
          0.7575757575757576,
          1.0151515151515151,
          1.2727272727272727,
          1.5303030303030303,
          1.7878787878787878,
          2.0454545454545454,
          2.3030303030303028,
          2.5606060606060606,
          2.8181818181818183,
          3.0757575757575757,
          3.333333333333333,
          3.590909090909091,
          3.8484848484848486,
          4.1060606060606055,
          4.363636363636363,
          4.621212121212121,
          4.878787878787879,
          5.136363636363637,
          5.393939393939394,
          5.651515151515151,
          5.909090909090909,
          6.166666666666666,
          6.424242424242424,
          6.681818181818182,
          6.9393939393939394,
          7.196969696969697,
          7.454545454545454,
          7.712121212121212,
          7.96969696969697,
          8.227272727272727,
          8.484848484848484,
          8.742424242424242,
          9,
          9.257575757575758,
          9.515151515151516,
          9.772727272727273,
          10.03030303030303,
          10.287878787878787,
          10.545454545454545,
          10.803030303030303,
          11.06060606060606,
          11.318181818181818,
          11.575757575757576,
          11.833333333333332,
          12.09090909090909,
          12.348484848484848,
          12.606060606060606,
          12.863636363636363,
          13.121212121212121,
          13.378787878787879,
          13.636363636363637,
          13.893939393939394,
          14.15151515151515,
          14.409090909090908,
          14.666666666666666,
          14.924242424242424,
          15.181818181818182,
          15.43939393939394,
          15.696969696969697,
          15.954545454545453,
          16.21212121212121,
          16.46969696969697,
          16.727272727272727,
          16.984848484848484,
          17.242424242424242,
          17.5,
          17.757575757575758,
          18.015151515151516,
          18.272727272727273,
          18.53030303030303,
          18.78787878787879,
          19.045454545454547,
          19.3030303030303,
          19.56060606060606,
          19.818181818181817,
          20.075757575757574,
          20.333333333333332,
          20.59090909090909,
          20.848484848484848,
          21.106060606060606,
          21.363636363636363,
          21.62121212121212,
          21.87878787878788,
          22.136363636363637,
          22.393939393939394,
          22.651515151515152,
          22.90909090909091,
          23.166666666666664,
          23.424242424242422,
          23.68181818181818,
          23.939393939393938,
          24.196969696969695,
          24.454545454545453,
          24.71212121212121,
          24.96969696969697,
          25.227272727272727,
          25.484848484848484,
          25.742424242424242,
          26
         ],
         "y": [
          0.9950227951173798,
          0.9914007126273054,
          0.9870390648987394,
          0.9819334636894808,
          0.9760882033042536,
          0.9695160471728774,
          0.9622379326654136,
          0.9542825989757464,
          0.9456861451202915,
          0.9364915270617631,
          0.9267480046368168,
          0.9165105503108814,
          0.9058392327872128,
          0.8947985891580479,
          0.8834569996156925,
          0.8718860787663394,
          0.8601600973474731,
          0.8483554476903887,
          0.8365489614124526,
          0.8247934879716223,
          0.8131154721117213,
          0.8015351397555391,
          0.7900676435792963,
          0.7787233856157577,
          0.7675083301303324,
          0.7564243053930508,
          0.7454692937881583,
          0.7346377104228774,
          0.7239206710250778,
          0.7133062504625853,
          0.7027797336804524,
          0.6923238612409504,
          0.6819190719671593,
          0.67154374543588,
          0.6611744472382594,
          0.6507861800243264,
          0.6403526433661296,
          0.629846518278948,
          0.6192508125951076,
          0.6085798538740919,
          0.5978542909046999,
          0.587095532928237,
          0.5763255753865284,
          0.5655668322132567,
          0.5548419763259048,
          0.5441737898646145,
          0.533585025594342,
          0.5230982807423629,
          0.512735884389675,
          0.5025197993770371,
          0.4924715395294342,
          0.48261210285156486,
          0.4729619212063065,
          0.4635408268624907,
          0.45436803619222166,
          0.4454621507151766,
          0.436841175631925,
          0.42852087260336574,
          0.420499526932041,
          0.4127653099174084,
          0.4053061304468312,
          0.3981097891256178,
          0.39116400543206586,
          0.384456440558059,
          0.37797471650565523,
          0.37170643198970016,
          0.36563917567713666,
          0.3597605372758194,
          0.35405811696903244,
          0.34851953367673744,
          0.3431324326104514,
          0.3378844925755961,
          0.33276343346261217,
          0.3277570243559216,
          0.32285309267733275,
          0.31803953476726665,
          0.31330432829262855,
          0.30863554685356764,
          0.3040213771421063,
          0.2994501389828676,
          0.2949103085591511,
          0.29039054509556816,
          0.28587972123058375,
          0.28136695726783434,
          0.27684165944324374,
          0.2722935622852385,
          0.26771277507701613,
          0.26308983235280436,
          0.25841574827383534,
          0.2536820746348026,
          0.24888096214791544,
          0.24400522454031337,
          0.23904840488241477,
          0.2340048434414829,
          0.22886974622813033,
          0.2236392532762505,
          0.21831050557182013,
          0.21288170942676807,
          0.20735219698444576,
          0.20172248144759622
         ]
        },
        {
         "marker": {
          "color": "rgb(255, 0, 0)",
          "size": 8
         },
         "mode": "lines",
         "name": "Q2.3 Discount Function Cubic Splines",
         "type": "scatter",
         "x": [
          0.5,
          0.7575757575757576,
          1.0151515151515151,
          1.2727272727272727,
          1.5303030303030303,
          1.7878787878787878,
          2.0454545454545454,
          2.3030303030303028,
          2.5606060606060606,
          2.8181818181818183,
          3.0757575757575757,
          3.333333333333333,
          3.590909090909091,
          3.8484848484848486,
          4.1060606060606055,
          4.363636363636363,
          4.621212121212121,
          4.878787878787879,
          5.136363636363637,
          5.393939393939394,
          5.651515151515151,
          5.909090909090909,
          6.166666666666666,
          6.424242424242424,
          6.681818181818182,
          6.9393939393939394,
          7.196969696969697,
          7.454545454545454,
          7.712121212121212,
          7.96969696969697,
          8.227272727272727,
          8.484848484848484,
          8.742424242424242,
          9,
          9.257575757575758,
          9.515151515151516,
          9.772727272727273,
          10.03030303030303,
          10.287878787878787,
          10.545454545454545,
          10.803030303030303,
          11.06060606060606,
          11.318181818181818,
          11.575757575757576,
          11.833333333333332,
          12.09090909090909,
          12.348484848484848,
          12.606060606060606,
          12.863636363636363,
          13.121212121212121,
          13.378787878787879,
          13.636363636363637,
          13.893939393939394,
          14.15151515151515,
          14.409090909090908,
          14.666666666666666,
          14.924242424242424,
          15.181818181818182,
          15.43939393939394,
          15.696969696969697,
          15.954545454545453,
          16.21212121212121,
          16.46969696969697,
          16.727272727272727,
          16.984848484848484,
          17.242424242424242,
          17.5,
          17.757575757575758,
          18.015151515151516,
          18.272727272727273,
          18.53030303030303,
          18.78787878787879,
          19.045454545454547,
          19.3030303030303,
          19.56060606060606,
          19.818181818181817,
          20.075757575757574,
          20.333333333333332,
          20.59090909090909,
          20.848484848484848,
          21.106060606060606,
          21.363636363636363,
          21.62121212121212,
          21.87878787878788,
          22.136363636363637,
          22.393939393939394,
          22.651515151515152,
          22.90909090909091,
          23.166666666666664,
          23.424242424242422,
          23.68181818181818,
          23.939393939393938,
          24.196969696969695,
          24.454545454545453,
          24.71212121212121,
          24.96969696969697,
          25.227272727272727,
          25.484848484848484,
          25.742424242424242,
          26
         ],
         "y": [
          0.9865830352610203,
          0.9794351910397616,
          0.9721324585140928,
          0.964679212334716,
          0.9570798865894315,
          0.9493389704837477,
          0.9414610040028247,
          0.9334505735604901,
          0.9253123076410222,
          0.9170508724393628,
          0.908670967505339,
          0.9001773213974416,
          0.8915746873515917,
          0.8828678389702914,
          0.8740615659374102,
          0.8651606697638088,
          0.8561699595688637,
          0.8470942479028443,
          0.8379383466149971,
          0.8287070627720223,
          0.8194051946315442,
          0.8100375276749783,
          0.8006088307041183,
          0.7911238520055427,
          0.7815873155868571,
          0.7720039174885581,
          0.7623783221751997,
          0.7527151590093368,
          0.7430190188115473,
          0.7332944505096991,
          0.7235459578803849,
          0.7137779963853403,
          0.703994970105406,
          0.6942012287744816,
          0.6844010649156622,
          0.6745987110816356,
          0.6647983372011592,
          0.6550040480333132,
          0.6452198807310023,
          0.6354498025149865,
          0.625697708459588,
          0.615967419390959,
          0.6062626798987022,
          0.5965871564613647,
          0.5869444356862412,
          0.5773380226636543,
          0.567771339435792,
          0.5582477235799591,
          0.5487704269059337,
          0.5393426142670139,
          0.5299673624840903,
          0.5206476593820282,
          0.5113864029373908,
          0.5021864005364897,
          0.4930503683425093,
          0.48398093077040594,
          0.47498062006809105,
          0.46605187600228876,
          0.45719704564738567,
          0.4484183832753938,
          0.43971805034513095,
          0.4310981155885228,
          0.42256055519192876,
          0.4141072530702055,
          0.40574000123122766,
          0.39746050022841467,
          0.389270359698816,
          0.38117109898418805,
          0.37316414783243146,
          0.3652508471767503,
          0.35743244998976254,
          0.3497101222098321,
          0.3420849437367655,
          0.3345579094940669,
          0.32712993055482775,
          0.3198018353283945,
          0.3125743708048462,
          0.30544820385438487,
          0.29842392257867834,
          0.2915020377111974,
          0.28468298406363535,
          0.27796712201543033,
          0.2713547390435071,
          0.2648460512892838,
          0.25844120516009617,
          0.25214027896213337,
          0.24594328456207906,
          0.2398501690746414,
          0.23386081657319144,
          0.22797504982081135,
          0.2221926320190321,
          0.21651326857165815,
          0.21093660886105536,
          0.20546224803440205,
          0.2000897287973886,
          0.19481854321297035,
          0.18964813450280063,
          0.18457789884903467,
          0.17960718719429375,
          0.17473530703759046
         ]
        }
       ],
       "layout": {
        "font": {
         "color": "Black",
         "family": "Time New Roman",
         "size": 15
        },
        "height": 500,
        "legend": {
         "bgcolor": "rgba(0, 0, 0, 0)"
        },
        "plot_bgcolor": "rgba(0,0,0,0)",
        "showlegend": true,
        "template": {
         "data": {
          "bar": [
           {
            "error_x": {
             "color": "#2a3f5f"
            },
            "error_y": {
             "color": "#2a3f5f"
            },
            "marker": {
             "line": {
              "color": "#E5ECF6",
              "width": 0.5
             },
             "pattern": {
              "fillmode": "overlay",
              "size": 10,
              "solidity": 0.2
             }
            },
            "type": "bar"
           }
          ],
          "barpolar": [
           {
            "marker": {
             "line": {
              "color": "#E5ECF6",
              "width": 0.5
             },
             "pattern": {
              "fillmode": "overlay",
              "size": 10,
              "solidity": 0.2
             }
            },
            "type": "barpolar"
           }
          ],
          "carpet": [
           {
            "aaxis": {
             "endlinecolor": "#2a3f5f",
             "gridcolor": "white",
             "linecolor": "white",
             "minorgridcolor": "white",
             "startlinecolor": "#2a3f5f"
            },
            "baxis": {
             "endlinecolor": "#2a3f5f",
             "gridcolor": "white",
             "linecolor": "white",
             "minorgridcolor": "white",
             "startlinecolor": "#2a3f5f"
            },
            "type": "carpet"
           }
          ],
          "choropleth": [
           {
            "colorbar": {
             "outlinewidth": 0,
             "ticks": ""
            },
            "type": "choropleth"
           }
          ],
          "contour": [
           {
            "colorbar": {
             "outlinewidth": 0,
             "ticks": ""
            },
            "colorscale": [
             [
              0,
              "#0d0887"
             ],
             [
              0.1111111111111111,
              "#46039f"
             ],
             [
              0.2222222222222222,
              "#7201a8"
             ],
             [
              0.3333333333333333,
              "#9c179e"
             ],
             [
              0.4444444444444444,
              "#bd3786"
             ],
             [
              0.5555555555555556,
              "#d8576b"
             ],
             [
              0.6666666666666666,
              "#ed7953"
             ],
             [
              0.7777777777777778,
              "#fb9f3a"
             ],
             [
              0.8888888888888888,
              "#fdca26"
             ],
             [
              1,
              "#f0f921"
             ]
            ],
            "type": "contour"
           }
          ],
          "contourcarpet": [
           {
            "colorbar": {
             "outlinewidth": 0,
             "ticks": ""
            },
            "type": "contourcarpet"
           }
          ],
          "heatmap": [
           {
            "colorbar": {
             "outlinewidth": 0,
             "ticks": ""
            },
            "colorscale": [
             [
              0,
              "#0d0887"
             ],
             [
              0.1111111111111111,
              "#46039f"
             ],
             [
              0.2222222222222222,
              "#7201a8"
             ],
             [
              0.3333333333333333,
              "#9c179e"
             ],
             [
              0.4444444444444444,
              "#bd3786"
             ],
             [
              0.5555555555555556,
              "#d8576b"
             ],
             [
              0.6666666666666666,
              "#ed7953"
             ],
             [
              0.7777777777777778,
              "#fb9f3a"
             ],
             [
              0.8888888888888888,
              "#fdca26"
             ],
             [
              1,
              "#f0f921"
             ]
            ],
            "type": "heatmap"
           }
          ],
          "heatmapgl": [
           {
            "colorbar": {
             "outlinewidth": 0,
             "ticks": ""
            },
            "colorscale": [
             [
              0,
              "#0d0887"
             ],
             [
              0.1111111111111111,
              "#46039f"
             ],
             [
              0.2222222222222222,
              "#7201a8"
             ],
             [
              0.3333333333333333,
              "#9c179e"
             ],
             [
              0.4444444444444444,
              "#bd3786"
             ],
             [
              0.5555555555555556,
              "#d8576b"
             ],
             [
              0.6666666666666666,
              "#ed7953"
             ],
             [
              0.7777777777777778,
              "#fb9f3a"
             ],
             [
              0.8888888888888888,
              "#fdca26"
             ],
             [
              1,
              "#f0f921"
             ]
            ],
            "type": "heatmapgl"
           }
          ],
          "histogram": [
           {
            "marker": {
             "pattern": {
              "fillmode": "overlay",
              "size": 10,
              "solidity": 0.2
             }
            },
            "type": "histogram"
           }
          ],
          "histogram2d": [
           {
            "colorbar": {
             "outlinewidth": 0,
             "ticks": ""
            },
            "colorscale": [
             [
              0,
              "#0d0887"
             ],
             [
              0.1111111111111111,
              "#46039f"
             ],
             [
              0.2222222222222222,
              "#7201a8"
             ],
             [
              0.3333333333333333,
              "#9c179e"
             ],
             [
              0.4444444444444444,
              "#bd3786"
             ],
             [
              0.5555555555555556,
              "#d8576b"
             ],
             [
              0.6666666666666666,
              "#ed7953"
             ],
             [
              0.7777777777777778,
              "#fb9f3a"
             ],
             [
              0.8888888888888888,
              "#fdca26"
             ],
             [
              1,
              "#f0f921"
             ]
            ],
            "type": "histogram2d"
           }
          ],
          "histogram2dcontour": [
           {
            "colorbar": {
             "outlinewidth": 0,
             "ticks": ""
            },
            "colorscale": [
             [
              0,
              "#0d0887"
             ],
             [
              0.1111111111111111,
              "#46039f"
             ],
             [
              0.2222222222222222,
              "#7201a8"
             ],
             [
              0.3333333333333333,
              "#9c179e"
             ],
             [
              0.4444444444444444,
              "#bd3786"
             ],
             [
              0.5555555555555556,
              "#d8576b"
             ],
             [
              0.6666666666666666,
              "#ed7953"
             ],
             [
              0.7777777777777778,
              "#fb9f3a"
             ],
             [
              0.8888888888888888,
              "#fdca26"
             ],
             [
              1,
              "#f0f921"
             ]
            ],
            "type": "histogram2dcontour"
           }
          ],
          "mesh3d": [
           {
            "colorbar": {
             "outlinewidth": 0,
             "ticks": ""
            },
            "type": "mesh3d"
           }
          ],
          "parcoords": [
           {
            "line": {
             "colorbar": {
              "outlinewidth": 0,
              "ticks": ""
             }
            },
            "type": "parcoords"
           }
          ],
          "pie": [
           {
            "automargin": true,
            "type": "pie"
           }
          ],
          "scatter": [
           {
            "fillpattern": {
             "fillmode": "overlay",
             "size": 10,
             "solidity": 0.2
            },
            "type": "scatter"
           }
          ],
          "scatter3d": [
           {
            "line": {
             "colorbar": {
              "outlinewidth": 0,
              "ticks": ""
             }
            },
            "marker": {
             "colorbar": {
              "outlinewidth": 0,
              "ticks": ""
             }
            },
            "type": "scatter3d"
           }
          ],
          "scattercarpet": [
           {
            "marker": {
             "colorbar": {
              "outlinewidth": 0,
              "ticks": ""
             }
            },
            "type": "scattercarpet"
           }
          ],
          "scattergeo": [
           {
            "marker": {
             "colorbar": {
              "outlinewidth": 0,
              "ticks": ""
             }
            },
            "type": "scattergeo"
           }
          ],
          "scattergl": [
           {
            "marker": {
             "colorbar": {
              "outlinewidth": 0,
              "ticks": ""
             }
            },
            "type": "scattergl"
           }
          ],
          "scattermapbox": [
           {
            "marker": {
             "colorbar": {
              "outlinewidth": 0,
              "ticks": ""
             }
            },
            "type": "scattermapbox"
           }
          ],
          "scatterpolar": [
           {
            "marker": {
             "colorbar": {
              "outlinewidth": 0,
              "ticks": ""
             }
            },
            "type": "scatterpolar"
           }
          ],
          "scatterpolargl": [
           {
            "marker": {
             "colorbar": {
              "outlinewidth": 0,
              "ticks": ""
             }
            },
            "type": "scatterpolargl"
           }
          ],
          "scatterternary": [
           {
            "marker": {
             "colorbar": {
              "outlinewidth": 0,
              "ticks": ""
             }
            },
            "type": "scatterternary"
           }
          ],
          "surface": [
           {
            "colorbar": {
             "outlinewidth": 0,
             "ticks": ""
            },
            "colorscale": [
             [
              0,
              "#0d0887"
             ],
             [
              0.1111111111111111,
              "#46039f"
             ],
             [
              0.2222222222222222,
              "#7201a8"
             ],
             [
              0.3333333333333333,
              "#9c179e"
             ],
             [
              0.4444444444444444,
              "#bd3786"
             ],
             [
              0.5555555555555556,
              "#d8576b"
             ],
             [
              0.6666666666666666,
              "#ed7953"
             ],
             [
              0.7777777777777778,
              "#fb9f3a"
             ],
             [
              0.8888888888888888,
              "#fdca26"
             ],
             [
              1,
              "#f0f921"
             ]
            ],
            "type": "surface"
           }
          ],
          "table": [
           {
            "cells": {
             "fill": {
              "color": "#EBF0F8"
             },
             "line": {
              "color": "white"
             }
            },
            "header": {
             "fill": {
              "color": "#C8D4E3"
             },
             "line": {
              "color": "white"
             }
            },
            "type": "table"
           }
          ]
         },
         "layout": {
          "annotationdefaults": {
           "arrowcolor": "#2a3f5f",
           "arrowhead": 0,
           "arrowwidth": 1
          },
          "autotypenumbers": "strict",
          "coloraxis": {
           "colorbar": {
            "outlinewidth": 0,
            "ticks": ""
           }
          },
          "colorscale": {
           "diverging": [
            [
             0,
             "#8e0152"
            ],
            [
             0.1,
             "#c51b7d"
            ],
            [
             0.2,
             "#de77ae"
            ],
            [
             0.3,
             "#f1b6da"
            ],
            [
             0.4,
             "#fde0ef"
            ],
            [
             0.5,
             "#f7f7f7"
            ],
            [
             0.6,
             "#e6f5d0"
            ],
            [
             0.7,
             "#b8e186"
            ],
            [
             0.8,
             "#7fbc41"
            ],
            [
             0.9,
             "#4d9221"
            ],
            [
             1,
             "#276419"
            ]
           ],
           "sequential": [
            [
             0,
             "#0d0887"
            ],
            [
             0.1111111111111111,
             "#46039f"
            ],
            [
             0.2222222222222222,
             "#7201a8"
            ],
            [
             0.3333333333333333,
             "#9c179e"
            ],
            [
             0.4444444444444444,
             "#bd3786"
            ],
            [
             0.5555555555555556,
             "#d8576b"
            ],
            [
             0.6666666666666666,
             "#ed7953"
            ],
            [
             0.7777777777777778,
             "#fb9f3a"
            ],
            [
             0.8888888888888888,
             "#fdca26"
            ],
            [
             1,
             "#f0f921"
            ]
           ],
           "sequentialminus": [
            [
             0,
             "#0d0887"
            ],
            [
             0.1111111111111111,
             "#46039f"
            ],
            [
             0.2222222222222222,
             "#7201a8"
            ],
            [
             0.3333333333333333,
             "#9c179e"
            ],
            [
             0.4444444444444444,
             "#bd3786"
            ],
            [
             0.5555555555555556,
             "#d8576b"
            ],
            [
             0.6666666666666666,
             "#ed7953"
            ],
            [
             0.7777777777777778,
             "#fb9f3a"
            ],
            [
             0.8888888888888888,
             "#fdca26"
            ],
            [
             1,
             "#f0f921"
            ]
           ]
          },
          "colorway": [
           "#636efa",
           "#EF553B",
           "#00cc96",
           "#ab63fa",
           "#FFA15A",
           "#19d3f3",
           "#FF6692",
           "#B6E880",
           "#FF97FF",
           "#FECB52"
          ],
          "font": {
           "color": "#2a3f5f"
          },
          "geo": {
           "bgcolor": "white",
           "lakecolor": "white",
           "landcolor": "#E5ECF6",
           "showlakes": true,
           "showland": true,
           "subunitcolor": "white"
          },
          "hoverlabel": {
           "align": "left"
          },
          "hovermode": "closest",
          "mapbox": {
           "style": "light"
          },
          "paper_bgcolor": "white",
          "plot_bgcolor": "#E5ECF6",
          "polar": {
           "angularaxis": {
            "gridcolor": "white",
            "linecolor": "white",
            "ticks": ""
           },
           "bgcolor": "#E5ECF6",
           "radialaxis": {
            "gridcolor": "white",
            "linecolor": "white",
            "ticks": ""
           }
          },
          "scene": {
           "xaxis": {
            "backgroundcolor": "#E5ECF6",
            "gridcolor": "white",
            "gridwidth": 2,
            "linecolor": "white",
            "showbackground": true,
            "ticks": "",
            "zerolinecolor": "white"
           },
           "yaxis": {
            "backgroundcolor": "#E5ECF6",
            "gridcolor": "white",
            "gridwidth": 2,
            "linecolor": "white",
            "showbackground": true,
            "ticks": "",
            "zerolinecolor": "white"
           },
           "zaxis": {
            "backgroundcolor": "#E5ECF6",
            "gridcolor": "white",
            "gridwidth": 2,
            "linecolor": "white",
            "showbackground": true,
            "ticks": "",
            "zerolinecolor": "white"
           }
          },
          "shapedefaults": {
           "line": {
            "color": "#2a3f5f"
           }
          },
          "ternary": {
           "aaxis": {
            "gridcolor": "white",
            "linecolor": "white",
            "ticks": ""
           },
           "baxis": {
            "gridcolor": "white",
            "linecolor": "white",
            "ticks": ""
           },
           "bgcolor": "#E5ECF6",
           "caxis": {
            "gridcolor": "white",
            "linecolor": "white",
            "ticks": ""
           }
          },
          "title": {
           "x": 0.05
          },
          "xaxis": {
           "automargin": true,
           "gridcolor": "white",
           "linecolor": "white",
           "ticks": "",
           "title": {
            "standoff": 15
           },
           "zerolinecolor": "white",
           "zerolinewidth": 2
          },
          "yaxis": {
           "automargin": true,
           "gridcolor": "white",
           "linecolor": "white",
           "ticks": "",
           "title": {
            "standoff": 15
           },
           "zerolinecolor": "white",
           "zerolinewidth": 2
          }
         }
        },
        "title": {
         "text": "Q2.3 Discount Function (Cubic Splines)",
         "x": 0.5
        },
        "width": 900,
        "xaxis": {
         "linecolor": "black",
         "linewidth": 1,
         "range": [
          0,
          27
         ],
         "showline": true,
         "ticklen": 5,
         "ticks": "inside",
         "tickson": "boundaries",
         "tickvals": [
          1,
          2,
          3,
          4,
          5,
          6,
          7,
          8,
          9,
          10,
          15,
          20,
          25
         ],
         "title": {
          "text": "Time to Maturity (Years)"
         }
        },
        "yaxis": {
         "gridcolor": "rgba(38,38,38,0.15)",
         "linecolor": "Grey",
         "linewidth": 1,
         "showline": true,
         "title": {
          "text": "Discount Factors"
         }
        }
       }
      }
     },
     "metadata": {},
     "output_type": "display_data"
    }
   ],
   "source": [
    "discount_function2 = 1 / ((1 + cs2(maturity_range)) ** maturity_range)\n",
    "\n",
    "gr.graph_discount2(maturity_range, discount_function, maturity_range, discount_function2,\"Q2.3 Discount Function (Cubic Splines)\", \"Discount Factors\",'Discount Function Cubic Splines', 'Q2.3 Discount Function Cubic Splines')"
   ]
  },
  {
   "cell_type": "markdown",
   "id": "876e33395c0af2df",
   "metadata": {},
   "source": [
    "#### Question 3.1:"
   ]
  },
  {
   "cell_type": "code",
   "execution_count": 17,
   "id": "38d2fa6333398e51",
   "metadata": {
    "ExecuteTime": {
     "end_time": "2024-10-29T10:28:10.903786Z",
     "start_time": "2024-10-29T10:28:10.565138Z"
    }
   },
   "outputs": [
    {
     "name": "stdout",
     "output_type": "stream",
     "text": [
      "Nelson-Siegel-Svensson Curve Parameters:\n",
      "Beta 0    : 0.06033\n",
      "Beta 1    : -0.05391\n",
      "Beta 2    : -0.06016\n",
      "Beta 3    : 0.07206\n",
      "Tau 1     : 3.14798\n",
      "Tau 2     : 5.15351\n"
     ]
    }
   ],
   "source": [
    "# Extract maturities and zero-coupon yields from df\n",
    "t = df['Time to Maturity'].values\n",
    "y = df['Zero-Coupon Yield'].values / 100  \n",
    "\n",
    "# Model calibration\n",
    "curve, status = calibrate_nss_ols(t, y)\n",
    "assert status.success #check if not any error\n",
    "\n",
    "print(\"Nelson-Siegel-Svensson Curve Parameters:\")\n",
    "print(f\"{'Beta 0':<10}: {curve.beta0:.5f}\")\n",
    "print(f\"{'Beta 1':<10}: {curve.beta1:.5f}\")\n",
    "print(f\"{'Beta 2':<10}: {curve.beta2:.5f}\")\n",
    "print(f\"{'Beta 3':<10}: {curve.beta3:.5f}\")\n",
    "print(f\"{'Tau 1':<10}: {curve.tau1:.5f}\")\n",
    "print(f\"{'Tau 2':<10}: {curve.tau2:.5f}\")"
   ]
  },
  {
   "cell_type": "code",
   "execution_count": 18,
   "id": "303f4488bca6287",
   "metadata": {
    "ExecuteTime": {
     "end_time": "2024-10-29T10:28:11.309370Z",
     "start_time": "2024-10-29T10:28:11.016870Z"
    }
   },
   "outputs": [],
   "source": [
    "y_model = curve\n",
    "y_model_values = y_model(t)\n",
    "\n",
    "discount_factors = np.exp(-y_model_values * t)"
   ]
  },
  {
   "cell_type": "code",
   "execution_count": 19,
   "id": "366b3dd7",
   "metadata": {
    "ExecuteTime": {
     "end_time": "2024-10-29T10:28:11.965513Z",
     "start_time": "2024-10-29T10:28:11.428398Z"
    }
   },
   "outputs": [
    {
     "data": {
      "application/vnd.plotly.v1+json": {
       "config": {
        "plotlyServerURL": "https://plot.ly"
       },
       "data": [
        {
         "marker": {
          "color": "rgb(0, 71, 102)",
          "size": 8
         },
         "mode": "markers",
         "name": "Zero-Coupon Yields",
         "type": "scatter",
         "x": [
          0.5,
          1,
          1.5,
          2,
          2.5,
          3,
          3.5,
          4,
          4.5,
          5,
          5.5,
          6,
          6.5,
          7,
          7.5,
          8,
          8.5,
          9,
          9.5,
          10,
          10.5,
          11,
          11.5,
          12,
          12.5,
          13,
          13.5,
          14,
          14.5,
          15,
          15.5,
          16,
          16.5,
          17,
          17.5,
          18,
          18.5,
          19,
          19.5,
          20,
          20.5,
          21,
          21.5,
          22,
          22.5,
          23,
          23.5,
          24,
          24.5,
          25,
          25.5,
          26
         ],
         "y": [
          0.8975140133952841,
          1.193857624074246,
          1.5750406785273618,
          1.872712674900212,
          2.1796474039821323,
          2.471083666528262,
          2.79431070373497,
          3.0083207311893734,
          3.2540711325878213,
          3.4798434592520078,
          3.656250399038141,
          3.8817130232450037,
          4.076543337951977,
          4.22033079161781,
          4.352036191127384,
          4.486544588554109,
          4.587907613268483,
          4.663953098000073,
          4.69610587080127,
          4.710713178511705,
          4.738867248332834,
          4.928472994544508,
          5.33082226139534,
          5.382521987495759,
          5.463427825344391,
          5.519714061502334,
          5.5750998027986665,
          5.6633621194221995,
          5.674433382705679,
          5.716564734153673,
          5.7903746000884215,
          5.8297101392990935,
          5.8507473934286125,
          5.902296980536459,
          5.916501958949771,
          5.929748893333597,
          5.949503086392305,
          5.95617503285073,
          5.966130672483416,
          5.951192774131808,
          5.939830492761677,
          5.978837053209274,
          6.0016907895611205,
          5.996086220867181,
          5.945526075708729,
          5.982158396770876,
          5.964655314069445,
          5.9602422029392255,
          5.955634185953151,
          5.912715538369984,
          5.878122555322385,
          5.904780645931895
         ]
        },
        {
         "marker": {
          "color": "red",
          "size": 5
         },
         "mode": "lines",
         "name": "NSS Model Yields",
         "type": "scatter",
         "x": [
          0.5,
          1,
          1.5,
          2,
          2.5,
          3,
          3.5,
          4,
          4.5,
          5,
          5.5,
          6,
          6.5,
          7,
          7.5,
          8,
          8.5,
          9,
          9.5,
          10,
          10.5,
          11,
          11.5,
          12,
          12.5,
          13,
          13.5,
          14,
          14.5,
          15,
          15.5,
          16,
          16.5,
          17,
          17.5,
          18,
          18.5,
          19,
          19.5,
          20,
          20.5,
          21,
          21.5,
          22,
          22.5,
          23,
          23.5,
          24,
          24.5,
          25,
          25.5,
          26
         ],
         "y": [
          0.9460349470215658,
          1.2539406509434476,
          1.5603759925326244,
          1.8612485707110389,
          2.1534946011150597,
          2.4348848410190715,
          2.7038634169632227,
          2.959414263604845,
          3.2009507084671083,
          3.4282244367179096,
          3.6412506620855516,
          3.8402468308227475,
          4.025582609128338,
          4.197739262397357,
          4.357276837089627,
          4.504807811370046,
          4.640976096181487,
          4.76644045017522,
          4.881861525128625,
          4.987891887523054,
          5.085168470565405,
          5.174307002276111,
          5.255898032013329,
          5.330504242227778,
          5.398658786267611,
          5.460864438305603,
          5.517593379319495,
          5.569287474686211,
          5.616358925337497,
          5.659191196401627,
          5.698140145527197,
          5.733535288245214,
          5.765681150276509,
          5.794858667056222,
          5.821326599282585,
          5.8453229403041025,
          5.867066296890487,
          5.886757229601289,
          5.904579542750921,
          5.920701517019987,
          5.9352770802064105,
          5.948446913551509,
          5.96033949260414,
          5.971072062774319,
          5.9807515506378035,
          5.98947541273657,
          5.997332424119468,
          6.004403409218259,
          6.010761917885983,
          6.016474849561575,
          6.021603028586882,
          6.02620173370606
         ]
        }
       ],
       "layout": {
        "font": {
         "color": "Black",
         "family": "Time New Roman",
         "size": 15
        },
        "height": 500,
        "legend": {
         "bgcolor": "rgba(255,255,255,0)",
         "xanchor": "left",
         "yanchor": "top"
        },
        "plot_bgcolor": "rgba(255,255,255,1)",
        "template": {
         "data": {
          "bar": [
           {
            "error_x": {
             "color": "#2a3f5f"
            },
            "error_y": {
             "color": "#2a3f5f"
            },
            "marker": {
             "line": {
              "color": "#E5ECF6",
              "width": 0.5
             },
             "pattern": {
              "fillmode": "overlay",
              "size": 10,
              "solidity": 0.2
             }
            },
            "type": "bar"
           }
          ],
          "barpolar": [
           {
            "marker": {
             "line": {
              "color": "#E5ECF6",
              "width": 0.5
             },
             "pattern": {
              "fillmode": "overlay",
              "size": 10,
              "solidity": 0.2
             }
            },
            "type": "barpolar"
           }
          ],
          "carpet": [
           {
            "aaxis": {
             "endlinecolor": "#2a3f5f",
             "gridcolor": "white",
             "linecolor": "white",
             "minorgridcolor": "white",
             "startlinecolor": "#2a3f5f"
            },
            "baxis": {
             "endlinecolor": "#2a3f5f",
             "gridcolor": "white",
             "linecolor": "white",
             "minorgridcolor": "white",
             "startlinecolor": "#2a3f5f"
            },
            "type": "carpet"
           }
          ],
          "choropleth": [
           {
            "colorbar": {
             "outlinewidth": 0,
             "ticks": ""
            },
            "type": "choropleth"
           }
          ],
          "contour": [
           {
            "colorbar": {
             "outlinewidth": 0,
             "ticks": ""
            },
            "colorscale": [
             [
              0,
              "#0d0887"
             ],
             [
              0.1111111111111111,
              "#46039f"
             ],
             [
              0.2222222222222222,
              "#7201a8"
             ],
             [
              0.3333333333333333,
              "#9c179e"
             ],
             [
              0.4444444444444444,
              "#bd3786"
             ],
             [
              0.5555555555555556,
              "#d8576b"
             ],
             [
              0.6666666666666666,
              "#ed7953"
             ],
             [
              0.7777777777777778,
              "#fb9f3a"
             ],
             [
              0.8888888888888888,
              "#fdca26"
             ],
             [
              1,
              "#f0f921"
             ]
            ],
            "type": "contour"
           }
          ],
          "contourcarpet": [
           {
            "colorbar": {
             "outlinewidth": 0,
             "ticks": ""
            },
            "type": "contourcarpet"
           }
          ],
          "heatmap": [
           {
            "colorbar": {
             "outlinewidth": 0,
             "ticks": ""
            },
            "colorscale": [
             [
              0,
              "#0d0887"
             ],
             [
              0.1111111111111111,
              "#46039f"
             ],
             [
              0.2222222222222222,
              "#7201a8"
             ],
             [
              0.3333333333333333,
              "#9c179e"
             ],
             [
              0.4444444444444444,
              "#bd3786"
             ],
             [
              0.5555555555555556,
              "#d8576b"
             ],
             [
              0.6666666666666666,
              "#ed7953"
             ],
             [
              0.7777777777777778,
              "#fb9f3a"
             ],
             [
              0.8888888888888888,
              "#fdca26"
             ],
             [
              1,
              "#f0f921"
             ]
            ],
            "type": "heatmap"
           }
          ],
          "heatmapgl": [
           {
            "colorbar": {
             "outlinewidth": 0,
             "ticks": ""
            },
            "colorscale": [
             [
              0,
              "#0d0887"
             ],
             [
              0.1111111111111111,
              "#46039f"
             ],
             [
              0.2222222222222222,
              "#7201a8"
             ],
             [
              0.3333333333333333,
              "#9c179e"
             ],
             [
              0.4444444444444444,
              "#bd3786"
             ],
             [
              0.5555555555555556,
              "#d8576b"
             ],
             [
              0.6666666666666666,
              "#ed7953"
             ],
             [
              0.7777777777777778,
              "#fb9f3a"
             ],
             [
              0.8888888888888888,
              "#fdca26"
             ],
             [
              1,
              "#f0f921"
             ]
            ],
            "type": "heatmapgl"
           }
          ],
          "histogram": [
           {
            "marker": {
             "pattern": {
              "fillmode": "overlay",
              "size": 10,
              "solidity": 0.2
             }
            },
            "type": "histogram"
           }
          ],
          "histogram2d": [
           {
            "colorbar": {
             "outlinewidth": 0,
             "ticks": ""
            },
            "colorscale": [
             [
              0,
              "#0d0887"
             ],
             [
              0.1111111111111111,
              "#46039f"
             ],
             [
              0.2222222222222222,
              "#7201a8"
             ],
             [
              0.3333333333333333,
              "#9c179e"
             ],
             [
              0.4444444444444444,
              "#bd3786"
             ],
             [
              0.5555555555555556,
              "#d8576b"
             ],
             [
              0.6666666666666666,
              "#ed7953"
             ],
             [
              0.7777777777777778,
              "#fb9f3a"
             ],
             [
              0.8888888888888888,
              "#fdca26"
             ],
             [
              1,
              "#f0f921"
             ]
            ],
            "type": "histogram2d"
           }
          ],
          "histogram2dcontour": [
           {
            "colorbar": {
             "outlinewidth": 0,
             "ticks": ""
            },
            "colorscale": [
             [
              0,
              "#0d0887"
             ],
             [
              0.1111111111111111,
              "#46039f"
             ],
             [
              0.2222222222222222,
              "#7201a8"
             ],
             [
              0.3333333333333333,
              "#9c179e"
             ],
             [
              0.4444444444444444,
              "#bd3786"
             ],
             [
              0.5555555555555556,
              "#d8576b"
             ],
             [
              0.6666666666666666,
              "#ed7953"
             ],
             [
              0.7777777777777778,
              "#fb9f3a"
             ],
             [
              0.8888888888888888,
              "#fdca26"
             ],
             [
              1,
              "#f0f921"
             ]
            ],
            "type": "histogram2dcontour"
           }
          ],
          "mesh3d": [
           {
            "colorbar": {
             "outlinewidth": 0,
             "ticks": ""
            },
            "type": "mesh3d"
           }
          ],
          "parcoords": [
           {
            "line": {
             "colorbar": {
              "outlinewidth": 0,
              "ticks": ""
             }
            },
            "type": "parcoords"
           }
          ],
          "pie": [
           {
            "automargin": true,
            "type": "pie"
           }
          ],
          "scatter": [
           {
            "fillpattern": {
             "fillmode": "overlay",
             "size": 10,
             "solidity": 0.2
            },
            "type": "scatter"
           }
          ],
          "scatter3d": [
           {
            "line": {
             "colorbar": {
              "outlinewidth": 0,
              "ticks": ""
             }
            },
            "marker": {
             "colorbar": {
              "outlinewidth": 0,
              "ticks": ""
             }
            },
            "type": "scatter3d"
           }
          ],
          "scattercarpet": [
           {
            "marker": {
             "colorbar": {
              "outlinewidth": 0,
              "ticks": ""
             }
            },
            "type": "scattercarpet"
           }
          ],
          "scattergeo": [
           {
            "marker": {
             "colorbar": {
              "outlinewidth": 0,
              "ticks": ""
             }
            },
            "type": "scattergeo"
           }
          ],
          "scattergl": [
           {
            "marker": {
             "colorbar": {
              "outlinewidth": 0,
              "ticks": ""
             }
            },
            "type": "scattergl"
           }
          ],
          "scattermapbox": [
           {
            "marker": {
             "colorbar": {
              "outlinewidth": 0,
              "ticks": ""
             }
            },
            "type": "scattermapbox"
           }
          ],
          "scatterpolar": [
           {
            "marker": {
             "colorbar": {
              "outlinewidth": 0,
              "ticks": ""
             }
            },
            "type": "scatterpolar"
           }
          ],
          "scatterpolargl": [
           {
            "marker": {
             "colorbar": {
              "outlinewidth": 0,
              "ticks": ""
             }
            },
            "type": "scatterpolargl"
           }
          ],
          "scatterternary": [
           {
            "marker": {
             "colorbar": {
              "outlinewidth": 0,
              "ticks": ""
             }
            },
            "type": "scatterternary"
           }
          ],
          "surface": [
           {
            "colorbar": {
             "outlinewidth": 0,
             "ticks": ""
            },
            "colorscale": [
             [
              0,
              "#0d0887"
             ],
             [
              0.1111111111111111,
              "#46039f"
             ],
             [
              0.2222222222222222,
              "#7201a8"
             ],
             [
              0.3333333333333333,
              "#9c179e"
             ],
             [
              0.4444444444444444,
              "#bd3786"
             ],
             [
              0.5555555555555556,
              "#d8576b"
             ],
             [
              0.6666666666666666,
              "#ed7953"
             ],
             [
              0.7777777777777778,
              "#fb9f3a"
             ],
             [
              0.8888888888888888,
              "#fdca26"
             ],
             [
              1,
              "#f0f921"
             ]
            ],
            "type": "surface"
           }
          ],
          "table": [
           {
            "cells": {
             "fill": {
              "color": "#EBF0F8"
             },
             "line": {
              "color": "white"
             }
            },
            "header": {
             "fill": {
              "color": "#C8D4E3"
             },
             "line": {
              "color": "white"
             }
            },
            "type": "table"
           }
          ]
         },
         "layout": {
          "annotationdefaults": {
           "arrowcolor": "#2a3f5f",
           "arrowhead": 0,
           "arrowwidth": 1
          },
          "autotypenumbers": "strict",
          "coloraxis": {
           "colorbar": {
            "outlinewidth": 0,
            "ticks": ""
           }
          },
          "colorscale": {
           "diverging": [
            [
             0,
             "#8e0152"
            ],
            [
             0.1,
             "#c51b7d"
            ],
            [
             0.2,
             "#de77ae"
            ],
            [
             0.3,
             "#f1b6da"
            ],
            [
             0.4,
             "#fde0ef"
            ],
            [
             0.5,
             "#f7f7f7"
            ],
            [
             0.6,
             "#e6f5d0"
            ],
            [
             0.7,
             "#b8e186"
            ],
            [
             0.8,
             "#7fbc41"
            ],
            [
             0.9,
             "#4d9221"
            ],
            [
             1,
             "#276419"
            ]
           ],
           "sequential": [
            [
             0,
             "#0d0887"
            ],
            [
             0.1111111111111111,
             "#46039f"
            ],
            [
             0.2222222222222222,
             "#7201a8"
            ],
            [
             0.3333333333333333,
             "#9c179e"
            ],
            [
             0.4444444444444444,
             "#bd3786"
            ],
            [
             0.5555555555555556,
             "#d8576b"
            ],
            [
             0.6666666666666666,
             "#ed7953"
            ],
            [
             0.7777777777777778,
             "#fb9f3a"
            ],
            [
             0.8888888888888888,
             "#fdca26"
            ],
            [
             1,
             "#f0f921"
            ]
           ],
           "sequentialminus": [
            [
             0,
             "#0d0887"
            ],
            [
             0.1111111111111111,
             "#46039f"
            ],
            [
             0.2222222222222222,
             "#7201a8"
            ],
            [
             0.3333333333333333,
             "#9c179e"
            ],
            [
             0.4444444444444444,
             "#bd3786"
            ],
            [
             0.5555555555555556,
             "#d8576b"
            ],
            [
             0.6666666666666666,
             "#ed7953"
            ],
            [
             0.7777777777777778,
             "#fb9f3a"
            ],
            [
             0.8888888888888888,
             "#fdca26"
            ],
            [
             1,
             "#f0f921"
            ]
           ]
          },
          "colorway": [
           "#636efa",
           "#EF553B",
           "#00cc96",
           "#ab63fa",
           "#FFA15A",
           "#19d3f3",
           "#FF6692",
           "#B6E880",
           "#FF97FF",
           "#FECB52"
          ],
          "font": {
           "color": "#2a3f5f"
          },
          "geo": {
           "bgcolor": "white",
           "lakecolor": "white",
           "landcolor": "#E5ECF6",
           "showlakes": true,
           "showland": true,
           "subunitcolor": "white"
          },
          "hoverlabel": {
           "align": "left"
          },
          "hovermode": "closest",
          "mapbox": {
           "style": "light"
          },
          "paper_bgcolor": "white",
          "plot_bgcolor": "#E5ECF6",
          "polar": {
           "angularaxis": {
            "gridcolor": "white",
            "linecolor": "white",
            "ticks": ""
           },
           "bgcolor": "#E5ECF6",
           "radialaxis": {
            "gridcolor": "white",
            "linecolor": "white",
            "ticks": ""
           }
          },
          "scene": {
           "xaxis": {
            "backgroundcolor": "#E5ECF6",
            "gridcolor": "white",
            "gridwidth": 2,
            "linecolor": "white",
            "showbackground": true,
            "ticks": "",
            "zerolinecolor": "white"
           },
           "yaxis": {
            "backgroundcolor": "#E5ECF6",
            "gridcolor": "white",
            "gridwidth": 2,
            "linecolor": "white",
            "showbackground": true,
            "ticks": "",
            "zerolinecolor": "white"
           },
           "zaxis": {
            "backgroundcolor": "#E5ECF6",
            "gridcolor": "white",
            "gridwidth": 2,
            "linecolor": "white",
            "showbackground": true,
            "ticks": "",
            "zerolinecolor": "white"
           }
          },
          "shapedefaults": {
           "line": {
            "color": "#2a3f5f"
           }
          },
          "ternary": {
           "aaxis": {
            "gridcolor": "white",
            "linecolor": "white",
            "ticks": ""
           },
           "baxis": {
            "gridcolor": "white",
            "linecolor": "white",
            "ticks": ""
           },
           "bgcolor": "#E5ECF6",
           "caxis": {
            "gridcolor": "white",
            "linecolor": "white",
            "ticks": ""
           }
          },
          "title": {
           "x": 0.05
          },
          "xaxis": {
           "automargin": true,
           "gridcolor": "white",
           "linecolor": "white",
           "ticks": "",
           "title": {
            "standoff": 15
           },
           "zerolinecolor": "white",
           "zerolinewidth": 2
          },
          "yaxis": {
           "automargin": true,
           "gridcolor": "white",
           "linecolor": "white",
           "ticks": "",
           "title": {
            "standoff": 15
           },
           "zerolinecolor": "white",
           "zerolinewidth": 2
          }
         }
        },
        "title": {
         "text": "Nelson-Siegel-Svensson Model Fit to Zero-Coupon Yields",
         "x": 0.5
        },
        "width": 900,
        "xaxis": {
         "linecolor": "black",
         "linewidth": 1,
         "range": [
          0,
          27
         ],
         "showline": true,
         "ticklen": 5,
         "ticks": "inside",
         "tickson": "boundaries",
         "tickvals": [
          1,
          2,
          3,
          4,
          5,
          6,
          7,
          8,
          9,
          10,
          15,
          20,
          25
         ],
         "title": {
          "text": "Time to Maturity (Years)"
         }
        },
        "yaxis": {
         "gridcolor": "rgba(38,38,38,0.15)",
         "linecolor": "Grey",
         "linewidth": 1,
         "showline": true,
         "title": {
          "text": "Yield (%)"
         }
        }
       }
      }
     },
     "metadata": {},
     "output_type": "display_data"
    }
   ],
   "source": [
    "# Plot the observed zero-coupon yields and the NSS model yields\n",
    "gr.Graph_EstimationVSZero(Yield,Yield['Zero-Coupon Yield'],t,y_model_values*100,'Nelson-Siegel-Svensson Model Fit to Zero-Coupon Yields','NSS Model Yields')"
   ]
  },
  {
   "cell_type": "code",
   "execution_count": 20,
   "id": "86a48e46",
   "metadata": {
    "ExecuteTime": {
     "end_time": "2024-10-29T10:28:12.481657Z",
     "start_time": "2024-10-29T10:28:12.097110Z"
    }
   },
   "outputs": [
    {
     "data": {
      "application/vnd.plotly.v1+json": {
       "config": {
        "plotlyServerURL": "https://plot.ly"
       },
       "data": [
        {
         "marker": {
          "color": "rgb(0, 71, 102)",
          "size": 8
         },
         "mode": "lines",
         "name": "Discount Function NSS",
         "type": "scatter",
         "x": [
          0.5,
          0.7575757575757576,
          1.0151515151515151,
          1.2727272727272727,
          1.5303030303030303,
          1.7878787878787878,
          2.0454545454545454,
          2.3030303030303028,
          2.5606060606060606,
          2.8181818181818183,
          3.0757575757575757,
          3.333333333333333,
          3.590909090909091,
          3.8484848484848486,
          4.1060606060606055,
          4.363636363636363,
          4.621212121212121,
          4.878787878787879,
          5.136363636363637,
          5.393939393939394,
          5.651515151515151,
          5.909090909090909,
          6.166666666666666,
          6.424242424242424,
          6.681818181818182,
          6.9393939393939394,
          7.196969696969697,
          7.454545454545454,
          7.712121212121212,
          7.96969696969697,
          8.227272727272727,
          8.484848484848484,
          8.742424242424242,
          9,
          9.257575757575758,
          9.515151515151516,
          9.772727272727273,
          10.03030303030303,
          10.287878787878787,
          10.545454545454545,
          10.803030303030303,
          11.06060606060606,
          11.318181818181818,
          11.575757575757576,
          11.833333333333332,
          12.09090909090909,
          12.348484848484848,
          12.606060606060606,
          12.863636363636363,
          13.121212121212121,
          13.378787878787879,
          13.636363636363637,
          13.893939393939394,
          14.15151515151515,
          14.409090909090908,
          14.666666666666666,
          14.924242424242424,
          15.181818181818182,
          15.43939393939394,
          15.696969696969697,
          15.954545454545453,
          16.21212121212121,
          16.46969696969697,
          16.727272727272727,
          16.984848484848484,
          17.242424242424242,
          17.5,
          17.757575757575758,
          18.015151515151516,
          18.272727272727273,
          18.53030303030303,
          18.78787878787879,
          19.045454545454547,
          19.3030303030303,
          19.56060606060606,
          19.818181818181817,
          20.075757575757574,
          20.333333333333332,
          20.59090909090909,
          20.848484848484848,
          21.106060606060606,
          21.363636363636363,
          21.62121212121212,
          21.87878787878788,
          22.136363636363637,
          22.393939393939394,
          22.651515151515152,
          22.90909090909091,
          23.166666666666664,
          23.424242424242422,
          23.68181818181818,
          23.939393939393938,
          24.196969696969695,
          24.454545454545453,
          24.71212121212121,
          24.96969696969697,
          25.227272727272727,
          25.484848484848484,
          25.742424242424242,
          26
         ],
         "y": [
          0.9950227951173798,
          0.9914007126273054,
          0.9870390648987394,
          0.9819334636894808,
          0.9760882033042536,
          0.9695160471728774,
          0.9622379326654136,
          0.9542825989757464,
          0.9456861451202915,
          0.9364915270617631,
          0.9267480046368168,
          0.9165105503108814,
          0.9058392327872128,
          0.8947985891580479,
          0.8834569996156925,
          0.8718860787663394,
          0.8601600973474731,
          0.8483554476903887,
          0.8365489614124526,
          0.8247934879716223,
          0.8131154721117213,
          0.8015351397555391,
          0.7900676435792963,
          0.7787233856157577,
          0.7675083301303324,
          0.7564243053930508,
          0.7454692937881583,
          0.7346377104228774,
          0.7239206710250778,
          0.7133062504625853,
          0.7027797336804524,
          0.6923238612409504,
          0.6819190719671593,
          0.67154374543588,
          0.6611744472382594,
          0.6507861800243264,
          0.6403526433661296,
          0.629846518278948,
          0.6192508125951076,
          0.6085798538740919,
          0.5978542909046999,
          0.587095532928237,
          0.5763255753865284,
          0.5655668322132567,
          0.5548419763259048,
          0.5441737898646145,
          0.533585025594342,
          0.5230982807423629,
          0.512735884389675,
          0.5025197993770371,
          0.4924715395294342,
          0.48261210285156486,
          0.4729619212063065,
          0.4635408268624907,
          0.45436803619222166,
          0.4454621507151766,
          0.436841175631925,
          0.42852087260336574,
          0.420499526932041,
          0.4127653099174084,
          0.4053061304468312,
          0.3981097891256178,
          0.39116400543206586,
          0.384456440558059,
          0.37797471650565523,
          0.37170643198970016,
          0.36563917567713666,
          0.3597605372758194,
          0.35405811696903244,
          0.34851953367673744,
          0.3431324326104514,
          0.3378844925755961,
          0.33276343346261217,
          0.3277570243559216,
          0.32285309267733275,
          0.31803953476726665,
          0.31330432829262855,
          0.30863554685356764,
          0.3040213771421063,
          0.2994501389828676,
          0.2949103085591511,
          0.29039054509556816,
          0.28587972123058375,
          0.28136695726783434,
          0.27684165944324374,
          0.2722935622852385,
          0.26771277507701613,
          0.26308983235280436,
          0.25841574827383534,
          0.2536820746348026,
          0.24888096214791544,
          0.24400522454031337,
          0.23904840488241477,
          0.2340048434414829,
          0.22886974622813033,
          0.2236392532762505,
          0.21831050557182013,
          0.21288170942676807,
          0.20735219698444576,
          0.20172248144759622
         ]
        }
       ],
       "layout": {
        "font": {
         "color": "Black",
         "family": "Time New Roman",
         "size": 15
        },
        "height": 500,
        "legend": {
         "bgcolor": "rgba(0, 0, 0, 0)"
        },
        "plot_bgcolor": "rgba(255,255,255,1)",
        "showlegend": true,
        "template": {
         "data": {
          "bar": [
           {
            "error_x": {
             "color": "#2a3f5f"
            },
            "error_y": {
             "color": "#2a3f5f"
            },
            "marker": {
             "line": {
              "color": "#E5ECF6",
              "width": 0.5
             },
             "pattern": {
              "fillmode": "overlay",
              "size": 10,
              "solidity": 0.2
             }
            },
            "type": "bar"
           }
          ],
          "barpolar": [
           {
            "marker": {
             "line": {
              "color": "#E5ECF6",
              "width": 0.5
             },
             "pattern": {
              "fillmode": "overlay",
              "size": 10,
              "solidity": 0.2
             }
            },
            "type": "barpolar"
           }
          ],
          "carpet": [
           {
            "aaxis": {
             "endlinecolor": "#2a3f5f",
             "gridcolor": "white",
             "linecolor": "white",
             "minorgridcolor": "white",
             "startlinecolor": "#2a3f5f"
            },
            "baxis": {
             "endlinecolor": "#2a3f5f",
             "gridcolor": "white",
             "linecolor": "white",
             "minorgridcolor": "white",
             "startlinecolor": "#2a3f5f"
            },
            "type": "carpet"
           }
          ],
          "choropleth": [
           {
            "colorbar": {
             "outlinewidth": 0,
             "ticks": ""
            },
            "type": "choropleth"
           }
          ],
          "contour": [
           {
            "colorbar": {
             "outlinewidth": 0,
             "ticks": ""
            },
            "colorscale": [
             [
              0,
              "#0d0887"
             ],
             [
              0.1111111111111111,
              "#46039f"
             ],
             [
              0.2222222222222222,
              "#7201a8"
             ],
             [
              0.3333333333333333,
              "#9c179e"
             ],
             [
              0.4444444444444444,
              "#bd3786"
             ],
             [
              0.5555555555555556,
              "#d8576b"
             ],
             [
              0.6666666666666666,
              "#ed7953"
             ],
             [
              0.7777777777777778,
              "#fb9f3a"
             ],
             [
              0.8888888888888888,
              "#fdca26"
             ],
             [
              1,
              "#f0f921"
             ]
            ],
            "type": "contour"
           }
          ],
          "contourcarpet": [
           {
            "colorbar": {
             "outlinewidth": 0,
             "ticks": ""
            },
            "type": "contourcarpet"
           }
          ],
          "heatmap": [
           {
            "colorbar": {
             "outlinewidth": 0,
             "ticks": ""
            },
            "colorscale": [
             [
              0,
              "#0d0887"
             ],
             [
              0.1111111111111111,
              "#46039f"
             ],
             [
              0.2222222222222222,
              "#7201a8"
             ],
             [
              0.3333333333333333,
              "#9c179e"
             ],
             [
              0.4444444444444444,
              "#bd3786"
             ],
             [
              0.5555555555555556,
              "#d8576b"
             ],
             [
              0.6666666666666666,
              "#ed7953"
             ],
             [
              0.7777777777777778,
              "#fb9f3a"
             ],
             [
              0.8888888888888888,
              "#fdca26"
             ],
             [
              1,
              "#f0f921"
             ]
            ],
            "type": "heatmap"
           }
          ],
          "heatmapgl": [
           {
            "colorbar": {
             "outlinewidth": 0,
             "ticks": ""
            },
            "colorscale": [
             [
              0,
              "#0d0887"
             ],
             [
              0.1111111111111111,
              "#46039f"
             ],
             [
              0.2222222222222222,
              "#7201a8"
             ],
             [
              0.3333333333333333,
              "#9c179e"
             ],
             [
              0.4444444444444444,
              "#bd3786"
             ],
             [
              0.5555555555555556,
              "#d8576b"
             ],
             [
              0.6666666666666666,
              "#ed7953"
             ],
             [
              0.7777777777777778,
              "#fb9f3a"
             ],
             [
              0.8888888888888888,
              "#fdca26"
             ],
             [
              1,
              "#f0f921"
             ]
            ],
            "type": "heatmapgl"
           }
          ],
          "histogram": [
           {
            "marker": {
             "pattern": {
              "fillmode": "overlay",
              "size": 10,
              "solidity": 0.2
             }
            },
            "type": "histogram"
           }
          ],
          "histogram2d": [
           {
            "colorbar": {
             "outlinewidth": 0,
             "ticks": ""
            },
            "colorscale": [
             [
              0,
              "#0d0887"
             ],
             [
              0.1111111111111111,
              "#46039f"
             ],
             [
              0.2222222222222222,
              "#7201a8"
             ],
             [
              0.3333333333333333,
              "#9c179e"
             ],
             [
              0.4444444444444444,
              "#bd3786"
             ],
             [
              0.5555555555555556,
              "#d8576b"
             ],
             [
              0.6666666666666666,
              "#ed7953"
             ],
             [
              0.7777777777777778,
              "#fb9f3a"
             ],
             [
              0.8888888888888888,
              "#fdca26"
             ],
             [
              1,
              "#f0f921"
             ]
            ],
            "type": "histogram2d"
           }
          ],
          "histogram2dcontour": [
           {
            "colorbar": {
             "outlinewidth": 0,
             "ticks": ""
            },
            "colorscale": [
             [
              0,
              "#0d0887"
             ],
             [
              0.1111111111111111,
              "#46039f"
             ],
             [
              0.2222222222222222,
              "#7201a8"
             ],
             [
              0.3333333333333333,
              "#9c179e"
             ],
             [
              0.4444444444444444,
              "#bd3786"
             ],
             [
              0.5555555555555556,
              "#d8576b"
             ],
             [
              0.6666666666666666,
              "#ed7953"
             ],
             [
              0.7777777777777778,
              "#fb9f3a"
             ],
             [
              0.8888888888888888,
              "#fdca26"
             ],
             [
              1,
              "#f0f921"
             ]
            ],
            "type": "histogram2dcontour"
           }
          ],
          "mesh3d": [
           {
            "colorbar": {
             "outlinewidth": 0,
             "ticks": ""
            },
            "type": "mesh3d"
           }
          ],
          "parcoords": [
           {
            "line": {
             "colorbar": {
              "outlinewidth": 0,
              "ticks": ""
             }
            },
            "type": "parcoords"
           }
          ],
          "pie": [
           {
            "automargin": true,
            "type": "pie"
           }
          ],
          "scatter": [
           {
            "fillpattern": {
             "fillmode": "overlay",
             "size": 10,
             "solidity": 0.2
            },
            "type": "scatter"
           }
          ],
          "scatter3d": [
           {
            "line": {
             "colorbar": {
              "outlinewidth": 0,
              "ticks": ""
             }
            },
            "marker": {
             "colorbar": {
              "outlinewidth": 0,
              "ticks": ""
             }
            },
            "type": "scatter3d"
           }
          ],
          "scattercarpet": [
           {
            "marker": {
             "colorbar": {
              "outlinewidth": 0,
              "ticks": ""
             }
            },
            "type": "scattercarpet"
           }
          ],
          "scattergeo": [
           {
            "marker": {
             "colorbar": {
              "outlinewidth": 0,
              "ticks": ""
             }
            },
            "type": "scattergeo"
           }
          ],
          "scattergl": [
           {
            "marker": {
             "colorbar": {
              "outlinewidth": 0,
              "ticks": ""
             }
            },
            "type": "scattergl"
           }
          ],
          "scattermapbox": [
           {
            "marker": {
             "colorbar": {
              "outlinewidth": 0,
              "ticks": ""
             }
            },
            "type": "scattermapbox"
           }
          ],
          "scatterpolar": [
           {
            "marker": {
             "colorbar": {
              "outlinewidth": 0,
              "ticks": ""
             }
            },
            "type": "scatterpolar"
           }
          ],
          "scatterpolargl": [
           {
            "marker": {
             "colorbar": {
              "outlinewidth": 0,
              "ticks": ""
             }
            },
            "type": "scatterpolargl"
           }
          ],
          "scatterternary": [
           {
            "marker": {
             "colorbar": {
              "outlinewidth": 0,
              "ticks": ""
             }
            },
            "type": "scatterternary"
           }
          ],
          "surface": [
           {
            "colorbar": {
             "outlinewidth": 0,
             "ticks": ""
            },
            "colorscale": [
             [
              0,
              "#0d0887"
             ],
             [
              0.1111111111111111,
              "#46039f"
             ],
             [
              0.2222222222222222,
              "#7201a8"
             ],
             [
              0.3333333333333333,
              "#9c179e"
             ],
             [
              0.4444444444444444,
              "#bd3786"
             ],
             [
              0.5555555555555556,
              "#d8576b"
             ],
             [
              0.6666666666666666,
              "#ed7953"
             ],
             [
              0.7777777777777778,
              "#fb9f3a"
             ],
             [
              0.8888888888888888,
              "#fdca26"
             ],
             [
              1,
              "#f0f921"
             ]
            ],
            "type": "surface"
           }
          ],
          "table": [
           {
            "cells": {
             "fill": {
              "color": "#EBF0F8"
             },
             "line": {
              "color": "white"
             }
            },
            "header": {
             "fill": {
              "color": "#C8D4E3"
             },
             "line": {
              "color": "white"
             }
            },
            "type": "table"
           }
          ]
         },
         "layout": {
          "annotationdefaults": {
           "arrowcolor": "#2a3f5f",
           "arrowhead": 0,
           "arrowwidth": 1
          },
          "autotypenumbers": "strict",
          "coloraxis": {
           "colorbar": {
            "outlinewidth": 0,
            "ticks": ""
           }
          },
          "colorscale": {
           "diverging": [
            [
             0,
             "#8e0152"
            ],
            [
             0.1,
             "#c51b7d"
            ],
            [
             0.2,
             "#de77ae"
            ],
            [
             0.3,
             "#f1b6da"
            ],
            [
             0.4,
             "#fde0ef"
            ],
            [
             0.5,
             "#f7f7f7"
            ],
            [
             0.6,
             "#e6f5d0"
            ],
            [
             0.7,
             "#b8e186"
            ],
            [
             0.8,
             "#7fbc41"
            ],
            [
             0.9,
             "#4d9221"
            ],
            [
             1,
             "#276419"
            ]
           ],
           "sequential": [
            [
             0,
             "#0d0887"
            ],
            [
             0.1111111111111111,
             "#46039f"
            ],
            [
             0.2222222222222222,
             "#7201a8"
            ],
            [
             0.3333333333333333,
             "#9c179e"
            ],
            [
             0.4444444444444444,
             "#bd3786"
            ],
            [
             0.5555555555555556,
             "#d8576b"
            ],
            [
             0.6666666666666666,
             "#ed7953"
            ],
            [
             0.7777777777777778,
             "#fb9f3a"
            ],
            [
             0.8888888888888888,
             "#fdca26"
            ],
            [
             1,
             "#f0f921"
            ]
           ],
           "sequentialminus": [
            [
             0,
             "#0d0887"
            ],
            [
             0.1111111111111111,
             "#46039f"
            ],
            [
             0.2222222222222222,
             "#7201a8"
            ],
            [
             0.3333333333333333,
             "#9c179e"
            ],
            [
             0.4444444444444444,
             "#bd3786"
            ],
            [
             0.5555555555555556,
             "#d8576b"
            ],
            [
             0.6666666666666666,
             "#ed7953"
            ],
            [
             0.7777777777777778,
             "#fb9f3a"
            ],
            [
             0.8888888888888888,
             "#fdca26"
            ],
            [
             1,
             "#f0f921"
            ]
           ]
          },
          "colorway": [
           "#636efa",
           "#EF553B",
           "#00cc96",
           "#ab63fa",
           "#FFA15A",
           "#19d3f3",
           "#FF6692",
           "#B6E880",
           "#FF97FF",
           "#FECB52"
          ],
          "font": {
           "color": "#2a3f5f"
          },
          "geo": {
           "bgcolor": "white",
           "lakecolor": "white",
           "landcolor": "#E5ECF6",
           "showlakes": true,
           "showland": true,
           "subunitcolor": "white"
          },
          "hoverlabel": {
           "align": "left"
          },
          "hovermode": "closest",
          "mapbox": {
           "style": "light"
          },
          "paper_bgcolor": "white",
          "plot_bgcolor": "#E5ECF6",
          "polar": {
           "angularaxis": {
            "gridcolor": "white",
            "linecolor": "white",
            "ticks": ""
           },
           "bgcolor": "#E5ECF6",
           "radialaxis": {
            "gridcolor": "white",
            "linecolor": "white",
            "ticks": ""
           }
          },
          "scene": {
           "xaxis": {
            "backgroundcolor": "#E5ECF6",
            "gridcolor": "white",
            "gridwidth": 2,
            "linecolor": "white",
            "showbackground": true,
            "ticks": "",
            "zerolinecolor": "white"
           },
           "yaxis": {
            "backgroundcolor": "#E5ECF6",
            "gridcolor": "white",
            "gridwidth": 2,
            "linecolor": "white",
            "showbackground": true,
            "ticks": "",
            "zerolinecolor": "white"
           },
           "zaxis": {
            "backgroundcolor": "#E5ECF6",
            "gridcolor": "white",
            "gridwidth": 2,
            "linecolor": "white",
            "showbackground": true,
            "ticks": "",
            "zerolinecolor": "white"
           }
          },
          "shapedefaults": {
           "line": {
            "color": "#2a3f5f"
           }
          },
          "ternary": {
           "aaxis": {
            "gridcolor": "white",
            "linecolor": "white",
            "ticks": ""
           },
           "baxis": {
            "gridcolor": "white",
            "linecolor": "white",
            "ticks": ""
           },
           "bgcolor": "#E5ECF6",
           "caxis": {
            "gridcolor": "white",
            "linecolor": "white",
            "ticks": ""
           }
          },
          "title": {
           "x": 0.05
          },
          "xaxis": {
           "automargin": true,
           "gridcolor": "white",
           "linecolor": "white",
           "ticks": "",
           "title": {
            "standoff": 15
           },
           "zerolinecolor": "white",
           "zerolinewidth": 2
          },
          "yaxis": {
           "automargin": true,
           "gridcolor": "white",
           "linecolor": "white",
           "ticks": "",
           "title": {
            "standoff": 15
           },
           "zerolinecolor": "white",
           "zerolinewidth": 2
          }
         }
        },
        "title": {
         "text": "Discount Function (NSS)",
         "x": 0.5
        },
        "width": 900,
        "xaxis": {
         "linecolor": "black",
         "linewidth": 1,
         "range": [
          0,
          27
         ],
         "showline": true,
         "ticklen": 5,
         "ticks": "inside",
         "tickson": "boundaries",
         "tickvals": [
          1,
          2,
          3,
          4,
          5,
          6,
          7,
          8,
          9,
          10,
          15,
          20,
          25
         ],
         "title": {
          "text": "Time to Maturity (Years)"
         }
        },
        "yaxis": {
         "gridcolor": "rgba(38,38,38,0.15)",
         "linecolor": "Grey",
         "linewidth": 1,
         "showline": true,
         "title": {
          "text": "Discount Factors"
         }
        }
       }
      }
     },
     "metadata": {},
     "output_type": "display_data"
    }
   ],
   "source": [
    "# Plot the discount function estimated via the NSS model\n",
    "gr.graph_discount(maturity_range, discount_function,\"Discount Function (NSS)\",\"Discount Function NSS\")"
   ]
  },
  {
   "cell_type": "markdown",
   "id": "6dfeeebc5fb0ec33",
   "metadata": {},
   "source": [
    "#### Question 3.2:"
   ]
  },
  {
   "cell_type": "code",
   "execution_count": 21,
   "id": "609598f7",
   "metadata": {},
   "outputs": [
    {
     "data": {
      "application/vnd.plotly.v1+json": {
       "config": {
        "plotlyServerURL": "https://plot.ly"
       },
       "data": [
        {
         "marker": {
          "color": "rgb(0, 71, 102)",
          "size": 8
         },
         "mode": "lines",
         "name": "Q2.1 Cubic Splines Yield Curve",
         "type": "scatter",
         "x": [
          0.5,
          0.7575757575757576,
          1.0151515151515151,
          1.2727272727272727,
          1.5303030303030303,
          1.7878787878787878,
          2.0454545454545454,
          2.3030303030303028,
          2.5606060606060606,
          2.8181818181818183,
          3.0757575757575757,
          3.333333333333333,
          3.590909090909091,
          3.8484848484848486,
          4.1060606060606055,
          4.363636363636363,
          4.621212121212121,
          4.878787878787879,
          5.136363636363637,
          5.393939393939394,
          5.651515151515151,
          5.909090909090909,
          6.166666666666666,
          6.424242424242424,
          6.681818181818182,
          6.9393939393939394,
          7.196969696969697,
          7.454545454545454,
          7.712121212121212,
          7.96969696969697,
          8.227272727272727,
          8.484848484848484,
          8.742424242424242,
          9,
          9.257575757575758,
          9.515151515151516,
          9.772727272727273,
          10.03030303030303,
          10.287878787878787,
          10.545454545454545,
          10.803030303030303,
          11.06060606060606,
          11.318181818181818,
          11.575757575757576,
          11.833333333333332,
          12.09090909090909,
          12.348484848484848,
          12.606060606060606,
          12.863636363636363,
          13.121212121212121,
          13.378787878787879,
          13.636363636363637,
          13.893939393939394,
          14.15151515151515,
          14.409090909090908,
          14.666666666666666,
          14.924242424242424,
          15.181818181818182,
          15.43939393939394,
          15.696969696969697,
          15.954545454545453,
          16.21212121212121,
          16.46969696969697,
          16.727272727272727,
          16.984848484848484,
          17.242424242424242,
          17.5,
          17.757575757575758,
          18.015151515151516,
          18.272727272727273,
          18.53030303030303,
          18.78787878787879,
          19.045454545454547,
          19.3030303030303,
          19.56060606060606,
          19.818181818181817,
          20.075757575757574,
          20.333333333333332,
          20.59090909090909,
          20.848484848484848,
          21.106060606060606,
          21.363636363636363,
          21.62121212121212,
          21.87878787878788,
          22.136363636363637,
          22.393939393939394,
          22.651515151515152,
          22.90909090909091,
          23.166666666666664,
          23.424242424242422,
          23.68181818181818,
          23.939393939393938,
          24.196969696969695,
          24.454545454545453,
          24.71212121212121,
          24.96969696969697,
          25.227272727272727,
          25.484848484848484,
          25.742424242424242,
          26
         ],
         "y": [
          1.0029223749999998,
          1.1465375763141052,
          1.2933877850996187,
          1.4428023290758827,
          1.5941105359622394,
          1.7466417334780313,
          1.8997252493425998,
          2.0526904112752873,
          2.2048665469954365,
          2.3555829842223894,
          2.5041690506754875,
          2.649954074074074,
          2.792267382137491,
          2.9304383025850798,
          3.0637961631361827,
          3.191670291510143,
          3.3133900154263025,
          3.4282846626040016,
          3.535712577952668,
          3.635615634511506,
          3.728476125607452,
          3.814796724267469,
          3.8950801035185187,
          3.9698289363875676,
          4.039545895901578,
          4.104733655087514,
          4.165894886972341,
          4.223532264583022,
          4.278148460946518,
          4.330246149089797,
          4.38032800203982,
          4.428896692823553,
          4.476454894467958,
          4.523505279999999,
          4.570550522446643,
          4.618093294834851,
          4.666636270191585,
          4.716681908183767,
          4.768550592348415,
          4.8220488285499625,
          4.876893111383115,
          4.9327999354425796,
          4.989485795323065,
          5.046667185619278,
          5.1040606009259255,
          5.161382535837715,
          5.218349484949355,
          5.274677942855552,
          5.330084404151014,
          5.384285363430448,
          5.4369973152885605,
          5.48793675432006,
          5.5368201751196535,
          5.583364072282048,
          5.627284940401952,
          5.668299274074073,
          5.706123567893117,
          5.740501676814425,
          5.771454178607423,
          5.799162329826085,
          5.823809366217129,
          5.8455785235272835,
          5.864653037503269,
          5.881216143891811,
          5.89545107843963,
          5.907541076893452,
          5.917669374999999,
          5.926019208505997,
          5.932773813158166,
          5.938116424703231,
          5.942230278887915,
          5.945298611458942,
          5.9475046581630355,
          5.949031654746918,
          5.950062836957314,
          5.950781440540946,
          5.951370701244539,
          5.952013854814815,
          5.952894136998498,
          5.954194783542311,
          5.956099030192977,
          5.958790112697221,
          5.9624512668017635,
          5.967265728253333,
          5.973416732798649,
          5.981087516184434,
          5.9904613141574155,
          6.0017213624643135,
          6.015050896851852,
          6.0306331530667565,
          6.048651366855749,
          6.069288773965551,
          6.09272861014289,
          6.1191541111344865,
          6.148748512687064,
          6.181695050547347,
          6.21817696046206,
          6.258377478177923,
          6.302479839441663,
          6.3506672800000015
         ]
        },
        {
         "marker": {
          "color": "rgb(255, 0, 0)",
          "size": 8
         },
         "mode": "lines",
         "name": "Q3.1 NSS Yield Curve",
         "type": "scatter",
         "x": [
          0.5,
          1,
          1.5,
          2,
          2.5,
          3,
          3.5,
          4,
          4.5,
          5,
          5.5,
          6,
          6.5,
          7,
          7.5,
          8,
          8.5,
          9,
          9.5,
          10,
          10.5,
          11,
          11.5,
          12,
          12.5,
          13,
          13.5,
          14,
          14.5,
          15,
          15.5,
          16,
          16.5,
          17,
          17.5,
          18,
          18.5,
          19,
          19.5,
          20,
          20.5,
          21,
          21.5,
          22,
          22.5,
          23,
          23.5,
          24,
          24.5,
          25,
          25.5,
          26
         ],
         "y": [
          0.9460349470215658,
          1.2539406509434476,
          1.5603759925326244,
          1.8612485707110389,
          2.1534946011150597,
          2.4348848410190715,
          2.7038634169632227,
          2.959414263604845,
          3.2009507084671083,
          3.4282244367179096,
          3.6412506620855516,
          3.8402468308227475,
          4.025582609128338,
          4.197739262397357,
          4.357276837089627,
          4.504807811370046,
          4.640976096181487,
          4.76644045017522,
          4.881861525128625,
          4.987891887523054,
          5.085168470565405,
          5.174307002276111,
          5.255898032013329,
          5.330504242227778,
          5.398658786267611,
          5.460864438305603,
          5.517593379319495,
          5.569287474686211,
          5.616358925337497,
          5.659191196401627,
          5.698140145527197,
          5.733535288245214,
          5.765681150276509,
          5.794858667056222,
          5.821326599282585,
          5.8453229403041025,
          5.867066296890487,
          5.886757229601289,
          5.904579542750921,
          5.920701517019987,
          5.9352770802064105,
          5.948446913551509,
          5.96033949260414,
          5.971072062774319,
          5.9807515506378035,
          5.98947541273657,
          5.997332424119468,
          6.004403409218259,
          6.010761917885983,
          6.016474849561575,
          6.021603028586882,
          6.02620173370606
         ]
        }
       ],
       "layout": {
        "font": {
         "color": "Black",
         "family": "Time New Roman",
         "size": 15
        },
        "height": 500,
        "legend": {
         "bgcolor": "rgba(0, 0, 0, 0)"
        },
        "plot_bgcolor": "rgba(0,0,0,0)",
        "showlegend": true,
        "template": {
         "data": {
          "bar": [
           {
            "error_x": {
             "color": "#2a3f5f"
            },
            "error_y": {
             "color": "#2a3f5f"
            },
            "marker": {
             "line": {
              "color": "#E5ECF6",
              "width": 0.5
             },
             "pattern": {
              "fillmode": "overlay",
              "size": 10,
              "solidity": 0.2
             }
            },
            "type": "bar"
           }
          ],
          "barpolar": [
           {
            "marker": {
             "line": {
              "color": "#E5ECF6",
              "width": 0.5
             },
             "pattern": {
              "fillmode": "overlay",
              "size": 10,
              "solidity": 0.2
             }
            },
            "type": "barpolar"
           }
          ],
          "carpet": [
           {
            "aaxis": {
             "endlinecolor": "#2a3f5f",
             "gridcolor": "white",
             "linecolor": "white",
             "minorgridcolor": "white",
             "startlinecolor": "#2a3f5f"
            },
            "baxis": {
             "endlinecolor": "#2a3f5f",
             "gridcolor": "white",
             "linecolor": "white",
             "minorgridcolor": "white",
             "startlinecolor": "#2a3f5f"
            },
            "type": "carpet"
           }
          ],
          "choropleth": [
           {
            "colorbar": {
             "outlinewidth": 0,
             "ticks": ""
            },
            "type": "choropleth"
           }
          ],
          "contour": [
           {
            "colorbar": {
             "outlinewidth": 0,
             "ticks": ""
            },
            "colorscale": [
             [
              0,
              "#0d0887"
             ],
             [
              0.1111111111111111,
              "#46039f"
             ],
             [
              0.2222222222222222,
              "#7201a8"
             ],
             [
              0.3333333333333333,
              "#9c179e"
             ],
             [
              0.4444444444444444,
              "#bd3786"
             ],
             [
              0.5555555555555556,
              "#d8576b"
             ],
             [
              0.6666666666666666,
              "#ed7953"
             ],
             [
              0.7777777777777778,
              "#fb9f3a"
             ],
             [
              0.8888888888888888,
              "#fdca26"
             ],
             [
              1,
              "#f0f921"
             ]
            ],
            "type": "contour"
           }
          ],
          "contourcarpet": [
           {
            "colorbar": {
             "outlinewidth": 0,
             "ticks": ""
            },
            "type": "contourcarpet"
           }
          ],
          "heatmap": [
           {
            "colorbar": {
             "outlinewidth": 0,
             "ticks": ""
            },
            "colorscale": [
             [
              0,
              "#0d0887"
             ],
             [
              0.1111111111111111,
              "#46039f"
             ],
             [
              0.2222222222222222,
              "#7201a8"
             ],
             [
              0.3333333333333333,
              "#9c179e"
             ],
             [
              0.4444444444444444,
              "#bd3786"
             ],
             [
              0.5555555555555556,
              "#d8576b"
             ],
             [
              0.6666666666666666,
              "#ed7953"
             ],
             [
              0.7777777777777778,
              "#fb9f3a"
             ],
             [
              0.8888888888888888,
              "#fdca26"
             ],
             [
              1,
              "#f0f921"
             ]
            ],
            "type": "heatmap"
           }
          ],
          "heatmapgl": [
           {
            "colorbar": {
             "outlinewidth": 0,
             "ticks": ""
            },
            "colorscale": [
             [
              0,
              "#0d0887"
             ],
             [
              0.1111111111111111,
              "#46039f"
             ],
             [
              0.2222222222222222,
              "#7201a8"
             ],
             [
              0.3333333333333333,
              "#9c179e"
             ],
             [
              0.4444444444444444,
              "#bd3786"
             ],
             [
              0.5555555555555556,
              "#d8576b"
             ],
             [
              0.6666666666666666,
              "#ed7953"
             ],
             [
              0.7777777777777778,
              "#fb9f3a"
             ],
             [
              0.8888888888888888,
              "#fdca26"
             ],
             [
              1,
              "#f0f921"
             ]
            ],
            "type": "heatmapgl"
           }
          ],
          "histogram": [
           {
            "marker": {
             "pattern": {
              "fillmode": "overlay",
              "size": 10,
              "solidity": 0.2
             }
            },
            "type": "histogram"
           }
          ],
          "histogram2d": [
           {
            "colorbar": {
             "outlinewidth": 0,
             "ticks": ""
            },
            "colorscale": [
             [
              0,
              "#0d0887"
             ],
             [
              0.1111111111111111,
              "#46039f"
             ],
             [
              0.2222222222222222,
              "#7201a8"
             ],
             [
              0.3333333333333333,
              "#9c179e"
             ],
             [
              0.4444444444444444,
              "#bd3786"
             ],
             [
              0.5555555555555556,
              "#d8576b"
             ],
             [
              0.6666666666666666,
              "#ed7953"
             ],
             [
              0.7777777777777778,
              "#fb9f3a"
             ],
             [
              0.8888888888888888,
              "#fdca26"
             ],
             [
              1,
              "#f0f921"
             ]
            ],
            "type": "histogram2d"
           }
          ],
          "histogram2dcontour": [
           {
            "colorbar": {
             "outlinewidth": 0,
             "ticks": ""
            },
            "colorscale": [
             [
              0,
              "#0d0887"
             ],
             [
              0.1111111111111111,
              "#46039f"
             ],
             [
              0.2222222222222222,
              "#7201a8"
             ],
             [
              0.3333333333333333,
              "#9c179e"
             ],
             [
              0.4444444444444444,
              "#bd3786"
             ],
             [
              0.5555555555555556,
              "#d8576b"
             ],
             [
              0.6666666666666666,
              "#ed7953"
             ],
             [
              0.7777777777777778,
              "#fb9f3a"
             ],
             [
              0.8888888888888888,
              "#fdca26"
             ],
             [
              1,
              "#f0f921"
             ]
            ],
            "type": "histogram2dcontour"
           }
          ],
          "mesh3d": [
           {
            "colorbar": {
             "outlinewidth": 0,
             "ticks": ""
            },
            "type": "mesh3d"
           }
          ],
          "parcoords": [
           {
            "line": {
             "colorbar": {
              "outlinewidth": 0,
              "ticks": ""
             }
            },
            "type": "parcoords"
           }
          ],
          "pie": [
           {
            "automargin": true,
            "type": "pie"
           }
          ],
          "scatter": [
           {
            "fillpattern": {
             "fillmode": "overlay",
             "size": 10,
             "solidity": 0.2
            },
            "type": "scatter"
           }
          ],
          "scatter3d": [
           {
            "line": {
             "colorbar": {
              "outlinewidth": 0,
              "ticks": ""
             }
            },
            "marker": {
             "colorbar": {
              "outlinewidth": 0,
              "ticks": ""
             }
            },
            "type": "scatter3d"
           }
          ],
          "scattercarpet": [
           {
            "marker": {
             "colorbar": {
              "outlinewidth": 0,
              "ticks": ""
             }
            },
            "type": "scattercarpet"
           }
          ],
          "scattergeo": [
           {
            "marker": {
             "colorbar": {
              "outlinewidth": 0,
              "ticks": ""
             }
            },
            "type": "scattergeo"
           }
          ],
          "scattergl": [
           {
            "marker": {
             "colorbar": {
              "outlinewidth": 0,
              "ticks": ""
             }
            },
            "type": "scattergl"
           }
          ],
          "scattermapbox": [
           {
            "marker": {
             "colorbar": {
              "outlinewidth": 0,
              "ticks": ""
             }
            },
            "type": "scattermapbox"
           }
          ],
          "scatterpolar": [
           {
            "marker": {
             "colorbar": {
              "outlinewidth": 0,
              "ticks": ""
             }
            },
            "type": "scatterpolar"
           }
          ],
          "scatterpolargl": [
           {
            "marker": {
             "colorbar": {
              "outlinewidth": 0,
              "ticks": ""
             }
            },
            "type": "scatterpolargl"
           }
          ],
          "scatterternary": [
           {
            "marker": {
             "colorbar": {
              "outlinewidth": 0,
              "ticks": ""
             }
            },
            "type": "scatterternary"
           }
          ],
          "surface": [
           {
            "colorbar": {
             "outlinewidth": 0,
             "ticks": ""
            },
            "colorscale": [
             [
              0,
              "#0d0887"
             ],
             [
              0.1111111111111111,
              "#46039f"
             ],
             [
              0.2222222222222222,
              "#7201a8"
             ],
             [
              0.3333333333333333,
              "#9c179e"
             ],
             [
              0.4444444444444444,
              "#bd3786"
             ],
             [
              0.5555555555555556,
              "#d8576b"
             ],
             [
              0.6666666666666666,
              "#ed7953"
             ],
             [
              0.7777777777777778,
              "#fb9f3a"
             ],
             [
              0.8888888888888888,
              "#fdca26"
             ],
             [
              1,
              "#f0f921"
             ]
            ],
            "type": "surface"
           }
          ],
          "table": [
           {
            "cells": {
             "fill": {
              "color": "#EBF0F8"
             },
             "line": {
              "color": "white"
             }
            },
            "header": {
             "fill": {
              "color": "#C8D4E3"
             },
             "line": {
              "color": "white"
             }
            },
            "type": "table"
           }
          ]
         },
         "layout": {
          "annotationdefaults": {
           "arrowcolor": "#2a3f5f",
           "arrowhead": 0,
           "arrowwidth": 1
          },
          "autotypenumbers": "strict",
          "coloraxis": {
           "colorbar": {
            "outlinewidth": 0,
            "ticks": ""
           }
          },
          "colorscale": {
           "diverging": [
            [
             0,
             "#8e0152"
            ],
            [
             0.1,
             "#c51b7d"
            ],
            [
             0.2,
             "#de77ae"
            ],
            [
             0.3,
             "#f1b6da"
            ],
            [
             0.4,
             "#fde0ef"
            ],
            [
             0.5,
             "#f7f7f7"
            ],
            [
             0.6,
             "#e6f5d0"
            ],
            [
             0.7,
             "#b8e186"
            ],
            [
             0.8,
             "#7fbc41"
            ],
            [
             0.9,
             "#4d9221"
            ],
            [
             1,
             "#276419"
            ]
           ],
           "sequential": [
            [
             0,
             "#0d0887"
            ],
            [
             0.1111111111111111,
             "#46039f"
            ],
            [
             0.2222222222222222,
             "#7201a8"
            ],
            [
             0.3333333333333333,
             "#9c179e"
            ],
            [
             0.4444444444444444,
             "#bd3786"
            ],
            [
             0.5555555555555556,
             "#d8576b"
            ],
            [
             0.6666666666666666,
             "#ed7953"
            ],
            [
             0.7777777777777778,
             "#fb9f3a"
            ],
            [
             0.8888888888888888,
             "#fdca26"
            ],
            [
             1,
             "#f0f921"
            ]
           ],
           "sequentialminus": [
            [
             0,
             "#0d0887"
            ],
            [
             0.1111111111111111,
             "#46039f"
            ],
            [
             0.2222222222222222,
             "#7201a8"
            ],
            [
             0.3333333333333333,
             "#9c179e"
            ],
            [
             0.4444444444444444,
             "#bd3786"
            ],
            [
             0.5555555555555556,
             "#d8576b"
            ],
            [
             0.6666666666666666,
             "#ed7953"
            ],
            [
             0.7777777777777778,
             "#fb9f3a"
            ],
            [
             0.8888888888888888,
             "#fdca26"
            ],
            [
             1,
             "#f0f921"
            ]
           ]
          },
          "colorway": [
           "#636efa",
           "#EF553B",
           "#00cc96",
           "#ab63fa",
           "#FFA15A",
           "#19d3f3",
           "#FF6692",
           "#B6E880",
           "#FF97FF",
           "#FECB52"
          ],
          "font": {
           "color": "#2a3f5f"
          },
          "geo": {
           "bgcolor": "white",
           "lakecolor": "white",
           "landcolor": "#E5ECF6",
           "showlakes": true,
           "showland": true,
           "subunitcolor": "white"
          },
          "hoverlabel": {
           "align": "left"
          },
          "hovermode": "closest",
          "mapbox": {
           "style": "light"
          },
          "paper_bgcolor": "white",
          "plot_bgcolor": "#E5ECF6",
          "polar": {
           "angularaxis": {
            "gridcolor": "white",
            "linecolor": "white",
            "ticks": ""
           },
           "bgcolor": "#E5ECF6",
           "radialaxis": {
            "gridcolor": "white",
            "linecolor": "white",
            "ticks": ""
           }
          },
          "scene": {
           "xaxis": {
            "backgroundcolor": "#E5ECF6",
            "gridcolor": "white",
            "gridwidth": 2,
            "linecolor": "white",
            "showbackground": true,
            "ticks": "",
            "zerolinecolor": "white"
           },
           "yaxis": {
            "backgroundcolor": "#E5ECF6",
            "gridcolor": "white",
            "gridwidth": 2,
            "linecolor": "white",
            "showbackground": true,
            "ticks": "",
            "zerolinecolor": "white"
           },
           "zaxis": {
            "backgroundcolor": "#E5ECF6",
            "gridcolor": "white",
            "gridwidth": 2,
            "linecolor": "white",
            "showbackground": true,
            "ticks": "",
            "zerolinecolor": "white"
           }
          },
          "shapedefaults": {
           "line": {
            "color": "#2a3f5f"
           }
          },
          "ternary": {
           "aaxis": {
            "gridcolor": "white",
            "linecolor": "white",
            "ticks": ""
           },
           "baxis": {
            "gridcolor": "white",
            "linecolor": "white",
            "ticks": ""
           },
           "bgcolor": "#E5ECF6",
           "caxis": {
            "gridcolor": "white",
            "linecolor": "white",
            "ticks": ""
           }
          },
          "title": {
           "x": 0.05
          },
          "xaxis": {
           "automargin": true,
           "gridcolor": "white",
           "linecolor": "white",
           "ticks": "",
           "title": {
            "standoff": 15
           },
           "zerolinecolor": "white",
           "zerolinewidth": 2
          },
          "yaxis": {
           "automargin": true,
           "gridcolor": "white",
           "linecolor": "white",
           "ticks": "",
           "title": {
            "standoff": 15
           },
           "zerolinecolor": "white",
           "zerolinewidth": 2
          }
         }
        },
        "title": {
         "text": "Nelson-Siegel-Svensson Model Fit to Zero-Coupon Yields",
         "x": 0.5
        },
        "width": 900,
        "xaxis": {
         "linecolor": "black",
         "linewidth": 1,
         "range": [
          0,
          27
         ],
         "showline": true,
         "ticklen": 5,
         "ticks": "inside",
         "tickson": "boundaries",
         "tickvals": [
          1,
          2,
          3,
          4,
          5,
          6,
          7,
          8,
          9,
          10,
          15,
          20,
          25
         ],
         "title": {
          "text": "Time to Maturity (Years)"
         }
        },
        "yaxis": {
         "gridcolor": "rgba(38,38,38,0.15)",
         "linecolor": "Grey",
         "linewidth": 1,
         "showline": true,
         "title": {
          "text": "Yield (%)"
         }
        }
       }
      }
     },
     "metadata": {},
     "output_type": "display_data"
    }
   ],
   "source": [
    "# Plot the zero-coupon yield curve estimated via the NSS model and Cubic Spline\n",
    "gr.graph_discount2(maturity_range, cs(maturity_range) * 100,t , y_model_values * 100,'Nelson-Siegel-Svensson Model Fit to Zero-Coupon Yields','Yield (%)','Q2.1 Cubic Splines Yield Curve','Q3.1 NSS Yield Curve')"
   ]
  },
  {
   "cell_type": "markdown",
   "id": "5ce4f207b44554dc",
   "metadata": {},
   "source": [
    "#### Question 3.3:"
   ]
  },
  {
   "cell_type": "code",
   "execution_count": 22,
   "id": "3dd79926",
   "metadata": {
    "ExecuteTime": {
     "end_time": "2024-10-29T10:28:13.954083Z",
     "start_time": "2024-10-29T10:28:13.617324Z"
    }
   },
   "outputs": [],
   "source": [
    "# Calculate factor loadings for each maturity\n",
    "def factor_loadings(t, tau1, tau2):\n",
    "    \n",
    "    loading1 = np.ones_like(t)\n",
    "    loading2 = ((1 - np.exp(-t / tau1)) / (t / tau1))\n",
    "    loading3 = (((1 - np.exp(-t / tau1)) / (t / tau1)) - np.exp(-t / tau1))\n",
    "    loading4 = (((1 - np.exp(-t / tau2)) / (t / tau2)) - np.exp(-t / tau2))\n",
    "    \n",
    "    return loading1, loading2, loading3, loading4"
   ]
  },
  {
   "cell_type": "code",
   "execution_count": 23,
   "id": "125b1946",
   "metadata": {
    "ExecuteTime": {
     "end_time": "2024-10-29T10:28:14.403169Z",
     "start_time": "2024-10-29T10:28:14.080222Z"
    }
   },
   "outputs": [],
   "source": [
    "# Extract estimated parameters from the curve obtained in Q3.1\n",
    "beta0_est = curve.beta0\n",
    "beta1_est = curve.beta1\n",
    "beta2_est = curve.beta2\n",
    "beta3_est = curve.beta3\n",
    "tau1_est = curve.tau1\n",
    "tau2_est = curve.tau2\n",
    "\n",
    "# Define maturities for plotting (fine grid for smooth curves)\n",
    "t_plot = np.linspace(0.1, max(t), 200)  "
   ]
  },
  {
   "cell_type": "code",
   "execution_count": 24,
   "id": "346014407c16e2c1",
   "metadata": {
    "ExecuteTime": {
     "end_time": "2024-10-29T10:28:14.843562Z",
     "start_time": "2024-10-29T10:28:14.514840Z"
    }
   },
   "outputs": [],
   "source": [
    "loading1, loading2, loading3, loading4 = factor_loadings(t_plot, tau1_est, tau2_est)\n",
    "\n",
    "# Calculate contributions from each factor\n",
    "contribution1 = beta0_est * loading1\n",
    "contribution2 = beta1_est * loading2\n",
    "contribution3 = beta2_est * loading3\n",
    "contribution4 = beta3_est * loading4\n",
    "\n",
    "# Calculate the total model yield for plotting\n",
    "y_model_plot = contribution1 + contribution2 + contribution3 + contribution4"
   ]
  },
  {
   "cell_type": "code",
   "execution_count": 25,
   "id": "8399660a",
   "metadata": {
    "ExecuteTime": {
     "end_time": "2024-10-29T10:28:15.722145Z",
     "start_time": "2024-10-29T10:28:14.953822Z"
    }
   },
   "outputs": [
    {
     "data": {
      "application/vnd.plotly.v1+json": {
       "config": {
        "plotlyServerURL": "https://plot.ly"
       },
       "data": [
        {
         "line": {
          "color": "rgb(0, 71, 102)"
         },
         "mode": "lines",
         "name": "Level Factor Loading (β0)",
         "type": "scatter",
         "x": [
          0.1,
          0.23015075376884422,
          0.3603015075376884,
          0.49045226130653263,
          0.6206030150753769,
          0.7507537688442211,
          0.8809045226130653,
          1.0110552763819096,
          1.1412060301507538,
          1.271356783919598,
          1.4015075376884423,
          1.5316582914572865,
          1.6618090452261307,
          1.791959798994975,
          1.9221105527638191,
          2.0522613065326634,
          2.1824120603015076,
          2.312562814070352,
          2.442713567839196,
          2.5728643216080402,
          2.7030150753768845,
          2.8331658291457287,
          2.963316582914573,
          3.093467336683417,
          3.2236180904522613,
          3.3537688442211055,
          3.4839195979899498,
          3.614070351758794,
          3.744221105527638,
          3.8743718592964824,
          4.004522613065326,
          4.13467336683417,
          4.264824120603015,
          4.394974874371859,
          4.525125628140703,
          4.655276381909547,
          4.7854271356783915,
          4.915577889447236,
          5.04572864321608,
          5.175879396984924,
          5.306030150753768,
          5.436180904522613,
          5.566331658291457,
          5.696482412060301,
          5.826633165829145,
          5.9567839195979895,
          6.086934673366834,
          6.217085427135678,
          6.347236180904522,
          6.477386934673366,
          6.607537688442211,
          6.737688442211055,
          6.867839195979899,
          6.997989949748743,
          7.128140703517587,
          7.258291457286432,
          7.388442211055276,
          7.51859296482412,
          7.648743718592964,
          7.7788944723618085,
          7.909045226130653,
          8.039195979899498,
          8.169346733668341,
          8.299497487437185,
          8.42964824120603,
          8.559798994974875,
          8.689949748743718,
          8.820100502512561,
          8.950251256281406,
          9.080402010050252,
          9.210552763819095,
          9.340703517587938,
          9.470854271356783,
          9.601005025125628,
          9.731155778894472,
          9.861306532663315,
          9.99145728643216,
          10.121608040201005,
          10.251758793969849,
          10.381909547738692,
          10.512060301507537,
          10.642211055276382,
          10.772361809045226,
          10.902512562814069,
          11.032663316582914,
          11.162814070351759,
          11.292964824120602,
          11.423115577889446,
          11.55326633165829,
          11.683417085427136,
          11.81356783919598,
          11.943718592964823,
          12.073869346733668,
          12.204020100502513,
          12.334170854271356,
          12.4643216080402,
          12.594472361809045,
          12.72462311557789,
          12.854773869346733,
          12.984924623115576,
          13.115075376884421,
          13.245226130653267,
          13.37537688442211,
          13.505527638190953,
          13.635678391959798,
          13.765829145728643,
          13.895979899497487,
          14.02613065326633,
          14.156281407035175,
          14.28643216080402,
          14.416582914572864,
          14.546733668341707,
          14.676884422110552,
          14.807035175879397,
          14.93718592964824,
          15.067336683417084,
          15.197487437185929,
          15.327638190954774,
          15.457788944723617,
          15.58793969849246,
          15.718090452261306,
          15.848241206030151,
          15.978391959798994,
          16.10854271356784,
          16.238693467336685,
          16.36884422110553,
          16.49899497487437,
          16.629145728643216,
          16.75929648241206,
          16.889447236180906,
          17.01959798994975,
          17.149748743718593,
          17.27989949748744,
          17.410050251256283,
          17.540201005025125,
          17.67035175879397,
          17.800502512562815,
          17.93065326633166,
          18.060804020100505,
          18.190954773869347,
          18.321105527638192,
          18.451256281407037,
          18.58140703517588,
          18.711557788944724,
          18.84170854271357,
          18.971859296482414,
          19.10201005025126,
          19.2321608040201,
          19.362311557788946,
          19.49246231155779,
          19.622613065326632,
          19.752763819095478,
          19.882914572864323,
          20.013065326633168,
          20.143216080402013,
          20.273366834170854,
          20.4035175879397,
          20.533668341708545,
          20.663819095477386,
          20.79396984924623,
          20.924120603015076,
          21.05427135678392,
          21.184422110552767,
          21.314572864321608,
          21.444723618090453,
          21.5748743718593,
          21.70502512562814,
          21.835175879396985,
          21.96532663316583,
          22.095477386934675,
          22.22562814070352,
          22.355778894472362,
          22.485929648241207,
          22.616080402010052,
          22.746231155778894,
          22.87638190954774,
          23.006532663316584,
          23.13668341708543,
          23.266834170854274,
          23.396984924623116,
          23.52713567839196,
          23.657286432160806,
          23.787437185929647,
          23.917587939698493,
          24.047738693467338,
          24.177889447236183,
          24.308040201005028,
          24.43819095477387,
          24.568341708542714,
          24.69849246231156,
          24.8286432160804,
          24.958793969849246,
          25.08894472361809,
          25.219095477386936,
          25.34924623115578,
          25.479396984924623,
          25.60954773869347,
          25.739698492462313,
          25.869849246231155,
          26
         ],
         "y": [
          1,
          1,
          1,
          1,
          1,
          1,
          1,
          1,
          1,
          1,
          1,
          1,
          1,
          1,
          1,
          1,
          1,
          1,
          1,
          1,
          1,
          1,
          1,
          1,
          1,
          1,
          1,
          1,
          1,
          1,
          1,
          1,
          1,
          1,
          1,
          1,
          1,
          1,
          1,
          1,
          1,
          1,
          1,
          1,
          1,
          1,
          1,
          1,
          1,
          1,
          1,
          1,
          1,
          1,
          1,
          1,
          1,
          1,
          1,
          1,
          1,
          1,
          1,
          1,
          1,
          1,
          1,
          1,
          1,
          1,
          1,
          1,
          1,
          1,
          1,
          1,
          1,
          1,
          1,
          1,
          1,
          1,
          1,
          1,
          1,
          1,
          1,
          1,
          1,
          1,
          1,
          1,
          1,
          1,
          1,
          1,
          1,
          1,
          1,
          1,
          1,
          1,
          1,
          1,
          1,
          1,
          1,
          1,
          1,
          1,
          1,
          1,
          1,
          1,
          1,
          1,
          1,
          1,
          1,
          1,
          1,
          1,
          1,
          1,
          1,
          1,
          1,
          1,
          1,
          1,
          1,
          1,
          1,
          1,
          1,
          1,
          1,
          1,
          1,
          1,
          1,
          1,
          1,
          1,
          1,
          1,
          1,
          1,
          1,
          1,
          1,
          1,
          1,
          1,
          1,
          1,
          1,
          1,
          1,
          1,
          1,
          1,
          1,
          1,
          1,
          1,
          1,
          1,
          1,
          1,
          1,
          1,
          1,
          1,
          1,
          1,
          1,
          1,
          1,
          1,
          1,
          1,
          1,
          1,
          1,
          1,
          1,
          1,
          1,
          1,
          1,
          1,
          1,
          1,
          1,
          1,
          1,
          1,
          1,
          1
         ]
        },
        {
         "line": {
          "color": "red"
         },
         "mode": "lines",
         "name": "Slope Factor Loading (β1)",
         "type": "scatter",
         "x": [
          0.1,
          0.23015075376884422,
          0.3603015075376884,
          0.49045226130653263,
          0.6206030150753769,
          0.7507537688442211,
          0.8809045226130653,
          1.0110552763819096,
          1.1412060301507538,
          1.271356783919598,
          1.4015075376884423,
          1.5316582914572865,
          1.6618090452261307,
          1.791959798994975,
          1.9221105527638191,
          2.0522613065326634,
          2.1824120603015076,
          2.312562814070352,
          2.442713567839196,
          2.5728643216080402,
          2.7030150753768845,
          2.8331658291457287,
          2.963316582914573,
          3.093467336683417,
          3.2236180904522613,
          3.3537688442211055,
          3.4839195979899498,
          3.614070351758794,
          3.744221105527638,
          3.8743718592964824,
          4.004522613065326,
          4.13467336683417,
          4.264824120603015,
          4.394974874371859,
          4.525125628140703,
          4.655276381909547,
          4.7854271356783915,
          4.915577889447236,
          5.04572864321608,
          5.175879396984924,
          5.306030150753768,
          5.436180904522613,
          5.566331658291457,
          5.696482412060301,
          5.826633165829145,
          5.9567839195979895,
          6.086934673366834,
          6.217085427135678,
          6.347236180904522,
          6.477386934673366,
          6.607537688442211,
          6.737688442211055,
          6.867839195979899,
          6.997989949748743,
          7.128140703517587,
          7.258291457286432,
          7.388442211055276,
          7.51859296482412,
          7.648743718592964,
          7.7788944723618085,
          7.909045226130653,
          8.039195979899498,
          8.169346733668341,
          8.299497487437185,
          8.42964824120603,
          8.559798994974875,
          8.689949748743718,
          8.820100502512561,
          8.950251256281406,
          9.080402010050252,
          9.210552763819095,
          9.340703517587938,
          9.470854271356783,
          9.601005025125628,
          9.731155778894472,
          9.861306532663315,
          9.99145728643216,
          10.121608040201005,
          10.251758793969849,
          10.381909547738692,
          10.512060301507537,
          10.642211055276382,
          10.772361809045226,
          10.902512562814069,
          11.032663316582914,
          11.162814070351759,
          11.292964824120602,
          11.423115577889446,
          11.55326633165829,
          11.683417085427136,
          11.81356783919598,
          11.943718592964823,
          12.073869346733668,
          12.204020100502513,
          12.334170854271356,
          12.4643216080402,
          12.594472361809045,
          12.72462311557789,
          12.854773869346733,
          12.984924623115576,
          13.115075376884421,
          13.245226130653267,
          13.37537688442211,
          13.505527638190953,
          13.635678391959798,
          13.765829145728643,
          13.895979899497487,
          14.02613065326633,
          14.156281407035175,
          14.28643216080402,
          14.416582914572864,
          14.546733668341707,
          14.676884422110552,
          14.807035175879397,
          14.93718592964824,
          15.067336683417084,
          15.197487437185929,
          15.327638190954774,
          15.457788944723617,
          15.58793969849246,
          15.718090452261306,
          15.848241206030151,
          15.978391959798994,
          16.10854271356784,
          16.238693467336685,
          16.36884422110553,
          16.49899497487437,
          16.629145728643216,
          16.75929648241206,
          16.889447236180906,
          17.01959798994975,
          17.149748743718593,
          17.27989949748744,
          17.410050251256283,
          17.540201005025125,
          17.67035175879397,
          17.800502512562815,
          17.93065326633166,
          18.060804020100505,
          18.190954773869347,
          18.321105527638192,
          18.451256281407037,
          18.58140703517588,
          18.711557788944724,
          18.84170854271357,
          18.971859296482414,
          19.10201005025126,
          19.2321608040201,
          19.362311557788946,
          19.49246231155779,
          19.622613065326632,
          19.752763819095478,
          19.882914572864323,
          20.013065326633168,
          20.143216080402013,
          20.273366834170854,
          20.4035175879397,
          20.533668341708545,
          20.663819095477386,
          20.79396984924623,
          20.924120603015076,
          21.05427135678392,
          21.184422110552767,
          21.314572864321608,
          21.444723618090453,
          21.5748743718593,
          21.70502512562814,
          21.835175879396985,
          21.96532663316583,
          22.095477386934675,
          22.22562814070352,
          22.355778894472362,
          22.485929648241207,
          22.616080402010052,
          22.746231155778894,
          22.87638190954774,
          23.006532663316584,
          23.13668341708543,
          23.266834170854274,
          23.396984924623116,
          23.52713567839196,
          23.657286432160806,
          23.787437185929647,
          23.917587939698493,
          24.047738693467338,
          24.177889447236183,
          24.308040201005028,
          24.43819095477387,
          24.568341708542714,
          24.69849246231156,
          24.8286432160804,
          24.958793969849246,
          25.08894472361809,
          25.219095477386936,
          25.34924623115578,
          25.479396984924623,
          25.60954773869347,
          25.739698492462313,
          25.869849246231155,
          26
         ],
         "y": [
          0.9842836538820522,
          0.964319501479257,
          0.9448948289205288,
          0.9259932411238883,
          0.907598874394736,
          0.8896963784868747,
          0.8722708992863826,
          0.855308062096287,
          0.838793955500735,
          0.8227151157881639,
          0.8070585119136827,
          0.7918115309815974,
          0.7769619642297086,
          0.7624979934976487,
          0.7484081781621813,
          0.7346814425229887,
          0.7213070636230645,
          0.708274659488405,
          0.6955741777722292,
          0.6831958847894998,
          0.6711303549280162,
          0.6593684604228479,
          0.6479013614813459,
          0.6367204967464317,
          0.6258175740862929,
          0.615184561699052,
          0.6048136795213671,
          0.5946973909303332,
          0.5848283947284184,
          0.5751996174015429,
          0.565804205640759,
          0.5566355191183274,
          0.5476871235093194,
          0.5389527837501785,
          0.5304264575259932,
          0.522102288978513,
          0.5139746026272325,
          0.5060378974961331,
          0.4982868414389396,
          0.490716265656,
          0.48332115939614084,
          0.476096664837087,
          0.46903807213825893,
          0.4621408146599833,
          0.4554004643433593,
          0.44881272724522886,
          0.44237343922289496,
          0.4360785617634192,
          0.42992417795251436,
          0.42390648857822166,
          0.41802180836473174,
          0.4122665623318737,
          0.40663728227595075,
          0.40113060336775586,
          0.39574326086374495,
          0.3904720869264877,
          0.3853140075506521,
          0.3802660395909078,
          0.3753252878882653,
          0.37048894249148184,
          0.3657542759702923,
          0.36111864081732753,
          0.35657946693570003,
          0.35213425920933494,
          0.34778059515323473,
          0.34351612264095466,
          0.3393385577066696,
          0.335245682419297,
          0.33123534282623446,
          0.32730544696435193,
          0.323453962935961,
          0.31967891704756446,
          0.3159783920092641,
          0.31235052519277823,
          0.30879350694609276,
          0.3053055789628361,
          0.3018850327045363,
          0.298530207873981,
          0.29523949093796276,
          0.2920113136977522,
          0.28884415190569723,
          0.28573652392640325,
          0.28268698944100223,
          0.279694148193068,
          0.2767566387747881,
          0.2738731374520478,
          0.2710423570271279,
          0.26826304573776494,
          0.26553398619136215,
          0.26285399433318374,
          0.2602219184474036,
          0.257636638189918,
          0.2550970636518702,
          0.2526021344528698,
          0.25015081886292556,
          0.24774211295214144,
          0.24537503976726174,
          0.24304864853417868,
          0.24076201388554794,
          0.23851423511268705,
          0.23630443544095703,
          0.23413176132785862,
          0.2319953817830966,
          0.229894487709894,
          0.22782829126686038,
          0.22579602524974324,
          0.22379694249241272,
          0.2218303152864541,
          0.2198954348187603,
          0.2179916106265407,
          0.21611817006917952,
          0.2142744578163975,
          0.21245983535218801,
          0.21067368049401808,
          0.20891538692679928,
          0.20718436375115304,
          0.20548003504550844,
          0.2038018394415874,
          0.202149229712846,
          0.20052167237545687,
          0.19891864730142844,
          0.19733964734347365,
          0.1957841779712511,
          0.1942517569186156,
          0.19274191384152603,
          0.19125418998627158,
          0.18978813786768675,
          0.18834332095703843,
          0.18691931337927695,
          0.18551569961935513,
          0.1841320742373271,
          0.18276804159194987,
          0.1814232155725183,
          0.18009721933867517,
          0.17878968506794315,
          0.17750025371073722,
          0.1762285747526223,
          0.17497430598358804,
          0.17373711327412183,
          0.17251667035786694,
          0.1713126586206598,
          0.17012476689574854,
          0.16895269126499857,
          0.16779613486590036,
          0.1666548077041989,
          0.1655284264719699,
          0.1644167143709748,
          0.16331940094113104,
          0.16223622189393952,
          0.16116691895071691,
          0.16011123968548438,
          0.15906893737236968,
          0.15803977083738494,
          0.15702350431444456,
          0.15601990730549503,
          0.15502875444463013,
          0.15404982536607,
          0.1530829045758874,
          0.15212778132736585,
          0.15118424949988,
          0.15025210748119255,
          0.1493311580530623,
          0.14842120828006497,
          0.14752206940152934,
          0.14663355672649464,
          0.14575548953159922,
          0.14488769096181142,
          0.14402998793391836,
          0.14318221104269,
          0.14234419446963834,
          0.1415157758942945,
          0.14069679640792912,
          0.13988710042964284,
          0.13908653562475737,
          0.13829495282543836,
          0.13751220595348446,
          0.13673815194521885,
          0.13597265067842082,
          0.13521556490123793,
          0.13446676016302037,
          0.1337261047470213,
          0.13299346960490865,
          0.13226872829303563,
          0.13155175691041812,
          0.13084243403837034,
          0.13014064068174983,
          0.12944626021176533,
          0.1287591783103026,
          0.12807928291572404,
          0.12740646417010004,
          0.12674061436783057,
          0.1260816279056171,
          0.12542940123374646,
          0.12478383280864898,
          0.12414482304669436,
          0.1235122742791904,
          0.12288609070855,
          0.12226617836559373,
          0.12165244506795532,
          0.12104480037955931
         ]
        },
        {
         "line": {
          "color": "rgb(153, 100, 50)"
         },
         "mode": "lines",
         "name": "Curvature Factor 1 Loading (β2)",
         "type": "scatter",
         "x": [
          0.1,
          0.23015075376884422,
          0.3603015075376884,
          0.49045226130653263,
          0.6206030150753769,
          0.7507537688442211,
          0.8809045226130653,
          1.0110552763819096,
          1.1412060301507538,
          1.271356783919598,
          1.4015075376884423,
          1.5316582914572865,
          1.6618090452261307,
          1.791959798994975,
          1.9221105527638191,
          2.0522613065326634,
          2.1824120603015076,
          2.312562814070352,
          2.442713567839196,
          2.5728643216080402,
          2.7030150753768845,
          2.8331658291457287,
          2.963316582914573,
          3.093467336683417,
          3.2236180904522613,
          3.3537688442211055,
          3.4839195979899498,
          3.614070351758794,
          3.744221105527638,
          3.8743718592964824,
          4.004522613065326,
          4.13467336683417,
          4.264824120603015,
          4.394974874371859,
          4.525125628140703,
          4.655276381909547,
          4.7854271356783915,
          4.915577889447236,
          5.04572864321608,
          5.175879396984924,
          5.306030150753768,
          5.436180904522613,
          5.566331658291457,
          5.696482412060301,
          5.826633165829145,
          5.9567839195979895,
          6.086934673366834,
          6.217085427135678,
          6.347236180904522,
          6.477386934673366,
          6.607537688442211,
          6.737688442211055,
          6.867839195979899,
          6.997989949748743,
          7.128140703517587,
          7.258291457286432,
          7.388442211055276,
          7.51859296482412,
          7.648743718592964,
          7.7788944723618085,
          7.909045226130653,
          8.039195979899498,
          8.169346733668341,
          8.299497487437185,
          8.42964824120603,
          8.559798994974875,
          8.689949748743718,
          8.820100502512561,
          8.950251256281406,
          9.080402010050252,
          9.210552763819095,
          9.340703517587938,
          9.470854271356783,
          9.601005025125628,
          9.731155778894472,
          9.861306532663315,
          9.99145728643216,
          10.121608040201005,
          10.251758793969849,
          10.381909547738692,
          10.512060301507537,
          10.642211055276382,
          10.772361809045226,
          10.902512562814069,
          11.032663316582914,
          11.162814070351759,
          11.292964824120602,
          11.423115577889446,
          11.55326633165829,
          11.683417085427136,
          11.81356783919598,
          11.943718592964823,
          12.073869346733668,
          12.204020100502513,
          12.334170854271356,
          12.4643216080402,
          12.594472361809045,
          12.72462311557789,
          12.854773869346733,
          12.984924623115576,
          13.115075376884421,
          13.245226130653267,
          13.37537688442211,
          13.505527638190953,
          13.635678391959798,
          13.765829145728643,
          13.895979899497487,
          14.02613065326633,
          14.156281407035175,
          14.28643216080402,
          14.416582914572864,
          14.546733668341707,
          14.676884422110552,
          14.807035175879397,
          14.93718592964824,
          15.067336683417084,
          15.197487437185929,
          15.327638190954774,
          15.457788944723617,
          15.58793969849246,
          15.718090452261306,
          15.848241206030151,
          15.978391959798994,
          16.10854271356784,
          16.238693467336685,
          16.36884422110553,
          16.49899497487437,
          16.629145728643216,
          16.75929648241206,
          16.889447236180906,
          17.01959798994975,
          17.149748743718593,
          17.27989949748744,
          17.410050251256283,
          17.540201005025125,
          17.67035175879397,
          17.800502512562815,
          17.93065326633166,
          18.060804020100505,
          18.190954773869347,
          18.321105527638192,
          18.451256281407037,
          18.58140703517588,
          18.711557788944724,
          18.84170854271357,
          18.971859296482414,
          19.10201005025126,
          19.2321608040201,
          19.362311557788946,
          19.49246231155779,
          19.622613065326632,
          19.752763819095478,
          19.882914572864323,
          20.013065326633168,
          20.143216080402013,
          20.273366834170854,
          20.4035175879397,
          20.533668341708545,
          20.663819095477386,
          20.79396984924623,
          20.924120603015076,
          21.05427135678392,
          21.184422110552767,
          21.314572864321608,
          21.444723618090453,
          21.5748743718593,
          21.70502512562814,
          21.835175879396985,
          21.96532663316583,
          22.095477386934675,
          22.22562814070352,
          22.355778894472362,
          22.485929648241207,
          22.616080402010052,
          22.746231155778894,
          22.87638190954774,
          23.006532663316584,
          23.13668341708543,
          23.266834170854274,
          23.396984924623116,
          23.52713567839196,
          23.657286432160806,
          23.787437185929647,
          23.917587939698493,
          24.047738693467338,
          24.177889447236183,
          24.308040201005028,
          24.43819095477387,
          24.568341708542714,
          24.69849246231156,
          24.8286432160804,
          24.958793969849246,
          25.08894472361809,
          25.219095477386936,
          25.34924623115578,
          25.479396984924623,
          25.60954773869347,
          25.739698492462313,
          25.869849246231155,
          26
         ],
         "y": [
          0.015550808049728415,
          0.034821500861337396,
          0.05304261510362196,
          0.07026211447128172,
          0.08652588743854472,
          0.1018778348909436,
          0.11635995410419797,
          0.13001241922132944,
          0.14287365837286103,
          0.1549804275790364,
          0.16636788156724092,
          0.17706964163233307,
          0.1871178606623497,
          0.19654328544697686,
          0.2053753163813683,
          0.21364206467323765,
          0.22137040715670997,
          0.22858603881215644,
          0.23531352308713405,
          0.24157634010964513,
          0.24739693288115916,
          0.25279675153323816,
          0.257796295728146,
          0.2624151552805107,
          0.26667204907391867,
          0.2705848623432855,
          0.27417068239090525,
          0.2774458328012963,
          0.28042590621725605,
          0.28312579573696967,
          0.28555972498954124,
          0.28774127694394647,
          0.28968342150413423,
          0.29139854194082204,
          0.2928984602084441,
          0.29419446119370474,
          0.2952973159402697,
          0.29621730389228473,
          0.29696423419764534,
          0.29754746611024835,
          0.29797592852882915,
          0.2982581387084373,
          0.29840222017910156,
          0.2984159199048148,
          0.2983066247145858,
          0.2980813770359978,
          0.29774688996044724,
          0.29730956166802813,
          0.29677548923886693,
          0.2961504818766024,
          0.2954400735686364,
          0.29464953520676235,
          0.29378388619079576,
          0.29284790553689266,
          0.29184614251134133,
          0.29078292680974893,
          0.2896623783007166,
          0.2884884163523019,
          0.28726476875881,
          0.2859949802847205,
          0.2846824208418614,
          0.2833302933152698,
          0.28194164105253633,
          0.28051935503081266,
          0.27906618071507483,
          0.2775847246206631,
          0.27607746059258176,
          0.27454673581351785,
          0.2729947765520409,
          0.2714236936619679,
          0.26983548784341693,
          0.2682320546756367,
          0.26661518943127577,
          0.2649865916813514,
          0.2633478696997931,
          0.26170054467606196,
          0.2600460547439936,
          0.2583857588346708,
          0.2567209403608045,
          0.2550528107397903,
          0.2533825127623052,
          0.25171112381302435,
          0.25003965894975905,
          0.24836907384705426,
          0.24670026761003133,
          0.24503408546401687,
          0.2433713213252676,
          0.24171272025787705,
          0.24005898082173688,
          0.23841075731621986,
          0.23676866192405618,
          0.23513326675968582,
          0.23350510582618944,
          0.2318846768847277,
          0.23027244324025387,
          0.2286688354471032,
          0.227074252937915,
          0.22548906557919246,
          0.22391361515666944,
          0.22234821679351802,
          0.22079316030430174,
          0.21924871148745806,
          0.2177151133589746,
          0.21619258732981123,
          0.21468133432951164,
          0.21318153587834568,
          0.21169335511022178,
          0.21021693774851724,
          0.20875241303687908,
          0.20729989462696444,
          0.2058594814250031,
          0.20443125839898638,
          0.20301529734820797,
          0.20161165763681138,
          0.20022038689292468,
          0.19884152167489905,
          0.19747508810610076,
          0.19612110247964498,
          0.19477957183439998,
          0.19345049450353474,
          0.19213386063682625,
          0.19082965269789265,
          0.18953784593746742,
          0.1882584088437816,
          0.1869913035710762,
          0.18573648634722187,
          0.18449390786138153,
          0.1832635136326114,
          0.18204524436025613,
          0.18083903625695918,
          0.17964482136507082,
          0.17846252785720532,
          0.1772920803216643,
          0.17613340003341374,
          0.1749864052112705,
          0.17385101126192742,
          0.17272713101141787,
          0.17161467492459434,
          0.17051355131317122,
          0.1694236665328576,
          0.16834492517008226,
          0.16727723021879332,
          0.1662204832477903,
          0.16517458455902978,
          0.16413943333732492,
          0.16311492779183984,
          0.16210096528976406,
          0.16109744248253374,
          0.16010425542495108,
          0.15912129968753752,
          0.15814847046244118,
          0.1571856626632051,
          0.15623277101869007,
          0.15528969016143035,
          0.15435631471069133,
          0.15343253935048387,
          0.15251825890277915,
          0.15161336839615855,
          0.15071776313011964,
          0.14983133873525203,
          0.14895399122948674,
          0.14808561707061169,
          0.14722611320523987,
          0.14637537711440674,
          0.14553330685596538,
          0.14469980110394154,
          0.14387475918500128,
          0.14305808111217902,
          0.1422496676160062,
          0.14144942017317352,
          0.1406572410328552,
          0.13987303324081676,
          0.13909670066142216,
          0.1383281479976518,
          0.13756728080923628,
          0.13681400552900694,
          0.13606822947755973,
          0.13532986087632304,
          0.13459880885911762,
          0.13387498348229135,
          0.13315829573350804,
          0.1324486575392664,
          0.13174598177122043,
          0.13105018225136986,
          0.13036117375618655,
          0.12967887201973827,
          0.1290031937358692,
          0.12833405655949373,
          0.12767137910705684,
          0.12701508095621217,
          0.12636508264476648,
          0.12572130566893608,
          0.1250836724809597,
          0.12445210648610922,
          0.12382653203913786,
          0.12320687444020359,
          0.12259305993030341,
          0.12198501568625286,
          0.12138266981524241,
          0.12078595134900187
         ]
        },
        {
         "line": {
          "color": "rgb(2, 130, 2)"
         },
         "mode": "lines",
         "name": "Curvature Factor 2 Loading (β3)",
         "type": "scatter",
         "x": [
          0.1,
          0.23015075376884422,
          0.3603015075376884,
          0.49045226130653263,
          0.6206030150753769,
          0.7507537688442211,
          0.8809045226130653,
          1.0110552763819096,
          1.1412060301507538,
          1.271356783919598,
          1.4015075376884423,
          1.5316582914572865,
          1.6618090452261307,
          1.791959798994975,
          1.9221105527638191,
          2.0522613065326634,
          2.1824120603015076,
          2.312562814070352,
          2.442713567839196,
          2.5728643216080402,
          2.7030150753768845,
          2.8331658291457287,
          2.963316582914573,
          3.093467336683417,
          3.2236180904522613,
          3.3537688442211055,
          3.4839195979899498,
          3.614070351758794,
          3.744221105527638,
          3.8743718592964824,
          4.004522613065326,
          4.13467336683417,
          4.264824120603015,
          4.394974874371859,
          4.525125628140703,
          4.655276381909547,
          4.7854271356783915,
          4.915577889447236,
          5.04572864321608,
          5.175879396984924,
          5.306030150753768,
          5.436180904522613,
          5.566331658291457,
          5.696482412060301,
          5.826633165829145,
          5.9567839195979895,
          6.086934673366834,
          6.217085427135678,
          6.347236180904522,
          6.477386934673366,
          6.607537688442211,
          6.737688442211055,
          6.867839195979899,
          6.997989949748743,
          7.128140703517587,
          7.258291457286432,
          7.388442211055276,
          7.51859296482412,
          7.648743718592964,
          7.7788944723618085,
          7.909045226130653,
          8.039195979899498,
          8.169346733668341,
          8.299497487437185,
          8.42964824120603,
          8.559798994974875,
          8.689949748743718,
          8.820100502512561,
          8.950251256281406,
          9.080402010050252,
          9.210552763819095,
          9.340703517587938,
          9.470854271356783,
          9.601005025125628,
          9.731155778894472,
          9.861306532663315,
          9.99145728643216,
          10.121608040201005,
          10.251758793969849,
          10.381909547738692,
          10.512060301507537,
          10.642211055276382,
          10.772361809045226,
          10.902512562814069,
          11.032663316582914,
          11.162814070351759,
          11.292964824120602,
          11.423115577889446,
          11.55326633165829,
          11.683417085427136,
          11.81356783919598,
          11.943718592964823,
          12.073869346733668,
          12.204020100502513,
          12.334170854271356,
          12.4643216080402,
          12.594472361809045,
          12.72462311557789,
          12.854773869346733,
          12.984924623115576,
          13.115075376884421,
          13.245226130653267,
          13.37537688442211,
          13.505527638190953,
          13.635678391959798,
          13.765829145728643,
          13.895979899497487,
          14.02613065326633,
          14.156281407035175,
          14.28643216080402,
          14.416582914572864,
          14.546733668341707,
          14.676884422110552,
          14.807035175879397,
          14.93718592964824,
          15.067336683417084,
          15.197487437185929,
          15.327638190954774,
          15.457788944723617,
          15.58793969849246,
          15.718090452261306,
          15.848241206030151,
          15.978391959798994,
          16.10854271356784,
          16.238693467336685,
          16.36884422110553,
          16.49899497487437,
          16.629145728643216,
          16.75929648241206,
          16.889447236180906,
          17.01959798994975,
          17.149748743718593,
          17.27989949748744,
          17.410050251256283,
          17.540201005025125,
          17.67035175879397,
          17.800502512562815,
          17.93065326633166,
          18.060804020100505,
          18.190954773869347,
          18.321105527638192,
          18.451256281407037,
          18.58140703517588,
          18.711557788944724,
          18.84170854271357,
          18.971859296482414,
          19.10201005025126,
          19.2321608040201,
          19.362311557788946,
          19.49246231155779,
          19.622613065326632,
          19.752763819095478,
          19.882914572864323,
          20.013065326633168,
          20.143216080402013,
          20.273366834170854,
          20.4035175879397,
          20.533668341708545,
          20.663819095477386,
          20.79396984924623,
          20.924120603015076,
          21.05427135678392,
          21.184422110552767,
          21.314572864321608,
          21.444723618090453,
          21.5748743718593,
          21.70502512562814,
          21.835175879396985,
          21.96532663316583,
          22.095477386934675,
          22.22562814070352,
          22.355778894472362,
          22.485929648241207,
          22.616080402010052,
          22.746231155778894,
          22.87638190954774,
          23.006532663316584,
          23.13668341708543,
          23.266834170854274,
          23.396984924623116,
          23.52713567839196,
          23.657286432160806,
          23.787437185929647,
          23.917587939698493,
          24.047738693467338,
          24.177889447236183,
          24.308040201005028,
          24.43819095477387,
          24.568341708542714,
          24.69849246231156,
          24.8286432160804,
          24.958793969849246,
          25.08894472361809,
          25.219095477386936,
          25.34924623115578,
          25.479396984924623,
          25.60954773869347,
          25.739698492462313,
          25.869849246231155,
          26
         ],
         "y": [
          0.009577519525670652,
          0.02167569376640832,
          0.03336950182079945,
          0.04467030877423095,
          0.055589177111526555,
          0.06613687458218687,
          0.07632388186381578,
          0.08616040002885583,
          0.09565635781963788,
          0.10482141873663908,
          0.11366498794470314,
          0.12219621900185329,
          0.13042402041523415,
          0.1383570620285718,
          0.14600378124545854,
          0.15337238909264173,
          0.16047087612739586,
          0.16730701819295635,
          0.17388838202588774,
          0.18022233071916394,
          0.1863160290446405,
          0.19217644863850591,
          0.19781037305321147,
          0.20322440267928266,
          0.20842495954033724,
          0.21341829196454387,
          0.21821047913567881,
          0.2228074355268534,
          0.22721491521990994,
          0.23143851611340416,
          0.2354836840220263,
          0.23935571667022665,
          0.243059767582758,
          0.24660084987476139,
          0.24998383994397116,
          0.25321348106753555,
          0.2562943869058955,
          0.2592310449160988,
          0.2620278196768644,
          0.264688956127658,
          0.2672185827239745,
          0.269620714510977,
          0.2718992561175799,
          0.27405800467301217,
          0.2761006526478479,
          0.27803079062143754,
          0.27985190997762505,
          0.2815674055305893,
          0.2831805780825993,
          0.28469463691542857,
          0.28611270221713203,
          0.2874378074458359,
          0.288672901632165,
          0.28982085162187426,
          0.2908844442602215,
          0.29186638851957625,
          0.2927693175717212,
          0.2935957908062661,
          0.29434829579655747,
          0.2950292502144322,
          0.2956410036951312,
          0.29618583965364953,
          0.29666597705377473,
          0.29708357213102804,
          0.297440720070692,
          0.2977394566420821,
          0.2979817597901854,
          0.29816955118576466,
          0.29830469773499524,
          0.2983890130496766,
          0.29842425887903395,
          0.29841214650409875,
          0.29835433809563017,
          0.2982524480365196,
          0.298108044209591,
          0.2979226492516889,
          0.29769774177492514,
          0.29743475755592896,
          0.29713509069392596,
          0.29680009473845154,
          0.2964310837874801,
          0.29602933355673555,
          0.29559608242092583,
          0.2951325324276266,
          0.29463985028452144,
          0.29411916832068496,
          0.29357158542258266,
          0.2929981679454374,
          0.29239995060060275,
          0.2917779373195612,
          0.2911331020951539,
          0.29046638980062955,
          0.28977871698708785,
          0.28907097265987586,
          0.28834401903448315,
          0.2875986922724666,
          0.2868358031979217,
          0.28605613799500634,
          0.28526045888700613,
          0.2844495047974221,
          0.2836239919935455,
          0.28278461471297545,
          0.28193204577352193,
          0.28106693716692494,
          0.2801899206368109,
          0.27930160824129635,
          0.2784025929006363,
          0.27749344893030814,
          0.27657473255990905,
          0.2756469824382351,
          0.2747107201249036,
          0.27376645056886784,
          0.27281466257416537,
          0.2718558292532338,
          0.27089040846811685,
          0.26991884325987686,
          0.2689415622665216,
          0.26795898012974473,
          0.26697149789077224,
          0.2659795033755987,
          0.26498337156989155,
          0.26398346498383196,
          0.26298013400715686,
          0.2619737172546575,
          0.26096454190238394,
          0.2599529240147996,
          0.25893916886312274,
          0.257923571235084,
          0.2569064157363282,
          0.25588797708367594,
          0.25486852039046065,
          0.2538483014441488,
          0.2528275669764447,
          0.25180655492607895,
          0.2507854946944703,
          0.24976460739445172,
          0.24874410609223918,
          0.24772419604282375,
          0.2467050749189592,
          0.2456869330339129,
          0.24466995355814575,
          0.2436543127300801,
          0.24264018006111224,
          0.2416277185350204,
          0.24061708480191724,
          0.2396084293668902,
          0.23860189677346993,
          0.23759762578206461,
          0.2365957495434915,
          0.23559639576773708,
          0.2345996868880717,
          0.2336057402206406,
          0.2326146681196532,
          0.23162657812828585,
          0.230641573125412,
          0.22965975146827158,
          0.22868120713118564,
          0.22770602984042357,
          0.22673430520532306,
          0.22576611484576395,
          0.22480153651609266,
          0.22384064422559136,
          0.22288350835558451,
          0.22193019577327225,
          0.22098076994237784,
          0.2200352910306947,
          0.21909381601461508,
          0.21815639878072215,
          0.21722309022452319,
          0.21629393834640068,
          0.21536898834485618,
          0.21444828270711908,
          0.21353186129719132,
          0.21261976144139658,
          0.21171201801150125,
          0.21080866350547242,
          0.20990972812593633,
          0.20901523985639936,
          0.20812522453529173,
          0.20723970592789268,
          0.20635870579619434,
          0.20548224396675996,
          0.20461033839663054,
          0.20374300523733274,
          0.20288025889703987,
          0.20202211210093524,
          0.20116857594982707,
          0.2003196599770627,
          0.19947537220378747,
          0.19863571919259426,
          0.19780070609960648,
          0.196970336725038,
          0.1961446135622711,
          0.19532353784549303,
          0.19450710959593032,
          0.19369532766671946,
          0.19288818978645117,
          0.19208569260142444,
          0.1912878317166459,
          0.19049460173560862
         ]
        }
       ],
       "layout": {
        "font": {
         "color": "Black",
         "family": "Time New Roman",
         "size": 15
        },
        "legend": {
         "bgcolor": "rgba(255,255,255,0)",
         "yanchor": "top"
        },
        "plot_bgcolor": "rgba(255,255,255,1)",
        "template": {
         "data": {
          "bar": [
           {
            "error_x": {
             "color": "#2a3f5f"
            },
            "error_y": {
             "color": "#2a3f5f"
            },
            "marker": {
             "line": {
              "color": "#E5ECF6",
              "width": 0.5
             },
             "pattern": {
              "fillmode": "overlay",
              "size": 10,
              "solidity": 0.2
             }
            },
            "type": "bar"
           }
          ],
          "barpolar": [
           {
            "marker": {
             "line": {
              "color": "#E5ECF6",
              "width": 0.5
             },
             "pattern": {
              "fillmode": "overlay",
              "size": 10,
              "solidity": 0.2
             }
            },
            "type": "barpolar"
           }
          ],
          "carpet": [
           {
            "aaxis": {
             "endlinecolor": "#2a3f5f",
             "gridcolor": "white",
             "linecolor": "white",
             "minorgridcolor": "white",
             "startlinecolor": "#2a3f5f"
            },
            "baxis": {
             "endlinecolor": "#2a3f5f",
             "gridcolor": "white",
             "linecolor": "white",
             "minorgridcolor": "white",
             "startlinecolor": "#2a3f5f"
            },
            "type": "carpet"
           }
          ],
          "choropleth": [
           {
            "colorbar": {
             "outlinewidth": 0,
             "ticks": ""
            },
            "type": "choropleth"
           }
          ],
          "contour": [
           {
            "colorbar": {
             "outlinewidth": 0,
             "ticks": ""
            },
            "colorscale": [
             [
              0,
              "#0d0887"
             ],
             [
              0.1111111111111111,
              "#46039f"
             ],
             [
              0.2222222222222222,
              "#7201a8"
             ],
             [
              0.3333333333333333,
              "#9c179e"
             ],
             [
              0.4444444444444444,
              "#bd3786"
             ],
             [
              0.5555555555555556,
              "#d8576b"
             ],
             [
              0.6666666666666666,
              "#ed7953"
             ],
             [
              0.7777777777777778,
              "#fb9f3a"
             ],
             [
              0.8888888888888888,
              "#fdca26"
             ],
             [
              1,
              "#f0f921"
             ]
            ],
            "type": "contour"
           }
          ],
          "contourcarpet": [
           {
            "colorbar": {
             "outlinewidth": 0,
             "ticks": ""
            },
            "type": "contourcarpet"
           }
          ],
          "heatmap": [
           {
            "colorbar": {
             "outlinewidth": 0,
             "ticks": ""
            },
            "colorscale": [
             [
              0,
              "#0d0887"
             ],
             [
              0.1111111111111111,
              "#46039f"
             ],
             [
              0.2222222222222222,
              "#7201a8"
             ],
             [
              0.3333333333333333,
              "#9c179e"
             ],
             [
              0.4444444444444444,
              "#bd3786"
             ],
             [
              0.5555555555555556,
              "#d8576b"
             ],
             [
              0.6666666666666666,
              "#ed7953"
             ],
             [
              0.7777777777777778,
              "#fb9f3a"
             ],
             [
              0.8888888888888888,
              "#fdca26"
             ],
             [
              1,
              "#f0f921"
             ]
            ],
            "type": "heatmap"
           }
          ],
          "heatmapgl": [
           {
            "colorbar": {
             "outlinewidth": 0,
             "ticks": ""
            },
            "colorscale": [
             [
              0,
              "#0d0887"
             ],
             [
              0.1111111111111111,
              "#46039f"
             ],
             [
              0.2222222222222222,
              "#7201a8"
             ],
             [
              0.3333333333333333,
              "#9c179e"
             ],
             [
              0.4444444444444444,
              "#bd3786"
             ],
             [
              0.5555555555555556,
              "#d8576b"
             ],
             [
              0.6666666666666666,
              "#ed7953"
             ],
             [
              0.7777777777777778,
              "#fb9f3a"
             ],
             [
              0.8888888888888888,
              "#fdca26"
             ],
             [
              1,
              "#f0f921"
             ]
            ],
            "type": "heatmapgl"
           }
          ],
          "histogram": [
           {
            "marker": {
             "pattern": {
              "fillmode": "overlay",
              "size": 10,
              "solidity": 0.2
             }
            },
            "type": "histogram"
           }
          ],
          "histogram2d": [
           {
            "colorbar": {
             "outlinewidth": 0,
             "ticks": ""
            },
            "colorscale": [
             [
              0,
              "#0d0887"
             ],
             [
              0.1111111111111111,
              "#46039f"
             ],
             [
              0.2222222222222222,
              "#7201a8"
             ],
             [
              0.3333333333333333,
              "#9c179e"
             ],
             [
              0.4444444444444444,
              "#bd3786"
             ],
             [
              0.5555555555555556,
              "#d8576b"
             ],
             [
              0.6666666666666666,
              "#ed7953"
             ],
             [
              0.7777777777777778,
              "#fb9f3a"
             ],
             [
              0.8888888888888888,
              "#fdca26"
             ],
             [
              1,
              "#f0f921"
             ]
            ],
            "type": "histogram2d"
           }
          ],
          "histogram2dcontour": [
           {
            "colorbar": {
             "outlinewidth": 0,
             "ticks": ""
            },
            "colorscale": [
             [
              0,
              "#0d0887"
             ],
             [
              0.1111111111111111,
              "#46039f"
             ],
             [
              0.2222222222222222,
              "#7201a8"
             ],
             [
              0.3333333333333333,
              "#9c179e"
             ],
             [
              0.4444444444444444,
              "#bd3786"
             ],
             [
              0.5555555555555556,
              "#d8576b"
             ],
             [
              0.6666666666666666,
              "#ed7953"
             ],
             [
              0.7777777777777778,
              "#fb9f3a"
             ],
             [
              0.8888888888888888,
              "#fdca26"
             ],
             [
              1,
              "#f0f921"
             ]
            ],
            "type": "histogram2dcontour"
           }
          ],
          "mesh3d": [
           {
            "colorbar": {
             "outlinewidth": 0,
             "ticks": ""
            },
            "type": "mesh3d"
           }
          ],
          "parcoords": [
           {
            "line": {
             "colorbar": {
              "outlinewidth": 0,
              "ticks": ""
             }
            },
            "type": "parcoords"
           }
          ],
          "pie": [
           {
            "automargin": true,
            "type": "pie"
           }
          ],
          "scatter": [
           {
            "fillpattern": {
             "fillmode": "overlay",
             "size": 10,
             "solidity": 0.2
            },
            "type": "scatter"
           }
          ],
          "scatter3d": [
           {
            "line": {
             "colorbar": {
              "outlinewidth": 0,
              "ticks": ""
             }
            },
            "marker": {
             "colorbar": {
              "outlinewidth": 0,
              "ticks": ""
             }
            },
            "type": "scatter3d"
           }
          ],
          "scattercarpet": [
           {
            "marker": {
             "colorbar": {
              "outlinewidth": 0,
              "ticks": ""
             }
            },
            "type": "scattercarpet"
           }
          ],
          "scattergeo": [
           {
            "marker": {
             "colorbar": {
              "outlinewidth": 0,
              "ticks": ""
             }
            },
            "type": "scattergeo"
           }
          ],
          "scattergl": [
           {
            "marker": {
             "colorbar": {
              "outlinewidth": 0,
              "ticks": ""
             }
            },
            "type": "scattergl"
           }
          ],
          "scattermapbox": [
           {
            "marker": {
             "colorbar": {
              "outlinewidth": 0,
              "ticks": ""
             }
            },
            "type": "scattermapbox"
           }
          ],
          "scatterpolar": [
           {
            "marker": {
             "colorbar": {
              "outlinewidth": 0,
              "ticks": ""
             }
            },
            "type": "scatterpolar"
           }
          ],
          "scatterpolargl": [
           {
            "marker": {
             "colorbar": {
              "outlinewidth": 0,
              "ticks": ""
             }
            },
            "type": "scatterpolargl"
           }
          ],
          "scatterternary": [
           {
            "marker": {
             "colorbar": {
              "outlinewidth": 0,
              "ticks": ""
             }
            },
            "type": "scatterternary"
           }
          ],
          "surface": [
           {
            "colorbar": {
             "outlinewidth": 0,
             "ticks": ""
            },
            "colorscale": [
             [
              0,
              "#0d0887"
             ],
             [
              0.1111111111111111,
              "#46039f"
             ],
             [
              0.2222222222222222,
              "#7201a8"
             ],
             [
              0.3333333333333333,
              "#9c179e"
             ],
             [
              0.4444444444444444,
              "#bd3786"
             ],
             [
              0.5555555555555556,
              "#d8576b"
             ],
             [
              0.6666666666666666,
              "#ed7953"
             ],
             [
              0.7777777777777778,
              "#fb9f3a"
             ],
             [
              0.8888888888888888,
              "#fdca26"
             ],
             [
              1,
              "#f0f921"
             ]
            ],
            "type": "surface"
           }
          ],
          "table": [
           {
            "cells": {
             "fill": {
              "color": "#EBF0F8"
             },
             "line": {
              "color": "white"
             }
            },
            "header": {
             "fill": {
              "color": "#C8D4E3"
             },
             "line": {
              "color": "white"
             }
            },
            "type": "table"
           }
          ]
         },
         "layout": {
          "annotationdefaults": {
           "arrowcolor": "#2a3f5f",
           "arrowhead": 0,
           "arrowwidth": 1
          },
          "autotypenumbers": "strict",
          "coloraxis": {
           "colorbar": {
            "outlinewidth": 0,
            "ticks": ""
           }
          },
          "colorscale": {
           "diverging": [
            [
             0,
             "#8e0152"
            ],
            [
             0.1,
             "#c51b7d"
            ],
            [
             0.2,
             "#de77ae"
            ],
            [
             0.3,
             "#f1b6da"
            ],
            [
             0.4,
             "#fde0ef"
            ],
            [
             0.5,
             "#f7f7f7"
            ],
            [
             0.6,
             "#e6f5d0"
            ],
            [
             0.7,
             "#b8e186"
            ],
            [
             0.8,
             "#7fbc41"
            ],
            [
             0.9,
             "#4d9221"
            ],
            [
             1,
             "#276419"
            ]
           ],
           "sequential": [
            [
             0,
             "#0d0887"
            ],
            [
             0.1111111111111111,
             "#46039f"
            ],
            [
             0.2222222222222222,
             "#7201a8"
            ],
            [
             0.3333333333333333,
             "#9c179e"
            ],
            [
             0.4444444444444444,
             "#bd3786"
            ],
            [
             0.5555555555555556,
             "#d8576b"
            ],
            [
             0.6666666666666666,
             "#ed7953"
            ],
            [
             0.7777777777777778,
             "#fb9f3a"
            ],
            [
             0.8888888888888888,
             "#fdca26"
            ],
            [
             1,
             "#f0f921"
            ]
           ],
           "sequentialminus": [
            [
             0,
             "#0d0887"
            ],
            [
             0.1111111111111111,
             "#46039f"
            ],
            [
             0.2222222222222222,
             "#7201a8"
            ],
            [
             0.3333333333333333,
             "#9c179e"
            ],
            [
             0.4444444444444444,
             "#bd3786"
            ],
            [
             0.5555555555555556,
             "#d8576b"
            ],
            [
             0.6666666666666666,
             "#ed7953"
            ],
            [
             0.7777777777777778,
             "#fb9f3a"
            ],
            [
             0.8888888888888888,
             "#fdca26"
            ],
            [
             1,
             "#f0f921"
            ]
           ]
          },
          "colorway": [
           "#636efa",
           "#EF553B",
           "#00cc96",
           "#ab63fa",
           "#FFA15A",
           "#19d3f3",
           "#FF6692",
           "#B6E880",
           "#FF97FF",
           "#FECB52"
          ],
          "font": {
           "color": "#2a3f5f"
          },
          "geo": {
           "bgcolor": "white",
           "lakecolor": "white",
           "landcolor": "#E5ECF6",
           "showlakes": true,
           "showland": true,
           "subunitcolor": "white"
          },
          "hoverlabel": {
           "align": "left"
          },
          "hovermode": "closest",
          "mapbox": {
           "style": "light"
          },
          "paper_bgcolor": "white",
          "plot_bgcolor": "#E5ECF6",
          "polar": {
           "angularaxis": {
            "gridcolor": "white",
            "linecolor": "white",
            "ticks": ""
           },
           "bgcolor": "#E5ECF6",
           "radialaxis": {
            "gridcolor": "white",
            "linecolor": "white",
            "ticks": ""
           }
          },
          "scene": {
           "xaxis": {
            "backgroundcolor": "#E5ECF6",
            "gridcolor": "white",
            "gridwidth": 2,
            "linecolor": "white",
            "showbackground": true,
            "ticks": "",
            "zerolinecolor": "white"
           },
           "yaxis": {
            "backgroundcolor": "#E5ECF6",
            "gridcolor": "white",
            "gridwidth": 2,
            "linecolor": "white",
            "showbackground": true,
            "ticks": "",
            "zerolinecolor": "white"
           },
           "zaxis": {
            "backgroundcolor": "#E5ECF6",
            "gridcolor": "white",
            "gridwidth": 2,
            "linecolor": "white",
            "showbackground": true,
            "ticks": "",
            "zerolinecolor": "white"
           }
          },
          "shapedefaults": {
           "line": {
            "color": "#2a3f5f"
           }
          },
          "ternary": {
           "aaxis": {
            "gridcolor": "white",
            "linecolor": "white",
            "ticks": ""
           },
           "baxis": {
            "gridcolor": "white",
            "linecolor": "white",
            "ticks": ""
           },
           "bgcolor": "#E5ECF6",
           "caxis": {
            "gridcolor": "white",
            "linecolor": "white",
            "ticks": ""
           }
          },
          "title": {
           "x": 0.05
          },
          "xaxis": {
           "automargin": true,
           "gridcolor": "white",
           "linecolor": "white",
           "ticks": "",
           "title": {
            "standoff": 15
           },
           "zerolinecolor": "white",
           "zerolinewidth": 2
          },
          "yaxis": {
           "automargin": true,
           "gridcolor": "white",
           "linecolor": "white",
           "ticks": "",
           "title": {
            "standoff": 15
           },
           "zerolinecolor": "white",
           "zerolinewidth": 2
          }
         }
        },
        "title": {
         "text": "Factor Loadings in the NSS Model",
         "x": 0.5
        },
        "width": 1000,
        "xaxis": {
         "linecolor": "black",
         "linewidth": 1,
         "range": [
          0,
          27
         ],
         "showline": true,
         "ticklen": 5,
         "ticks": "inside",
         "tickson": "boundaries",
         "tickvals": [
          1,
          2,
          3,
          4,
          5,
          6,
          7,
          8,
          9,
          10,
          15,
          20,
          25
         ],
         "title": {
          "text": "Time to Maturity (Years)"
         }
        },
        "yaxis": {
         "gridcolor": "rgba(38,38,38,0.15)",
         "linecolor": "Grey",
         "linewidth": 1,
         "showline": true,
         "title": {
          "text": "Factor Loading"
         }
        }
       }
      }
     },
     "metadata": {},
     "output_type": "display_data"
    }
   ],
   "source": [
    "# Compute factor loadings in the NSS model\n",
    "gr.plot_factor_loadings(t_plot, loading1, loading2, loading3, loading4)"
   ]
  },
  {
   "cell_type": "code",
   "execution_count": 26,
   "id": "c8ec4086",
   "metadata": {},
   "outputs": [
    {
     "data": {
      "application/vnd.plotly.v1+json": {
       "config": {
        "plotlyServerURL": "https://plot.ly"
       },
       "data": [
        {
         "line": {
          "color": "rgb(0, 71, 102)"
         },
         "mode": "lines",
         "name": "Level Contribution",
         "type": "scatter",
         "x": [
          0.1,
          0.23015075376884422,
          0.3603015075376884,
          0.49045226130653263,
          0.6206030150753769,
          0.7507537688442211,
          0.8809045226130653,
          1.0110552763819096,
          1.1412060301507538,
          1.271356783919598,
          1.4015075376884423,
          1.5316582914572865,
          1.6618090452261307,
          1.791959798994975,
          1.9221105527638191,
          2.0522613065326634,
          2.1824120603015076,
          2.312562814070352,
          2.442713567839196,
          2.5728643216080402,
          2.7030150753768845,
          2.8331658291457287,
          2.963316582914573,
          3.093467336683417,
          3.2236180904522613,
          3.3537688442211055,
          3.4839195979899498,
          3.614070351758794,
          3.744221105527638,
          3.8743718592964824,
          4.004522613065326,
          4.13467336683417,
          4.264824120603015,
          4.394974874371859,
          4.525125628140703,
          4.655276381909547,
          4.7854271356783915,
          4.915577889447236,
          5.04572864321608,
          5.175879396984924,
          5.306030150753768,
          5.436180904522613,
          5.566331658291457,
          5.696482412060301,
          5.826633165829145,
          5.9567839195979895,
          6.086934673366834,
          6.217085427135678,
          6.347236180904522,
          6.477386934673366,
          6.607537688442211,
          6.737688442211055,
          6.867839195979899,
          6.997989949748743,
          7.128140703517587,
          7.258291457286432,
          7.388442211055276,
          7.51859296482412,
          7.648743718592964,
          7.7788944723618085,
          7.909045226130653,
          8.039195979899498,
          8.169346733668341,
          8.299497487437185,
          8.42964824120603,
          8.559798994974875,
          8.689949748743718,
          8.820100502512561,
          8.950251256281406,
          9.080402010050252,
          9.210552763819095,
          9.340703517587938,
          9.470854271356783,
          9.601005025125628,
          9.731155778894472,
          9.861306532663315,
          9.99145728643216,
          10.121608040201005,
          10.251758793969849,
          10.381909547738692,
          10.512060301507537,
          10.642211055276382,
          10.772361809045226,
          10.902512562814069,
          11.032663316582914,
          11.162814070351759,
          11.292964824120602,
          11.423115577889446,
          11.55326633165829,
          11.683417085427136,
          11.81356783919598,
          11.943718592964823,
          12.073869346733668,
          12.204020100502513,
          12.334170854271356,
          12.4643216080402,
          12.594472361809045,
          12.72462311557789,
          12.854773869346733,
          12.984924623115576,
          13.115075376884421,
          13.245226130653267,
          13.37537688442211,
          13.505527638190953,
          13.635678391959798,
          13.765829145728643,
          13.895979899497487,
          14.02613065326633,
          14.156281407035175,
          14.28643216080402,
          14.416582914572864,
          14.546733668341707,
          14.676884422110552,
          14.807035175879397,
          14.93718592964824,
          15.067336683417084,
          15.197487437185929,
          15.327638190954774,
          15.457788944723617,
          15.58793969849246,
          15.718090452261306,
          15.848241206030151,
          15.978391959798994,
          16.10854271356784,
          16.238693467336685,
          16.36884422110553,
          16.49899497487437,
          16.629145728643216,
          16.75929648241206,
          16.889447236180906,
          17.01959798994975,
          17.149748743718593,
          17.27989949748744,
          17.410050251256283,
          17.540201005025125,
          17.67035175879397,
          17.800502512562815,
          17.93065326633166,
          18.060804020100505,
          18.190954773869347,
          18.321105527638192,
          18.451256281407037,
          18.58140703517588,
          18.711557788944724,
          18.84170854271357,
          18.971859296482414,
          19.10201005025126,
          19.2321608040201,
          19.362311557788946,
          19.49246231155779,
          19.622613065326632,
          19.752763819095478,
          19.882914572864323,
          20.013065326633168,
          20.143216080402013,
          20.273366834170854,
          20.4035175879397,
          20.533668341708545,
          20.663819095477386,
          20.79396984924623,
          20.924120603015076,
          21.05427135678392,
          21.184422110552767,
          21.314572864321608,
          21.444723618090453,
          21.5748743718593,
          21.70502512562814,
          21.835175879396985,
          21.96532663316583,
          22.095477386934675,
          22.22562814070352,
          22.355778894472362,
          22.485929648241207,
          22.616080402010052,
          22.746231155778894,
          22.87638190954774,
          23.006532663316584,
          23.13668341708543,
          23.266834170854274,
          23.396984924623116,
          23.52713567839196,
          23.657286432160806,
          23.787437185929647,
          23.917587939698493,
          24.047738693467338,
          24.177889447236183,
          24.308040201005028,
          24.43819095477387,
          24.568341708542714,
          24.69849246231156,
          24.8286432160804,
          24.958793969849246,
          25.08894472361809,
          25.219095477386936,
          25.34924623115578,
          25.479396984924623,
          25.60954773869347,
          25.739698492462313,
          25.869849246231155,
          26
         ],
         "y": [
          6.032546777939018,
          6.032546777939018,
          6.032546777939018,
          6.032546777939018,
          6.032546777939018,
          6.032546777939018,
          6.032546777939018,
          6.032546777939018,
          6.032546777939018,
          6.032546777939018,
          6.032546777939018,
          6.032546777939018,
          6.032546777939018,
          6.032546777939018,
          6.032546777939018,
          6.032546777939018,
          6.032546777939018,
          6.032546777939018,
          6.032546777939018,
          6.032546777939018,
          6.032546777939018,
          6.032546777939018,
          6.032546777939018,
          6.032546777939018,
          6.032546777939018,
          6.032546777939018,
          6.032546777939018,
          6.032546777939018,
          6.032546777939018,
          6.032546777939018,
          6.032546777939018,
          6.032546777939018,
          6.032546777939018,
          6.032546777939018,
          6.032546777939018,
          6.032546777939018,
          6.032546777939018,
          6.032546777939018,
          6.032546777939018,
          6.032546777939018,
          6.032546777939018,
          6.032546777939018,
          6.032546777939018,
          6.032546777939018,
          6.032546777939018,
          6.032546777939018,
          6.032546777939018,
          6.032546777939018,
          6.032546777939018,
          6.032546777939018,
          6.032546777939018,
          6.032546777939018,
          6.032546777939018,
          6.032546777939018,
          6.032546777939018,
          6.032546777939018,
          6.032546777939018,
          6.032546777939018,
          6.032546777939018,
          6.032546777939018,
          6.032546777939018,
          6.032546777939018,
          6.032546777939018,
          6.032546777939018,
          6.032546777939018,
          6.032546777939018,
          6.032546777939018,
          6.032546777939018,
          6.032546777939018,
          6.032546777939018,
          6.032546777939018,
          6.032546777939018,
          6.032546777939018,
          6.032546777939018,
          6.032546777939018,
          6.032546777939018,
          6.032546777939018,
          6.032546777939018,
          6.032546777939018,
          6.032546777939018,
          6.032546777939018,
          6.032546777939018,
          6.032546777939018,
          6.032546777939018,
          6.032546777939018,
          6.032546777939018,
          6.032546777939018,
          6.032546777939018,
          6.032546777939018,
          6.032546777939018,
          6.032546777939018,
          6.032546777939018,
          6.032546777939018,
          6.032546777939018,
          6.032546777939018,
          6.032546777939018,
          6.032546777939018,
          6.032546777939018,
          6.032546777939018,
          6.032546777939018,
          6.032546777939018,
          6.032546777939018,
          6.032546777939018,
          6.032546777939018,
          6.032546777939018,
          6.032546777939018,
          6.032546777939018,
          6.032546777939018,
          6.032546777939018,
          6.032546777939018,
          6.032546777939018,
          6.032546777939018,
          6.032546777939018,
          6.032546777939018,
          6.032546777939018,
          6.032546777939018,
          6.032546777939018,
          6.032546777939018,
          6.032546777939018,
          6.032546777939018,
          6.032546777939018,
          6.032546777939018,
          6.032546777939018,
          6.032546777939018,
          6.032546777939018,
          6.032546777939018,
          6.032546777939018,
          6.032546777939018,
          6.032546777939018,
          6.032546777939018,
          6.032546777939018,
          6.032546777939018,
          6.032546777939018,
          6.032546777939018,
          6.032546777939018,
          6.032546777939018,
          6.032546777939018,
          6.032546777939018,
          6.032546777939018,
          6.032546777939018,
          6.032546777939018,
          6.032546777939018,
          6.032546777939018,
          6.032546777939018,
          6.032546777939018,
          6.032546777939018,
          6.032546777939018,
          6.032546777939018,
          6.032546777939018,
          6.032546777939018,
          6.032546777939018,
          6.032546777939018,
          6.032546777939018,
          6.032546777939018,
          6.032546777939018,
          6.032546777939018,
          6.032546777939018,
          6.032546777939018,
          6.032546777939018,
          6.032546777939018,
          6.032546777939018,
          6.032546777939018,
          6.032546777939018,
          6.032546777939018,
          6.032546777939018,
          6.032546777939018,
          6.032546777939018,
          6.032546777939018,
          6.032546777939018,
          6.032546777939018,
          6.032546777939018,
          6.032546777939018,
          6.032546777939018,
          6.032546777939018,
          6.032546777939018,
          6.032546777939018,
          6.032546777939018,
          6.032546777939018,
          6.032546777939018,
          6.032546777939018,
          6.032546777939018,
          6.032546777939018,
          6.032546777939018,
          6.032546777939018,
          6.032546777939018,
          6.032546777939018,
          6.032546777939018,
          6.032546777939018,
          6.032546777939018,
          6.032546777939018,
          6.032546777939018,
          6.032546777939018,
          6.032546777939018,
          6.032546777939018,
          6.032546777939018,
          6.032546777939018,
          6.032546777939018,
          6.032546777939018,
          6.032546777939018,
          6.032546777939018
         ]
        },
        {
         "line": {
          "color": "red"
         },
         "mode": "lines",
         "name": "Slope Contribution",
         "type": "scatter",
         "x": [
          0.1,
          0.23015075376884422,
          0.3603015075376884,
          0.49045226130653263,
          0.6206030150753769,
          0.7507537688442211,
          0.8809045226130653,
          1.0110552763819096,
          1.1412060301507538,
          1.271356783919598,
          1.4015075376884423,
          1.5316582914572865,
          1.6618090452261307,
          1.791959798994975,
          1.9221105527638191,
          2.0522613065326634,
          2.1824120603015076,
          2.312562814070352,
          2.442713567839196,
          2.5728643216080402,
          2.7030150753768845,
          2.8331658291457287,
          2.963316582914573,
          3.093467336683417,
          3.2236180904522613,
          3.3537688442211055,
          3.4839195979899498,
          3.614070351758794,
          3.744221105527638,
          3.8743718592964824,
          4.004522613065326,
          4.13467336683417,
          4.264824120603015,
          4.394974874371859,
          4.525125628140703,
          4.655276381909547,
          4.7854271356783915,
          4.915577889447236,
          5.04572864321608,
          5.175879396984924,
          5.306030150753768,
          5.436180904522613,
          5.566331658291457,
          5.696482412060301,
          5.826633165829145,
          5.9567839195979895,
          6.086934673366834,
          6.217085427135678,
          6.347236180904522,
          6.477386934673366,
          6.607537688442211,
          6.737688442211055,
          6.867839195979899,
          6.997989949748743,
          7.128140703517587,
          7.258291457286432,
          7.388442211055276,
          7.51859296482412,
          7.648743718592964,
          7.7788944723618085,
          7.909045226130653,
          8.039195979899498,
          8.169346733668341,
          8.299497487437185,
          8.42964824120603,
          8.559798994974875,
          8.689949748743718,
          8.820100502512561,
          8.950251256281406,
          9.080402010050252,
          9.210552763819095,
          9.340703517587938,
          9.470854271356783,
          9.601005025125628,
          9.731155778894472,
          9.861306532663315,
          9.99145728643216,
          10.121608040201005,
          10.251758793969849,
          10.381909547738692,
          10.512060301507537,
          10.642211055276382,
          10.772361809045226,
          10.902512562814069,
          11.032663316582914,
          11.162814070351759,
          11.292964824120602,
          11.423115577889446,
          11.55326633165829,
          11.683417085427136,
          11.81356783919598,
          11.943718592964823,
          12.073869346733668,
          12.204020100502513,
          12.334170854271356,
          12.4643216080402,
          12.594472361809045,
          12.72462311557789,
          12.854773869346733,
          12.984924623115576,
          13.115075376884421,
          13.245226130653267,
          13.37537688442211,
          13.505527638190953,
          13.635678391959798,
          13.765829145728643,
          13.895979899497487,
          14.02613065326633,
          14.156281407035175,
          14.28643216080402,
          14.416582914572864,
          14.546733668341707,
          14.676884422110552,
          14.807035175879397,
          14.93718592964824,
          15.067336683417084,
          15.197487437185929,
          15.327638190954774,
          15.457788944723617,
          15.58793969849246,
          15.718090452261306,
          15.848241206030151,
          15.978391959798994,
          16.10854271356784,
          16.238693467336685,
          16.36884422110553,
          16.49899497487437,
          16.629145728643216,
          16.75929648241206,
          16.889447236180906,
          17.01959798994975,
          17.149748743718593,
          17.27989949748744,
          17.410050251256283,
          17.540201005025125,
          17.67035175879397,
          17.800502512562815,
          17.93065326633166,
          18.060804020100505,
          18.190954773869347,
          18.321105527638192,
          18.451256281407037,
          18.58140703517588,
          18.711557788944724,
          18.84170854271357,
          18.971859296482414,
          19.10201005025126,
          19.2321608040201,
          19.362311557788946,
          19.49246231155779,
          19.622613065326632,
          19.752763819095478,
          19.882914572864323,
          20.013065326633168,
          20.143216080402013,
          20.273366834170854,
          20.4035175879397,
          20.533668341708545,
          20.663819095477386,
          20.79396984924623,
          20.924120603015076,
          21.05427135678392,
          21.184422110552767,
          21.314572864321608,
          21.444723618090453,
          21.5748743718593,
          21.70502512562814,
          21.835175879396985,
          21.96532663316583,
          22.095477386934675,
          22.22562814070352,
          22.355778894472362,
          22.485929648241207,
          22.616080402010052,
          22.746231155778894,
          22.87638190954774,
          23.006532663316584,
          23.13668341708543,
          23.266834170854274,
          23.396984924623116,
          23.52713567839196,
          23.657286432160806,
          23.787437185929647,
          23.917587939698493,
          24.047738693467338,
          24.177889447236183,
          24.308040201005028,
          24.43819095477387,
          24.568341708542714,
          24.69849246231156,
          24.8286432160804,
          24.958793969849246,
          25.08894472361809,
          25.219095477386936,
          25.34924623115578,
          25.479396984924623,
          25.60954773869347,
          25.739698492462313,
          25.869849246231155,
          26
         ],
         "y": [
          -5.305814142300022,
          -5.198196707285221,
          -5.093487356515084,
          -4.991597711748761,
          -4.892442259206942,
          -4.795938252871203,
          -4.702005621140833,
          -4.610566876728313,
          -4.521547029678582,
          -4.434873503401616,
          -4.350476053611633,
          -4.268286690070164,
          -4.188239601033937,
          -4.110271080311989,
          -4.034319456839965,
          -3.960325026682772,
          -3.8882299873800057,
          -3.8179783745516045,
          -3.749516000684139,
          -3.6827903960210255,
          -3.6177507514826694,
          -3.5543478635452033,
          -3.4925340810090306,
          -3.43226325359086,
          -3.373490682275255,
          -3.316173071364046,
          -3.2602684821641104,
          -3.205736288256187,
          -3.152537132289405,
          -3.100632884248204,
          -3.0499866011401915,
          -3.0005624880553445,
          -2.9523258605487173,
          -2.905243108300496,
          -2.859281660008917,
          -2.8144099494731227,
          -2.7705973828245556,
          -2.7278143068669634,
          -2.6860319784865045,
          -2.645222535094805,
          -2.6053589660691285,
          -2.56641508515511,
          -2.528365503798692,
          -2.491185605375118,
          -2.454851520283946,
          -2.4193401018801577,
          -2.384628903212485,
          -2.3506961545411,
          -2.3175207416077934,
          -2.2850821846327154,
          -2.2533606180126635,
          -2.2223367706967823,
          -2.191991947216393,
          -2.16230800934648,
          -2.1332673583771604,
          -2.1048529179742173,
          -2.0770481176085145,
          -2.049836876534813,
          -2.023203588301201,
          -1.997133105770993,
          -1.971610726639609,
          -1.9466221794295266,
          -1.9221536099470309,
          -1.8981915681849968,
          -1.874722995656566,
          -1.851735213145025,
          -1.8292159088557736,
          -1.8071531269567114,
          -1.7855352564938878,
          -1.7643510206696875,
          -1.7435894664712799,
          -1.7232399546374826,
          -1.7032921499526126,
          -1.6837360118562683,
          -1.664561785358401,
          -1.6457599922493744,
          -1.6273214225950892,
          -1.6092371265075784,
          -1.5914984061818178,
          -1.5740968081898097,
          -1.5570241160233185,
          -1.540272342876915,
          -1.5238337246632967,
          -1.5077007132531008,
          -1.4918659699317245,
          -1.4763223590658978,
          -1.4610629419730223,
          -1.446080970986513,
          -1.431369883710631,
          -1.416923297458498,
          -1.402735003867215,
          -1.388798963684209,
          -1.3751093017191292,
          -1.361660301955815,
          -1.3484464028190475,
          -1.3354621925909544,
          -1.322702404972152,
          -1.3101619147828332,
          -1.2978357337992037,
          -1.2857190067208157,
          -1.2738070072644885,
          -1.2620951343806701,
          -1.2505789085882246,
          -1.2392539684237627,
          -1.228116067001769,
          -1.2171610686819168,
          -1.2063849458400522,
          -1.1957837757394894,
          -1.1853537374993337,
          -1.1750911091566891,
          -1.1649922648196924,
          -1.1550536719084308,
          -1.1452718884808948,
          -1.1356435606412134,
          -1.1261654200275093,
          -1.1168342813768073,
          -1.1076470401645087,
          -1.098600670316029,
          -1.0896922219882774,
          -1.0809188194187394,
          -1.0722776588399812,
          -1.0637660064574945,
          -1.055381196488841,
          -1.047120629262144,
          -1.0389817693720298,
          -1.0309621438911905,
          -1.0230593406357904,
          -1.0152710064830108,
          -1.0075948457390729,
          -1.000028618556139,
          -0.9925701393965435,
          -0.9852172755428594,
          -0.9779679456523438,
          -0.9708201183543763,
          -0.9637718108895209,
          -0.9568210877889134,
          -0.949966059592702,
          -0.9432048816063157,
          -0.9365357526933784,
          -0.9299569141041205,
          -0.9234666483381766,
          -0.9170632780407048,
          -0.9107451649307784,
          -0.9045107087610551,
          -0.8983583463077491,
          -0.8922865503899656,
          -0.8862938289174899,
          -0.8803787239661499,
          -0.874539810879902,
          -0.8687756973988165,
          -0.8630850228121644,
          -0.8574664571358328,
          -0.8519187003133281,
          -0.8464404814396362,
          -0.8410305580072467,
          -0.8356877151736621,
          -0.8304107650497345,
          -0.8251985460082003,
          -0.8200499220117965,
          -0.8149637819603591,
          -0.809939039056342,
          -0.8049746301881824,
          -0.8000695153309864,
          -0.7952226769640072,
          -0.7904331195044084,
          -0.7856998687568305,
          -0.7810219713782771,
          -0.7763984943578675,
          -0.771828524511011,
          -0.7673111679875712,
          -0.7628455497936009,
          -0.7584308133262493,
          -0.7540661199214459,
          -0.7497506484139835,
          -0.7454835947096338,
          -0.7412641713689392,
          -0.7370916072023379,
          -0.732965146876286,
          -0.7288840505300568,
          -0.7248475934029002,
          -0.720855065471262,
          -0.7169057710957678,
          -0.7129990286776866,
          -0.7091341703245962,
          -0.7053105415249871,
          -0.7015275008315413,
          -0.6977844195528369,
          -0.6940806814532339,
          -0.6904156824607058,
          -0.686788830382388,
          -0.6831995446276209,
          -0.6796472559382718,
          -0.6761314061261289,
          -0.6726514478171645,
          -0.6692068442024702,
          -0.6657970687956757,
          -0.6624216051966653,
          -0.6590799468614169,
          -0.6557715968777845,
          -0.6524960677470616
         ]
        },
        {
         "line": {
          "color": "rgb(153, 100, 50)"
         },
         "mode": "lines",
         "name": "Curvature 1 Contribution",
         "type": "scatter",
         "x": [
          0.1,
          0.23015075376884422,
          0.3603015075376884,
          0.49045226130653263,
          0.6206030150753769,
          0.7507537688442211,
          0.8809045226130653,
          1.0110552763819096,
          1.1412060301507538,
          1.271356783919598,
          1.4015075376884423,
          1.5316582914572865,
          1.6618090452261307,
          1.791959798994975,
          1.9221105527638191,
          2.0522613065326634,
          2.1824120603015076,
          2.312562814070352,
          2.442713567839196,
          2.5728643216080402,
          2.7030150753768845,
          2.8331658291457287,
          2.963316582914573,
          3.093467336683417,
          3.2236180904522613,
          3.3537688442211055,
          3.4839195979899498,
          3.614070351758794,
          3.744221105527638,
          3.8743718592964824,
          4.004522613065326,
          4.13467336683417,
          4.264824120603015,
          4.394974874371859,
          4.525125628140703,
          4.655276381909547,
          4.7854271356783915,
          4.915577889447236,
          5.04572864321608,
          5.175879396984924,
          5.306030150753768,
          5.436180904522613,
          5.566331658291457,
          5.696482412060301,
          5.826633165829145,
          5.9567839195979895,
          6.086934673366834,
          6.217085427135678,
          6.347236180904522,
          6.477386934673366,
          6.607537688442211,
          6.737688442211055,
          6.867839195979899,
          6.997989949748743,
          7.128140703517587,
          7.258291457286432,
          7.388442211055276,
          7.51859296482412,
          7.648743718592964,
          7.7788944723618085,
          7.909045226130653,
          8.039195979899498,
          8.169346733668341,
          8.299497487437185,
          8.42964824120603,
          8.559798994974875,
          8.689949748743718,
          8.820100502512561,
          8.950251256281406,
          9.080402010050252,
          9.210552763819095,
          9.340703517587938,
          9.470854271356783,
          9.601005025125628,
          9.731155778894472,
          9.861306532663315,
          9.99145728643216,
          10.121608040201005,
          10.251758793969849,
          10.381909547738692,
          10.512060301507537,
          10.642211055276382,
          10.772361809045226,
          10.902512562814069,
          11.032663316582914,
          11.162814070351759,
          11.292964824120602,
          11.423115577889446,
          11.55326633165829,
          11.683417085427136,
          11.81356783919598,
          11.943718592964823,
          12.073869346733668,
          12.204020100502513,
          12.334170854271356,
          12.4643216080402,
          12.594472361809045,
          12.72462311557789,
          12.854773869346733,
          12.984924623115576,
          13.115075376884421,
          13.245226130653267,
          13.37537688442211,
          13.505527638190953,
          13.635678391959798,
          13.765829145728643,
          13.895979899497487,
          14.02613065326633,
          14.156281407035175,
          14.28643216080402,
          14.416582914572864,
          14.546733668341707,
          14.676884422110552,
          14.807035175879397,
          14.93718592964824,
          15.067336683417084,
          15.197487437185929,
          15.327638190954774,
          15.457788944723617,
          15.58793969849246,
          15.718090452261306,
          15.848241206030151,
          15.978391959798994,
          16.10854271356784,
          16.238693467336685,
          16.36884422110553,
          16.49899497487437,
          16.629145728643216,
          16.75929648241206,
          16.889447236180906,
          17.01959798994975,
          17.149748743718593,
          17.27989949748744,
          17.410050251256283,
          17.540201005025125,
          17.67035175879397,
          17.800502512562815,
          17.93065326633166,
          18.060804020100505,
          18.190954773869347,
          18.321105527638192,
          18.451256281407037,
          18.58140703517588,
          18.711557788944724,
          18.84170854271357,
          18.971859296482414,
          19.10201005025126,
          19.2321608040201,
          19.362311557788946,
          19.49246231155779,
          19.622613065326632,
          19.752763819095478,
          19.882914572864323,
          20.013065326633168,
          20.143216080402013,
          20.273366834170854,
          20.4035175879397,
          20.533668341708545,
          20.663819095477386,
          20.79396984924623,
          20.924120603015076,
          21.05427135678392,
          21.184422110552767,
          21.314572864321608,
          21.444723618090453,
          21.5748743718593,
          21.70502512562814,
          21.835175879396985,
          21.96532663316583,
          22.095477386934675,
          22.22562814070352,
          22.355778894472362,
          22.485929648241207,
          22.616080402010052,
          22.746231155778894,
          22.87638190954774,
          23.006532663316584,
          23.13668341708543,
          23.266834170854274,
          23.396984924623116,
          23.52713567839196,
          23.657286432160806,
          23.787437185929647,
          23.917587939698493,
          24.047738693467338,
          24.177889447236183,
          24.308040201005028,
          24.43819095477387,
          24.568341708542714,
          24.69849246231156,
          24.8286432160804,
          24.958793969849246,
          25.08894472361809,
          25.219095477386936,
          25.34924623115578,
          25.479396984924623,
          25.60954773869347,
          25.739698492462313,
          25.869849246231155,
          26
         ],
         "y": [
          -0.09355178515246929,
          -0.20948194825948305,
          -0.31909797331630146,
          -0.42268840412381953,
          -0.5205293002069332,
          -0.6128847639967329,
          -0.7000074460373283,
          -0.7821390291264637,
          -0.8595106922613336,
          -0.932343555225418,
          -1.0008491046175438,
          -1.0652296020914525,
          -1.1256784755425966,
          -1.1823806939483854,
          -1.2355131265391524,
          -1.2852448869491209,
          -1.3317376629699225,
          -1.3751460325035865,
          -1.415617766287241,
          -1.4532941179382677,
          -1.4883101018459468,
          -1.5207947594139766,
          -1.5508714141374245,
          -1.578657915977745,
          -1.6042668754803182,
          -1.6278058880606918,
          -1.649377748868028,
          -1.6690806586174847,
          -1.6870084207670097,
          -1.703250630398558,
          -1.717892855148857,
          -1.731016808520594,
          -1.742700515891215,
          -1.7530184735234182,
          -1.7620418008688612,
          -1.7698383864445288,
          -1.7764730275496787,
          -1.7820075640801631,
          -1.7865010066863294,
          -1.7900096595105057,
          -1.792587237730287,
          -1.7942849801245158,
          -1.7951517568698097,
          -1.7952341727669436,
          -1.7945766660880749,
          -1.7932216032279342,
          -1.7912093693344855,
          -1.7885784550872863,
          -1.7853655397848163,
          -1.7816055708953344,
          -1.7773318402194211,
          -1.7725760568062168,
          -1.7673684167594623,
          -1.7617376700638052,
          -1.755711184556404,
          -1.74931500716369,
          -1.7425739225181407,
          -1.7355115090651505,
          -1.7281501927655332,
          -1.7205112984947508,
          -1.7126150992358098,
          -1.704480863158692,
          -1.696126898675348,
          -1.68757059755555,
          -1.678828476185377,
          -1.669916215046661,
          -1.6608486964925,
          -1.6516400408907708,
          -1.642303641204607,
          -1.6328521960759148,
          -1.6232977414752374,
          -1.6136516809786488,
          -1.603924814729818,
          -1.5941273671429463,
          -1.5842690133999682,
          -1.5743589047931632,
          -1.5644056929621883,
          -1.5544175530724926,
          -1.544402205980113,
          -1.5343669394259538,
          -1.5243186283008596,
          -1.5142637540210586,
          -1.5042084230518857,
          -1.4941583846161093,
          -1.4841190476216695,
          -1.4740954968421622,
          -1.4640925083820082,
          -1.4541145644569087,
          -1.4441658675188964,
          -1.4342503537540618,
          -1.424371705979856,
          -1.414533365967728,
          -1.4047385462157886,
          -1.3949902411951296,
          -1.385291238092456,
          -1.3756441270707058,
          -1.366051311068449,
          -1.3565150151579473,
          -1.3470372954809422,
          -1.3376200477804199,
          -1.3282650155458309,
          -1.3189737977885088,
          -1.309747856463317,
          -1.3005885235518788,
          -1.2914970078220889,
          -1.2824744012779914,
          -1.2735216853134987,
          -1.2646397365828685,
          -1.2558293326002892,
          -1.2470911570804186,
          -1.2384258050312034,
          -1.2298337876098284,
          -1.2213155367521826,
          -1.2128714095857913,
          -1.204501692635727,
          -1.1962066058326206,
          -1.187986306331491,
          -1.1798408921497545,
          -1.1717704056323928,
          -1.1637748367519516,
          -1.1558541262506776,
          -1.1480081686318135,
          -1.1402368150067577,
          -1.132539875804509,
          -1.124917123349548,
          -1.1173682943140246,
          -1.1098930920498926,
          -1.102491188806366,
          -1.095162227837857,
          -1.087905825407324,
          -1.0807215726897443,
          -1.0736090375802312,
          -1.0665677664111048,
          -1.0595972855820581,
          -1.0526971031073595,
          -1.0458667100838785,
          -1.0391055820835486,
          -1.0324131804737242,
          -1.0257889536687408,
          -1.0192323383158408,
          -1.0127427604184915,
          -1.0063196363999873,
          -0.9999623741101011,
          -0.9936703737774314,
          -0.9874430289099768,
          -0.9812797271463487,
          -0.9751798510599411,
          -0.969142778918262,
          -0.9631678853995416,
          -0.9572545422686356,
          -0.9514021190141511,
          -0.9456099834486408,
          -0.9398775022736313,
          -0.9342040416111607,
          -0.9285889675034424,
          -0.9230316463821916,
          -0.9175314455090755,
          -0.9120877333887039,
          -0.9066998801554852,
          -0.9013672579356379,
          -0.8960892411855795,
          -0.8908652070078537,
          -0.8856945354457169,
          -0.880576609757446,
          -0.875510816671384,
          -0.8704965466226939,
          -0.8655331939727442,
          -0.8606201572120122,
          -0.8557568391473515,
          -0.8509426470744192,
          -0.84617699293604,
          -0.8414592934672364,
          -0.8367889703276196,
          -0.8321654502218165,
          -0.82758816500856,
          -0.8230565517990514,
          -0.8185700530451769,
          -0.8141281166181223,
          -0.8097301958779153,
          -0.8053757497343954,
          -0.801064242700087,
          -0.7967951449354318,
          -0.7925679322868112,
          -0.7883820863177724,
          -0.7842370943338516,
          -0.7801324494013664,
          -0.7760676503605337,
          -0.7720422018332529,
          -0.7680556142258748,
          -0.7641074037272664,
          -0.7601970923024592,
          -0.7563242076821617,
          -0.7524882833483975,
          -0.7486888585165226,
          -0.7449254781138585,
          -0.7411976927551673,
          -0.7375050587151856,
          -0.7338471378984209,
          -0.7302234978064046,
          -0.7266337115025847
         ]
        },
        {
         "line": {
          "color": "rgb(2, 130, 2)"
         },
         "mode": "lines",
         "name": "Curvature 2 Contribution",
         "type": "scatter",
         "x": [
          0.1,
          0.23015075376884422,
          0.3603015075376884,
          0.49045226130653263,
          0.6206030150753769,
          0.7507537688442211,
          0.8809045226130653,
          1.0110552763819096,
          1.1412060301507538,
          1.271356783919598,
          1.4015075376884423,
          1.5316582914572865,
          1.6618090452261307,
          1.791959798994975,
          1.9221105527638191,
          2.0522613065326634,
          2.1824120603015076,
          2.312562814070352,
          2.442713567839196,
          2.5728643216080402,
          2.7030150753768845,
          2.8331658291457287,
          2.963316582914573,
          3.093467336683417,
          3.2236180904522613,
          3.3537688442211055,
          3.4839195979899498,
          3.614070351758794,
          3.744221105527638,
          3.8743718592964824,
          4.004522613065326,
          4.13467336683417,
          4.264824120603015,
          4.394974874371859,
          4.525125628140703,
          4.655276381909547,
          4.7854271356783915,
          4.915577889447236,
          5.04572864321608,
          5.175879396984924,
          5.306030150753768,
          5.436180904522613,
          5.566331658291457,
          5.696482412060301,
          5.826633165829145,
          5.9567839195979895,
          6.086934673366834,
          6.217085427135678,
          6.347236180904522,
          6.477386934673366,
          6.607537688442211,
          6.737688442211055,
          6.867839195979899,
          6.997989949748743,
          7.128140703517587,
          7.258291457286432,
          7.388442211055276,
          7.51859296482412,
          7.648743718592964,
          7.7788944723618085,
          7.909045226130653,
          8.039195979899498,
          8.169346733668341,
          8.299497487437185,
          8.42964824120603,
          8.559798994974875,
          8.689949748743718,
          8.820100502512561,
          8.950251256281406,
          9.080402010050252,
          9.210552763819095,
          9.340703517587938,
          9.470854271356783,
          9.601005025125628,
          9.731155778894472,
          9.861306532663315,
          9.99145728643216,
          10.121608040201005,
          10.251758793969849,
          10.381909547738692,
          10.512060301507537,
          10.642211055276382,
          10.772361809045226,
          10.902512562814069,
          11.032663316582914,
          11.162814070351759,
          11.292964824120602,
          11.423115577889446,
          11.55326633165829,
          11.683417085427136,
          11.81356783919598,
          11.943718592964823,
          12.073869346733668,
          12.204020100502513,
          12.334170854271356,
          12.4643216080402,
          12.594472361809045,
          12.72462311557789,
          12.854773869346733,
          12.984924623115576,
          13.115075376884421,
          13.245226130653267,
          13.37537688442211,
          13.505527638190953,
          13.635678391959798,
          13.765829145728643,
          13.895979899497487,
          14.02613065326633,
          14.156281407035175,
          14.28643216080402,
          14.416582914572864,
          14.546733668341707,
          14.676884422110552,
          14.807035175879397,
          14.93718592964824,
          15.067336683417084,
          15.197487437185929,
          15.327638190954774,
          15.457788944723617,
          15.58793969849246,
          15.718090452261306,
          15.848241206030151,
          15.978391959798994,
          16.10854271356784,
          16.238693467336685,
          16.36884422110553,
          16.49899497487437,
          16.629145728643216,
          16.75929648241206,
          16.889447236180906,
          17.01959798994975,
          17.149748743718593,
          17.27989949748744,
          17.410050251256283,
          17.540201005025125,
          17.67035175879397,
          17.800502512562815,
          17.93065326633166,
          18.060804020100505,
          18.190954773869347,
          18.321105527638192,
          18.451256281407037,
          18.58140703517588,
          18.711557788944724,
          18.84170854271357,
          18.971859296482414,
          19.10201005025126,
          19.2321608040201,
          19.362311557788946,
          19.49246231155779,
          19.622613065326632,
          19.752763819095478,
          19.882914572864323,
          20.013065326633168,
          20.143216080402013,
          20.273366834170854,
          20.4035175879397,
          20.533668341708545,
          20.663819095477386,
          20.79396984924623,
          20.924120603015076,
          21.05427135678392,
          21.184422110552767,
          21.314572864321608,
          21.444723618090453,
          21.5748743718593,
          21.70502512562814,
          21.835175879396985,
          21.96532663316583,
          22.095477386934675,
          22.22562814070352,
          22.355778894472362,
          22.485929648241207,
          22.616080402010052,
          22.746231155778894,
          22.87638190954774,
          23.006532663316584,
          23.13668341708543,
          23.266834170854274,
          23.396984924623116,
          23.52713567839196,
          23.657286432160806,
          23.787437185929647,
          23.917587939698493,
          24.047738693467338,
          24.177889447236183,
          24.308040201005028,
          24.43819095477387,
          24.568341708542714,
          24.69849246231156,
          24.8286432160804,
          24.958793969849246,
          25.08894472361809,
          25.219095477386936,
          25.34924623115578,
          25.479396984924623,
          25.60954773869347,
          25.739698492462313,
          25.869849246231155,
          26
         ],
         "y": [
          0.06901965979284364,
          0.15620422443634802,
          0.24047475517592112,
          0.3219131536276149,
          0.40059914073973457,
          0.47661031347308747,
          0.5500222000268781,
          0.6209083136471634,
          0.6893402050539403,
          0.7553875135221333,
          0.8191180166507405,
          0.8805976788535083,
          0.9398906986038241,
          0.9970595544654564,
          1.0521650499401802,
          1.1052663571624017,
          1.1564210594701827,
          1.2056851928813326,
          1.2531132865024772,
          1.298758401898328,
          1.3426721714476688,
          1.3849048357119145,
          1.425505279841455,
          1.4645210690443116,
          1.5019984831410675,
          1.537982550229376,
          1.5725170794808003,
          1.6056446930921329,
          1.6374068574127876,
          1.6678439132693048,
          1.6969951055075139,
          1.7248986117722904,
          1.751591570544451,
          1.7771101084537142,
          1.8014893668862966,
          1.8247635279051206,
          1.8469658395002517,
          1.8681286401866817,
          1.8882833829661525,
          1.9074606586693048,
          1.925690218693978,
          1.9430009971551558,
          1.9594211324615949,
          1.9749779883338143,
          1.9896981742777664,
          2.0036075655281147,
          2.0167313224747154,
          2.0290939095855403,
          2.040719113838944,
          2.051630062677851,
          2.061849241498137,
          2.071398510683099,
          2.080299122195722,
          2.0885717357400293,
          2.0962364345025994,
          2.1033127404850145,
          2.1098196294377423,
          2.11577554540568,
          2.1211984148953347,
          2.126105660673344,
          2.1305142152058365,
          2.134440533747819,
          2.1379006070916153,
          2.1409099739831094,
          2.143483733214323,
          2.145636555400669,
          2.147382694450973,
          2.1487359987381804,
          2.149709921978438,
          2.1503175338260605,
          2.1505715301917,
          2.1504842432908413,
          2.1500676514295587,
          2.1493333885343247,
          2.1482927534324405,
          2.1469567188895278,
          2.145335940410351,
          2.1434407648090534,
          2.141281238554766,
          2.138867115898388,
          2.136207866786171,
          2.1333126845656216,
          2.1301904934890805,
          2.1268499560201946,
          2.1232994799483906,
          2.119547225316287,
          2.1156011111649033,
          2.1114688221013567,
          2.107157814693645,
          2.102675323696989,
          2.098028368116085,
          2.0932237571075203,
          2.088268095726489,
          2.083167790521832,
          2.0779290549833354,
          2.072557914845118,
          2.0670602132488294,
          2.0614416157702964,
          2.0557076153131577,
          2.049863536872943,
          2.043914542174944,
          2.0378656341891643,
          2.0317216615255425,
          2.025487322712539,
          2.019167170362139,
          2.0127656152242093,
          2.006286930133086,
          1.9997352538492028,
          1.9931145947984847,
          1.9864288347121621,
          1.9796817321696092,
          1.972876926046725,
          1.9660179388723105,
          1.9591081800948569,
          1.9521509492620597,
          1.9451494391153505,
          1.9381067386016526,
          1.931025835804525,
          1.9239096207968,
          1.9167608884167586,
          1.9095823409698478,
          1.9023765908578818,
          1.895146163137622,
          1.887893498010588,
          1.880620953245886,
          1.873330806537828,
          1.8660252578000323,
          1.858706431397667,
          1.851376378319479,
          1.844037078291164,
          1.8366904418316228,
          1.8293383122536124,
          1.821982467610233,
          1.8146246225886948,
          1.8072664303527262,
          1.7999094843349956,
          1.7925553199808455,
          1.7852054164446245,
          1.777861198239869,
          1.770524036844542,
          1.7631952522625196,
          1.7558761145424735,
          1.7485678452552784,
          1.7412716189310302,
          1.7339885644567485,
          1.7267197664358025,
          1.719466266510057,
          1.7122290646457508,
          1.7050091203840334,
          1.6978073540571272,
          1.6906246479710025,
          1.6834618475554615,
          1.676319762482496,
          1.6691991677537568,
          1.6621008047579537,
          1.6550253822989918,
          1.6479735775956066,
          1.6409460372532765,
          1.6339433782091264,
          1.6269661886505593,
          1.6200150289083086,
          1.613090432324589,
          1.6061929060970166,
          1.59932293209894,
          1.5924809676768121,
          1.585667446425222,
          1.5788827789401692,
          1.5721273535511817,
          1.565401537032829,
          1.5587056752961852,
          1.5520400940607848,
          1.5454050995075872,
          1.5388009789134647,
          1.5322280012677054,
          1.5256864178710192,
          1.519176462917513,
          1.512698354060096,
          1.5062522929597604,
          1.4998384658191712,
          1.4934570439009909,
          1.4871081840313463,
          1.4807920290888443,
          1.4745087084795234,
          1.468258338598122,
          1.4620410232760355,
          1.4558568542163213,
          1.4497059114161026,
          1.4435882635767152,
          1.4375039685019284,
          1.4314530734845639,
          1.4254356156818295,
          1.4194516224796754,
          1.413501111846469,
          1.407584092676287,
          1.401700565122096,
          1.3958505209191123,
          1.3900339436985996,
          1.384250809292368,
          1.3785010860282354,
          1.3727847350166886
         ]
        },
        {
         "line": {
          "color": "black",
          "dash": "dash"
         },
         "mode": "lines",
         "name": "Total Model Yield",
         "type": "scatter",
         "x": [
          0.1,
          0.23015075376884422,
          0.3603015075376884,
          0.49045226130653263,
          0.6206030150753769,
          0.7507537688442211,
          0.8809045226130653,
          1.0110552763819096,
          1.1412060301507538,
          1.271356783919598,
          1.4015075376884423,
          1.5316582914572865,
          1.6618090452261307,
          1.791959798994975,
          1.9221105527638191,
          2.0522613065326634,
          2.1824120603015076,
          2.312562814070352,
          2.442713567839196,
          2.5728643216080402,
          2.7030150753768845,
          2.8331658291457287,
          2.963316582914573,
          3.093467336683417,
          3.2236180904522613,
          3.3537688442211055,
          3.4839195979899498,
          3.614070351758794,
          3.744221105527638,
          3.8743718592964824,
          4.004522613065326,
          4.13467336683417,
          4.264824120603015,
          4.394974874371859,
          4.525125628140703,
          4.655276381909547,
          4.7854271356783915,
          4.915577889447236,
          5.04572864321608,
          5.175879396984924,
          5.306030150753768,
          5.436180904522613,
          5.566331658291457,
          5.696482412060301,
          5.826633165829145,
          5.9567839195979895,
          6.086934673366834,
          6.217085427135678,
          6.347236180904522,
          6.477386934673366,
          6.607537688442211,
          6.737688442211055,
          6.867839195979899,
          6.997989949748743,
          7.128140703517587,
          7.258291457286432,
          7.388442211055276,
          7.51859296482412,
          7.648743718592964,
          7.7788944723618085,
          7.909045226130653,
          8.039195979899498,
          8.169346733668341,
          8.299497487437185,
          8.42964824120603,
          8.559798994974875,
          8.689949748743718,
          8.820100502512561,
          8.950251256281406,
          9.080402010050252,
          9.210552763819095,
          9.340703517587938,
          9.470854271356783,
          9.601005025125628,
          9.731155778894472,
          9.861306532663315,
          9.99145728643216,
          10.121608040201005,
          10.251758793969849,
          10.381909547738692,
          10.512060301507537,
          10.642211055276382,
          10.772361809045226,
          10.902512562814069,
          11.032663316582914,
          11.162814070351759,
          11.292964824120602,
          11.423115577889446,
          11.55326633165829,
          11.683417085427136,
          11.81356783919598,
          11.943718592964823,
          12.073869346733668,
          12.204020100502513,
          12.334170854271356,
          12.4643216080402,
          12.594472361809045,
          12.72462311557789,
          12.854773869346733,
          12.984924623115576,
          13.115075376884421,
          13.245226130653267,
          13.37537688442211,
          13.505527638190953,
          13.635678391959798,
          13.765829145728643,
          13.895979899497487,
          14.02613065326633,
          14.156281407035175,
          14.28643216080402,
          14.416582914572864,
          14.546733668341707,
          14.676884422110552,
          14.807035175879397,
          14.93718592964824,
          15.067336683417084,
          15.197487437185929,
          15.327638190954774,
          15.457788944723617,
          15.58793969849246,
          15.718090452261306,
          15.848241206030151,
          15.978391959798994,
          16.10854271356784,
          16.238693467336685,
          16.36884422110553,
          16.49899497487437,
          16.629145728643216,
          16.75929648241206,
          16.889447236180906,
          17.01959798994975,
          17.149748743718593,
          17.27989949748744,
          17.410050251256283,
          17.540201005025125,
          17.67035175879397,
          17.800502512562815,
          17.93065326633166,
          18.060804020100505,
          18.190954773869347,
          18.321105527638192,
          18.451256281407037,
          18.58140703517588,
          18.711557788944724,
          18.84170854271357,
          18.971859296482414,
          19.10201005025126,
          19.2321608040201,
          19.362311557788946,
          19.49246231155779,
          19.622613065326632,
          19.752763819095478,
          19.882914572864323,
          20.013065326633168,
          20.143216080402013,
          20.273366834170854,
          20.4035175879397,
          20.533668341708545,
          20.663819095477386,
          20.79396984924623,
          20.924120603015076,
          21.05427135678392,
          21.184422110552767,
          21.314572864321608,
          21.444723618090453,
          21.5748743718593,
          21.70502512562814,
          21.835175879396985,
          21.96532663316583,
          22.095477386934675,
          22.22562814070352,
          22.355778894472362,
          22.485929648241207,
          22.616080402010052,
          22.746231155778894,
          22.87638190954774,
          23.006532663316584,
          23.13668341708543,
          23.266834170854274,
          23.396984924623116,
          23.52713567839196,
          23.657286432160806,
          23.787437185929647,
          23.917587939698493,
          24.047738693467338,
          24.177889447236183,
          24.308040201005028,
          24.43819095477387,
          24.568341708542714,
          24.69849246231156,
          24.8286432160804,
          24.958793969849246,
          25.08894472361809,
          25.219095477386936,
          25.34924623115578,
          25.479396984924623,
          25.60954773869347,
          25.739698492462313,
          25.869849246231155,
          26
         ],
         "y": [
          0.7022005102793707,
          0.7810723468306628,
          0.8604362032835541,
          0.9401738156940528,
          1.0201743592648775,
          1.1003340745441703,
          1.1805559107877357,
          1.2607491857314055,
          1.3408292610530428,
          1.4207172328341182,
          1.5003396363605823,
          1.5796281646309098,
          1.658519399966309,
          1.7369545581441004,
          1.8148792445000819,
          1.892243221469527,
          1.9690001870592728,
          2.0451075637651597,
          2.1205262974701165,
          2.1952206658780535,
          2.2691580960580717,
          2.3423089906917527,
          2.4146465626340183,
          2.486146677414725,
          2.556787703324513,
          2.626550368743657,
          2.695417626387681,
          2.7633745241574794,
          2.8304080822953916,
          2.8965071765615615,
          2.961662427157484,
          3.0258660931353707,
          3.0891119720435367,
          3.1513953045688186,
          3.212712683947537,
          3.273061969926488,
          3.3324422070650366,
          3.390853547178574,
          3.4482971757323373,
          3.5047752420030136,
          3.560290792833581,
          3.614847709814548,
          3.668450649732112,
          3.721104988130772,
          3.7728167658447638,
          3.8235926383590413,
          3.8734398278667634,
          3.9223660778961724,
          3.970379610385353,
          4.01748908508882,
          4.063703561205071,
          4.109032461119119,
          4.153485536158885,
          4.197072834268763,
          4.239804669508054,
          4.2816915932861255,
          4.322744367250105,
          4.3629739377447345,
          4.402391411767619,
          4.441008034346619,
          4.478835167269437,
          4.515884269098619,
          4.552166876408256,
          4.587694586181581,
          4.622479039311398,
          4.656531905148001,
          4.6898648670417185,
          4.722489608829717,
          4.754417802218962,
          4.785661095019476,
          4.8162311001842015,
          4.846139385613728,
          4.875397464686147,
          4.904016787474129,
          4.93200873261309,
          4.959384599786008,
          4.986155602792093,
          5.012332863168001,
          5.037927404331853,
          5.0629501462216435,
          5.087411900401011,
          5.111323365606666,
          5.134695123712916,
          5.1575376360900025,
          5.179861240334016,
          5.201676147347245,
          5.222992438748891,
          5.243820064596953,
          5.264168841403135,
          5.284048450423446,
          5.303468436208032,
          5.322438205394602,
          5.34096702573059,
          5.359064025309906,
          5.37673819201085,
          5.393998373122477,
          5.410853275147247,
          5.427311463768534,
          5.443381363972031,
          5.459071260310726,
          5.474389297303643,
          5.489343479959004,
          5.50394167441302,
          5.518191608675917,
          5.5321008734773,
          5.5456769232033185,
          5.558927076918554,
          5.571858519465864,
          5.584478302637881,
          5.5967933464140724,
          5.608810440257732,
          5.620536244467485,
          5.631977291578252,
          5.643139987806871,
          5.6540306145378425,
          5.664655329844941,
          5.675020170044672,
          5.685131051277761,
          5.694993771115149,
          5.704614010185086,
          5.713997333818208,
          5.723149193707592,
          5.7320749295810405,
          5.740779770882954,
          5.749268838463326,
          5.757547146271631,
          5.765619603053368,
          5.773491014047308,
          5.781166082681567,
          5.788649412266719,
          5.795945507684354,
          5.80305877706954,
          5.809993533485803,
          5.816753996591278,
          5.8233442942948646,
          5.829768464401222,
          5.836030456243613,
          5.842134132303603,
          5.848083269816768,
          5.853881562363599,
          5.8595326214448695,
          5.8650399780408,
          5.870407084153417,
          5.875637314331563,
          5.880733967178041,
          5.885700266838506,
          5.890539364471644,
          5.895254339700358,
          5.899848202043609,
          5.904323892328693,
          5.908684284083705,
          5.912932184910007,
          5.917070337834556,
          5.921101422641978,
          5.9250280571862834,
          5.928852798682156,
          5.932578144975816,
          5.936206535795391,
          5.939740353980863,
          5.943181926693581,
          5.946533526605405,
          5.949797373067572,
          5.9529756332593315,
          5.956070423316505,
          5.959083809440038,
          5.962017808984716,
          5.964874391528166,
          5.96765547992032,
          5.970362951313485,
          5.972998638173213,
          5.975564329270162,
          5.978061770653119,
          5.980492666603418,
          5.982858680570924,
          5.985161436091844,
          5.987402517688541,
          5.9895834717516,
          5.9917058074043705,
          5.993770997350217,
          5.995780478702714,
          5.997735653799016,
          5.999637890996663,
          6.001488525454043,
          6.003288859894772,
          6.005040165356215,
          6.0067436819224325,
          6.00840061944175,
          6.010012158229247,
          6.0115794497543655,
          6.013103617313928,
          6.014585756690768,
          6.01602693679826,
          6.017428200310961,
          6.018790564281619,
          6.020115020744785,
          6.021402537307288,
          6.022654057725767,
          6.023870502471548,
          6.025052769283064,
          6.02620173370606
         ]
        }
       ],
       "layout": {
        "font": {
         "color": "Black",
         "family": "Times New Roman",
         "size": 15
        },
        "legend": {
         "bgcolor": "rgba(255,255,255,0)",
         "yanchor": "top"
        },
        "plot_bgcolor": "rgba(255,255,255,1)",
        "template": {
         "data": {
          "bar": [
           {
            "error_x": {
             "color": "#2a3f5f"
            },
            "error_y": {
             "color": "#2a3f5f"
            },
            "marker": {
             "line": {
              "color": "#E5ECF6",
              "width": 0.5
             },
             "pattern": {
              "fillmode": "overlay",
              "size": 10,
              "solidity": 0.2
             }
            },
            "type": "bar"
           }
          ],
          "barpolar": [
           {
            "marker": {
             "line": {
              "color": "#E5ECF6",
              "width": 0.5
             },
             "pattern": {
              "fillmode": "overlay",
              "size": 10,
              "solidity": 0.2
             }
            },
            "type": "barpolar"
           }
          ],
          "carpet": [
           {
            "aaxis": {
             "endlinecolor": "#2a3f5f",
             "gridcolor": "white",
             "linecolor": "white",
             "minorgridcolor": "white",
             "startlinecolor": "#2a3f5f"
            },
            "baxis": {
             "endlinecolor": "#2a3f5f",
             "gridcolor": "white",
             "linecolor": "white",
             "minorgridcolor": "white",
             "startlinecolor": "#2a3f5f"
            },
            "type": "carpet"
           }
          ],
          "choropleth": [
           {
            "colorbar": {
             "outlinewidth": 0,
             "ticks": ""
            },
            "type": "choropleth"
           }
          ],
          "contour": [
           {
            "colorbar": {
             "outlinewidth": 0,
             "ticks": ""
            },
            "colorscale": [
             [
              0,
              "#0d0887"
             ],
             [
              0.1111111111111111,
              "#46039f"
             ],
             [
              0.2222222222222222,
              "#7201a8"
             ],
             [
              0.3333333333333333,
              "#9c179e"
             ],
             [
              0.4444444444444444,
              "#bd3786"
             ],
             [
              0.5555555555555556,
              "#d8576b"
             ],
             [
              0.6666666666666666,
              "#ed7953"
             ],
             [
              0.7777777777777778,
              "#fb9f3a"
             ],
             [
              0.8888888888888888,
              "#fdca26"
             ],
             [
              1,
              "#f0f921"
             ]
            ],
            "type": "contour"
           }
          ],
          "contourcarpet": [
           {
            "colorbar": {
             "outlinewidth": 0,
             "ticks": ""
            },
            "type": "contourcarpet"
           }
          ],
          "heatmap": [
           {
            "colorbar": {
             "outlinewidth": 0,
             "ticks": ""
            },
            "colorscale": [
             [
              0,
              "#0d0887"
             ],
             [
              0.1111111111111111,
              "#46039f"
             ],
             [
              0.2222222222222222,
              "#7201a8"
             ],
             [
              0.3333333333333333,
              "#9c179e"
             ],
             [
              0.4444444444444444,
              "#bd3786"
             ],
             [
              0.5555555555555556,
              "#d8576b"
             ],
             [
              0.6666666666666666,
              "#ed7953"
             ],
             [
              0.7777777777777778,
              "#fb9f3a"
             ],
             [
              0.8888888888888888,
              "#fdca26"
             ],
             [
              1,
              "#f0f921"
             ]
            ],
            "type": "heatmap"
           }
          ],
          "heatmapgl": [
           {
            "colorbar": {
             "outlinewidth": 0,
             "ticks": ""
            },
            "colorscale": [
             [
              0,
              "#0d0887"
             ],
             [
              0.1111111111111111,
              "#46039f"
             ],
             [
              0.2222222222222222,
              "#7201a8"
             ],
             [
              0.3333333333333333,
              "#9c179e"
             ],
             [
              0.4444444444444444,
              "#bd3786"
             ],
             [
              0.5555555555555556,
              "#d8576b"
             ],
             [
              0.6666666666666666,
              "#ed7953"
             ],
             [
              0.7777777777777778,
              "#fb9f3a"
             ],
             [
              0.8888888888888888,
              "#fdca26"
             ],
             [
              1,
              "#f0f921"
             ]
            ],
            "type": "heatmapgl"
           }
          ],
          "histogram": [
           {
            "marker": {
             "pattern": {
              "fillmode": "overlay",
              "size": 10,
              "solidity": 0.2
             }
            },
            "type": "histogram"
           }
          ],
          "histogram2d": [
           {
            "colorbar": {
             "outlinewidth": 0,
             "ticks": ""
            },
            "colorscale": [
             [
              0,
              "#0d0887"
             ],
             [
              0.1111111111111111,
              "#46039f"
             ],
             [
              0.2222222222222222,
              "#7201a8"
             ],
             [
              0.3333333333333333,
              "#9c179e"
             ],
             [
              0.4444444444444444,
              "#bd3786"
             ],
             [
              0.5555555555555556,
              "#d8576b"
             ],
             [
              0.6666666666666666,
              "#ed7953"
             ],
             [
              0.7777777777777778,
              "#fb9f3a"
             ],
             [
              0.8888888888888888,
              "#fdca26"
             ],
             [
              1,
              "#f0f921"
             ]
            ],
            "type": "histogram2d"
           }
          ],
          "histogram2dcontour": [
           {
            "colorbar": {
             "outlinewidth": 0,
             "ticks": ""
            },
            "colorscale": [
             [
              0,
              "#0d0887"
             ],
             [
              0.1111111111111111,
              "#46039f"
             ],
             [
              0.2222222222222222,
              "#7201a8"
             ],
             [
              0.3333333333333333,
              "#9c179e"
             ],
             [
              0.4444444444444444,
              "#bd3786"
             ],
             [
              0.5555555555555556,
              "#d8576b"
             ],
             [
              0.6666666666666666,
              "#ed7953"
             ],
             [
              0.7777777777777778,
              "#fb9f3a"
             ],
             [
              0.8888888888888888,
              "#fdca26"
             ],
             [
              1,
              "#f0f921"
             ]
            ],
            "type": "histogram2dcontour"
           }
          ],
          "mesh3d": [
           {
            "colorbar": {
             "outlinewidth": 0,
             "ticks": ""
            },
            "type": "mesh3d"
           }
          ],
          "parcoords": [
           {
            "line": {
             "colorbar": {
              "outlinewidth": 0,
              "ticks": ""
             }
            },
            "type": "parcoords"
           }
          ],
          "pie": [
           {
            "automargin": true,
            "type": "pie"
           }
          ],
          "scatter": [
           {
            "fillpattern": {
             "fillmode": "overlay",
             "size": 10,
             "solidity": 0.2
            },
            "type": "scatter"
           }
          ],
          "scatter3d": [
           {
            "line": {
             "colorbar": {
              "outlinewidth": 0,
              "ticks": ""
             }
            },
            "marker": {
             "colorbar": {
              "outlinewidth": 0,
              "ticks": ""
             }
            },
            "type": "scatter3d"
           }
          ],
          "scattercarpet": [
           {
            "marker": {
             "colorbar": {
              "outlinewidth": 0,
              "ticks": ""
             }
            },
            "type": "scattercarpet"
           }
          ],
          "scattergeo": [
           {
            "marker": {
             "colorbar": {
              "outlinewidth": 0,
              "ticks": ""
             }
            },
            "type": "scattergeo"
           }
          ],
          "scattergl": [
           {
            "marker": {
             "colorbar": {
              "outlinewidth": 0,
              "ticks": ""
             }
            },
            "type": "scattergl"
           }
          ],
          "scattermapbox": [
           {
            "marker": {
             "colorbar": {
              "outlinewidth": 0,
              "ticks": ""
             }
            },
            "type": "scattermapbox"
           }
          ],
          "scatterpolar": [
           {
            "marker": {
             "colorbar": {
              "outlinewidth": 0,
              "ticks": ""
             }
            },
            "type": "scatterpolar"
           }
          ],
          "scatterpolargl": [
           {
            "marker": {
             "colorbar": {
              "outlinewidth": 0,
              "ticks": ""
             }
            },
            "type": "scatterpolargl"
           }
          ],
          "scatterternary": [
           {
            "marker": {
             "colorbar": {
              "outlinewidth": 0,
              "ticks": ""
             }
            },
            "type": "scatterternary"
           }
          ],
          "surface": [
           {
            "colorbar": {
             "outlinewidth": 0,
             "ticks": ""
            },
            "colorscale": [
             [
              0,
              "#0d0887"
             ],
             [
              0.1111111111111111,
              "#46039f"
             ],
             [
              0.2222222222222222,
              "#7201a8"
             ],
             [
              0.3333333333333333,
              "#9c179e"
             ],
             [
              0.4444444444444444,
              "#bd3786"
             ],
             [
              0.5555555555555556,
              "#d8576b"
             ],
             [
              0.6666666666666666,
              "#ed7953"
             ],
             [
              0.7777777777777778,
              "#fb9f3a"
             ],
             [
              0.8888888888888888,
              "#fdca26"
             ],
             [
              1,
              "#f0f921"
             ]
            ],
            "type": "surface"
           }
          ],
          "table": [
           {
            "cells": {
             "fill": {
              "color": "#EBF0F8"
             },
             "line": {
              "color": "white"
             }
            },
            "header": {
             "fill": {
              "color": "#C8D4E3"
             },
             "line": {
              "color": "white"
             }
            },
            "type": "table"
           }
          ]
         },
         "layout": {
          "annotationdefaults": {
           "arrowcolor": "#2a3f5f",
           "arrowhead": 0,
           "arrowwidth": 1
          },
          "autotypenumbers": "strict",
          "coloraxis": {
           "colorbar": {
            "outlinewidth": 0,
            "ticks": ""
           }
          },
          "colorscale": {
           "diverging": [
            [
             0,
             "#8e0152"
            ],
            [
             0.1,
             "#c51b7d"
            ],
            [
             0.2,
             "#de77ae"
            ],
            [
             0.3,
             "#f1b6da"
            ],
            [
             0.4,
             "#fde0ef"
            ],
            [
             0.5,
             "#f7f7f7"
            ],
            [
             0.6,
             "#e6f5d0"
            ],
            [
             0.7,
             "#b8e186"
            ],
            [
             0.8,
             "#7fbc41"
            ],
            [
             0.9,
             "#4d9221"
            ],
            [
             1,
             "#276419"
            ]
           ],
           "sequential": [
            [
             0,
             "#0d0887"
            ],
            [
             0.1111111111111111,
             "#46039f"
            ],
            [
             0.2222222222222222,
             "#7201a8"
            ],
            [
             0.3333333333333333,
             "#9c179e"
            ],
            [
             0.4444444444444444,
             "#bd3786"
            ],
            [
             0.5555555555555556,
             "#d8576b"
            ],
            [
             0.6666666666666666,
             "#ed7953"
            ],
            [
             0.7777777777777778,
             "#fb9f3a"
            ],
            [
             0.8888888888888888,
             "#fdca26"
            ],
            [
             1,
             "#f0f921"
            ]
           ],
           "sequentialminus": [
            [
             0,
             "#0d0887"
            ],
            [
             0.1111111111111111,
             "#46039f"
            ],
            [
             0.2222222222222222,
             "#7201a8"
            ],
            [
             0.3333333333333333,
             "#9c179e"
            ],
            [
             0.4444444444444444,
             "#bd3786"
            ],
            [
             0.5555555555555556,
             "#d8576b"
            ],
            [
             0.6666666666666666,
             "#ed7953"
            ],
            [
             0.7777777777777778,
             "#fb9f3a"
            ],
            [
             0.8888888888888888,
             "#fdca26"
            ],
            [
             1,
             "#f0f921"
            ]
           ]
          },
          "colorway": [
           "#636efa",
           "#EF553B",
           "#00cc96",
           "#ab63fa",
           "#FFA15A",
           "#19d3f3",
           "#FF6692",
           "#B6E880",
           "#FF97FF",
           "#FECB52"
          ],
          "font": {
           "color": "#2a3f5f"
          },
          "geo": {
           "bgcolor": "white",
           "lakecolor": "white",
           "landcolor": "#E5ECF6",
           "showlakes": true,
           "showland": true,
           "subunitcolor": "white"
          },
          "hoverlabel": {
           "align": "left"
          },
          "hovermode": "closest",
          "mapbox": {
           "style": "light"
          },
          "paper_bgcolor": "white",
          "plot_bgcolor": "#E5ECF6",
          "polar": {
           "angularaxis": {
            "gridcolor": "white",
            "linecolor": "white",
            "ticks": ""
           },
           "bgcolor": "#E5ECF6",
           "radialaxis": {
            "gridcolor": "white",
            "linecolor": "white",
            "ticks": ""
           }
          },
          "scene": {
           "xaxis": {
            "backgroundcolor": "#E5ECF6",
            "gridcolor": "white",
            "gridwidth": 2,
            "linecolor": "white",
            "showbackground": true,
            "ticks": "",
            "zerolinecolor": "white"
           },
           "yaxis": {
            "backgroundcolor": "#E5ECF6",
            "gridcolor": "white",
            "gridwidth": 2,
            "linecolor": "white",
            "showbackground": true,
            "ticks": "",
            "zerolinecolor": "white"
           },
           "zaxis": {
            "backgroundcolor": "#E5ECF6",
            "gridcolor": "white",
            "gridwidth": 2,
            "linecolor": "white",
            "showbackground": true,
            "ticks": "",
            "zerolinecolor": "white"
           }
          },
          "shapedefaults": {
           "line": {
            "color": "#2a3f5f"
           }
          },
          "ternary": {
           "aaxis": {
            "gridcolor": "white",
            "linecolor": "white",
            "ticks": ""
           },
           "baxis": {
            "gridcolor": "white",
            "linecolor": "white",
            "ticks": ""
           },
           "bgcolor": "#E5ECF6",
           "caxis": {
            "gridcolor": "white",
            "linecolor": "white",
            "ticks": ""
           }
          },
          "title": {
           "x": 0.05
          },
          "xaxis": {
           "automargin": true,
           "gridcolor": "white",
           "linecolor": "white",
           "ticks": "",
           "title": {
            "standoff": 15
           },
           "zerolinecolor": "white",
           "zerolinewidth": 2
          },
          "yaxis": {
           "automargin": true,
           "gridcolor": "white",
           "linecolor": "white",
           "ticks": "",
           "title": {
            "standoff": 15
           },
           "zerolinecolor": "white",
           "zerolinewidth": 2
          }
         }
        },
        "title": {
         "text": "Contributions from Each Factor to the Yield Curve",
         "x": 0.5
        },
        "width": 1000,
        "xaxis": {
         "linecolor": "black",
         "linewidth": 1,
         "range": [
          0,
          27
         ],
         "showline": true,
         "ticklen": 5,
         "ticks": "inside",
         "tickson": "boundaries",
         "tickvals": [
          1,
          2,
          3,
          4,
          5,
          6,
          7,
          8,
          9,
          10,
          15,
          20,
          25
         ],
         "title": {
          "text": "Time to Maturity (Years)"
         }
        },
        "yaxis": {
         "gridcolor": "rgba(38,38,38,0.15)",
         "linecolor": "Grey",
         "linewidth": 1,
         "showline": true,
         "title": {
          "text": "Yield Contribution (%)"
         }
        }
       }
      }
     },
     "metadata": {},
     "output_type": "display_data"
    }
   ],
   "source": [
    "# Compute Contributions of each factor in the NSS model\n",
    "gr.plot_yield_contributions(t_plot, contribution1, contribution2, contribution3, contribution4, y_model_plot)"
   ]
  },
  {
   "cell_type": "code",
   "execution_count": 27,
   "id": "c42f59f9",
   "metadata": {},
   "outputs": [
    {
     "data": {
      "application/vnd.plotly.v1+json": {
       "config": {
        "plotlyServerURL": "https://plot.ly"
       },
       "data": [
        {
         "marker": {
          "color": "rgb(0, 71, 102)",
          "size": 8
         },
         "mode": "markers",
         "name": "Zero-Coupon Yields",
         "type": "scatter",
         "x": [
          0.5,
          1,
          1.5,
          2,
          2.5,
          3,
          3.5,
          4,
          4.5,
          5,
          5.5,
          6,
          6.5,
          7,
          7.5,
          8,
          8.5,
          9,
          9.5,
          10,
          10.5,
          11,
          11.5,
          12,
          12.5,
          13,
          13.5,
          14,
          14.5,
          15,
          15.5,
          16,
          16.5,
          17,
          17.5,
          18,
          18.5,
          19,
          19.5,
          20,
          20.5,
          21,
          21.5,
          22,
          22.5,
          23,
          23.5,
          24,
          24.5,
          25,
          25.5,
          26
         ],
         "y": [
          0.8975140133952841,
          1.193857624074246,
          1.5750406785273618,
          1.872712674900212,
          2.1796474039821323,
          2.471083666528262,
          2.79431070373497,
          3.0083207311893734,
          3.2540711325878213,
          3.4798434592520078,
          3.656250399038141,
          3.8817130232450037,
          4.076543337951977,
          4.22033079161781,
          4.352036191127384,
          4.486544588554109,
          4.587907613268483,
          4.663953098000073,
          4.69610587080127,
          4.710713178511705,
          4.738867248332834,
          4.928472994544508,
          5.33082226139534,
          5.382521987495759,
          5.463427825344391,
          5.519714061502334,
          5.5750998027986665,
          5.6633621194221995,
          5.674433382705679,
          5.716564734153673,
          5.7903746000884215,
          5.8297101392990935,
          5.8507473934286125,
          5.902296980536459,
          5.916501958949771,
          5.929748893333597,
          5.949503086392305,
          5.95617503285073,
          5.966130672483416,
          5.951192774131808,
          5.939830492761677,
          5.978837053209274,
          6.0016907895611205,
          5.996086220867181,
          5.945526075708729,
          5.982158396770876,
          5.964655314069445,
          5.9602422029392255,
          5.955634185953151,
          5.912715538369984,
          5.878122555322385,
          5.904780645931895
         ]
        },
        {
         "marker": {
          "color": "red",
          "size": 5
         },
         "mode": "lines",
         "name": "NSS Model Yields",
         "type": "scatter",
         "x": [
          0.5,
          1,
          1.5,
          2,
          2.5,
          3,
          3.5,
          4,
          4.5,
          5,
          5.5,
          6,
          6.5,
          7,
          7.5,
          8,
          8.5,
          9,
          9.5,
          10,
          10.5,
          11,
          11.5,
          12,
          12.5,
          13,
          13.5,
          14,
          14.5,
          15,
          15.5,
          16,
          16.5,
          17,
          17.5,
          18,
          18.5,
          19,
          19.5,
          20,
          20.5,
          21,
          21.5,
          22,
          22.5,
          23,
          23.5,
          24,
          24.5,
          25,
          25.5,
          26
         ],
         "y": [
          0.9460349470215658,
          1.2539406509434476,
          1.5603759925326244,
          1.8612485707110389,
          2.1534946011150597,
          2.4348848410190715,
          2.7038634169632227,
          2.959414263604845,
          3.2009507084671083,
          3.4282244367179096,
          3.6412506620855516,
          3.8402468308227475,
          4.025582609128338,
          4.197739262397357,
          4.357276837089627,
          4.504807811370046,
          4.640976096181487,
          4.76644045017522,
          4.881861525128625,
          4.987891887523054,
          5.085168470565405,
          5.174307002276111,
          5.255898032013329,
          5.330504242227778,
          5.398658786267611,
          5.460864438305603,
          5.517593379319495,
          5.569287474686211,
          5.616358925337497,
          5.659191196401627,
          5.698140145527197,
          5.733535288245214,
          5.765681150276509,
          5.794858667056222,
          5.821326599282585,
          5.8453229403041025,
          5.867066296890487,
          5.886757229601289,
          5.904579542750921,
          5.920701517019987,
          5.9352770802064105,
          5.948446913551509,
          5.96033949260414,
          5.971072062774319,
          5.9807515506378035,
          5.98947541273657,
          5.997332424119468,
          6.004403409218259,
          6.010761917885983,
          6.016474849561575,
          6.021603028586882,
          6.02620173370606
         ]
        }
       ],
       "layout": {
        "font": {
         "color": "Black",
         "family": "Time New Roman",
         "size": 15
        },
        "height": 500,
        "legend": {
         "bgcolor": "rgba(255,255,255,0)",
         "xanchor": "left",
         "yanchor": "top"
        },
        "plot_bgcolor": "rgba(255,255,255,1)",
        "template": {
         "data": {
          "bar": [
           {
            "error_x": {
             "color": "#2a3f5f"
            },
            "error_y": {
             "color": "#2a3f5f"
            },
            "marker": {
             "line": {
              "color": "#E5ECF6",
              "width": 0.5
             },
             "pattern": {
              "fillmode": "overlay",
              "size": 10,
              "solidity": 0.2
             }
            },
            "type": "bar"
           }
          ],
          "barpolar": [
           {
            "marker": {
             "line": {
              "color": "#E5ECF6",
              "width": 0.5
             },
             "pattern": {
              "fillmode": "overlay",
              "size": 10,
              "solidity": 0.2
             }
            },
            "type": "barpolar"
           }
          ],
          "carpet": [
           {
            "aaxis": {
             "endlinecolor": "#2a3f5f",
             "gridcolor": "white",
             "linecolor": "white",
             "minorgridcolor": "white",
             "startlinecolor": "#2a3f5f"
            },
            "baxis": {
             "endlinecolor": "#2a3f5f",
             "gridcolor": "white",
             "linecolor": "white",
             "minorgridcolor": "white",
             "startlinecolor": "#2a3f5f"
            },
            "type": "carpet"
           }
          ],
          "choropleth": [
           {
            "colorbar": {
             "outlinewidth": 0,
             "ticks": ""
            },
            "type": "choropleth"
           }
          ],
          "contour": [
           {
            "colorbar": {
             "outlinewidth": 0,
             "ticks": ""
            },
            "colorscale": [
             [
              0,
              "#0d0887"
             ],
             [
              0.1111111111111111,
              "#46039f"
             ],
             [
              0.2222222222222222,
              "#7201a8"
             ],
             [
              0.3333333333333333,
              "#9c179e"
             ],
             [
              0.4444444444444444,
              "#bd3786"
             ],
             [
              0.5555555555555556,
              "#d8576b"
             ],
             [
              0.6666666666666666,
              "#ed7953"
             ],
             [
              0.7777777777777778,
              "#fb9f3a"
             ],
             [
              0.8888888888888888,
              "#fdca26"
             ],
             [
              1,
              "#f0f921"
             ]
            ],
            "type": "contour"
           }
          ],
          "contourcarpet": [
           {
            "colorbar": {
             "outlinewidth": 0,
             "ticks": ""
            },
            "type": "contourcarpet"
           }
          ],
          "heatmap": [
           {
            "colorbar": {
             "outlinewidth": 0,
             "ticks": ""
            },
            "colorscale": [
             [
              0,
              "#0d0887"
             ],
             [
              0.1111111111111111,
              "#46039f"
             ],
             [
              0.2222222222222222,
              "#7201a8"
             ],
             [
              0.3333333333333333,
              "#9c179e"
             ],
             [
              0.4444444444444444,
              "#bd3786"
             ],
             [
              0.5555555555555556,
              "#d8576b"
             ],
             [
              0.6666666666666666,
              "#ed7953"
             ],
             [
              0.7777777777777778,
              "#fb9f3a"
             ],
             [
              0.8888888888888888,
              "#fdca26"
             ],
             [
              1,
              "#f0f921"
             ]
            ],
            "type": "heatmap"
           }
          ],
          "heatmapgl": [
           {
            "colorbar": {
             "outlinewidth": 0,
             "ticks": ""
            },
            "colorscale": [
             [
              0,
              "#0d0887"
             ],
             [
              0.1111111111111111,
              "#46039f"
             ],
             [
              0.2222222222222222,
              "#7201a8"
             ],
             [
              0.3333333333333333,
              "#9c179e"
             ],
             [
              0.4444444444444444,
              "#bd3786"
             ],
             [
              0.5555555555555556,
              "#d8576b"
             ],
             [
              0.6666666666666666,
              "#ed7953"
             ],
             [
              0.7777777777777778,
              "#fb9f3a"
             ],
             [
              0.8888888888888888,
              "#fdca26"
             ],
             [
              1,
              "#f0f921"
             ]
            ],
            "type": "heatmapgl"
           }
          ],
          "histogram": [
           {
            "marker": {
             "pattern": {
              "fillmode": "overlay",
              "size": 10,
              "solidity": 0.2
             }
            },
            "type": "histogram"
           }
          ],
          "histogram2d": [
           {
            "colorbar": {
             "outlinewidth": 0,
             "ticks": ""
            },
            "colorscale": [
             [
              0,
              "#0d0887"
             ],
             [
              0.1111111111111111,
              "#46039f"
             ],
             [
              0.2222222222222222,
              "#7201a8"
             ],
             [
              0.3333333333333333,
              "#9c179e"
             ],
             [
              0.4444444444444444,
              "#bd3786"
             ],
             [
              0.5555555555555556,
              "#d8576b"
             ],
             [
              0.6666666666666666,
              "#ed7953"
             ],
             [
              0.7777777777777778,
              "#fb9f3a"
             ],
             [
              0.8888888888888888,
              "#fdca26"
             ],
             [
              1,
              "#f0f921"
             ]
            ],
            "type": "histogram2d"
           }
          ],
          "histogram2dcontour": [
           {
            "colorbar": {
             "outlinewidth": 0,
             "ticks": ""
            },
            "colorscale": [
             [
              0,
              "#0d0887"
             ],
             [
              0.1111111111111111,
              "#46039f"
             ],
             [
              0.2222222222222222,
              "#7201a8"
             ],
             [
              0.3333333333333333,
              "#9c179e"
             ],
             [
              0.4444444444444444,
              "#bd3786"
             ],
             [
              0.5555555555555556,
              "#d8576b"
             ],
             [
              0.6666666666666666,
              "#ed7953"
             ],
             [
              0.7777777777777778,
              "#fb9f3a"
             ],
             [
              0.8888888888888888,
              "#fdca26"
             ],
             [
              1,
              "#f0f921"
             ]
            ],
            "type": "histogram2dcontour"
           }
          ],
          "mesh3d": [
           {
            "colorbar": {
             "outlinewidth": 0,
             "ticks": ""
            },
            "type": "mesh3d"
           }
          ],
          "parcoords": [
           {
            "line": {
             "colorbar": {
              "outlinewidth": 0,
              "ticks": ""
             }
            },
            "type": "parcoords"
           }
          ],
          "pie": [
           {
            "automargin": true,
            "type": "pie"
           }
          ],
          "scatter": [
           {
            "fillpattern": {
             "fillmode": "overlay",
             "size": 10,
             "solidity": 0.2
            },
            "type": "scatter"
           }
          ],
          "scatter3d": [
           {
            "line": {
             "colorbar": {
              "outlinewidth": 0,
              "ticks": ""
             }
            },
            "marker": {
             "colorbar": {
              "outlinewidth": 0,
              "ticks": ""
             }
            },
            "type": "scatter3d"
           }
          ],
          "scattercarpet": [
           {
            "marker": {
             "colorbar": {
              "outlinewidth": 0,
              "ticks": ""
             }
            },
            "type": "scattercarpet"
           }
          ],
          "scattergeo": [
           {
            "marker": {
             "colorbar": {
              "outlinewidth": 0,
              "ticks": ""
             }
            },
            "type": "scattergeo"
           }
          ],
          "scattergl": [
           {
            "marker": {
             "colorbar": {
              "outlinewidth": 0,
              "ticks": ""
             }
            },
            "type": "scattergl"
           }
          ],
          "scattermapbox": [
           {
            "marker": {
             "colorbar": {
              "outlinewidth": 0,
              "ticks": ""
             }
            },
            "type": "scattermapbox"
           }
          ],
          "scatterpolar": [
           {
            "marker": {
             "colorbar": {
              "outlinewidth": 0,
              "ticks": ""
             }
            },
            "type": "scatterpolar"
           }
          ],
          "scatterpolargl": [
           {
            "marker": {
             "colorbar": {
              "outlinewidth": 0,
              "ticks": ""
             }
            },
            "type": "scatterpolargl"
           }
          ],
          "scatterternary": [
           {
            "marker": {
             "colorbar": {
              "outlinewidth": 0,
              "ticks": ""
             }
            },
            "type": "scatterternary"
           }
          ],
          "surface": [
           {
            "colorbar": {
             "outlinewidth": 0,
             "ticks": ""
            },
            "colorscale": [
             [
              0,
              "#0d0887"
             ],
             [
              0.1111111111111111,
              "#46039f"
             ],
             [
              0.2222222222222222,
              "#7201a8"
             ],
             [
              0.3333333333333333,
              "#9c179e"
             ],
             [
              0.4444444444444444,
              "#bd3786"
             ],
             [
              0.5555555555555556,
              "#d8576b"
             ],
             [
              0.6666666666666666,
              "#ed7953"
             ],
             [
              0.7777777777777778,
              "#fb9f3a"
             ],
             [
              0.8888888888888888,
              "#fdca26"
             ],
             [
              1,
              "#f0f921"
             ]
            ],
            "type": "surface"
           }
          ],
          "table": [
           {
            "cells": {
             "fill": {
              "color": "#EBF0F8"
             },
             "line": {
              "color": "white"
             }
            },
            "header": {
             "fill": {
              "color": "#C8D4E3"
             },
             "line": {
              "color": "white"
             }
            },
            "type": "table"
           }
          ]
         },
         "layout": {
          "annotationdefaults": {
           "arrowcolor": "#2a3f5f",
           "arrowhead": 0,
           "arrowwidth": 1
          },
          "autotypenumbers": "strict",
          "coloraxis": {
           "colorbar": {
            "outlinewidth": 0,
            "ticks": ""
           }
          },
          "colorscale": {
           "diverging": [
            [
             0,
             "#8e0152"
            ],
            [
             0.1,
             "#c51b7d"
            ],
            [
             0.2,
             "#de77ae"
            ],
            [
             0.3,
             "#f1b6da"
            ],
            [
             0.4,
             "#fde0ef"
            ],
            [
             0.5,
             "#f7f7f7"
            ],
            [
             0.6,
             "#e6f5d0"
            ],
            [
             0.7,
             "#b8e186"
            ],
            [
             0.8,
             "#7fbc41"
            ],
            [
             0.9,
             "#4d9221"
            ],
            [
             1,
             "#276419"
            ]
           ],
           "sequential": [
            [
             0,
             "#0d0887"
            ],
            [
             0.1111111111111111,
             "#46039f"
            ],
            [
             0.2222222222222222,
             "#7201a8"
            ],
            [
             0.3333333333333333,
             "#9c179e"
            ],
            [
             0.4444444444444444,
             "#bd3786"
            ],
            [
             0.5555555555555556,
             "#d8576b"
            ],
            [
             0.6666666666666666,
             "#ed7953"
            ],
            [
             0.7777777777777778,
             "#fb9f3a"
            ],
            [
             0.8888888888888888,
             "#fdca26"
            ],
            [
             1,
             "#f0f921"
            ]
           ],
           "sequentialminus": [
            [
             0,
             "#0d0887"
            ],
            [
             0.1111111111111111,
             "#46039f"
            ],
            [
             0.2222222222222222,
             "#7201a8"
            ],
            [
             0.3333333333333333,
             "#9c179e"
            ],
            [
             0.4444444444444444,
             "#bd3786"
            ],
            [
             0.5555555555555556,
             "#d8576b"
            ],
            [
             0.6666666666666666,
             "#ed7953"
            ],
            [
             0.7777777777777778,
             "#fb9f3a"
            ],
            [
             0.8888888888888888,
             "#fdca26"
            ],
            [
             1,
             "#f0f921"
            ]
           ]
          },
          "colorway": [
           "#636efa",
           "#EF553B",
           "#00cc96",
           "#ab63fa",
           "#FFA15A",
           "#19d3f3",
           "#FF6692",
           "#B6E880",
           "#FF97FF",
           "#FECB52"
          ],
          "font": {
           "color": "#2a3f5f"
          },
          "geo": {
           "bgcolor": "white",
           "lakecolor": "white",
           "landcolor": "#E5ECF6",
           "showlakes": true,
           "showland": true,
           "subunitcolor": "white"
          },
          "hoverlabel": {
           "align": "left"
          },
          "hovermode": "closest",
          "mapbox": {
           "style": "light"
          },
          "paper_bgcolor": "white",
          "plot_bgcolor": "#E5ECF6",
          "polar": {
           "angularaxis": {
            "gridcolor": "white",
            "linecolor": "white",
            "ticks": ""
           },
           "bgcolor": "#E5ECF6",
           "radialaxis": {
            "gridcolor": "white",
            "linecolor": "white",
            "ticks": ""
           }
          },
          "scene": {
           "xaxis": {
            "backgroundcolor": "#E5ECF6",
            "gridcolor": "white",
            "gridwidth": 2,
            "linecolor": "white",
            "showbackground": true,
            "ticks": "",
            "zerolinecolor": "white"
           },
           "yaxis": {
            "backgroundcolor": "#E5ECF6",
            "gridcolor": "white",
            "gridwidth": 2,
            "linecolor": "white",
            "showbackground": true,
            "ticks": "",
            "zerolinecolor": "white"
           },
           "zaxis": {
            "backgroundcolor": "#E5ECF6",
            "gridcolor": "white",
            "gridwidth": 2,
            "linecolor": "white",
            "showbackground": true,
            "ticks": "",
            "zerolinecolor": "white"
           }
          },
          "shapedefaults": {
           "line": {
            "color": "#2a3f5f"
           }
          },
          "ternary": {
           "aaxis": {
            "gridcolor": "white",
            "linecolor": "white",
            "ticks": ""
           },
           "baxis": {
            "gridcolor": "white",
            "linecolor": "white",
            "ticks": ""
           },
           "bgcolor": "#E5ECF6",
           "caxis": {
            "gridcolor": "white",
            "linecolor": "white",
            "ticks": ""
           }
          },
          "title": {
           "x": 0.05
          },
          "xaxis": {
           "automargin": true,
           "gridcolor": "white",
           "linecolor": "white",
           "ticks": "",
           "title": {
            "standoff": 15
           },
           "zerolinecolor": "white",
           "zerolinewidth": 2
          },
          "yaxis": {
           "automargin": true,
           "gridcolor": "white",
           "linecolor": "white",
           "ticks": "",
           "title": {
            "standoff": 15
           },
           "zerolinecolor": "white",
           "zerolinewidth": 2
          }
         }
        },
        "title": {
         "text": "Observed Zero-Coupon Yields vs NSS Model Yields",
         "x": 0.5
        },
        "width": 900,
        "xaxis": {
         "linecolor": "black",
         "linewidth": 1,
         "range": [
          0,
          27
         ],
         "showline": true,
         "ticklen": 5,
         "ticks": "inside",
         "tickson": "boundaries",
         "tickvals": [
          1,
          2,
          3,
          4,
          5,
          6,
          7,
          8,
          9,
          10,
          15,
          20,
          25
         ],
         "title": {
          "text": "Time to Maturity (Years)"
         }
        },
        "yaxis": {
         "gridcolor": "rgba(38,38,38,0.15)",
         "linecolor": "Grey",
         "linewidth": 1,
         "showline": true,
         "title": {
          "text": "Yield (%)"
         }
        }
       }
      }
     },
     "metadata": {},
     "output_type": "display_data"
    }
   ],
   "source": [
    "# Compute Contributions of each factor in the NSS model\n",
    "gr.Graph_EstimationVSZero(Yield,Yield['Zero-Coupon Yield'],t,y_model_values*100,'Observed Zero-Coupon Yields vs NSS Model Yields','NSS Model Yields')"
   ]
  },
  {
   "cell_type": "markdown",
   "id": "139ca0580d2224e2",
   "metadata": {},
   "source": [
    "#### Question 4.1"
   ]
  },
  {
   "cell_type": "code",
   "execution_count": 28,
   "id": "76e5c508",
   "metadata": {
    "ExecuteTime": {
     "end_time": "2024-10-29T10:40:19.849470Z",
     "start_time": "2024-10-29T10:40:19.567200Z"
    }
   },
   "outputs": [
    {
     "data": {
      "text/plain": [
       "0    0.018727\n",
       "1    0.034798\n",
       "2    0.052107\n",
       "3    0.057166\n",
       "4    0.059512\n",
       "Name: Zero-Coupon Yield, dtype: float64"
      ]
     },
     "execution_count": 28,
     "metadata": {},
     "output_type": "execute_result"
    }
   ],
   "source": [
    "#Prepartion of data for the question\n",
    "knots_maturities = [2, 5, 10, 15, 20]\n",
    "DataKRD = Yield[Yield['Time to Maturity'].isin(knots_maturities)]\n",
    "\n",
    "original_zero_coupon_yields = DataKRD['Zero-Coupon Yield'].copy()/ 100\n",
    "zero_coupon_yields_shocked = DataKRD['Zero-Coupon Yield'].copy()/ 100\n",
    "\n",
    "zero_coupon_yields_shocked.reset_index(drop=True, inplace=True)\n",
    "original_zero_coupon_yields.reset_index(drop=True, inplace=True)\n",
    "\n",
    "zero_coupon_yields_shocked.iloc[2] += 0.005\n",
    "zero_coupon_yields_shocked = zero_coupon_yields_shocked.round(6)\n",
    "zero_coupon_yields_shocked"
   ]
  },
  {
   "cell_type": "code",
   "execution_count": 29,
   "id": "c26b6ff6",
   "metadata": {
    "ExecuteTime": {
     "end_time": "2024-10-29T10:40:22.404693Z",
     "start_time": "2024-10-29T10:40:22.130554Z"
    }
   },
   "outputs": [],
   "source": [
    "#Interpolate to see impact of the shock\n",
    "cs_original = CubicSpline(DataKRD['Time to Maturity'], original_zero_coupon_yields, bc_type='natural')\n",
    "cs_shocked = CubicSpline(DataKRD['Time to Maturity'], zero_coupon_yields_shocked, bc_type='natural')\n",
    "\n",
    "maturity_range = np.linspace(0.5, 20, 100)\n",
    "\n",
    "original_yields_interp = cs_original(maturity_range)\n",
    "shocked_yields_interp = cs_shocked(maturity_range)\n",
    "\n",
    "yield_difference = (shocked_yields_interp - original_yields_interp) * 10000  # Convert to basis points"
   ]
  },
  {
   "cell_type": "code",
   "execution_count": 30,
   "id": "c368e666",
   "metadata": {},
   "outputs": [
    {
     "data": {
      "application/vnd.plotly.v1+json": {
       "config": {
        "plotlyServerURL": "https://plot.ly"
       },
       "data": [
        {
         "line": {
          "color": "rgb(0, 71, 102)"
         },
         "mode": "lines",
         "name": "Original interpolate Yield Curve",
         "type": "scatter",
         "x": [
          0.5,
          0.696969696969697,
          0.8939393939393939,
          1.0909090909090908,
          1.2878787878787878,
          1.4848484848484849,
          1.6818181818181817,
          1.8787878787878787,
          2.0757575757575757,
          2.2727272727272725,
          2.4696969696969697,
          2.6666666666666665,
          2.8636363636363633,
          3.0606060606060606,
          3.2575757575757573,
          3.4545454545454546,
          3.6515151515151514,
          3.848484848484848,
          4.045454545454545,
          4.242424242424242,
          4.4393939393939394,
          4.636363636363636,
          4.833333333333333,
          5.03030303030303,
          5.227272727272727,
          5.424242424242424,
          5.621212121212121,
          5.818181818181818,
          6.015151515151515,
          6.212121212121212,
          6.409090909090909,
          6.6060606060606055,
          6.803030303030303,
          7,
          7.196969696969696,
          7.393939393939394,
          7.590909090909091,
          7.787878787878787,
          7.984848484848484,
          8.181818181818182,
          8.378787878787879,
          8.575757575757576,
          8.772727272727272,
          8.969696969696969,
          9.166666666666666,
          9.363636363636363,
          9.56060606060606,
          9.757575757575758,
          9.954545454545453,
          10.15151515151515,
          10.348484848484848,
          10.545454545454545,
          10.742424242424242,
          10.93939393939394,
          11.136363636363637,
          11.333333333333332,
          11.53030303030303,
          11.727272727272727,
          11.924242424242424,
          12.121212121212121,
          12.318181818181818,
          12.515151515151514,
          12.712121212121211,
          12.909090909090908,
          13.106060606060606,
          13.303030303030303,
          13.5,
          13.696969696969697,
          13.893939393939393,
          14.09090909090909,
          14.287878787878787,
          14.484848484848484,
          14.681818181818182,
          14.878787878787879,
          15.075757575757574,
          15.272727272727272,
          15.469696969696969,
          15.666666666666666,
          15.863636363636363,
          16.060606060606062,
          16.257575757575758,
          16.454545454545453,
          16.651515151515152,
          16.848484848484848,
          17.045454545454543,
          17.242424242424242,
          17.439393939393938,
          17.636363636363637,
          17.833333333333332,
          18.03030303030303,
          18.227272727272727,
          18.424242424242422,
          18.62121212121212,
          18.818181818181817,
          19.015151515151516,
          19.21212121212121,
          19.409090909090907,
          19.606060606060606,
          19.8030303030303,
          20
         ],
         "y": [
          1.0029163604073263,
          1.1124260860323223,
          1.2239199427858776,
          1.3370980038694893,
          1.4516603424846544,
          1.567307031832869,
          1.6837381451156308,
          1.8006537555344364,
          1.9177539362907818,
          2.0347387605861647,
          2.151308301622082,
          2.26716263260003,
          2.3820018267215053,
          2.495525957188006,
          2.6074350972010265,
          2.7174293199620667,
          2.8252086986726206,
          2.9304733065341866,
          3.0329232167482614,
          3.132258502516341,
          3.2281792370399236,
          3.3203854935205044,
          3.4085773451595816,
          3.4924551836052005,
          3.5718524713569657,
          3.6469410203725348,
          3.717945624154114,
          3.785091076203906,
          3.848602170024118,
          3.908703699116954,
          3.965620456984622,
          4.019577237129324,
          4.070798833053267,
          4.119510038258656,
          4.1659356462476955,
          4.210300450522593,
          4.252829244585551,
          4.293746821938777,
          4.333277976084475,
          4.37164750052485,
          4.4090801887621085,
          4.445800834298456,
          4.4820342306360965,
          4.518005171277235,
          4.553938449724079,
          4.59005885947883,
          4.626591194043699,
          4.663760246920884,
          4.701790811612596,
          4.740881011682329,
          4.781011157304137,
          4.822055198936501,
          4.863886366949554,
          4.9063778917134355,
          4.949403003598277,
          4.992834932974212,
          5.0365469102113805,
          5.080412165679916,
          5.124303929749952,
          5.168095432791626,
          5.211659905175071,
          5.254870577270424,
          5.297600679447818,
          5.33972344207739,
          5.381112095529274,
          5.421639870173607,
          5.4611799963805225,
          5.499605704520156,
          5.536790224962643,
          5.572606788078119,
          5.606928624236718,
          5.639628963808577,
          5.670581037163829,
          5.699658074672611,
          5.726735285746899,
          5.751772297807542,
          5.774842936905909,
          5.796029135248763,
          5.8154128250428645,
          5.833075938494976,
          5.849100407811858,
          5.863568165200272,
          5.87656114286698,
          5.888161273018743,
          5.8984504878623225,
          5.907510719604481,
          5.9154239004519775,
          5.9222719626115765,
          5.928136838290037,
          5.9331004596941215,
          5.937244759030593,
          5.940651668506209,
          5.943403120327734,
          5.94558104670193,
          5.947267379835557,
          5.948544051935376,
          5.949492995208149,
          5.950196141860638,
          5.950735424099603,
          5.951192774131809
         ]
        },
        {
         "line": {
          "color": "red"
         },
         "mode": "lines",
         "name": "Shocked Yield Curve (+50bps at 10Y)",
         "type": "scatter",
         "x": [
          0.5,
          0.696969696969697,
          0.8939393939393939,
          1.0909090909090908,
          1.2878787878787878,
          1.4848484848484849,
          1.6818181818181817,
          1.8787878787878787,
          2.0757575757575757,
          2.2727272727272725,
          2.4696969696969697,
          2.6666666666666665,
          2.8636363636363633,
          3.0606060606060606,
          3.2575757575757573,
          3.4545454545454546,
          3.6515151515151514,
          3.848484848484848,
          4.045454545454545,
          4.242424242424242,
          4.4393939393939394,
          4.636363636363636,
          4.833333333333333,
          5.03030303030303,
          5.227272727272727,
          5.424242424242424,
          5.621212121212121,
          5.818181818181818,
          6.015151515151515,
          6.212121212121212,
          6.409090909090909,
          6.6060606060606055,
          6.803030303030303,
          7,
          7.196969696969696,
          7.393939393939394,
          7.590909090909091,
          7.787878787878787,
          7.984848484848484,
          8.181818181818182,
          8.378787878787879,
          8.575757575757576,
          8.772727272727272,
          8.969696969696969,
          9.166666666666666,
          9.363636363636363,
          9.56060606060606,
          9.757575757575758,
          9.954545454545453,
          10.15151515151515,
          10.348484848484848,
          10.545454545454545,
          10.742424242424242,
          10.93939393939394,
          11.136363636363637,
          11.333333333333332,
          11.53030303030303,
          11.727272727272727,
          11.924242424242424,
          12.121212121212121,
          12.318181818181818,
          12.515151515151514,
          12.712121212121211,
          12.909090909090908,
          13.106060606060606,
          13.303030303030303,
          13.5,
          13.696969696969697,
          13.893939393939393,
          14.09090909090909,
          14.287878787878787,
          14.484848484848484,
          14.681818181818182,
          14.878787878787879,
          15.075757575757574,
          15.272727272727272,
          15.469696969696969,
          15.666666666666666,
          15.863636363636363,
          16.060606060606062,
          16.257575757575758,
          16.454545454545453,
          16.651515151515152,
          16.848484848484848,
          17.045454545454543,
          17.242424242424242,
          17.439393939393938,
          17.636363636363637,
          17.833333333333332,
          18.03030303030303,
          18.227272727272727,
          18.424242424242422,
          18.62121212121212,
          18.818181818181817,
          19.015151515151516,
          19.21212121212121,
          19.409090909090907,
          19.606060606060606,
          19.8030303030303,
          20
         ],
         "y": [
          1.0397405568181817,
          1.1470294198281334,
          1.2551993243463309,
          1.3641170896796666,
          1.4736495351350343,
          1.5836634800193268,
          1.6940257436394373,
          1.8046031453022588,
          1.9152625043146843,
          2.0258706399836077,
          2.1362943716159215,
          2.2464005185185187,
          2.3560558999982923,
          2.465127335362136,
          2.573481643916943,
          2.680985644969606,
          2.787506157827018,
          2.8929100017960723,
          2.9970639961836625,
          3.099834960296681,
          3.2010897134420215,
          3.3006950749265767,
          3.398517864057239,
          3.4944249737007445,
          3.588314035542313,
          3.6801608385980518,
          3.7699534104025862,
          3.85767977849054,
          3.94332797039654,
          4.0268860136552105,
          4.1083419358011755,
          4.18768376436906,
          4.264899526893491,
          4.339977250909091,
          4.412904963950487,
          4.483670693552303,
          4.552262467249163,
          4.618668312575695,
          4.68287625706652,
          4.744874328256267,
          4.804650553679558,
          4.8621929608710195,
          4.917489577365275,
          4.970528430696952,
          5.021297548400674,
          5.069784958011065,
          5.115978687062752,
          5.159866763090358,
          5.201437213628509,
          5.240685799846702,
          5.277671443510423,
          5.312483908121029,
          5.345213165988017,
          5.375949189420881,
          5.404781950729117,
          5.431801422222222,
          5.457097576209693,
          5.480760385001025,
          5.502879820905714,
          5.523545856233257,
          5.542848463293149,
          5.5608776143948875,
          5.577723281847969,
          5.593475437961888,
          5.608224055046142,
          5.622059105410226,
          5.635070561363636,
          5.647348395215871,
          5.658982579276423,
          5.670063085854791,
          5.680679887260471,
          5.690922955802959,
          5.700882263791749,
          5.71064778353634,
          5.720308652270576,
          5.729918386241377,
          5.7394823144903455,
          5.7490023455892265,
          5.758480388109761,
          5.767918350623693,
          5.777318141702765,
          5.786681669918722,
          5.7960108438433044,
          5.805307572048257,
          5.8145737631053205,
          5.823811325586241,
          5.833022168062758,
          5.842208199106619,
          5.851371327289563,
          5.860513461183333,
          5.869636509359675,
          5.87874238039033,
          5.887832982847041,
          5.896910225301551,
          5.905976016325603,
          5.91503226449094,
          5.924080878369305,
          5.933123766532442,
          5.942162837552092,
          5.951199999999999
         ]
        },
        {
         "marker": {
          "color": "rgb(0, 71, 102)",
          "size": 8
         },
         "mode": "markers",
         "showlegend": false,
         "type": "scatter",
         "x": [
          2,
          5,
          10,
          15,
          20
         ],
         "y": [
          1.872712674900212,
          3.4798434592520078,
          4.710713178511705,
          5.716564734153673,
          5.951192774131808
         ]
        },
        {
         "marker": {
          "color": "red",
          "size": 8
         },
         "mode": "markers",
         "showlegend": false,
         "type": "scatter",
         "x": [
          2,
          5,
          10,
          15,
          20
         ],
         "y": [
          1.8727,
          3.4798000000000004,
          5.2107,
          5.716600000000001,
          5.9512
         ]
        }
       ],
       "layout": {
        "font": {
         "color": "Black",
         "family": "Times New Roman",
         "size": 15
        },
        "height": 500,
        "legend": {
         "bgcolor": "rgba(255,255,255,0)",
         "xanchor": "left",
         "yanchor": "top"
        },
        "plot_bgcolor": "rgba(255,255,255,1)",
        "template": {
         "data": {
          "bar": [
           {
            "error_x": {
             "color": "#2a3f5f"
            },
            "error_y": {
             "color": "#2a3f5f"
            },
            "marker": {
             "line": {
              "color": "#E5ECF6",
              "width": 0.5
             },
             "pattern": {
              "fillmode": "overlay",
              "size": 10,
              "solidity": 0.2
             }
            },
            "type": "bar"
           }
          ],
          "barpolar": [
           {
            "marker": {
             "line": {
              "color": "#E5ECF6",
              "width": 0.5
             },
             "pattern": {
              "fillmode": "overlay",
              "size": 10,
              "solidity": 0.2
             }
            },
            "type": "barpolar"
           }
          ],
          "carpet": [
           {
            "aaxis": {
             "endlinecolor": "#2a3f5f",
             "gridcolor": "white",
             "linecolor": "white",
             "minorgridcolor": "white",
             "startlinecolor": "#2a3f5f"
            },
            "baxis": {
             "endlinecolor": "#2a3f5f",
             "gridcolor": "white",
             "linecolor": "white",
             "minorgridcolor": "white",
             "startlinecolor": "#2a3f5f"
            },
            "type": "carpet"
           }
          ],
          "choropleth": [
           {
            "colorbar": {
             "outlinewidth": 0,
             "ticks": ""
            },
            "type": "choropleth"
           }
          ],
          "contour": [
           {
            "colorbar": {
             "outlinewidth": 0,
             "ticks": ""
            },
            "colorscale": [
             [
              0,
              "#0d0887"
             ],
             [
              0.1111111111111111,
              "#46039f"
             ],
             [
              0.2222222222222222,
              "#7201a8"
             ],
             [
              0.3333333333333333,
              "#9c179e"
             ],
             [
              0.4444444444444444,
              "#bd3786"
             ],
             [
              0.5555555555555556,
              "#d8576b"
             ],
             [
              0.6666666666666666,
              "#ed7953"
             ],
             [
              0.7777777777777778,
              "#fb9f3a"
             ],
             [
              0.8888888888888888,
              "#fdca26"
             ],
             [
              1,
              "#f0f921"
             ]
            ],
            "type": "contour"
           }
          ],
          "contourcarpet": [
           {
            "colorbar": {
             "outlinewidth": 0,
             "ticks": ""
            },
            "type": "contourcarpet"
           }
          ],
          "heatmap": [
           {
            "colorbar": {
             "outlinewidth": 0,
             "ticks": ""
            },
            "colorscale": [
             [
              0,
              "#0d0887"
             ],
             [
              0.1111111111111111,
              "#46039f"
             ],
             [
              0.2222222222222222,
              "#7201a8"
             ],
             [
              0.3333333333333333,
              "#9c179e"
             ],
             [
              0.4444444444444444,
              "#bd3786"
             ],
             [
              0.5555555555555556,
              "#d8576b"
             ],
             [
              0.6666666666666666,
              "#ed7953"
             ],
             [
              0.7777777777777778,
              "#fb9f3a"
             ],
             [
              0.8888888888888888,
              "#fdca26"
             ],
             [
              1,
              "#f0f921"
             ]
            ],
            "type": "heatmap"
           }
          ],
          "heatmapgl": [
           {
            "colorbar": {
             "outlinewidth": 0,
             "ticks": ""
            },
            "colorscale": [
             [
              0,
              "#0d0887"
             ],
             [
              0.1111111111111111,
              "#46039f"
             ],
             [
              0.2222222222222222,
              "#7201a8"
             ],
             [
              0.3333333333333333,
              "#9c179e"
             ],
             [
              0.4444444444444444,
              "#bd3786"
             ],
             [
              0.5555555555555556,
              "#d8576b"
             ],
             [
              0.6666666666666666,
              "#ed7953"
             ],
             [
              0.7777777777777778,
              "#fb9f3a"
             ],
             [
              0.8888888888888888,
              "#fdca26"
             ],
             [
              1,
              "#f0f921"
             ]
            ],
            "type": "heatmapgl"
           }
          ],
          "histogram": [
           {
            "marker": {
             "pattern": {
              "fillmode": "overlay",
              "size": 10,
              "solidity": 0.2
             }
            },
            "type": "histogram"
           }
          ],
          "histogram2d": [
           {
            "colorbar": {
             "outlinewidth": 0,
             "ticks": ""
            },
            "colorscale": [
             [
              0,
              "#0d0887"
             ],
             [
              0.1111111111111111,
              "#46039f"
             ],
             [
              0.2222222222222222,
              "#7201a8"
             ],
             [
              0.3333333333333333,
              "#9c179e"
             ],
             [
              0.4444444444444444,
              "#bd3786"
             ],
             [
              0.5555555555555556,
              "#d8576b"
             ],
             [
              0.6666666666666666,
              "#ed7953"
             ],
             [
              0.7777777777777778,
              "#fb9f3a"
             ],
             [
              0.8888888888888888,
              "#fdca26"
             ],
             [
              1,
              "#f0f921"
             ]
            ],
            "type": "histogram2d"
           }
          ],
          "histogram2dcontour": [
           {
            "colorbar": {
             "outlinewidth": 0,
             "ticks": ""
            },
            "colorscale": [
             [
              0,
              "#0d0887"
             ],
             [
              0.1111111111111111,
              "#46039f"
             ],
             [
              0.2222222222222222,
              "#7201a8"
             ],
             [
              0.3333333333333333,
              "#9c179e"
             ],
             [
              0.4444444444444444,
              "#bd3786"
             ],
             [
              0.5555555555555556,
              "#d8576b"
             ],
             [
              0.6666666666666666,
              "#ed7953"
             ],
             [
              0.7777777777777778,
              "#fb9f3a"
             ],
             [
              0.8888888888888888,
              "#fdca26"
             ],
             [
              1,
              "#f0f921"
             ]
            ],
            "type": "histogram2dcontour"
           }
          ],
          "mesh3d": [
           {
            "colorbar": {
             "outlinewidth": 0,
             "ticks": ""
            },
            "type": "mesh3d"
           }
          ],
          "parcoords": [
           {
            "line": {
             "colorbar": {
              "outlinewidth": 0,
              "ticks": ""
             }
            },
            "type": "parcoords"
           }
          ],
          "pie": [
           {
            "automargin": true,
            "type": "pie"
           }
          ],
          "scatter": [
           {
            "fillpattern": {
             "fillmode": "overlay",
             "size": 10,
             "solidity": 0.2
            },
            "type": "scatter"
           }
          ],
          "scatter3d": [
           {
            "line": {
             "colorbar": {
              "outlinewidth": 0,
              "ticks": ""
             }
            },
            "marker": {
             "colorbar": {
              "outlinewidth": 0,
              "ticks": ""
             }
            },
            "type": "scatter3d"
           }
          ],
          "scattercarpet": [
           {
            "marker": {
             "colorbar": {
              "outlinewidth": 0,
              "ticks": ""
             }
            },
            "type": "scattercarpet"
           }
          ],
          "scattergeo": [
           {
            "marker": {
             "colorbar": {
              "outlinewidth": 0,
              "ticks": ""
             }
            },
            "type": "scattergeo"
           }
          ],
          "scattergl": [
           {
            "marker": {
             "colorbar": {
              "outlinewidth": 0,
              "ticks": ""
             }
            },
            "type": "scattergl"
           }
          ],
          "scattermapbox": [
           {
            "marker": {
             "colorbar": {
              "outlinewidth": 0,
              "ticks": ""
             }
            },
            "type": "scattermapbox"
           }
          ],
          "scatterpolar": [
           {
            "marker": {
             "colorbar": {
              "outlinewidth": 0,
              "ticks": ""
             }
            },
            "type": "scatterpolar"
           }
          ],
          "scatterpolargl": [
           {
            "marker": {
             "colorbar": {
              "outlinewidth": 0,
              "ticks": ""
             }
            },
            "type": "scatterpolargl"
           }
          ],
          "scatterternary": [
           {
            "marker": {
             "colorbar": {
              "outlinewidth": 0,
              "ticks": ""
             }
            },
            "type": "scatterternary"
           }
          ],
          "surface": [
           {
            "colorbar": {
             "outlinewidth": 0,
             "ticks": ""
            },
            "colorscale": [
             [
              0,
              "#0d0887"
             ],
             [
              0.1111111111111111,
              "#46039f"
             ],
             [
              0.2222222222222222,
              "#7201a8"
             ],
             [
              0.3333333333333333,
              "#9c179e"
             ],
             [
              0.4444444444444444,
              "#bd3786"
             ],
             [
              0.5555555555555556,
              "#d8576b"
             ],
             [
              0.6666666666666666,
              "#ed7953"
             ],
             [
              0.7777777777777778,
              "#fb9f3a"
             ],
             [
              0.8888888888888888,
              "#fdca26"
             ],
             [
              1,
              "#f0f921"
             ]
            ],
            "type": "surface"
           }
          ],
          "table": [
           {
            "cells": {
             "fill": {
              "color": "#EBF0F8"
             },
             "line": {
              "color": "white"
             }
            },
            "header": {
             "fill": {
              "color": "#C8D4E3"
             },
             "line": {
              "color": "white"
             }
            },
            "type": "table"
           }
          ]
         },
         "layout": {
          "annotationdefaults": {
           "arrowcolor": "#2a3f5f",
           "arrowhead": 0,
           "arrowwidth": 1
          },
          "autotypenumbers": "strict",
          "coloraxis": {
           "colorbar": {
            "outlinewidth": 0,
            "ticks": ""
           }
          },
          "colorscale": {
           "diverging": [
            [
             0,
             "#8e0152"
            ],
            [
             0.1,
             "#c51b7d"
            ],
            [
             0.2,
             "#de77ae"
            ],
            [
             0.3,
             "#f1b6da"
            ],
            [
             0.4,
             "#fde0ef"
            ],
            [
             0.5,
             "#f7f7f7"
            ],
            [
             0.6,
             "#e6f5d0"
            ],
            [
             0.7,
             "#b8e186"
            ],
            [
             0.8,
             "#7fbc41"
            ],
            [
             0.9,
             "#4d9221"
            ],
            [
             1,
             "#276419"
            ]
           ],
           "sequential": [
            [
             0,
             "#0d0887"
            ],
            [
             0.1111111111111111,
             "#46039f"
            ],
            [
             0.2222222222222222,
             "#7201a8"
            ],
            [
             0.3333333333333333,
             "#9c179e"
            ],
            [
             0.4444444444444444,
             "#bd3786"
            ],
            [
             0.5555555555555556,
             "#d8576b"
            ],
            [
             0.6666666666666666,
             "#ed7953"
            ],
            [
             0.7777777777777778,
             "#fb9f3a"
            ],
            [
             0.8888888888888888,
             "#fdca26"
            ],
            [
             1,
             "#f0f921"
            ]
           ],
           "sequentialminus": [
            [
             0,
             "#0d0887"
            ],
            [
             0.1111111111111111,
             "#46039f"
            ],
            [
             0.2222222222222222,
             "#7201a8"
            ],
            [
             0.3333333333333333,
             "#9c179e"
            ],
            [
             0.4444444444444444,
             "#bd3786"
            ],
            [
             0.5555555555555556,
             "#d8576b"
            ],
            [
             0.6666666666666666,
             "#ed7953"
            ],
            [
             0.7777777777777778,
             "#fb9f3a"
            ],
            [
             0.8888888888888888,
             "#fdca26"
            ],
            [
             1,
             "#f0f921"
            ]
           ]
          },
          "colorway": [
           "#636efa",
           "#EF553B",
           "#00cc96",
           "#ab63fa",
           "#FFA15A",
           "#19d3f3",
           "#FF6692",
           "#B6E880",
           "#FF97FF",
           "#FECB52"
          ],
          "font": {
           "color": "#2a3f5f"
          },
          "geo": {
           "bgcolor": "white",
           "lakecolor": "white",
           "landcolor": "#E5ECF6",
           "showlakes": true,
           "showland": true,
           "subunitcolor": "white"
          },
          "hoverlabel": {
           "align": "left"
          },
          "hovermode": "closest",
          "mapbox": {
           "style": "light"
          },
          "paper_bgcolor": "white",
          "plot_bgcolor": "#E5ECF6",
          "polar": {
           "angularaxis": {
            "gridcolor": "white",
            "linecolor": "white",
            "ticks": ""
           },
           "bgcolor": "#E5ECF6",
           "radialaxis": {
            "gridcolor": "white",
            "linecolor": "white",
            "ticks": ""
           }
          },
          "scene": {
           "xaxis": {
            "backgroundcolor": "#E5ECF6",
            "gridcolor": "white",
            "gridwidth": 2,
            "linecolor": "white",
            "showbackground": true,
            "ticks": "",
            "zerolinecolor": "white"
           },
           "yaxis": {
            "backgroundcolor": "#E5ECF6",
            "gridcolor": "white",
            "gridwidth": 2,
            "linecolor": "white",
            "showbackground": true,
            "ticks": "",
            "zerolinecolor": "white"
           },
           "zaxis": {
            "backgroundcolor": "#E5ECF6",
            "gridcolor": "white",
            "gridwidth": 2,
            "linecolor": "white",
            "showbackground": true,
            "ticks": "",
            "zerolinecolor": "white"
           }
          },
          "shapedefaults": {
           "line": {
            "color": "#2a3f5f"
           }
          },
          "ternary": {
           "aaxis": {
            "gridcolor": "white",
            "linecolor": "white",
            "ticks": ""
           },
           "baxis": {
            "gridcolor": "white",
            "linecolor": "white",
            "ticks": ""
           },
           "bgcolor": "#E5ECF6",
           "caxis": {
            "gridcolor": "white",
            "linecolor": "white",
            "ticks": ""
           }
          },
          "title": {
           "x": 0.05
          },
          "xaxis": {
           "automargin": true,
           "gridcolor": "white",
           "linecolor": "white",
           "ticks": "",
           "title": {
            "standoff": 15
           },
           "zerolinecolor": "white",
           "zerolinewidth": 2
          },
          "yaxis": {
           "automargin": true,
           "gridcolor": "white",
           "linecolor": "white",
           "ticks": "",
           "title": {
            "standoff": 15
           },
           "zerolinecolor": "white",
           "zerolinewidth": 2
          }
         }
        },
        "title": {
         "text": "Impact of 50bps Shock at 10-Year Maturity on Yield Curve",
         "x": 0.5
        },
        "width": 900,
        "xaxis": {
         "linecolor": "black",
         "linewidth": 1,
         "range": [
          0,
          22
         ],
         "showline": true,
         "ticklen": 5,
         "ticks": "inside",
         "tickson": "boundaries",
         "tickvals": [
          1,
          2,
          3,
          4,
          5,
          6,
          7,
          8,
          9,
          10,
          15,
          20,
          25
         ],
         "title": {
          "text": "Time to Maturity (Years)"
         }
        },
        "yaxis": {
         "gridcolor": "rgba(38,38,38,0.15)",
         "linecolor": "Grey",
         "linewidth": 1,
         "showline": true,
         "title": {
          "text": "Yield (%)"
         }
        }
       }
      }
     },
     "metadata": {},
     "output_type": "display_data"
    }
   ],
   "source": [
    "# Plot the original and shocked zero-coupon yield curves\n",
    "gr.plot_shocked_vs_original_yields(DataKRD, original_zero_coupon_yields, zero_coupon_yields_shocked, maturity_range, original_yields_interp, shocked_yields_interp)"
   ]
  },
  {
   "cell_type": "code",
   "execution_count": 31,
   "id": "6c577566",
   "metadata": {},
   "outputs": [
    {
     "data": {
      "application/vnd.plotly.v1+json": {
       "config": {
        "plotlyServerURL": "https://plot.ly"
       },
       "data": [
        {
         "line": {
          "color": "rgb(2, 130, 2)"
         },
         "mode": "lines",
         "name": "Yield Difference (Shocked - Original)",
         "type": "scatter",
         "x": [
          0.5,
          0.696969696969697,
          0.8939393939393939,
          1.0909090909090908,
          1.2878787878787878,
          1.4848484848484849,
          1.6818181818181817,
          1.8787878787878787,
          2.0757575757575757,
          2.2727272727272725,
          2.4696969696969697,
          2.6666666666666665,
          2.8636363636363633,
          3.0606060606060606,
          3.2575757575757573,
          3.4545454545454546,
          3.6515151515151514,
          3.848484848484848,
          4.045454545454545,
          4.242424242424242,
          4.4393939393939394,
          4.636363636363636,
          4.833333333333333,
          5.03030303030303,
          5.227272727272727,
          5.424242424242424,
          5.621212121212121,
          5.818181818181818,
          6.015151515151515,
          6.212121212121212,
          6.409090909090909,
          6.6060606060606055,
          6.803030303030303,
          7,
          7.196969696969696,
          7.393939393939394,
          7.590909090909091,
          7.787878787878787,
          7.984848484848484,
          8.181818181818182,
          8.378787878787879,
          8.575757575757576,
          8.772727272727272,
          8.969696969696969,
          9.166666666666666,
          9.363636363636363,
          9.56060606060606,
          9.757575757575758,
          9.954545454545453,
          10.15151515151515,
          10.348484848484848,
          10.545454545454545,
          10.742424242424242,
          10.93939393939394,
          11.136363636363637,
          11.333333333333332,
          11.53030303030303,
          11.727272727272727,
          11.924242424242424,
          12.121212121212121,
          12.318181818181818,
          12.515151515151514,
          12.712121212121211,
          12.909090909090908,
          13.106060606060606,
          13.303030303030303,
          13.5,
          13.696969696969697,
          13.893939393939393,
          14.09090909090909,
          14.287878787878787,
          14.484848484848484,
          14.681818181818182,
          14.878787878787879,
          15.075757575757574,
          15.272727272727272,
          15.469696969696969,
          15.666666666666666,
          15.863636363636363,
          16.060606060606062,
          16.257575757575758,
          16.454545454545453,
          16.651515151515152,
          16.848484848484848,
          17.045454545454543,
          17.242424242424242,
          17.439393939393938,
          17.636363636363637,
          17.833333333333332,
          18.03030303030303,
          18.227272727272727,
          18.424242424242422,
          18.62121212121212,
          18.818181818181817,
          19.015151515151516,
          19.21212121212121,
          19.409090909090907,
          19.606060606060606,
          19.8030303030303,
          20
         ],
         "y": [
          3.6824196410855348,
          3.4603333795811193,
          3.12793815604534,
          2.7019085810177192,
          2.1989192650379885,
          1.6356448186457748,
          1.0287598523806354,
          0.39493897678224976,
          -0.24914319760975523,
          -0.886812060255683,
          -1.5013930006160803,
          -2.0762114081511465,
          -2.5945926723213235,
          -3.03986218258695,
          -3.395345328408364,
          -3.6443674992460777,
          -3.7702540845602552,
          -3.7563304738114436,
          -3.585922056459877,
          -3.2423542219660666,
          -2.708952359790212,
          -1.969041859392756,
          -1.005948110234245,
          0.19697900955441272,
          1.6461564185347304,
          3.321981822551681,
          5.200778624847232,
          7.258870228663422,
          9.472580037242217,
          11.818231453825657,
          14.272147881655359,
          16.810652723973572,
          19.4100693840224,
          22.046721265043534,
          24.69693177027915,
          27.33702430297101,
          29.94332226636115,
          32.49214906369174,
          34.959828098204554,
          37.322682773141686,
          39.557036491744896,
          41.6392126572563,
          43.54553467291786,
          45.25232594197168,
          46.73590986765952,
          47.97260985322349,
          48.93874930190528,
          49.610651616947415,
          49.96464020159137,
          49.98047881643729,
          49.666028620628595,
          49.042870918452884,
          48.132679903846245,
          46.95712977074454,
          45.53789471308398,
          43.896648924800985,
          42.055066599831285,
          40.03482193211089,
          37.85758911557621,
          35.54504234416313,
          33.11885581180785,
          30.60070371244637,
          28.01226024001513,
          25.375199588449775,
          22.711195951686733,
          20.04192352366187,
          17.38905649831139,
          14.774269069571453,
          12.219235431377983,
          9.745629777667201,
          7.375126302375246,
          5.129399199438195,
          3.030122662792123,
          1.0989708863729657,
          -0.6426633476321747,
          -2.1853911566165065,
          -3.5360622415563094,
          -4.702678965953708,
          -5.69324369331041,
          -6.515758787128331,
          -7.178226610909319,
          -7.688649528155081,
          -8.055029902367602,
          -8.285370097048661,
          -8.387672475700173,
          -8.369939401823984,
          -8.24017323892194,
          -8.006376350495753,
          -7.676551100047474,
          -7.258699851078812,
          -6.760824967091753,
          -6.1909288115880035,
          -5.557013748069342,
          -4.8670821400379625,
          -4.129136350995363,
          -3.3511787444436,
          -2.5412116838843812,
          -1.7072375328195526,
          -0.8572586547511002,
          0.0007225868190602336
         ]
        }
       ],
       "layout": {
        "font": {
         "color": "Black",
         "family": "Times New Roman",
         "size": 15
        },
        "height": 500,
        "legend": {
         "bgcolor": "rgba(255,255,255,1)",
         "xanchor": "left",
         "yanchor": "top"
        },
        "plot_bgcolor": "rgba(255,255,255,1)",
        "shapes": [
         {
          "line": {
           "color": "gray",
           "dash": "dash"
          },
          "name": "10-Year Maturity",
          "type": "line",
          "x0": 10,
          "x1": 10,
          "y0": -8.387672475700173,
          "y1": 49.98047881643729
         }
        ],
        "template": {
         "data": {
          "bar": [
           {
            "error_x": {
             "color": "#2a3f5f"
            },
            "error_y": {
             "color": "#2a3f5f"
            },
            "marker": {
             "line": {
              "color": "#E5ECF6",
              "width": 0.5
             },
             "pattern": {
              "fillmode": "overlay",
              "size": 10,
              "solidity": 0.2
             }
            },
            "type": "bar"
           }
          ],
          "barpolar": [
           {
            "marker": {
             "line": {
              "color": "#E5ECF6",
              "width": 0.5
             },
             "pattern": {
              "fillmode": "overlay",
              "size": 10,
              "solidity": 0.2
             }
            },
            "type": "barpolar"
           }
          ],
          "carpet": [
           {
            "aaxis": {
             "endlinecolor": "#2a3f5f",
             "gridcolor": "white",
             "linecolor": "white",
             "minorgridcolor": "white",
             "startlinecolor": "#2a3f5f"
            },
            "baxis": {
             "endlinecolor": "#2a3f5f",
             "gridcolor": "white",
             "linecolor": "white",
             "minorgridcolor": "white",
             "startlinecolor": "#2a3f5f"
            },
            "type": "carpet"
           }
          ],
          "choropleth": [
           {
            "colorbar": {
             "outlinewidth": 0,
             "ticks": ""
            },
            "type": "choropleth"
           }
          ],
          "contour": [
           {
            "colorbar": {
             "outlinewidth": 0,
             "ticks": ""
            },
            "colorscale": [
             [
              0,
              "#0d0887"
             ],
             [
              0.1111111111111111,
              "#46039f"
             ],
             [
              0.2222222222222222,
              "#7201a8"
             ],
             [
              0.3333333333333333,
              "#9c179e"
             ],
             [
              0.4444444444444444,
              "#bd3786"
             ],
             [
              0.5555555555555556,
              "#d8576b"
             ],
             [
              0.6666666666666666,
              "#ed7953"
             ],
             [
              0.7777777777777778,
              "#fb9f3a"
             ],
             [
              0.8888888888888888,
              "#fdca26"
             ],
             [
              1,
              "#f0f921"
             ]
            ],
            "type": "contour"
           }
          ],
          "contourcarpet": [
           {
            "colorbar": {
             "outlinewidth": 0,
             "ticks": ""
            },
            "type": "contourcarpet"
           }
          ],
          "heatmap": [
           {
            "colorbar": {
             "outlinewidth": 0,
             "ticks": ""
            },
            "colorscale": [
             [
              0,
              "#0d0887"
             ],
             [
              0.1111111111111111,
              "#46039f"
             ],
             [
              0.2222222222222222,
              "#7201a8"
             ],
             [
              0.3333333333333333,
              "#9c179e"
             ],
             [
              0.4444444444444444,
              "#bd3786"
             ],
             [
              0.5555555555555556,
              "#d8576b"
             ],
             [
              0.6666666666666666,
              "#ed7953"
             ],
             [
              0.7777777777777778,
              "#fb9f3a"
             ],
             [
              0.8888888888888888,
              "#fdca26"
             ],
             [
              1,
              "#f0f921"
             ]
            ],
            "type": "heatmap"
           }
          ],
          "heatmapgl": [
           {
            "colorbar": {
             "outlinewidth": 0,
             "ticks": ""
            },
            "colorscale": [
             [
              0,
              "#0d0887"
             ],
             [
              0.1111111111111111,
              "#46039f"
             ],
             [
              0.2222222222222222,
              "#7201a8"
             ],
             [
              0.3333333333333333,
              "#9c179e"
             ],
             [
              0.4444444444444444,
              "#bd3786"
             ],
             [
              0.5555555555555556,
              "#d8576b"
             ],
             [
              0.6666666666666666,
              "#ed7953"
             ],
             [
              0.7777777777777778,
              "#fb9f3a"
             ],
             [
              0.8888888888888888,
              "#fdca26"
             ],
             [
              1,
              "#f0f921"
             ]
            ],
            "type": "heatmapgl"
           }
          ],
          "histogram": [
           {
            "marker": {
             "pattern": {
              "fillmode": "overlay",
              "size": 10,
              "solidity": 0.2
             }
            },
            "type": "histogram"
           }
          ],
          "histogram2d": [
           {
            "colorbar": {
             "outlinewidth": 0,
             "ticks": ""
            },
            "colorscale": [
             [
              0,
              "#0d0887"
             ],
             [
              0.1111111111111111,
              "#46039f"
             ],
             [
              0.2222222222222222,
              "#7201a8"
             ],
             [
              0.3333333333333333,
              "#9c179e"
             ],
             [
              0.4444444444444444,
              "#bd3786"
             ],
             [
              0.5555555555555556,
              "#d8576b"
             ],
             [
              0.6666666666666666,
              "#ed7953"
             ],
             [
              0.7777777777777778,
              "#fb9f3a"
             ],
             [
              0.8888888888888888,
              "#fdca26"
             ],
             [
              1,
              "#f0f921"
             ]
            ],
            "type": "histogram2d"
           }
          ],
          "histogram2dcontour": [
           {
            "colorbar": {
             "outlinewidth": 0,
             "ticks": ""
            },
            "colorscale": [
             [
              0,
              "#0d0887"
             ],
             [
              0.1111111111111111,
              "#46039f"
             ],
             [
              0.2222222222222222,
              "#7201a8"
             ],
             [
              0.3333333333333333,
              "#9c179e"
             ],
             [
              0.4444444444444444,
              "#bd3786"
             ],
             [
              0.5555555555555556,
              "#d8576b"
             ],
             [
              0.6666666666666666,
              "#ed7953"
             ],
             [
              0.7777777777777778,
              "#fb9f3a"
             ],
             [
              0.8888888888888888,
              "#fdca26"
             ],
             [
              1,
              "#f0f921"
             ]
            ],
            "type": "histogram2dcontour"
           }
          ],
          "mesh3d": [
           {
            "colorbar": {
             "outlinewidth": 0,
             "ticks": ""
            },
            "type": "mesh3d"
           }
          ],
          "parcoords": [
           {
            "line": {
             "colorbar": {
              "outlinewidth": 0,
              "ticks": ""
             }
            },
            "type": "parcoords"
           }
          ],
          "pie": [
           {
            "automargin": true,
            "type": "pie"
           }
          ],
          "scatter": [
           {
            "fillpattern": {
             "fillmode": "overlay",
             "size": 10,
             "solidity": 0.2
            },
            "type": "scatter"
           }
          ],
          "scatter3d": [
           {
            "line": {
             "colorbar": {
              "outlinewidth": 0,
              "ticks": ""
             }
            },
            "marker": {
             "colorbar": {
              "outlinewidth": 0,
              "ticks": ""
             }
            },
            "type": "scatter3d"
           }
          ],
          "scattercarpet": [
           {
            "marker": {
             "colorbar": {
              "outlinewidth": 0,
              "ticks": ""
             }
            },
            "type": "scattercarpet"
           }
          ],
          "scattergeo": [
           {
            "marker": {
             "colorbar": {
              "outlinewidth": 0,
              "ticks": ""
             }
            },
            "type": "scattergeo"
           }
          ],
          "scattergl": [
           {
            "marker": {
             "colorbar": {
              "outlinewidth": 0,
              "ticks": ""
             }
            },
            "type": "scattergl"
           }
          ],
          "scattermapbox": [
           {
            "marker": {
             "colorbar": {
              "outlinewidth": 0,
              "ticks": ""
             }
            },
            "type": "scattermapbox"
           }
          ],
          "scatterpolar": [
           {
            "marker": {
             "colorbar": {
              "outlinewidth": 0,
              "ticks": ""
             }
            },
            "type": "scatterpolar"
           }
          ],
          "scatterpolargl": [
           {
            "marker": {
             "colorbar": {
              "outlinewidth": 0,
              "ticks": ""
             }
            },
            "type": "scatterpolargl"
           }
          ],
          "scatterternary": [
           {
            "marker": {
             "colorbar": {
              "outlinewidth": 0,
              "ticks": ""
             }
            },
            "type": "scatterternary"
           }
          ],
          "surface": [
           {
            "colorbar": {
             "outlinewidth": 0,
             "ticks": ""
            },
            "colorscale": [
             [
              0,
              "#0d0887"
             ],
             [
              0.1111111111111111,
              "#46039f"
             ],
             [
              0.2222222222222222,
              "#7201a8"
             ],
             [
              0.3333333333333333,
              "#9c179e"
             ],
             [
              0.4444444444444444,
              "#bd3786"
             ],
             [
              0.5555555555555556,
              "#d8576b"
             ],
             [
              0.6666666666666666,
              "#ed7953"
             ],
             [
              0.7777777777777778,
              "#fb9f3a"
             ],
             [
              0.8888888888888888,
              "#fdca26"
             ],
             [
              1,
              "#f0f921"
             ]
            ],
            "type": "surface"
           }
          ],
          "table": [
           {
            "cells": {
             "fill": {
              "color": "#EBF0F8"
             },
             "line": {
              "color": "white"
             }
            },
            "header": {
             "fill": {
              "color": "#C8D4E3"
             },
             "line": {
              "color": "white"
             }
            },
            "type": "table"
           }
          ]
         },
         "layout": {
          "annotationdefaults": {
           "arrowcolor": "#2a3f5f",
           "arrowhead": 0,
           "arrowwidth": 1
          },
          "autotypenumbers": "strict",
          "coloraxis": {
           "colorbar": {
            "outlinewidth": 0,
            "ticks": ""
           }
          },
          "colorscale": {
           "diverging": [
            [
             0,
             "#8e0152"
            ],
            [
             0.1,
             "#c51b7d"
            ],
            [
             0.2,
             "#de77ae"
            ],
            [
             0.3,
             "#f1b6da"
            ],
            [
             0.4,
             "#fde0ef"
            ],
            [
             0.5,
             "#f7f7f7"
            ],
            [
             0.6,
             "#e6f5d0"
            ],
            [
             0.7,
             "#b8e186"
            ],
            [
             0.8,
             "#7fbc41"
            ],
            [
             0.9,
             "#4d9221"
            ],
            [
             1,
             "#276419"
            ]
           ],
           "sequential": [
            [
             0,
             "#0d0887"
            ],
            [
             0.1111111111111111,
             "#46039f"
            ],
            [
             0.2222222222222222,
             "#7201a8"
            ],
            [
             0.3333333333333333,
             "#9c179e"
            ],
            [
             0.4444444444444444,
             "#bd3786"
            ],
            [
             0.5555555555555556,
             "#d8576b"
            ],
            [
             0.6666666666666666,
             "#ed7953"
            ],
            [
             0.7777777777777778,
             "#fb9f3a"
            ],
            [
             0.8888888888888888,
             "#fdca26"
            ],
            [
             1,
             "#f0f921"
            ]
           ],
           "sequentialminus": [
            [
             0,
             "#0d0887"
            ],
            [
             0.1111111111111111,
             "#46039f"
            ],
            [
             0.2222222222222222,
             "#7201a8"
            ],
            [
             0.3333333333333333,
             "#9c179e"
            ],
            [
             0.4444444444444444,
             "#bd3786"
            ],
            [
             0.5555555555555556,
             "#d8576b"
            ],
            [
             0.6666666666666666,
             "#ed7953"
            ],
            [
             0.7777777777777778,
             "#fb9f3a"
            ],
            [
             0.8888888888888888,
             "#fdca26"
            ],
            [
             1,
             "#f0f921"
            ]
           ]
          },
          "colorway": [
           "#636efa",
           "#EF553B",
           "#00cc96",
           "#ab63fa",
           "#FFA15A",
           "#19d3f3",
           "#FF6692",
           "#B6E880",
           "#FF97FF",
           "#FECB52"
          ],
          "font": {
           "color": "#2a3f5f"
          },
          "geo": {
           "bgcolor": "white",
           "lakecolor": "white",
           "landcolor": "#E5ECF6",
           "showlakes": true,
           "showland": true,
           "subunitcolor": "white"
          },
          "hoverlabel": {
           "align": "left"
          },
          "hovermode": "closest",
          "mapbox": {
           "style": "light"
          },
          "paper_bgcolor": "white",
          "plot_bgcolor": "#E5ECF6",
          "polar": {
           "angularaxis": {
            "gridcolor": "white",
            "linecolor": "white",
            "ticks": ""
           },
           "bgcolor": "#E5ECF6",
           "radialaxis": {
            "gridcolor": "white",
            "linecolor": "white",
            "ticks": ""
           }
          },
          "scene": {
           "xaxis": {
            "backgroundcolor": "#E5ECF6",
            "gridcolor": "white",
            "gridwidth": 2,
            "linecolor": "white",
            "showbackground": true,
            "ticks": "",
            "zerolinecolor": "white"
           },
           "yaxis": {
            "backgroundcolor": "#E5ECF6",
            "gridcolor": "white",
            "gridwidth": 2,
            "linecolor": "white",
            "showbackground": true,
            "ticks": "",
            "zerolinecolor": "white"
           },
           "zaxis": {
            "backgroundcolor": "#E5ECF6",
            "gridcolor": "white",
            "gridwidth": 2,
            "linecolor": "white",
            "showbackground": true,
            "ticks": "",
            "zerolinecolor": "white"
           }
          },
          "shapedefaults": {
           "line": {
            "color": "#2a3f5f"
           }
          },
          "ternary": {
           "aaxis": {
            "gridcolor": "white",
            "linecolor": "white",
            "ticks": ""
           },
           "baxis": {
            "gridcolor": "white",
            "linecolor": "white",
            "ticks": ""
           },
           "bgcolor": "#E5ECF6",
           "caxis": {
            "gridcolor": "white",
            "linecolor": "white",
            "ticks": ""
           }
          },
          "title": {
           "x": 0.05
          },
          "xaxis": {
           "automargin": true,
           "gridcolor": "white",
           "linecolor": "white",
           "ticks": "",
           "title": {
            "standoff": 15
           },
           "zerolinecolor": "white",
           "zerolinewidth": 2
          },
          "yaxis": {
           "automargin": true,
           "gridcolor": "white",
           "linecolor": "white",
           "ticks": "",
           "title": {
            "standoff": 15
           },
           "zerolinecolor": "white",
           "zerolinewidth": 2
          }
         }
        },
        "title": {
         "text": "Difference in Yield Curve After 50bps Shock at 10-Year Maturity",
         "x": 0.5
        },
        "width": 900,
        "xaxis": {
         "linecolor": "black",
         "linewidth": 1,
         "range": [
          0,
          20
         ],
         "showline": true,
         "ticklen": 5,
         "ticks": "inside",
         "tickson": "boundaries",
         "tickvals": [
          1,
          2,
          3,
          4,
          5,
          6,
          7,
          8,
          9,
          10,
          15,
          20,
          25
         ],
         "title": {
          "text": "Time to Maturity (Years)"
         }
        },
        "yaxis": {
         "gridcolor": "rgba(38,38,38,0.15)",
         "linecolor": "Grey",
         "linewidth": 1,
         "range": [
          -10,
          55
         ],
         "showline": true,
         "title": {
          "text": "Yield Difference (bps)"
         },
         "zeroline": true,
         "zerolinecolor": "black",
         "zerolinewidth": 1
        }
       }
      }
     },
     "metadata": {},
     "output_type": "display_data"
    }
   ],
   "source": [
    "#Plot the difference between the original and shocked zero-coupon yield curves\n",
    "gr.plot_yield_difference(maturity_range, yield_difference)"
   ]
  },
  {
   "cell_type": "markdown",
   "id": "1ea918bfb664b525",
   "metadata": {},
   "source": [
    "#### Question 4.2\n",
    "##### First of all, we create a function that allow us to compute the bond's present values:"
   ]
  },
  {
   "cell_type": "code",
   "execution_count": 32,
   "id": "3a206d7d71f76d72",
   "metadata": {
    "ExecuteTime": {
     "end_time": "2024-10-29T10:28:21.234289Z",
     "start_time": "2024-10-29T10:28:20.881076Z"
    }
   },
   "outputs": [],
   "source": [
    "def Bond_Present_Value(Coupon_Rate_Simple, maturity, zero_coupon_rates):\n",
    "    \n",
    "    \"\"\"\n",
    "    Calculate the present value of a bond with semiannual coupons using zero-coupon bond rates.\n",
    "    \n",
    "    Parameters:\n",
    "    - face_value (float): The face value of the bond.\n",
    "    - coupon_rate (float): The annual coupon rate as a decimal (e.g., 0.05 for 5%).\n",
    "    - maturity (float): The maturity of the bond in years.\n",
    "    - zero_coupon_rates (pd.DataFrame): A DataFrame with two columns - 'maturity' and 'rate'.\n",
    "    \n",
    "    Returns:\n",
    "    - float: The present value of the bond.\n",
    "    \"\"\"\n",
    "\n",
    "    num_periods = int(maturity * 2)\n",
    "    pv_bond = 0\n",
    "    Coupon_Rate_Simple = Coupon_Rate_Simple/200\n",
    "\n",
    "    for period in range(1, num_periods): \n",
    "        period_years = period / 2\n",
    "        rate = zero_coupon_rates.loc[zero_coupon_rates['Time to Maturity'] == period_years, 'Zero-Coupon Yield'].values\n",
    "        discount_factor = 1 / ((1 + rate[0]/200) ** period)\n",
    "        pv_bond += Coupon_Rate_Simple * 100 * discount_factor\n",
    "\n",
    "    rate = zero_coupon_rates.loc[zero_coupon_rates['Time to Maturity'] == maturity, 'Zero-Coupon Yield'].values\n",
    "    discount_factor = 1 / ((1 + rate[0]/200) ** num_periods)\n",
    "    \n",
    "    pv_bond += 100 * discount_factor + 100 * Coupon_Rate_Simple * discount_factor\n",
    "\n",
    "    return pv_bond"
   ]
  },
  {
   "cell_type": "code",
   "execution_count": 33,
   "id": "a73291ef",
   "metadata": {},
   "outputs": [],
   "source": [
    "weight = 1000000/len(Yield)"
   ]
  },
  {
   "cell_type": "code",
   "execution_count": 34,
   "id": "6e1fb408",
   "metadata": {},
   "outputs": [],
   "source": [
    "#Define a variable representing the number of bonds bought with 10000000/52 = 192307.69\n",
    "df['Numbers of Bonds'] = weight/df['Current Price']"
   ]
  },
  {
   "cell_type": "code",
   "execution_count": 35,
   "id": "39f7848a",
   "metadata": {},
   "outputs": [],
   "source": [
    "# Compute value of portfolio without shock and not taking account of weight for now\n",
    "sum = 0 \n",
    "count = 0\n",
    "\n",
    "for bond in df['Time to Maturity']:\n",
    "    sum += Bond_Present_Value(df['Coupon Rate (%)'].iloc[count], bond, Yield)*df['Numbers of Bonds'].iloc[count]\n",
    "    count += 1"
   ]
  },
  {
   "cell_type": "code",
   "execution_count": 36,
   "id": "8f9276f02b974643",
   "metadata": {
    "ExecuteTime": {
     "end_time": "2024-10-29T10:41:51.983769Z",
     "start_time": "2024-10-29T10:41:51.593277Z"
    }
   },
   "outputs": [],
   "source": [
    "#We run over each bond in the portfolio to calculate its present value with shocked yield (10 years)\n",
    "sum_shock = 0 \n",
    "count = 0\n",
    "\n",
    "Yield_Shocked = Yield.copy()\n",
    "Yield_Shocked.loc[19,['Zero-Coupon Yield']] = Yield_Shocked['Zero-Coupon Yield'].loc[19] + 0.5\n",
    "\n",
    "for bond in df['Time to Maturity']:\n",
    "        \n",
    "    if 10 <= bond:\n",
    "        sum_shock += Bond_Present_Value(df['Coupon Rate (%)'].iloc[count], bond, Yield_Shocked)*df['Numbers of Bonds'].iloc[count]\n",
    "    else:\n",
    "        sum_shock += Bond_Present_Value(df['Coupon Rate (%)'].iloc[count], bond, Yield)*df['Numbers of Bonds'].iloc[count]\n",
    "            \n",
    "    count += 1\n"
   ]
  },
  {
   "cell_type": "code",
   "execution_count": 37,
   "id": "b7522707",
   "metadata": {},
   "outputs": [
    {
     "name": "stdout",
     "output_type": "stream",
     "text": [
      "Value of KRD for a shock of 50bps of the 10-year rate\n",
      "$-1169.34\n"
     ]
    }
   ],
   "source": [
    "print('Value of KRD for a shock of 50bps of the 10-year rate')\n",
    "print('$' + str(round((sum_shock-sum),2)))"
   ]
  },
  {
   "cell_type": "markdown",
   "id": "5675cc08",
   "metadata": {},
   "source": [
    "#### Question 4.3\n",
    "##### -50bps curve shock for all maturities:"
   ]
  },
  {
   "cell_type": "code",
   "execution_count": 38,
   "id": "b931165a5ad88464",
   "metadata": {
    "ExecuteTime": {
     "end_time": "2024-10-29T10:42:11.414260Z",
     "start_time": "2024-10-29T10:41:58.834714Z"
    }
   },
   "outputs": [],
   "source": [
    "Sum_Shocked = 0\n",
    "Shocked = []\n",
    "Not_Shocked = []\n",
    "Sum = 0 \n",
    "\n",
    "count = 0\n",
    "shift = -0.5\n",
    "\n",
    "# Compute value of portfolio for each shocked maturity\n",
    "for Maturity in Yield['Time to Maturity']:\n",
    "    Yield_Shocked = Yield.copy()\n",
    "    Yield_Shocked.loc[count,['Zero-Coupon Yield']] = Yield_Shocked['Zero-Coupon Yield'].loc[count] + shift\n",
    "    count_bond = 0\n",
    "    Sum_Shocked = 0\n",
    "    Sum_Not_Shocked = 0\n",
    "    \n",
    "    for bond in df['Time to Maturity']:\n",
    "        if Maturity <= bond:\n",
    "            Sum_Shocked += Bond_Present_Value(df['Coupon Rate (%)'].iloc[count_bond], bond, Yield_Shocked)*df['Numbers of Bonds'].iloc[count_bond]\n",
    "        else:\n",
    "            Sum_Shocked += Bond_Present_Value(df['Coupon Rate (%)'].iloc[count_bond], bond, Yield)*df['Numbers of Bonds'].iloc[count_bond]\n",
    "\n",
    "        Sum_Not_Shocked += Bond_Present_Value(df['Coupon Rate (%)'].iloc[count_bond], bond, Yield)*df['Numbers of Bonds'].iloc[count_bond]\n",
    "\n",
    "        count_bond += 1\n",
    "\n",
    "    count += 1\n",
    "\n",
    "    Not_Shocked.append(Sum_Not_Shocked) \n",
    "    Shocked.append(Sum_Shocked) "
   ]
  },
  {
   "cell_type": "code",
   "execution_count": 39,
   "id": "c1999813",
   "metadata": {
    "ExecuteTime": {
     "end_time": "2024-10-29T10:28:55.157397Z",
     "start_time": "2024-10-29T10:28:54.324982Z"
    }
   },
   "outputs": [
    {
     "data": {
      "text/plain": [
       "np.float64(1230.880474363803)"
      ]
     },
     "execution_count": 39,
     "metadata": {},
     "output_type": "execute_result"
    }
   ],
   "source": [
    "KRD = [(Shocked[i]-Not_Shocked[i]) for i in range(len(Shocked))]\n",
    "KRD[19]"
   ]
  },
  {
   "cell_type": "code",
   "execution_count": 40,
   "id": "7f5cb82a",
   "metadata": {},
   "outputs": [
    {
     "data": {
      "application/vnd.plotly.v1+json": {
       "config": {
        "plotlyServerURL": "https://plot.ly"
       },
       "data": [
        {
         "marker": {
          "color": "rgb(0, 71, 102)",
          "line": {
           "color": "black",
           "width": 1
          }
         },
         "name": "Key Rate Duration",
         "type": "bar",
         "width": 0.5,
         "x": [
          0.5,
          1,
          1.5,
          2,
          2.5,
          3,
          3.5,
          4,
          4.5,
          5,
          5.5,
          6,
          6.5,
          7,
          7.5,
          8,
          8.5,
          9,
          9.5,
          10,
          10.5,
          11,
          11.5,
          12,
          12.5,
          13,
          13.5,
          14,
          14.5,
          15,
          15.5,
          16,
          16.5,
          17,
          17.5,
          18,
          18.5,
          19,
          19.5,
          20,
          20.5,
          21,
          21.5,
          22,
          22.5,
          23,
          23.5,
          24,
          24.5,
          25,
          25.5,
          26
         ],
         "y": [
          114.48100650124252,
          225.92790994921234,
          334.7113976974506,
          423.10534280340653,
          514.3570052875439,
          619.6190388690447,
          669.6938338865293,
          771.1119469275,
          846.5293539466802,
          908.8988848228473,
          925.0348623719765,
          957.8035078576067,
          982.4647936376277,
          1030.9398691031383,
          1081.2338454857236,
          1107.3710190245183,
          1135.4596483324422,
          1178.1272790691582,
          1226.4719312243396,
          1230.880474363803,
          968.6241327896714,
          959.2999140511965,
          939.594392630388,
          940.0785414634738,
          959.3610328038922,
          1004.7204427444376,
          942.7253301668679,
          915.7573691989528,
          891.2122413462494,
          874.4661436914466,
          853.2671680204803,
          859.2878527125577,
          823.7630967715522,
          788.9863741273293,
          802.5539052098757,
          770.2802774502197,
          752.6460250184173,
          766.135746120126,
          750.7507893448928,
          782.3681653422536,
          693.4363466952927,
          667.2290670631919,
          636.7756376401521,
          654.4077530255308,
          693.8367946543731,
          620.6841990632238,
          608.5973121091956,
          603.1777750668116,
          598.9571295131464,
          629.411511250888,
          634.0377017029095,
          542.6571318814531
         ]
        }
       ],
       "layout": {
        "font": {
         "color": "Black",
         "family": "Times New Roman",
         "size": 15
        },
        "height": 500,
        "plot_bgcolor": "rgba(255,255,255,1)",
        "template": {
         "data": {
          "bar": [
           {
            "error_x": {
             "color": "#2a3f5f"
            },
            "error_y": {
             "color": "#2a3f5f"
            },
            "marker": {
             "line": {
              "color": "#E5ECF6",
              "width": 0.5
             },
             "pattern": {
              "fillmode": "overlay",
              "size": 10,
              "solidity": 0.2
             }
            },
            "type": "bar"
           }
          ],
          "barpolar": [
           {
            "marker": {
             "line": {
              "color": "#E5ECF6",
              "width": 0.5
             },
             "pattern": {
              "fillmode": "overlay",
              "size": 10,
              "solidity": 0.2
             }
            },
            "type": "barpolar"
           }
          ],
          "carpet": [
           {
            "aaxis": {
             "endlinecolor": "#2a3f5f",
             "gridcolor": "white",
             "linecolor": "white",
             "minorgridcolor": "white",
             "startlinecolor": "#2a3f5f"
            },
            "baxis": {
             "endlinecolor": "#2a3f5f",
             "gridcolor": "white",
             "linecolor": "white",
             "minorgridcolor": "white",
             "startlinecolor": "#2a3f5f"
            },
            "type": "carpet"
           }
          ],
          "choropleth": [
           {
            "colorbar": {
             "outlinewidth": 0,
             "ticks": ""
            },
            "type": "choropleth"
           }
          ],
          "contour": [
           {
            "colorbar": {
             "outlinewidth": 0,
             "ticks": ""
            },
            "colorscale": [
             [
              0,
              "#0d0887"
             ],
             [
              0.1111111111111111,
              "#46039f"
             ],
             [
              0.2222222222222222,
              "#7201a8"
             ],
             [
              0.3333333333333333,
              "#9c179e"
             ],
             [
              0.4444444444444444,
              "#bd3786"
             ],
             [
              0.5555555555555556,
              "#d8576b"
             ],
             [
              0.6666666666666666,
              "#ed7953"
             ],
             [
              0.7777777777777778,
              "#fb9f3a"
             ],
             [
              0.8888888888888888,
              "#fdca26"
             ],
             [
              1,
              "#f0f921"
             ]
            ],
            "type": "contour"
           }
          ],
          "contourcarpet": [
           {
            "colorbar": {
             "outlinewidth": 0,
             "ticks": ""
            },
            "type": "contourcarpet"
           }
          ],
          "heatmap": [
           {
            "colorbar": {
             "outlinewidth": 0,
             "ticks": ""
            },
            "colorscale": [
             [
              0,
              "#0d0887"
             ],
             [
              0.1111111111111111,
              "#46039f"
             ],
             [
              0.2222222222222222,
              "#7201a8"
             ],
             [
              0.3333333333333333,
              "#9c179e"
             ],
             [
              0.4444444444444444,
              "#bd3786"
             ],
             [
              0.5555555555555556,
              "#d8576b"
             ],
             [
              0.6666666666666666,
              "#ed7953"
             ],
             [
              0.7777777777777778,
              "#fb9f3a"
             ],
             [
              0.8888888888888888,
              "#fdca26"
             ],
             [
              1,
              "#f0f921"
             ]
            ],
            "type": "heatmap"
           }
          ],
          "heatmapgl": [
           {
            "colorbar": {
             "outlinewidth": 0,
             "ticks": ""
            },
            "colorscale": [
             [
              0,
              "#0d0887"
             ],
             [
              0.1111111111111111,
              "#46039f"
             ],
             [
              0.2222222222222222,
              "#7201a8"
             ],
             [
              0.3333333333333333,
              "#9c179e"
             ],
             [
              0.4444444444444444,
              "#bd3786"
             ],
             [
              0.5555555555555556,
              "#d8576b"
             ],
             [
              0.6666666666666666,
              "#ed7953"
             ],
             [
              0.7777777777777778,
              "#fb9f3a"
             ],
             [
              0.8888888888888888,
              "#fdca26"
             ],
             [
              1,
              "#f0f921"
             ]
            ],
            "type": "heatmapgl"
           }
          ],
          "histogram": [
           {
            "marker": {
             "pattern": {
              "fillmode": "overlay",
              "size": 10,
              "solidity": 0.2
             }
            },
            "type": "histogram"
           }
          ],
          "histogram2d": [
           {
            "colorbar": {
             "outlinewidth": 0,
             "ticks": ""
            },
            "colorscale": [
             [
              0,
              "#0d0887"
             ],
             [
              0.1111111111111111,
              "#46039f"
             ],
             [
              0.2222222222222222,
              "#7201a8"
             ],
             [
              0.3333333333333333,
              "#9c179e"
             ],
             [
              0.4444444444444444,
              "#bd3786"
             ],
             [
              0.5555555555555556,
              "#d8576b"
             ],
             [
              0.6666666666666666,
              "#ed7953"
             ],
             [
              0.7777777777777778,
              "#fb9f3a"
             ],
             [
              0.8888888888888888,
              "#fdca26"
             ],
             [
              1,
              "#f0f921"
             ]
            ],
            "type": "histogram2d"
           }
          ],
          "histogram2dcontour": [
           {
            "colorbar": {
             "outlinewidth": 0,
             "ticks": ""
            },
            "colorscale": [
             [
              0,
              "#0d0887"
             ],
             [
              0.1111111111111111,
              "#46039f"
             ],
             [
              0.2222222222222222,
              "#7201a8"
             ],
             [
              0.3333333333333333,
              "#9c179e"
             ],
             [
              0.4444444444444444,
              "#bd3786"
             ],
             [
              0.5555555555555556,
              "#d8576b"
             ],
             [
              0.6666666666666666,
              "#ed7953"
             ],
             [
              0.7777777777777778,
              "#fb9f3a"
             ],
             [
              0.8888888888888888,
              "#fdca26"
             ],
             [
              1,
              "#f0f921"
             ]
            ],
            "type": "histogram2dcontour"
           }
          ],
          "mesh3d": [
           {
            "colorbar": {
             "outlinewidth": 0,
             "ticks": ""
            },
            "type": "mesh3d"
           }
          ],
          "parcoords": [
           {
            "line": {
             "colorbar": {
              "outlinewidth": 0,
              "ticks": ""
             }
            },
            "type": "parcoords"
           }
          ],
          "pie": [
           {
            "automargin": true,
            "type": "pie"
           }
          ],
          "scatter": [
           {
            "fillpattern": {
             "fillmode": "overlay",
             "size": 10,
             "solidity": 0.2
            },
            "type": "scatter"
           }
          ],
          "scatter3d": [
           {
            "line": {
             "colorbar": {
              "outlinewidth": 0,
              "ticks": ""
             }
            },
            "marker": {
             "colorbar": {
              "outlinewidth": 0,
              "ticks": ""
             }
            },
            "type": "scatter3d"
           }
          ],
          "scattercarpet": [
           {
            "marker": {
             "colorbar": {
              "outlinewidth": 0,
              "ticks": ""
             }
            },
            "type": "scattercarpet"
           }
          ],
          "scattergeo": [
           {
            "marker": {
             "colorbar": {
              "outlinewidth": 0,
              "ticks": ""
             }
            },
            "type": "scattergeo"
           }
          ],
          "scattergl": [
           {
            "marker": {
             "colorbar": {
              "outlinewidth": 0,
              "ticks": ""
             }
            },
            "type": "scattergl"
           }
          ],
          "scattermapbox": [
           {
            "marker": {
             "colorbar": {
              "outlinewidth": 0,
              "ticks": ""
             }
            },
            "type": "scattermapbox"
           }
          ],
          "scatterpolar": [
           {
            "marker": {
             "colorbar": {
              "outlinewidth": 0,
              "ticks": ""
             }
            },
            "type": "scatterpolar"
           }
          ],
          "scatterpolargl": [
           {
            "marker": {
             "colorbar": {
              "outlinewidth": 0,
              "ticks": ""
             }
            },
            "type": "scatterpolargl"
           }
          ],
          "scatterternary": [
           {
            "marker": {
             "colorbar": {
              "outlinewidth": 0,
              "ticks": ""
             }
            },
            "type": "scatterternary"
           }
          ],
          "surface": [
           {
            "colorbar": {
             "outlinewidth": 0,
             "ticks": ""
            },
            "colorscale": [
             [
              0,
              "#0d0887"
             ],
             [
              0.1111111111111111,
              "#46039f"
             ],
             [
              0.2222222222222222,
              "#7201a8"
             ],
             [
              0.3333333333333333,
              "#9c179e"
             ],
             [
              0.4444444444444444,
              "#bd3786"
             ],
             [
              0.5555555555555556,
              "#d8576b"
             ],
             [
              0.6666666666666666,
              "#ed7953"
             ],
             [
              0.7777777777777778,
              "#fb9f3a"
             ],
             [
              0.8888888888888888,
              "#fdca26"
             ],
             [
              1,
              "#f0f921"
             ]
            ],
            "type": "surface"
           }
          ],
          "table": [
           {
            "cells": {
             "fill": {
              "color": "#EBF0F8"
             },
             "line": {
              "color": "white"
             }
            },
            "header": {
             "fill": {
              "color": "#C8D4E3"
             },
             "line": {
              "color": "white"
             }
            },
            "type": "table"
           }
          ]
         },
         "layout": {
          "annotationdefaults": {
           "arrowcolor": "#2a3f5f",
           "arrowhead": 0,
           "arrowwidth": 1
          },
          "autotypenumbers": "strict",
          "coloraxis": {
           "colorbar": {
            "outlinewidth": 0,
            "ticks": ""
           }
          },
          "colorscale": {
           "diverging": [
            [
             0,
             "#8e0152"
            ],
            [
             0.1,
             "#c51b7d"
            ],
            [
             0.2,
             "#de77ae"
            ],
            [
             0.3,
             "#f1b6da"
            ],
            [
             0.4,
             "#fde0ef"
            ],
            [
             0.5,
             "#f7f7f7"
            ],
            [
             0.6,
             "#e6f5d0"
            ],
            [
             0.7,
             "#b8e186"
            ],
            [
             0.8,
             "#7fbc41"
            ],
            [
             0.9,
             "#4d9221"
            ],
            [
             1,
             "#276419"
            ]
           ],
           "sequential": [
            [
             0,
             "#0d0887"
            ],
            [
             0.1111111111111111,
             "#46039f"
            ],
            [
             0.2222222222222222,
             "#7201a8"
            ],
            [
             0.3333333333333333,
             "#9c179e"
            ],
            [
             0.4444444444444444,
             "#bd3786"
            ],
            [
             0.5555555555555556,
             "#d8576b"
            ],
            [
             0.6666666666666666,
             "#ed7953"
            ],
            [
             0.7777777777777778,
             "#fb9f3a"
            ],
            [
             0.8888888888888888,
             "#fdca26"
            ],
            [
             1,
             "#f0f921"
            ]
           ],
           "sequentialminus": [
            [
             0,
             "#0d0887"
            ],
            [
             0.1111111111111111,
             "#46039f"
            ],
            [
             0.2222222222222222,
             "#7201a8"
            ],
            [
             0.3333333333333333,
             "#9c179e"
            ],
            [
             0.4444444444444444,
             "#bd3786"
            ],
            [
             0.5555555555555556,
             "#d8576b"
            ],
            [
             0.6666666666666666,
             "#ed7953"
            ],
            [
             0.7777777777777778,
             "#fb9f3a"
            ],
            [
             0.8888888888888888,
             "#fdca26"
            ],
            [
             1,
             "#f0f921"
            ]
           ]
          },
          "colorway": [
           "#636efa",
           "#EF553B",
           "#00cc96",
           "#ab63fa",
           "#FFA15A",
           "#19d3f3",
           "#FF6692",
           "#B6E880",
           "#FF97FF",
           "#FECB52"
          ],
          "font": {
           "color": "#2a3f5f"
          },
          "geo": {
           "bgcolor": "white",
           "lakecolor": "white",
           "landcolor": "#E5ECF6",
           "showlakes": true,
           "showland": true,
           "subunitcolor": "white"
          },
          "hoverlabel": {
           "align": "left"
          },
          "hovermode": "closest",
          "mapbox": {
           "style": "light"
          },
          "paper_bgcolor": "white",
          "plot_bgcolor": "#E5ECF6",
          "polar": {
           "angularaxis": {
            "gridcolor": "white",
            "linecolor": "white",
            "ticks": ""
           },
           "bgcolor": "#E5ECF6",
           "radialaxis": {
            "gridcolor": "white",
            "linecolor": "white",
            "ticks": ""
           }
          },
          "scene": {
           "xaxis": {
            "backgroundcolor": "#E5ECF6",
            "gridcolor": "white",
            "gridwidth": 2,
            "linecolor": "white",
            "showbackground": true,
            "ticks": "",
            "zerolinecolor": "white"
           },
           "yaxis": {
            "backgroundcolor": "#E5ECF6",
            "gridcolor": "white",
            "gridwidth": 2,
            "linecolor": "white",
            "showbackground": true,
            "ticks": "",
            "zerolinecolor": "white"
           },
           "zaxis": {
            "backgroundcolor": "#E5ECF6",
            "gridcolor": "white",
            "gridwidth": 2,
            "linecolor": "white",
            "showbackground": true,
            "ticks": "",
            "zerolinecolor": "white"
           }
          },
          "shapedefaults": {
           "line": {
            "color": "#2a3f5f"
           }
          },
          "ternary": {
           "aaxis": {
            "gridcolor": "white",
            "linecolor": "white",
            "ticks": ""
           },
           "baxis": {
            "gridcolor": "white",
            "linecolor": "white",
            "ticks": ""
           },
           "bgcolor": "#E5ECF6",
           "caxis": {
            "gridcolor": "white",
            "linecolor": "white",
            "ticks": ""
           }
          },
          "title": {
           "x": 0.05
          },
          "xaxis": {
           "automargin": true,
           "gridcolor": "white",
           "linecolor": "white",
           "ticks": "",
           "title": {
            "standoff": 15
           },
           "zerolinecolor": "white",
           "zerolinewidth": 2
          },
          "yaxis": {
           "automargin": true,
           "gridcolor": "white",
           "linecolor": "white",
           "ticks": "",
           "title": {
            "standoff": 15
           },
           "zerolinecolor": "white",
           "zerolinewidth": 2
          }
         }
        },
        "title": {
         "text": "Key Rate Durations of the Portfolio for a shock of 50bps in function of shocked maturity",
         "x": 0.5
        },
        "width": 900,
        "xaxis": {
         "linecolor": "black",
         "linewidth": 1,
         "showline": true,
         "tickvals": [
          1,
          2,
          3,
          4,
          5,
          6,
          7,
          8,
          9,
          10,
          15,
          20,
          25
         ],
         "title": {
          "text": "Shocked Maturity"
         }
        },
        "yaxis": {
         "gridcolor": "rgba(38,38,38,0.15)",
         "linecolor": "Grey",
         "linewidth": 1,
         "showline": true,
         "title": {
          "text": "Key Rate Duration $"
         }
        }
       }
      }
     },
     "metadata": {},
     "output_type": "display_data"
    }
   ],
   "source": [
    "gr.plot_key_rate_durations(df, KRD, weight)"
   ]
  },
  {
   "cell_type": "markdown",
   "id": "ca22f748222820bb",
   "metadata": {},
   "source": [
    "##### +50bps curve shock:"
   ]
  },
  {
   "cell_type": "code",
   "execution_count": 41,
   "id": "d58c7fa45ebd87b4",
   "metadata": {
    "ExecuteTime": {
     "end_time": "2024-10-29T10:29:27.348808Z",
     "start_time": "2024-10-29T10:28:56.223349Z"
    }
   },
   "outputs": [],
   "source": [
    "Sum_Shocked = 0\n",
    "Shocked = []\n",
    "Not_Shocked = []\n",
    "Sum = 0 \n",
    "\n",
    "count = 0\n",
    "shift = +0.5\n",
    "\n",
    "# Compute value of portfolio for each shocked maturity\n",
    "for Maturity in Yield['Time to Maturity']:\n",
    "    Yield_Shocked = Yield.copy()\n",
    "    Yield_Shocked.loc[count,['Zero-Coupon Yield']] = Yield_Shocked['Zero-Coupon Yield'].loc[count] + shift\n",
    "    count_bond = 0\n",
    "    Sum_Shocked = 0\n",
    "    Sum_Not_Shocked = 0\n",
    "    \n",
    "    for bond in df['Time to Maturity']:\n",
    "        if Maturity <= bond:\n",
    "            Sum_Shocked += Bond_Present_Value(df['Coupon Rate (%)'].iloc[count_bond], bond, Yield_Shocked)*df['Numbers of Bonds'].iloc[count_bond]\n",
    "        else:\n",
    "            Sum_Shocked += Bond_Present_Value(df['Coupon Rate (%)'].iloc[count_bond], bond, Yield)*df['Numbers of Bonds'].iloc[count_bond]\n",
    "\n",
    "        Sum_Not_Shocked += Bond_Present_Value(df['Coupon Rate (%)'].iloc[count_bond], bond, Yield)*df['Numbers of Bonds'].iloc[count_bond]\n",
    "\n",
    "        count_bond += 1\n",
    "\n",
    "    count += 1\n",
    "\n",
    "    Not_Shocked.append(Sum_Not_Shocked) \n",
    "    Shocked.append(Sum_Shocked) "
   ]
  },
  {
   "cell_type": "code",
   "execution_count": 42,
   "id": "4d78e021",
   "metadata": {},
   "outputs": [],
   "source": [
    "KRD = [(Shocked[i]-Not_Shocked[i]) for i in range(len(Shocked))]"
   ]
  },
  {
   "cell_type": "code",
   "execution_count": 43,
   "id": "1efdb2da",
   "metadata": {},
   "outputs": [
    {
     "data": {
      "application/vnd.plotly.v1+json": {
       "config": {
        "plotlyServerURL": "https://plot.ly"
       },
       "data": [
        {
         "marker": {
          "color": "rgb(0, 71, 102)",
          "line": {
           "color": "black",
           "width": 1
          }
         },
         "name": "Key Rate Duration",
         "type": "bar",
         "width": 0.5,
         "x": [
          0.5,
          1,
          1.5,
          2,
          2.5,
          3,
          3.5,
          4,
          4.5,
          5,
          5.5,
          6,
          6.5,
          7,
          7.5,
          8,
          8.5,
          9,
          9.5,
          10,
          10.5,
          11,
          11.5,
          12,
          12.5,
          13,
          13.5,
          14,
          14.5,
          15,
          15.5,
          16,
          16.5,
          17,
          17.5,
          18,
          18.5,
          19,
          19.5,
          20,
          20.5,
          21,
          21.5,
          22,
          22.5,
          23,
          23.5,
          24,
          24.5,
          25,
          25.5,
          26
         ],
         "y": [
          -113.91257343511097,
          -224.24976447946392,
          -331.40684755227994,
          -417.89788141392637,
          -506.7811420271173,
          -609.0000425769249,
          -656.6138671367662,
          -754.2069936455227,
          -825.9588680111337,
          -884.6605119201122,
          -898.1793860581238,
          -927.7489605911542,
          -949.3365571560571,
          -993.7650461837184,
          -1039.7230269073043,
          -1062.2834976249142,
          -1086.5920489912387,
          -1124.6907261779997,
          -1167.9945951538393,
          -1169.337403543992,
          -917.9556050656829,
          -906.9487334897276,
          -886.2554798171623,
          -884.5690448156092,
          -900.5403723790077,
          -940.843249155907,
          -880.6606176873902,
          -853.4157348531298,
          -828.5280231786892,
          -810.9983075270429,
          -789.4388588081347,
          -793.0920031187125,
          -758.4655785632785,
          -724.6985236895271,
          -735.3770200080471,
          -704.0970928054303,
          -686.3156096140156,
          -696.9245290849358,
          -681.2766141539905,
          -708.2415309575154,
          -626.2099600830115,
          -601.0940758637153,
          -572.2750457556685,
          -586.6936171799898,
          -620.5176917227218,
          -553.760410413146,
          -541.6549163417658,
          -535.5284385597333,
          -530.490240003448,
          -556.0972393066622,
          -558.8140435657697,
          -477.122821050114
         ]
        }
       ],
       "layout": {
        "font": {
         "color": "Black",
         "family": "Times New Roman",
         "size": 15
        },
        "height": 500,
        "plot_bgcolor": "rgba(255,255,255,1)",
        "template": {
         "data": {
          "bar": [
           {
            "error_x": {
             "color": "#2a3f5f"
            },
            "error_y": {
             "color": "#2a3f5f"
            },
            "marker": {
             "line": {
              "color": "#E5ECF6",
              "width": 0.5
             },
             "pattern": {
              "fillmode": "overlay",
              "size": 10,
              "solidity": 0.2
             }
            },
            "type": "bar"
           }
          ],
          "barpolar": [
           {
            "marker": {
             "line": {
              "color": "#E5ECF6",
              "width": 0.5
             },
             "pattern": {
              "fillmode": "overlay",
              "size": 10,
              "solidity": 0.2
             }
            },
            "type": "barpolar"
           }
          ],
          "carpet": [
           {
            "aaxis": {
             "endlinecolor": "#2a3f5f",
             "gridcolor": "white",
             "linecolor": "white",
             "minorgridcolor": "white",
             "startlinecolor": "#2a3f5f"
            },
            "baxis": {
             "endlinecolor": "#2a3f5f",
             "gridcolor": "white",
             "linecolor": "white",
             "minorgridcolor": "white",
             "startlinecolor": "#2a3f5f"
            },
            "type": "carpet"
           }
          ],
          "choropleth": [
           {
            "colorbar": {
             "outlinewidth": 0,
             "ticks": ""
            },
            "type": "choropleth"
           }
          ],
          "contour": [
           {
            "colorbar": {
             "outlinewidth": 0,
             "ticks": ""
            },
            "colorscale": [
             [
              0,
              "#0d0887"
             ],
             [
              0.1111111111111111,
              "#46039f"
             ],
             [
              0.2222222222222222,
              "#7201a8"
             ],
             [
              0.3333333333333333,
              "#9c179e"
             ],
             [
              0.4444444444444444,
              "#bd3786"
             ],
             [
              0.5555555555555556,
              "#d8576b"
             ],
             [
              0.6666666666666666,
              "#ed7953"
             ],
             [
              0.7777777777777778,
              "#fb9f3a"
             ],
             [
              0.8888888888888888,
              "#fdca26"
             ],
             [
              1,
              "#f0f921"
             ]
            ],
            "type": "contour"
           }
          ],
          "contourcarpet": [
           {
            "colorbar": {
             "outlinewidth": 0,
             "ticks": ""
            },
            "type": "contourcarpet"
           }
          ],
          "heatmap": [
           {
            "colorbar": {
             "outlinewidth": 0,
             "ticks": ""
            },
            "colorscale": [
             [
              0,
              "#0d0887"
             ],
             [
              0.1111111111111111,
              "#46039f"
             ],
             [
              0.2222222222222222,
              "#7201a8"
             ],
             [
              0.3333333333333333,
              "#9c179e"
             ],
             [
              0.4444444444444444,
              "#bd3786"
             ],
             [
              0.5555555555555556,
              "#d8576b"
             ],
             [
              0.6666666666666666,
              "#ed7953"
             ],
             [
              0.7777777777777778,
              "#fb9f3a"
             ],
             [
              0.8888888888888888,
              "#fdca26"
             ],
             [
              1,
              "#f0f921"
             ]
            ],
            "type": "heatmap"
           }
          ],
          "heatmapgl": [
           {
            "colorbar": {
             "outlinewidth": 0,
             "ticks": ""
            },
            "colorscale": [
             [
              0,
              "#0d0887"
             ],
             [
              0.1111111111111111,
              "#46039f"
             ],
             [
              0.2222222222222222,
              "#7201a8"
             ],
             [
              0.3333333333333333,
              "#9c179e"
             ],
             [
              0.4444444444444444,
              "#bd3786"
             ],
             [
              0.5555555555555556,
              "#d8576b"
             ],
             [
              0.6666666666666666,
              "#ed7953"
             ],
             [
              0.7777777777777778,
              "#fb9f3a"
             ],
             [
              0.8888888888888888,
              "#fdca26"
             ],
             [
              1,
              "#f0f921"
             ]
            ],
            "type": "heatmapgl"
           }
          ],
          "histogram": [
           {
            "marker": {
             "pattern": {
              "fillmode": "overlay",
              "size": 10,
              "solidity": 0.2
             }
            },
            "type": "histogram"
           }
          ],
          "histogram2d": [
           {
            "colorbar": {
             "outlinewidth": 0,
             "ticks": ""
            },
            "colorscale": [
             [
              0,
              "#0d0887"
             ],
             [
              0.1111111111111111,
              "#46039f"
             ],
             [
              0.2222222222222222,
              "#7201a8"
             ],
             [
              0.3333333333333333,
              "#9c179e"
             ],
             [
              0.4444444444444444,
              "#bd3786"
             ],
             [
              0.5555555555555556,
              "#d8576b"
             ],
             [
              0.6666666666666666,
              "#ed7953"
             ],
             [
              0.7777777777777778,
              "#fb9f3a"
             ],
             [
              0.8888888888888888,
              "#fdca26"
             ],
             [
              1,
              "#f0f921"
             ]
            ],
            "type": "histogram2d"
           }
          ],
          "histogram2dcontour": [
           {
            "colorbar": {
             "outlinewidth": 0,
             "ticks": ""
            },
            "colorscale": [
             [
              0,
              "#0d0887"
             ],
             [
              0.1111111111111111,
              "#46039f"
             ],
             [
              0.2222222222222222,
              "#7201a8"
             ],
             [
              0.3333333333333333,
              "#9c179e"
             ],
             [
              0.4444444444444444,
              "#bd3786"
             ],
             [
              0.5555555555555556,
              "#d8576b"
             ],
             [
              0.6666666666666666,
              "#ed7953"
             ],
             [
              0.7777777777777778,
              "#fb9f3a"
             ],
             [
              0.8888888888888888,
              "#fdca26"
             ],
             [
              1,
              "#f0f921"
             ]
            ],
            "type": "histogram2dcontour"
           }
          ],
          "mesh3d": [
           {
            "colorbar": {
             "outlinewidth": 0,
             "ticks": ""
            },
            "type": "mesh3d"
           }
          ],
          "parcoords": [
           {
            "line": {
             "colorbar": {
              "outlinewidth": 0,
              "ticks": ""
             }
            },
            "type": "parcoords"
           }
          ],
          "pie": [
           {
            "automargin": true,
            "type": "pie"
           }
          ],
          "scatter": [
           {
            "fillpattern": {
             "fillmode": "overlay",
             "size": 10,
             "solidity": 0.2
            },
            "type": "scatter"
           }
          ],
          "scatter3d": [
           {
            "line": {
             "colorbar": {
              "outlinewidth": 0,
              "ticks": ""
             }
            },
            "marker": {
             "colorbar": {
              "outlinewidth": 0,
              "ticks": ""
             }
            },
            "type": "scatter3d"
           }
          ],
          "scattercarpet": [
           {
            "marker": {
             "colorbar": {
              "outlinewidth": 0,
              "ticks": ""
             }
            },
            "type": "scattercarpet"
           }
          ],
          "scattergeo": [
           {
            "marker": {
             "colorbar": {
              "outlinewidth": 0,
              "ticks": ""
             }
            },
            "type": "scattergeo"
           }
          ],
          "scattergl": [
           {
            "marker": {
             "colorbar": {
              "outlinewidth": 0,
              "ticks": ""
             }
            },
            "type": "scattergl"
           }
          ],
          "scattermapbox": [
           {
            "marker": {
             "colorbar": {
              "outlinewidth": 0,
              "ticks": ""
             }
            },
            "type": "scattermapbox"
           }
          ],
          "scatterpolar": [
           {
            "marker": {
             "colorbar": {
              "outlinewidth": 0,
              "ticks": ""
             }
            },
            "type": "scatterpolar"
           }
          ],
          "scatterpolargl": [
           {
            "marker": {
             "colorbar": {
              "outlinewidth": 0,
              "ticks": ""
             }
            },
            "type": "scatterpolargl"
           }
          ],
          "scatterternary": [
           {
            "marker": {
             "colorbar": {
              "outlinewidth": 0,
              "ticks": ""
             }
            },
            "type": "scatterternary"
           }
          ],
          "surface": [
           {
            "colorbar": {
             "outlinewidth": 0,
             "ticks": ""
            },
            "colorscale": [
             [
              0,
              "#0d0887"
             ],
             [
              0.1111111111111111,
              "#46039f"
             ],
             [
              0.2222222222222222,
              "#7201a8"
             ],
             [
              0.3333333333333333,
              "#9c179e"
             ],
             [
              0.4444444444444444,
              "#bd3786"
             ],
             [
              0.5555555555555556,
              "#d8576b"
             ],
             [
              0.6666666666666666,
              "#ed7953"
             ],
             [
              0.7777777777777778,
              "#fb9f3a"
             ],
             [
              0.8888888888888888,
              "#fdca26"
             ],
             [
              1,
              "#f0f921"
             ]
            ],
            "type": "surface"
           }
          ],
          "table": [
           {
            "cells": {
             "fill": {
              "color": "#EBF0F8"
             },
             "line": {
              "color": "white"
             }
            },
            "header": {
             "fill": {
              "color": "#C8D4E3"
             },
             "line": {
              "color": "white"
             }
            },
            "type": "table"
           }
          ]
         },
         "layout": {
          "annotationdefaults": {
           "arrowcolor": "#2a3f5f",
           "arrowhead": 0,
           "arrowwidth": 1
          },
          "autotypenumbers": "strict",
          "coloraxis": {
           "colorbar": {
            "outlinewidth": 0,
            "ticks": ""
           }
          },
          "colorscale": {
           "diverging": [
            [
             0,
             "#8e0152"
            ],
            [
             0.1,
             "#c51b7d"
            ],
            [
             0.2,
             "#de77ae"
            ],
            [
             0.3,
             "#f1b6da"
            ],
            [
             0.4,
             "#fde0ef"
            ],
            [
             0.5,
             "#f7f7f7"
            ],
            [
             0.6,
             "#e6f5d0"
            ],
            [
             0.7,
             "#b8e186"
            ],
            [
             0.8,
             "#7fbc41"
            ],
            [
             0.9,
             "#4d9221"
            ],
            [
             1,
             "#276419"
            ]
           ],
           "sequential": [
            [
             0,
             "#0d0887"
            ],
            [
             0.1111111111111111,
             "#46039f"
            ],
            [
             0.2222222222222222,
             "#7201a8"
            ],
            [
             0.3333333333333333,
             "#9c179e"
            ],
            [
             0.4444444444444444,
             "#bd3786"
            ],
            [
             0.5555555555555556,
             "#d8576b"
            ],
            [
             0.6666666666666666,
             "#ed7953"
            ],
            [
             0.7777777777777778,
             "#fb9f3a"
            ],
            [
             0.8888888888888888,
             "#fdca26"
            ],
            [
             1,
             "#f0f921"
            ]
           ],
           "sequentialminus": [
            [
             0,
             "#0d0887"
            ],
            [
             0.1111111111111111,
             "#46039f"
            ],
            [
             0.2222222222222222,
             "#7201a8"
            ],
            [
             0.3333333333333333,
             "#9c179e"
            ],
            [
             0.4444444444444444,
             "#bd3786"
            ],
            [
             0.5555555555555556,
             "#d8576b"
            ],
            [
             0.6666666666666666,
             "#ed7953"
            ],
            [
             0.7777777777777778,
             "#fb9f3a"
            ],
            [
             0.8888888888888888,
             "#fdca26"
            ],
            [
             1,
             "#f0f921"
            ]
           ]
          },
          "colorway": [
           "#636efa",
           "#EF553B",
           "#00cc96",
           "#ab63fa",
           "#FFA15A",
           "#19d3f3",
           "#FF6692",
           "#B6E880",
           "#FF97FF",
           "#FECB52"
          ],
          "font": {
           "color": "#2a3f5f"
          },
          "geo": {
           "bgcolor": "white",
           "lakecolor": "white",
           "landcolor": "#E5ECF6",
           "showlakes": true,
           "showland": true,
           "subunitcolor": "white"
          },
          "hoverlabel": {
           "align": "left"
          },
          "hovermode": "closest",
          "mapbox": {
           "style": "light"
          },
          "paper_bgcolor": "white",
          "plot_bgcolor": "#E5ECF6",
          "polar": {
           "angularaxis": {
            "gridcolor": "white",
            "linecolor": "white",
            "ticks": ""
           },
           "bgcolor": "#E5ECF6",
           "radialaxis": {
            "gridcolor": "white",
            "linecolor": "white",
            "ticks": ""
           }
          },
          "scene": {
           "xaxis": {
            "backgroundcolor": "#E5ECF6",
            "gridcolor": "white",
            "gridwidth": 2,
            "linecolor": "white",
            "showbackground": true,
            "ticks": "",
            "zerolinecolor": "white"
           },
           "yaxis": {
            "backgroundcolor": "#E5ECF6",
            "gridcolor": "white",
            "gridwidth": 2,
            "linecolor": "white",
            "showbackground": true,
            "ticks": "",
            "zerolinecolor": "white"
           },
           "zaxis": {
            "backgroundcolor": "#E5ECF6",
            "gridcolor": "white",
            "gridwidth": 2,
            "linecolor": "white",
            "showbackground": true,
            "ticks": "",
            "zerolinecolor": "white"
           }
          },
          "shapedefaults": {
           "line": {
            "color": "#2a3f5f"
           }
          },
          "ternary": {
           "aaxis": {
            "gridcolor": "white",
            "linecolor": "white",
            "ticks": ""
           },
           "baxis": {
            "gridcolor": "white",
            "linecolor": "white",
            "ticks": ""
           },
           "bgcolor": "#E5ECF6",
           "caxis": {
            "gridcolor": "white",
            "linecolor": "white",
            "ticks": ""
           }
          },
          "title": {
           "x": 0.05
          },
          "xaxis": {
           "automargin": true,
           "gridcolor": "white",
           "linecolor": "white",
           "ticks": "",
           "title": {
            "standoff": 15
           },
           "zerolinecolor": "white",
           "zerolinewidth": 2
          },
          "yaxis": {
           "automargin": true,
           "gridcolor": "white",
           "linecolor": "white",
           "ticks": "",
           "title": {
            "standoff": 15
           },
           "zerolinecolor": "white",
           "zerolinewidth": 2
          }
         }
        },
        "title": {
         "text": "Key Rate Durations of the Portfolio for a shock of 50bps in function of shocked maturity",
         "x": 0.5
        },
        "width": 900,
        "xaxis": {
         "linecolor": "black",
         "linewidth": 1,
         "showline": true,
         "tickvals": [
          1,
          2,
          3,
          4,
          5,
          6,
          7,
          8,
          9,
          10,
          15,
          20,
          25
         ],
         "title": {
          "text": "Shocked Maturity"
         }
        },
        "yaxis": {
         "gridcolor": "rgba(38,38,38,0.15)",
         "linecolor": "Grey",
         "linewidth": 1,
         "showline": true,
         "title": {
          "text": "Key Rate Duration $"
         }
        }
       }
      }
     },
     "metadata": {},
     "output_type": "display_data"
    }
   ],
   "source": [
    "gr.plot_key_rate_durations(df, KRD, weight)"
   ]
  },
  {
   "cell_type": "markdown",
   "id": "a86c886304002f9c",
   "metadata": {},
   "source": [
    "#### Question 5.1"
   ]
  },
  {
   "cell_type": "code",
   "execution_count": 44,
   "id": "cc8d56554fd3c937",
   "metadata": {
    "ExecuteTime": {
     "end_time": "2024-10-29T10:29:29.854722Z",
     "start_time": "2024-10-29T10:29:29.562369Z"
    }
   },
   "outputs": [],
   "source": [
    "average_maturity = np.mean(df[\"Time to Maturity\"].values)\n",
    "random_noise = np.random.normal(0, 0.0025, size=len(df))\n",
    "\n",
    "df[\"Steepened Yield\"] = df[\"Zero-Coupon Yield\"] / 100 + ((df[\"Time to Maturity\"] - average_maturity) / average_maturity) * 0.005 + random_noise\n",
    "df[\"Deterministic Component\"] = df[\"Zero-Coupon Yield\"] / 100 + ((df[\"Time to Maturity\"] - average_maturity) / average_maturity) * 0.005\n",
    "df[\"Stochastic Component\"] = random_noise"
   ]
  },
  {
   "cell_type": "code",
   "execution_count": 45,
   "id": "288a5cd2",
   "metadata": {},
   "outputs": [
    {
     "data": {
      "application/vnd.plotly.v1+json": {
       "config": {
        "plotlyServerURL": "https://plot.ly"
       },
       "data": [
        {
         "marker": {
          "color": "rgb(0, 71, 102)",
          "size": 8
         },
         "mode": "markers",
         "name": "Zero-Coupon Yields",
         "type": "scatter",
         "x": [
          0.5,
          1,
          1.5,
          2,
          2.5,
          3,
          3.5,
          4,
          4.5,
          5,
          5.5,
          6,
          6.5,
          7,
          7.5,
          8,
          8.5,
          9,
          9.5,
          10,
          10.5,
          11,
          11.5,
          12,
          12.5,
          13,
          13.5,
          14,
          14.5,
          15,
          15.5,
          16,
          16.5,
          17,
          17.5,
          18,
          18.5,
          19,
          19.5,
          20,
          20.5,
          21,
          21.5,
          22,
          22.5,
          23,
          23.5,
          24,
          24.5,
          25,
          25.5,
          26
         ],
         "y": [
          0.8975140133952841,
          1.193857624074246,
          1.5750406785273618,
          1.872712674900212,
          2.1796474039821323,
          2.471083666528262,
          2.79431070373497,
          3.0083207311893734,
          3.2540711325878213,
          3.4798434592520078,
          3.656250399038141,
          3.8817130232450037,
          4.076543337951977,
          4.22033079161781,
          4.352036191127384,
          4.486544588554109,
          4.587907613268483,
          4.663953098000073,
          4.69610587080127,
          4.710713178511705,
          4.738867248332834,
          4.928472994544508,
          5.33082226139534,
          5.382521987495759,
          5.463427825344391,
          5.519714061502334,
          5.5750998027986665,
          5.6633621194221995,
          5.674433382705679,
          5.716564734153673,
          5.7903746000884215,
          5.8297101392990935,
          5.8507473934286125,
          5.902296980536459,
          5.916501958949771,
          5.929748893333597,
          5.949503086392305,
          5.95617503285073,
          5.966130672483416,
          5.951192774131808,
          5.939830492761677,
          5.978837053209274,
          6.0016907895611205,
          5.996086220867181,
          5.945526075708729,
          5.982158396770876,
          5.964655314069445,
          5.9602422029392255,
          5.955634185953151,
          5.912715538369984,
          5.878122555322385,
          5.904780645931895
         ]
        },
        {
         "marker": {
          "color": "red",
          "size": 5
         },
         "mode": "lines",
         "name": "Steepened Yield Curve",
         "type": "scatter",
         "x": [
          0.5,
          1,
          1.5,
          2,
          2.5,
          3,
          3.5,
          4,
          4.5,
          5,
          5.5,
          6,
          6.5,
          7,
          7.5,
          8,
          8.5,
          9,
          9.5,
          10,
          10.5,
          11,
          11.5,
          12,
          12.5,
          13,
          13.5,
          14,
          14.5,
          15,
          15.5,
          16,
          16.5,
          17,
          17.5,
          18,
          18.5,
          19,
          19.5,
          20,
          20.5,
          21,
          21.5,
          22,
          22.5,
          23,
          23.5,
          24,
          24.5,
          25,
          25.5,
          26
         ],
         "y": [
          0.5784841064812491,
          0.8989243557893039,
          0.8615085214254051,
          1.5193096342130774,
          1.8024589607540595,
          2.301196687146308,
          2.4153796715710727,
          2.7214570317680584,
          2.676824915626542,
          3.032042026022136,
          3.357258034817872,
          3.8592222225507857,
          3.9829199831261626,
          3.63813707132601,
          4.240068664730458,
          4.646729298427797,
          4.430183699273031,
          4.403249263074757,
          4.817677046447426,
          4.596152680878829,
          4.598497934325683,
          4.607026698319981,
          5.24137447382734,
          5.669612531223296,
          5.542957801520098,
          5.849087079774596,
          5.936925712519351,
          5.35700574891756,
          5.451621865382119,
          5.652385442941545,
          5.868417216757843,
          5.702933187967194,
          5.9989970547197045,
          6.106115292072131,
          5.93208947425913,
          5.789338345778271,
          6.347052431344902,
          6.339799081754438,
          6.434030635844837,
          5.923649119048032,
          6.340357821575296,
          6.285097979649169,
          6.194532801096825,
          6.42952302037463,
          6.601406064757283,
          6.47127744076243,
          6.013671375158633,
          5.862430009215499,
          6.0902401188305175,
          6.363701404724967,
          6.154998917181288,
          6.357661939902441
         ]
        }
       ],
       "layout": {
        "font": {
         "color": "Black",
         "family": "Time New Roman",
         "size": 15
        },
        "height": 500,
        "legend": {
         "bgcolor": "rgba(255,255,255,0)",
         "xanchor": "left",
         "yanchor": "top"
        },
        "plot_bgcolor": "rgba(255,255,255,1)",
        "template": {
         "data": {
          "bar": [
           {
            "error_x": {
             "color": "#2a3f5f"
            },
            "error_y": {
             "color": "#2a3f5f"
            },
            "marker": {
             "line": {
              "color": "#E5ECF6",
              "width": 0.5
             },
             "pattern": {
              "fillmode": "overlay",
              "size": 10,
              "solidity": 0.2
             }
            },
            "type": "bar"
           }
          ],
          "barpolar": [
           {
            "marker": {
             "line": {
              "color": "#E5ECF6",
              "width": 0.5
             },
             "pattern": {
              "fillmode": "overlay",
              "size": 10,
              "solidity": 0.2
             }
            },
            "type": "barpolar"
           }
          ],
          "carpet": [
           {
            "aaxis": {
             "endlinecolor": "#2a3f5f",
             "gridcolor": "white",
             "linecolor": "white",
             "minorgridcolor": "white",
             "startlinecolor": "#2a3f5f"
            },
            "baxis": {
             "endlinecolor": "#2a3f5f",
             "gridcolor": "white",
             "linecolor": "white",
             "minorgridcolor": "white",
             "startlinecolor": "#2a3f5f"
            },
            "type": "carpet"
           }
          ],
          "choropleth": [
           {
            "colorbar": {
             "outlinewidth": 0,
             "ticks": ""
            },
            "type": "choropleth"
           }
          ],
          "contour": [
           {
            "colorbar": {
             "outlinewidth": 0,
             "ticks": ""
            },
            "colorscale": [
             [
              0,
              "#0d0887"
             ],
             [
              0.1111111111111111,
              "#46039f"
             ],
             [
              0.2222222222222222,
              "#7201a8"
             ],
             [
              0.3333333333333333,
              "#9c179e"
             ],
             [
              0.4444444444444444,
              "#bd3786"
             ],
             [
              0.5555555555555556,
              "#d8576b"
             ],
             [
              0.6666666666666666,
              "#ed7953"
             ],
             [
              0.7777777777777778,
              "#fb9f3a"
             ],
             [
              0.8888888888888888,
              "#fdca26"
             ],
             [
              1,
              "#f0f921"
             ]
            ],
            "type": "contour"
           }
          ],
          "contourcarpet": [
           {
            "colorbar": {
             "outlinewidth": 0,
             "ticks": ""
            },
            "type": "contourcarpet"
           }
          ],
          "heatmap": [
           {
            "colorbar": {
             "outlinewidth": 0,
             "ticks": ""
            },
            "colorscale": [
             [
              0,
              "#0d0887"
             ],
             [
              0.1111111111111111,
              "#46039f"
             ],
             [
              0.2222222222222222,
              "#7201a8"
             ],
             [
              0.3333333333333333,
              "#9c179e"
             ],
             [
              0.4444444444444444,
              "#bd3786"
             ],
             [
              0.5555555555555556,
              "#d8576b"
             ],
             [
              0.6666666666666666,
              "#ed7953"
             ],
             [
              0.7777777777777778,
              "#fb9f3a"
             ],
             [
              0.8888888888888888,
              "#fdca26"
             ],
             [
              1,
              "#f0f921"
             ]
            ],
            "type": "heatmap"
           }
          ],
          "heatmapgl": [
           {
            "colorbar": {
             "outlinewidth": 0,
             "ticks": ""
            },
            "colorscale": [
             [
              0,
              "#0d0887"
             ],
             [
              0.1111111111111111,
              "#46039f"
             ],
             [
              0.2222222222222222,
              "#7201a8"
             ],
             [
              0.3333333333333333,
              "#9c179e"
             ],
             [
              0.4444444444444444,
              "#bd3786"
             ],
             [
              0.5555555555555556,
              "#d8576b"
             ],
             [
              0.6666666666666666,
              "#ed7953"
             ],
             [
              0.7777777777777778,
              "#fb9f3a"
             ],
             [
              0.8888888888888888,
              "#fdca26"
             ],
             [
              1,
              "#f0f921"
             ]
            ],
            "type": "heatmapgl"
           }
          ],
          "histogram": [
           {
            "marker": {
             "pattern": {
              "fillmode": "overlay",
              "size": 10,
              "solidity": 0.2
             }
            },
            "type": "histogram"
           }
          ],
          "histogram2d": [
           {
            "colorbar": {
             "outlinewidth": 0,
             "ticks": ""
            },
            "colorscale": [
             [
              0,
              "#0d0887"
             ],
             [
              0.1111111111111111,
              "#46039f"
             ],
             [
              0.2222222222222222,
              "#7201a8"
             ],
             [
              0.3333333333333333,
              "#9c179e"
             ],
             [
              0.4444444444444444,
              "#bd3786"
             ],
             [
              0.5555555555555556,
              "#d8576b"
             ],
             [
              0.6666666666666666,
              "#ed7953"
             ],
             [
              0.7777777777777778,
              "#fb9f3a"
             ],
             [
              0.8888888888888888,
              "#fdca26"
             ],
             [
              1,
              "#f0f921"
             ]
            ],
            "type": "histogram2d"
           }
          ],
          "histogram2dcontour": [
           {
            "colorbar": {
             "outlinewidth": 0,
             "ticks": ""
            },
            "colorscale": [
             [
              0,
              "#0d0887"
             ],
             [
              0.1111111111111111,
              "#46039f"
             ],
             [
              0.2222222222222222,
              "#7201a8"
             ],
             [
              0.3333333333333333,
              "#9c179e"
             ],
             [
              0.4444444444444444,
              "#bd3786"
             ],
             [
              0.5555555555555556,
              "#d8576b"
             ],
             [
              0.6666666666666666,
              "#ed7953"
             ],
             [
              0.7777777777777778,
              "#fb9f3a"
             ],
             [
              0.8888888888888888,
              "#fdca26"
             ],
             [
              1,
              "#f0f921"
             ]
            ],
            "type": "histogram2dcontour"
           }
          ],
          "mesh3d": [
           {
            "colorbar": {
             "outlinewidth": 0,
             "ticks": ""
            },
            "type": "mesh3d"
           }
          ],
          "parcoords": [
           {
            "line": {
             "colorbar": {
              "outlinewidth": 0,
              "ticks": ""
             }
            },
            "type": "parcoords"
           }
          ],
          "pie": [
           {
            "automargin": true,
            "type": "pie"
           }
          ],
          "scatter": [
           {
            "fillpattern": {
             "fillmode": "overlay",
             "size": 10,
             "solidity": 0.2
            },
            "type": "scatter"
           }
          ],
          "scatter3d": [
           {
            "line": {
             "colorbar": {
              "outlinewidth": 0,
              "ticks": ""
             }
            },
            "marker": {
             "colorbar": {
              "outlinewidth": 0,
              "ticks": ""
             }
            },
            "type": "scatter3d"
           }
          ],
          "scattercarpet": [
           {
            "marker": {
             "colorbar": {
              "outlinewidth": 0,
              "ticks": ""
             }
            },
            "type": "scattercarpet"
           }
          ],
          "scattergeo": [
           {
            "marker": {
             "colorbar": {
              "outlinewidth": 0,
              "ticks": ""
             }
            },
            "type": "scattergeo"
           }
          ],
          "scattergl": [
           {
            "marker": {
             "colorbar": {
              "outlinewidth": 0,
              "ticks": ""
             }
            },
            "type": "scattergl"
           }
          ],
          "scattermapbox": [
           {
            "marker": {
             "colorbar": {
              "outlinewidth": 0,
              "ticks": ""
             }
            },
            "type": "scattermapbox"
           }
          ],
          "scatterpolar": [
           {
            "marker": {
             "colorbar": {
              "outlinewidth": 0,
              "ticks": ""
             }
            },
            "type": "scatterpolar"
           }
          ],
          "scatterpolargl": [
           {
            "marker": {
             "colorbar": {
              "outlinewidth": 0,
              "ticks": ""
             }
            },
            "type": "scatterpolargl"
           }
          ],
          "scatterternary": [
           {
            "marker": {
             "colorbar": {
              "outlinewidth": 0,
              "ticks": ""
             }
            },
            "type": "scatterternary"
           }
          ],
          "surface": [
           {
            "colorbar": {
             "outlinewidth": 0,
             "ticks": ""
            },
            "colorscale": [
             [
              0,
              "#0d0887"
             ],
             [
              0.1111111111111111,
              "#46039f"
             ],
             [
              0.2222222222222222,
              "#7201a8"
             ],
             [
              0.3333333333333333,
              "#9c179e"
             ],
             [
              0.4444444444444444,
              "#bd3786"
             ],
             [
              0.5555555555555556,
              "#d8576b"
             ],
             [
              0.6666666666666666,
              "#ed7953"
             ],
             [
              0.7777777777777778,
              "#fb9f3a"
             ],
             [
              0.8888888888888888,
              "#fdca26"
             ],
             [
              1,
              "#f0f921"
             ]
            ],
            "type": "surface"
           }
          ],
          "table": [
           {
            "cells": {
             "fill": {
              "color": "#EBF0F8"
             },
             "line": {
              "color": "white"
             }
            },
            "header": {
             "fill": {
              "color": "#C8D4E3"
             },
             "line": {
              "color": "white"
             }
            },
            "type": "table"
           }
          ]
         },
         "layout": {
          "annotationdefaults": {
           "arrowcolor": "#2a3f5f",
           "arrowhead": 0,
           "arrowwidth": 1
          },
          "autotypenumbers": "strict",
          "coloraxis": {
           "colorbar": {
            "outlinewidth": 0,
            "ticks": ""
           }
          },
          "colorscale": {
           "diverging": [
            [
             0,
             "#8e0152"
            ],
            [
             0.1,
             "#c51b7d"
            ],
            [
             0.2,
             "#de77ae"
            ],
            [
             0.3,
             "#f1b6da"
            ],
            [
             0.4,
             "#fde0ef"
            ],
            [
             0.5,
             "#f7f7f7"
            ],
            [
             0.6,
             "#e6f5d0"
            ],
            [
             0.7,
             "#b8e186"
            ],
            [
             0.8,
             "#7fbc41"
            ],
            [
             0.9,
             "#4d9221"
            ],
            [
             1,
             "#276419"
            ]
           ],
           "sequential": [
            [
             0,
             "#0d0887"
            ],
            [
             0.1111111111111111,
             "#46039f"
            ],
            [
             0.2222222222222222,
             "#7201a8"
            ],
            [
             0.3333333333333333,
             "#9c179e"
            ],
            [
             0.4444444444444444,
             "#bd3786"
            ],
            [
             0.5555555555555556,
             "#d8576b"
            ],
            [
             0.6666666666666666,
             "#ed7953"
            ],
            [
             0.7777777777777778,
             "#fb9f3a"
            ],
            [
             0.8888888888888888,
             "#fdca26"
            ],
            [
             1,
             "#f0f921"
            ]
           ],
           "sequentialminus": [
            [
             0,
             "#0d0887"
            ],
            [
             0.1111111111111111,
             "#46039f"
            ],
            [
             0.2222222222222222,
             "#7201a8"
            ],
            [
             0.3333333333333333,
             "#9c179e"
            ],
            [
             0.4444444444444444,
             "#bd3786"
            ],
            [
             0.5555555555555556,
             "#d8576b"
            ],
            [
             0.6666666666666666,
             "#ed7953"
            ],
            [
             0.7777777777777778,
             "#fb9f3a"
            ],
            [
             0.8888888888888888,
             "#fdca26"
            ],
            [
             1,
             "#f0f921"
            ]
           ]
          },
          "colorway": [
           "#636efa",
           "#EF553B",
           "#00cc96",
           "#ab63fa",
           "#FFA15A",
           "#19d3f3",
           "#FF6692",
           "#B6E880",
           "#FF97FF",
           "#FECB52"
          ],
          "font": {
           "color": "#2a3f5f"
          },
          "geo": {
           "bgcolor": "white",
           "lakecolor": "white",
           "landcolor": "#E5ECF6",
           "showlakes": true,
           "showland": true,
           "subunitcolor": "white"
          },
          "hoverlabel": {
           "align": "left"
          },
          "hovermode": "closest",
          "mapbox": {
           "style": "light"
          },
          "paper_bgcolor": "white",
          "plot_bgcolor": "#E5ECF6",
          "polar": {
           "angularaxis": {
            "gridcolor": "white",
            "linecolor": "white",
            "ticks": ""
           },
           "bgcolor": "#E5ECF6",
           "radialaxis": {
            "gridcolor": "white",
            "linecolor": "white",
            "ticks": ""
           }
          },
          "scene": {
           "xaxis": {
            "backgroundcolor": "#E5ECF6",
            "gridcolor": "white",
            "gridwidth": 2,
            "linecolor": "white",
            "showbackground": true,
            "ticks": "",
            "zerolinecolor": "white"
           },
           "yaxis": {
            "backgroundcolor": "#E5ECF6",
            "gridcolor": "white",
            "gridwidth": 2,
            "linecolor": "white",
            "showbackground": true,
            "ticks": "",
            "zerolinecolor": "white"
           },
           "zaxis": {
            "backgroundcolor": "#E5ECF6",
            "gridcolor": "white",
            "gridwidth": 2,
            "linecolor": "white",
            "showbackground": true,
            "ticks": "",
            "zerolinecolor": "white"
           }
          },
          "shapedefaults": {
           "line": {
            "color": "#2a3f5f"
           }
          },
          "ternary": {
           "aaxis": {
            "gridcolor": "white",
            "linecolor": "white",
            "ticks": ""
           },
           "baxis": {
            "gridcolor": "white",
            "linecolor": "white",
            "ticks": ""
           },
           "bgcolor": "#E5ECF6",
           "caxis": {
            "gridcolor": "white",
            "linecolor": "white",
            "ticks": ""
           }
          },
          "title": {
           "x": 0.05
          },
          "xaxis": {
           "automargin": true,
           "gridcolor": "white",
           "linecolor": "white",
           "ticks": "",
           "title": {
            "standoff": 15
           },
           "zerolinecolor": "white",
           "zerolinewidth": 2
          },
          "yaxis": {
           "automargin": true,
           "gridcolor": "white",
           "linecolor": "white",
           "ticks": "",
           "title": {
            "standoff": 15
           },
           "zerolinecolor": "white",
           "zerolinewidth": 2
          }
         }
        },
        "title": {
         "text": "Steepened Yield Curve vs Original Zero-Coupon Yield Curve",
         "x": 0.5
        },
        "width": 900,
        "xaxis": {
         "linecolor": "black",
         "linewidth": 1,
         "range": [
          0,
          27
         ],
         "showline": true,
         "ticklen": 5,
         "ticks": "inside",
         "tickson": "boundaries",
         "tickvals": [
          1,
          2,
          3,
          4,
          5,
          6,
          7,
          8,
          9,
          10,
          15,
          20,
          25
         ],
         "title": {
          "text": "Time to Maturity (Years)"
         }
        },
        "yaxis": {
         "gridcolor": "rgba(38,38,38,0.15)",
         "linecolor": "Grey",
         "linewidth": 1,
         "showline": true,
         "title": {
          "text": "Yield (%)"
         }
        }
       }
      }
     },
     "metadata": {},
     "output_type": "display_data"
    }
   ],
   "source": [
    "gr.Graph_EstimationVSZero(Yield,Yield[\"Zero-Coupon Yield\"],Yield[\"Time to Maturity\"],df[\"Steepened Yield\"]*100,'Steepened Yield Curve vs Original Zero-Coupon Yield Curve','Steepened Yield Curve')"
   ]
  },
  {
   "cell_type": "code",
   "execution_count": 46,
   "id": "8a967531",
   "metadata": {},
   "outputs": [
    {
     "data": {
      "application/vnd.plotly.v1+json": {
       "config": {
        "plotlyServerURL": "https://plot.ly"
       },
       "data": [
        {
         "marker": {
          "color": "rgb(0, 71, 102)",
          "size": 8
         },
         "mode": "lines",
         "name": "Deterministic Component",
         "type": "scatter",
         "x": [
          0.5,
          1,
          1.5,
          2,
          2.5,
          3,
          3.5,
          4,
          4.5,
          5,
          5.5,
          6,
          6.5,
          7,
          7.5,
          8,
          8.5,
          9,
          9.5,
          10,
          10.5,
          11,
          11.5,
          12,
          12.5,
          13,
          13.5,
          14,
          14.5,
          15,
          15.5,
          16,
          16.5,
          17,
          17.5,
          18,
          18.5,
          19,
          19.5,
          20,
          20.5,
          21,
          21.5,
          22,
          22.5,
          23,
          23.5,
          24,
          24.5,
          25,
          25.5,
          26
         ],
         "y": [
          0.41638193792358597,
          0.7315934731308498,
          1.1316444521122675,
          1.4481843730134196,
          1.7739870266236417,
          2.0842912136980734,
          2.4263861754330835,
          2.6592641274157884,
          2.9238824533425385,
          3.168522704535027,
          3.363797568849462,
          3.6081281175846263,
          3.821826356819901,
          3.9844817350140365,
          4.135055059051913,
          4.288431381006939,
          4.408662330249615,
          4.503575739509507,
          4.554596436839006,
          4.588071669077743,
          4.635093663427174,
          4.843567334167149,
          5.2647845255462835,
          5.335352176175004,
          5.435125938551939,
          5.510280099238184,
          5.584533765062817,
          5.691664006214652,
          5.721603194026434,
          5.78260247000273,
          5.875280260465781,
          5.933483724204754,
          5.973388902862575,
          6.043806414498723,
          6.076879317440338,
          6.108994176352465,
          6.147616293939475,
          6.173156164926201,
          6.201979729087189,
          6.2059097552638836,
          6.213415398422055,
          6.2712898833979525,
          6.313011544278102,
          6.326274900112463,
          6.294582679482313,
          6.350082925072763,
          6.351447766899633,
          6.365902580297717,
          6.380162487839944,
          6.356111764785077,
          6.3403867062657815,
          6.385912721403593
         ]
        },
        {
         "marker": {
          "color": "rgb(255, 0, 0)",
          "size": 8
         },
         "mode": "lines",
         "name": "Stochastic Component (ε)",
         "type": "scatter",
         "x": [
          0.5,
          1,
          1.5,
          2,
          2.5,
          3,
          3.5,
          4,
          4.5,
          5,
          5.5,
          6,
          6.5,
          7,
          7.5,
          8,
          8.5,
          9,
          9.5,
          10,
          10.5,
          11,
          11.5,
          12,
          12.5,
          13,
          13.5,
          14,
          14.5,
          15,
          15.5,
          16,
          16.5,
          17,
          17.5,
          18,
          18.5,
          19,
          19.5,
          20,
          20.5,
          21,
          21.5,
          22,
          22.5,
          23,
          23.5,
          24,
          24.5,
          25,
          25.5,
          26
         ],
         "y": [
          0.16210216855766318,
          0.16733088265845403,
          -0.2701359306868623,
          0.07112526119965773,
          0.028471934130417764,
          0.21690547344823458,
          -0.011006503862010821,
          0.06219290435226978,
          -0.2470575377159961,
          -0.13648067851289059,
          -0.006539534031590022,
          0.2510941049661598,
          0.16109362630626142,
          -0.3463446636880264,
          0.10501360567854495,
          0.3582979174208572,
          0.02152136902341641,
          -0.1003264764347496,
          0.2630806096084197,
          0.0080810118010858,
          -0.03659572910149156,
          -0.2365406358471691,
          -0.023410051718944582,
          0.334260355048292,
          0.10783186296815918,
          0.3388069805364125,
          0.35239194745653396,
          -0.3346582572970919,
          -0.2699813286443152,
          -0.13021702706118435,
          -0.006863043707937037,
          -0.23055053623755994,
          0.025608151857130182,
          0.062308877573407515,
          -0.14478984318120755,
          -0.3196558305741949,
          0.19943613740542693,
          0.1666429168282367,
          0.23205090675764728,
          -0.28226063621585157,
          0.12694242315324125,
          0.013808096251216047,
          -0.1184787431812774,
          0.1032481202621662,
          0.3068233852749691,
          0.12119451568966616,
          -0.3377763917409998,
          -0.5034725710822178,
          -0.289922369009426,
          0.007589639939889888,
          -0.1853877890844927,
          -0.02825078150115244
         ]
        }
       ],
       "layout": {
        "font": {
         "color": "Black",
         "family": "Time New Roman",
         "size": 15
        },
        "height": 500,
        "legend": {
         "bgcolor": "rgba(0, 0, 0, 0)"
        },
        "plot_bgcolor": "rgba(0,0,0,0)",
        "showlegend": true,
        "template": {
         "data": {
          "bar": [
           {
            "error_x": {
             "color": "#2a3f5f"
            },
            "error_y": {
             "color": "#2a3f5f"
            },
            "marker": {
             "line": {
              "color": "#E5ECF6",
              "width": 0.5
             },
             "pattern": {
              "fillmode": "overlay",
              "size": 10,
              "solidity": 0.2
             }
            },
            "type": "bar"
           }
          ],
          "barpolar": [
           {
            "marker": {
             "line": {
              "color": "#E5ECF6",
              "width": 0.5
             },
             "pattern": {
              "fillmode": "overlay",
              "size": 10,
              "solidity": 0.2
             }
            },
            "type": "barpolar"
           }
          ],
          "carpet": [
           {
            "aaxis": {
             "endlinecolor": "#2a3f5f",
             "gridcolor": "white",
             "linecolor": "white",
             "minorgridcolor": "white",
             "startlinecolor": "#2a3f5f"
            },
            "baxis": {
             "endlinecolor": "#2a3f5f",
             "gridcolor": "white",
             "linecolor": "white",
             "minorgridcolor": "white",
             "startlinecolor": "#2a3f5f"
            },
            "type": "carpet"
           }
          ],
          "choropleth": [
           {
            "colorbar": {
             "outlinewidth": 0,
             "ticks": ""
            },
            "type": "choropleth"
           }
          ],
          "contour": [
           {
            "colorbar": {
             "outlinewidth": 0,
             "ticks": ""
            },
            "colorscale": [
             [
              0,
              "#0d0887"
             ],
             [
              0.1111111111111111,
              "#46039f"
             ],
             [
              0.2222222222222222,
              "#7201a8"
             ],
             [
              0.3333333333333333,
              "#9c179e"
             ],
             [
              0.4444444444444444,
              "#bd3786"
             ],
             [
              0.5555555555555556,
              "#d8576b"
             ],
             [
              0.6666666666666666,
              "#ed7953"
             ],
             [
              0.7777777777777778,
              "#fb9f3a"
             ],
             [
              0.8888888888888888,
              "#fdca26"
             ],
             [
              1,
              "#f0f921"
             ]
            ],
            "type": "contour"
           }
          ],
          "contourcarpet": [
           {
            "colorbar": {
             "outlinewidth": 0,
             "ticks": ""
            },
            "type": "contourcarpet"
           }
          ],
          "heatmap": [
           {
            "colorbar": {
             "outlinewidth": 0,
             "ticks": ""
            },
            "colorscale": [
             [
              0,
              "#0d0887"
             ],
             [
              0.1111111111111111,
              "#46039f"
             ],
             [
              0.2222222222222222,
              "#7201a8"
             ],
             [
              0.3333333333333333,
              "#9c179e"
             ],
             [
              0.4444444444444444,
              "#bd3786"
             ],
             [
              0.5555555555555556,
              "#d8576b"
             ],
             [
              0.6666666666666666,
              "#ed7953"
             ],
             [
              0.7777777777777778,
              "#fb9f3a"
             ],
             [
              0.8888888888888888,
              "#fdca26"
             ],
             [
              1,
              "#f0f921"
             ]
            ],
            "type": "heatmap"
           }
          ],
          "heatmapgl": [
           {
            "colorbar": {
             "outlinewidth": 0,
             "ticks": ""
            },
            "colorscale": [
             [
              0,
              "#0d0887"
             ],
             [
              0.1111111111111111,
              "#46039f"
             ],
             [
              0.2222222222222222,
              "#7201a8"
             ],
             [
              0.3333333333333333,
              "#9c179e"
             ],
             [
              0.4444444444444444,
              "#bd3786"
             ],
             [
              0.5555555555555556,
              "#d8576b"
             ],
             [
              0.6666666666666666,
              "#ed7953"
             ],
             [
              0.7777777777777778,
              "#fb9f3a"
             ],
             [
              0.8888888888888888,
              "#fdca26"
             ],
             [
              1,
              "#f0f921"
             ]
            ],
            "type": "heatmapgl"
           }
          ],
          "histogram": [
           {
            "marker": {
             "pattern": {
              "fillmode": "overlay",
              "size": 10,
              "solidity": 0.2
             }
            },
            "type": "histogram"
           }
          ],
          "histogram2d": [
           {
            "colorbar": {
             "outlinewidth": 0,
             "ticks": ""
            },
            "colorscale": [
             [
              0,
              "#0d0887"
             ],
             [
              0.1111111111111111,
              "#46039f"
             ],
             [
              0.2222222222222222,
              "#7201a8"
             ],
             [
              0.3333333333333333,
              "#9c179e"
             ],
             [
              0.4444444444444444,
              "#bd3786"
             ],
             [
              0.5555555555555556,
              "#d8576b"
             ],
             [
              0.6666666666666666,
              "#ed7953"
             ],
             [
              0.7777777777777778,
              "#fb9f3a"
             ],
             [
              0.8888888888888888,
              "#fdca26"
             ],
             [
              1,
              "#f0f921"
             ]
            ],
            "type": "histogram2d"
           }
          ],
          "histogram2dcontour": [
           {
            "colorbar": {
             "outlinewidth": 0,
             "ticks": ""
            },
            "colorscale": [
             [
              0,
              "#0d0887"
             ],
             [
              0.1111111111111111,
              "#46039f"
             ],
             [
              0.2222222222222222,
              "#7201a8"
             ],
             [
              0.3333333333333333,
              "#9c179e"
             ],
             [
              0.4444444444444444,
              "#bd3786"
             ],
             [
              0.5555555555555556,
              "#d8576b"
             ],
             [
              0.6666666666666666,
              "#ed7953"
             ],
             [
              0.7777777777777778,
              "#fb9f3a"
             ],
             [
              0.8888888888888888,
              "#fdca26"
             ],
             [
              1,
              "#f0f921"
             ]
            ],
            "type": "histogram2dcontour"
           }
          ],
          "mesh3d": [
           {
            "colorbar": {
             "outlinewidth": 0,
             "ticks": ""
            },
            "type": "mesh3d"
           }
          ],
          "parcoords": [
           {
            "line": {
             "colorbar": {
              "outlinewidth": 0,
              "ticks": ""
             }
            },
            "type": "parcoords"
           }
          ],
          "pie": [
           {
            "automargin": true,
            "type": "pie"
           }
          ],
          "scatter": [
           {
            "fillpattern": {
             "fillmode": "overlay",
             "size": 10,
             "solidity": 0.2
            },
            "type": "scatter"
           }
          ],
          "scatter3d": [
           {
            "line": {
             "colorbar": {
              "outlinewidth": 0,
              "ticks": ""
             }
            },
            "marker": {
             "colorbar": {
              "outlinewidth": 0,
              "ticks": ""
             }
            },
            "type": "scatter3d"
           }
          ],
          "scattercarpet": [
           {
            "marker": {
             "colorbar": {
              "outlinewidth": 0,
              "ticks": ""
             }
            },
            "type": "scattercarpet"
           }
          ],
          "scattergeo": [
           {
            "marker": {
             "colorbar": {
              "outlinewidth": 0,
              "ticks": ""
             }
            },
            "type": "scattergeo"
           }
          ],
          "scattergl": [
           {
            "marker": {
             "colorbar": {
              "outlinewidth": 0,
              "ticks": ""
             }
            },
            "type": "scattergl"
           }
          ],
          "scattermapbox": [
           {
            "marker": {
             "colorbar": {
              "outlinewidth": 0,
              "ticks": ""
             }
            },
            "type": "scattermapbox"
           }
          ],
          "scatterpolar": [
           {
            "marker": {
             "colorbar": {
              "outlinewidth": 0,
              "ticks": ""
             }
            },
            "type": "scatterpolar"
           }
          ],
          "scatterpolargl": [
           {
            "marker": {
             "colorbar": {
              "outlinewidth": 0,
              "ticks": ""
             }
            },
            "type": "scatterpolargl"
           }
          ],
          "scatterternary": [
           {
            "marker": {
             "colorbar": {
              "outlinewidth": 0,
              "ticks": ""
             }
            },
            "type": "scatterternary"
           }
          ],
          "surface": [
           {
            "colorbar": {
             "outlinewidth": 0,
             "ticks": ""
            },
            "colorscale": [
             [
              0,
              "#0d0887"
             ],
             [
              0.1111111111111111,
              "#46039f"
             ],
             [
              0.2222222222222222,
              "#7201a8"
             ],
             [
              0.3333333333333333,
              "#9c179e"
             ],
             [
              0.4444444444444444,
              "#bd3786"
             ],
             [
              0.5555555555555556,
              "#d8576b"
             ],
             [
              0.6666666666666666,
              "#ed7953"
             ],
             [
              0.7777777777777778,
              "#fb9f3a"
             ],
             [
              0.8888888888888888,
              "#fdca26"
             ],
             [
              1,
              "#f0f921"
             ]
            ],
            "type": "surface"
           }
          ],
          "table": [
           {
            "cells": {
             "fill": {
              "color": "#EBF0F8"
             },
             "line": {
              "color": "white"
             }
            },
            "header": {
             "fill": {
              "color": "#C8D4E3"
             },
             "line": {
              "color": "white"
             }
            },
            "type": "table"
           }
          ]
         },
         "layout": {
          "annotationdefaults": {
           "arrowcolor": "#2a3f5f",
           "arrowhead": 0,
           "arrowwidth": 1
          },
          "autotypenumbers": "strict",
          "coloraxis": {
           "colorbar": {
            "outlinewidth": 0,
            "ticks": ""
           }
          },
          "colorscale": {
           "diverging": [
            [
             0,
             "#8e0152"
            ],
            [
             0.1,
             "#c51b7d"
            ],
            [
             0.2,
             "#de77ae"
            ],
            [
             0.3,
             "#f1b6da"
            ],
            [
             0.4,
             "#fde0ef"
            ],
            [
             0.5,
             "#f7f7f7"
            ],
            [
             0.6,
             "#e6f5d0"
            ],
            [
             0.7,
             "#b8e186"
            ],
            [
             0.8,
             "#7fbc41"
            ],
            [
             0.9,
             "#4d9221"
            ],
            [
             1,
             "#276419"
            ]
           ],
           "sequential": [
            [
             0,
             "#0d0887"
            ],
            [
             0.1111111111111111,
             "#46039f"
            ],
            [
             0.2222222222222222,
             "#7201a8"
            ],
            [
             0.3333333333333333,
             "#9c179e"
            ],
            [
             0.4444444444444444,
             "#bd3786"
            ],
            [
             0.5555555555555556,
             "#d8576b"
            ],
            [
             0.6666666666666666,
             "#ed7953"
            ],
            [
             0.7777777777777778,
             "#fb9f3a"
            ],
            [
             0.8888888888888888,
             "#fdca26"
            ],
            [
             1,
             "#f0f921"
            ]
           ],
           "sequentialminus": [
            [
             0,
             "#0d0887"
            ],
            [
             0.1111111111111111,
             "#46039f"
            ],
            [
             0.2222222222222222,
             "#7201a8"
            ],
            [
             0.3333333333333333,
             "#9c179e"
            ],
            [
             0.4444444444444444,
             "#bd3786"
            ],
            [
             0.5555555555555556,
             "#d8576b"
            ],
            [
             0.6666666666666666,
             "#ed7953"
            ],
            [
             0.7777777777777778,
             "#fb9f3a"
            ],
            [
             0.8888888888888888,
             "#fdca26"
            ],
            [
             1,
             "#f0f921"
            ]
           ]
          },
          "colorway": [
           "#636efa",
           "#EF553B",
           "#00cc96",
           "#ab63fa",
           "#FFA15A",
           "#19d3f3",
           "#FF6692",
           "#B6E880",
           "#FF97FF",
           "#FECB52"
          ],
          "font": {
           "color": "#2a3f5f"
          },
          "geo": {
           "bgcolor": "white",
           "lakecolor": "white",
           "landcolor": "#E5ECF6",
           "showlakes": true,
           "showland": true,
           "subunitcolor": "white"
          },
          "hoverlabel": {
           "align": "left"
          },
          "hovermode": "closest",
          "mapbox": {
           "style": "light"
          },
          "paper_bgcolor": "white",
          "plot_bgcolor": "#E5ECF6",
          "polar": {
           "angularaxis": {
            "gridcolor": "white",
            "linecolor": "white",
            "ticks": ""
           },
           "bgcolor": "#E5ECF6",
           "radialaxis": {
            "gridcolor": "white",
            "linecolor": "white",
            "ticks": ""
           }
          },
          "scene": {
           "xaxis": {
            "backgroundcolor": "#E5ECF6",
            "gridcolor": "white",
            "gridwidth": 2,
            "linecolor": "white",
            "showbackground": true,
            "ticks": "",
            "zerolinecolor": "white"
           },
           "yaxis": {
            "backgroundcolor": "#E5ECF6",
            "gridcolor": "white",
            "gridwidth": 2,
            "linecolor": "white",
            "showbackground": true,
            "ticks": "",
            "zerolinecolor": "white"
           },
           "zaxis": {
            "backgroundcolor": "#E5ECF6",
            "gridcolor": "white",
            "gridwidth": 2,
            "linecolor": "white",
            "showbackground": true,
            "ticks": "",
            "zerolinecolor": "white"
           }
          },
          "shapedefaults": {
           "line": {
            "color": "#2a3f5f"
           }
          },
          "ternary": {
           "aaxis": {
            "gridcolor": "white",
            "linecolor": "white",
            "ticks": ""
           },
           "baxis": {
            "gridcolor": "white",
            "linecolor": "white",
            "ticks": ""
           },
           "bgcolor": "#E5ECF6",
           "caxis": {
            "gridcolor": "white",
            "linecolor": "white",
            "ticks": ""
           }
          },
          "title": {
           "x": 0.05
          },
          "xaxis": {
           "automargin": true,
           "gridcolor": "white",
           "linecolor": "white",
           "ticks": "",
           "title": {
            "standoff": 15
           },
           "zerolinecolor": "white",
           "zerolinewidth": 2
          },
          "yaxis": {
           "automargin": true,
           "gridcolor": "white",
           "linecolor": "white",
           "ticks": "",
           "title": {
            "standoff": 15
           },
           "zerolinecolor": "white",
           "zerolinewidth": 2
          }
         }
        },
        "title": {
         "text": "Deterministic vs Stochastic Components of the Steepened Yield Curve",
         "x": 0.5
        },
        "width": 900,
        "xaxis": {
         "linecolor": "black",
         "linewidth": 1,
         "range": [
          0,
          27
         ],
         "showline": true,
         "ticklen": 5,
         "ticks": "inside",
         "tickson": "boundaries",
         "tickvals": [
          1,
          2,
          3,
          4,
          5,
          6,
          7,
          8,
          9,
          10,
          15,
          20,
          25
         ],
         "title": {
          "text": "Time to Maturity (Years)"
         }
        },
        "yaxis": {
         "gridcolor": "rgba(38,38,38,0.15)",
         "linecolor": "Grey",
         "linewidth": 1,
         "showline": true,
         "title": {
          "text": "Contribution (bps)"
         }
        }
       }
      }
     },
     "metadata": {},
     "output_type": "display_data"
    }
   ],
   "source": [
    "gr.graph_discount2(df[\"Time to Maturity\"],df[\"Deterministic Component\"] * 100,df[\"Time to Maturity\"],df[\"Stochastic Component\"] * 100,'Deterministic vs Stochastic Components of the Steepened Yield Curve','Contribution (bps)','Deterministic Component','Stochastic Component (ε)')"
   ]
  },
  {
   "cell_type": "markdown",
   "id": "7555305f89a03e66",
   "metadata": {},
   "source": [
    "#### Question 5.2"
   ]
  },
  {
   "cell_type": "code",
   "execution_count": 47,
   "id": "facd3829d35a5632",
   "metadata": {
    "ExecuteTime": {
     "end_time": "2024-10-29T10:29:31.865020Z",
     "start_time": "2024-10-29T10:29:31.551707Z"
    }
   },
   "outputs": [],
   "source": [
    "t = df['Time to Maturity'].values\n",
    "y = df[\"Steepened Yield\"].values\n",
    "\n",
    "# Model calibration\n",
    "curve, status = calibrate_nss_ols(t, y)\n",
    "assert status.success"
   ]
  },
  {
   "cell_type": "code",
   "execution_count": 48,
   "id": "1ec91b4b",
   "metadata": {
    "ExecuteTime": {
     "end_time": "2024-10-29T10:29:32.280291Z",
     "start_time": "2024-10-29T10:29:31.987134Z"
    }
   },
   "outputs": [
    {
     "name": "stdout",
     "output_type": "stream",
     "text": [
      "Nelson-Siegel-Svensson Curve Parameters:\n",
      "Beta 0    : 0.06886\n",
      "Beta 1    : -0.06603\n",
      "Beta 2    : -0.06592\n",
      "Beta 3    : 0.05366\n",
      "Tau 1     : 2.99678\n",
      "Tau 2     : 5.02365\n"
     ]
    }
   ],
   "source": [
    "print(\"Nelson-Siegel-Svensson Curve Parameters:\")\n",
    "\n",
    "print(f\"{'Beta 0':<10}: {curve.beta0:.5f}\")\n",
    "print(f\"{'Beta 1':<10}: {curve.beta1:.5f}\")\n",
    "print(f\"{'Beta 2':<10}: {curve.beta2:.5f}\")\n",
    "print(f\"{'Beta 3':<10}: {curve.beta3:.5f}\")\n",
    "print(f\"{'Tau 1':<10}: {curve.tau1:.5f}\")\n",
    "print(f\"{'Tau 2':<10}: {curve.tau2:.5f}\")"
   ]
  },
  {
   "cell_type": "code",
   "execution_count": 49,
   "id": "d1e6b053",
   "metadata": {
    "ExecuteTime": {
     "end_time": "2024-10-29T10:29:32.684887Z",
     "start_time": "2024-10-29T10:29:32.419929Z"
    }
   },
   "outputs": [],
   "source": [
    "y_model = curve\n",
    "y_model_values = y_model(t)\n",
    "\n",
    "discount_factors = np.exp(-y_model_values * t)"
   ]
  },
  {
   "cell_type": "code",
   "execution_count": 50,
   "id": "c48d874d",
   "metadata": {},
   "outputs": [
    {
     "data": {
      "application/vnd.plotly.v1+json": {
       "config": {
        "plotlyServerURL": "https://plot.ly"
       },
       "data": [
        {
         "marker": {
          "color": "rgb(0, 71, 102)",
          "size": 8
         },
         "mode": "markers",
         "name": "Zero-Coupon Yields",
         "type": "scatter",
         "x": [
          0.5,
          1,
          1.5,
          2,
          2.5,
          3,
          3.5,
          4,
          4.5,
          5,
          5.5,
          6,
          6.5,
          7,
          7.5,
          8,
          8.5,
          9,
          9.5,
          10,
          10.5,
          11,
          11.5,
          12,
          12.5,
          13,
          13.5,
          14,
          14.5,
          15,
          15.5,
          16,
          16.5,
          17,
          17.5,
          18,
          18.5,
          19,
          19.5,
          20,
          20.5,
          21,
          21.5,
          22,
          22.5,
          23,
          23.5,
          24,
          24.5,
          25,
          25.5,
          26
         ],
         "y": [
          0.8975140133952841,
          1.193857624074246,
          1.5750406785273618,
          1.872712674900212,
          2.1796474039821323,
          2.471083666528262,
          2.79431070373497,
          3.0083207311893734,
          3.2540711325878213,
          3.4798434592520078,
          3.656250399038141,
          3.8817130232450037,
          4.076543337951977,
          4.22033079161781,
          4.352036191127384,
          4.486544588554109,
          4.587907613268483,
          4.663953098000073,
          4.69610587080127,
          4.710713178511705,
          4.738867248332834,
          4.928472994544508,
          5.33082226139534,
          5.382521987495759,
          5.463427825344391,
          5.519714061502334,
          5.5750998027986665,
          5.6633621194221995,
          5.674433382705679,
          5.716564734153673,
          5.7903746000884215,
          5.8297101392990935,
          5.8507473934286125,
          5.902296980536459,
          5.916501958949771,
          5.929748893333597,
          5.949503086392305,
          5.95617503285073,
          5.966130672483416,
          5.951192774131808,
          5.939830492761677,
          5.978837053209274,
          6.0016907895611205,
          5.996086220867181,
          5.945526075708729,
          5.982158396770876,
          5.964655314069445,
          5.9602422029392255,
          5.955634185953151,
          5.912715538369984,
          5.878122555322385,
          5.904780645931895
         ]
        },
        {
         "marker": {
          "color": "red",
          "size": 5
         },
         "mode": "lines",
         "name": "NSS Model Yields",
         "type": "scatter",
         "x": [
          0.5,
          1,
          1.5,
          2,
          2.5,
          3,
          3.5,
          4,
          4.5,
          5,
          5.5,
          6,
          6.5,
          7,
          7.5,
          8,
          8.5,
          9,
          9.5,
          10,
          10.5,
          11,
          11.5,
          12,
          12.5,
          13,
          13.5,
          14,
          14.5,
          15,
          15.5,
          16,
          16.5,
          17,
          17.5,
          18,
          18.5,
          19,
          19.5,
          20,
          20.5,
          21,
          21.5,
          22,
          22.5,
          23,
          23.5,
          24,
          24.5,
          25,
          25.5,
          26
         ],
         "y": [
          0.5624259189720429,
          0.8571471080140762,
          1.159631461956141,
          1.46370397681179,
          1.7646362708497727,
          2.0588726566173676,
          2.3438038316534575,
          2.6175802615585413,
          2.8789586161833793,
          3.1271757009471157,
          3.361845233297199,
          3.582873576548052,
          3.7903911829276042,
          3.984697034118452,
          4.166213817325216,
          4.335451951760493,
          4.492980896061369,
          4.639406431327283,
          4.775352835455295,
          4.901449049180029,
          5.018318088539216,
          5.1265690872902265,
          5.226791460224754,
          5.319550767835348,
          5.405385937292821,
          5.484807556644225,
          5.558297010591826,
          5.626306268888343,
          5.6892581737289944,
          5.74754710174935,
          5.801539900366403,
          5.8515770180796505,
          5.897973764692604,
          5.941021650819452,
          5.980989767005157,
          6.018126171727246,
          6.052659264811802,
          6.084799128675031,
          6.1147388245376755,
          6.142655634553646,
          6.168712243814771,
          6.193057858579595,
          6.215829258941601,
          6.237151785597009,
          6.257140261473758,
          6.275899849807125,
          6.293526850847757,
          6.310109439809292,
          6.325728348941839,
          6.340457496784365,
          6.354364567728039,
          6.367511545033754
         ]
        }
       ],
       "layout": {
        "font": {
         "color": "Black",
         "family": "Time New Roman",
         "size": 15
        },
        "height": 500,
        "legend": {
         "bgcolor": "rgba(255,255,255,0)",
         "xanchor": "left",
         "yanchor": "top"
        },
        "plot_bgcolor": "rgba(255,255,255,1)",
        "template": {
         "data": {
          "bar": [
           {
            "error_x": {
             "color": "#2a3f5f"
            },
            "error_y": {
             "color": "#2a3f5f"
            },
            "marker": {
             "line": {
              "color": "#E5ECF6",
              "width": 0.5
             },
             "pattern": {
              "fillmode": "overlay",
              "size": 10,
              "solidity": 0.2
             }
            },
            "type": "bar"
           }
          ],
          "barpolar": [
           {
            "marker": {
             "line": {
              "color": "#E5ECF6",
              "width": 0.5
             },
             "pattern": {
              "fillmode": "overlay",
              "size": 10,
              "solidity": 0.2
             }
            },
            "type": "barpolar"
           }
          ],
          "carpet": [
           {
            "aaxis": {
             "endlinecolor": "#2a3f5f",
             "gridcolor": "white",
             "linecolor": "white",
             "minorgridcolor": "white",
             "startlinecolor": "#2a3f5f"
            },
            "baxis": {
             "endlinecolor": "#2a3f5f",
             "gridcolor": "white",
             "linecolor": "white",
             "minorgridcolor": "white",
             "startlinecolor": "#2a3f5f"
            },
            "type": "carpet"
           }
          ],
          "choropleth": [
           {
            "colorbar": {
             "outlinewidth": 0,
             "ticks": ""
            },
            "type": "choropleth"
           }
          ],
          "contour": [
           {
            "colorbar": {
             "outlinewidth": 0,
             "ticks": ""
            },
            "colorscale": [
             [
              0,
              "#0d0887"
             ],
             [
              0.1111111111111111,
              "#46039f"
             ],
             [
              0.2222222222222222,
              "#7201a8"
             ],
             [
              0.3333333333333333,
              "#9c179e"
             ],
             [
              0.4444444444444444,
              "#bd3786"
             ],
             [
              0.5555555555555556,
              "#d8576b"
             ],
             [
              0.6666666666666666,
              "#ed7953"
             ],
             [
              0.7777777777777778,
              "#fb9f3a"
             ],
             [
              0.8888888888888888,
              "#fdca26"
             ],
             [
              1,
              "#f0f921"
             ]
            ],
            "type": "contour"
           }
          ],
          "contourcarpet": [
           {
            "colorbar": {
             "outlinewidth": 0,
             "ticks": ""
            },
            "type": "contourcarpet"
           }
          ],
          "heatmap": [
           {
            "colorbar": {
             "outlinewidth": 0,
             "ticks": ""
            },
            "colorscale": [
             [
              0,
              "#0d0887"
             ],
             [
              0.1111111111111111,
              "#46039f"
             ],
             [
              0.2222222222222222,
              "#7201a8"
             ],
             [
              0.3333333333333333,
              "#9c179e"
             ],
             [
              0.4444444444444444,
              "#bd3786"
             ],
             [
              0.5555555555555556,
              "#d8576b"
             ],
             [
              0.6666666666666666,
              "#ed7953"
             ],
             [
              0.7777777777777778,
              "#fb9f3a"
             ],
             [
              0.8888888888888888,
              "#fdca26"
             ],
             [
              1,
              "#f0f921"
             ]
            ],
            "type": "heatmap"
           }
          ],
          "heatmapgl": [
           {
            "colorbar": {
             "outlinewidth": 0,
             "ticks": ""
            },
            "colorscale": [
             [
              0,
              "#0d0887"
             ],
             [
              0.1111111111111111,
              "#46039f"
             ],
             [
              0.2222222222222222,
              "#7201a8"
             ],
             [
              0.3333333333333333,
              "#9c179e"
             ],
             [
              0.4444444444444444,
              "#bd3786"
             ],
             [
              0.5555555555555556,
              "#d8576b"
             ],
             [
              0.6666666666666666,
              "#ed7953"
             ],
             [
              0.7777777777777778,
              "#fb9f3a"
             ],
             [
              0.8888888888888888,
              "#fdca26"
             ],
             [
              1,
              "#f0f921"
             ]
            ],
            "type": "heatmapgl"
           }
          ],
          "histogram": [
           {
            "marker": {
             "pattern": {
              "fillmode": "overlay",
              "size": 10,
              "solidity": 0.2
             }
            },
            "type": "histogram"
           }
          ],
          "histogram2d": [
           {
            "colorbar": {
             "outlinewidth": 0,
             "ticks": ""
            },
            "colorscale": [
             [
              0,
              "#0d0887"
             ],
             [
              0.1111111111111111,
              "#46039f"
             ],
             [
              0.2222222222222222,
              "#7201a8"
             ],
             [
              0.3333333333333333,
              "#9c179e"
             ],
             [
              0.4444444444444444,
              "#bd3786"
             ],
             [
              0.5555555555555556,
              "#d8576b"
             ],
             [
              0.6666666666666666,
              "#ed7953"
             ],
             [
              0.7777777777777778,
              "#fb9f3a"
             ],
             [
              0.8888888888888888,
              "#fdca26"
             ],
             [
              1,
              "#f0f921"
             ]
            ],
            "type": "histogram2d"
           }
          ],
          "histogram2dcontour": [
           {
            "colorbar": {
             "outlinewidth": 0,
             "ticks": ""
            },
            "colorscale": [
             [
              0,
              "#0d0887"
             ],
             [
              0.1111111111111111,
              "#46039f"
             ],
             [
              0.2222222222222222,
              "#7201a8"
             ],
             [
              0.3333333333333333,
              "#9c179e"
             ],
             [
              0.4444444444444444,
              "#bd3786"
             ],
             [
              0.5555555555555556,
              "#d8576b"
             ],
             [
              0.6666666666666666,
              "#ed7953"
             ],
             [
              0.7777777777777778,
              "#fb9f3a"
             ],
             [
              0.8888888888888888,
              "#fdca26"
             ],
             [
              1,
              "#f0f921"
             ]
            ],
            "type": "histogram2dcontour"
           }
          ],
          "mesh3d": [
           {
            "colorbar": {
             "outlinewidth": 0,
             "ticks": ""
            },
            "type": "mesh3d"
           }
          ],
          "parcoords": [
           {
            "line": {
             "colorbar": {
              "outlinewidth": 0,
              "ticks": ""
             }
            },
            "type": "parcoords"
           }
          ],
          "pie": [
           {
            "automargin": true,
            "type": "pie"
           }
          ],
          "scatter": [
           {
            "fillpattern": {
             "fillmode": "overlay",
             "size": 10,
             "solidity": 0.2
            },
            "type": "scatter"
           }
          ],
          "scatter3d": [
           {
            "line": {
             "colorbar": {
              "outlinewidth": 0,
              "ticks": ""
             }
            },
            "marker": {
             "colorbar": {
              "outlinewidth": 0,
              "ticks": ""
             }
            },
            "type": "scatter3d"
           }
          ],
          "scattercarpet": [
           {
            "marker": {
             "colorbar": {
              "outlinewidth": 0,
              "ticks": ""
             }
            },
            "type": "scattercarpet"
           }
          ],
          "scattergeo": [
           {
            "marker": {
             "colorbar": {
              "outlinewidth": 0,
              "ticks": ""
             }
            },
            "type": "scattergeo"
           }
          ],
          "scattergl": [
           {
            "marker": {
             "colorbar": {
              "outlinewidth": 0,
              "ticks": ""
             }
            },
            "type": "scattergl"
           }
          ],
          "scattermapbox": [
           {
            "marker": {
             "colorbar": {
              "outlinewidth": 0,
              "ticks": ""
             }
            },
            "type": "scattermapbox"
           }
          ],
          "scatterpolar": [
           {
            "marker": {
             "colorbar": {
              "outlinewidth": 0,
              "ticks": ""
             }
            },
            "type": "scatterpolar"
           }
          ],
          "scatterpolargl": [
           {
            "marker": {
             "colorbar": {
              "outlinewidth": 0,
              "ticks": ""
             }
            },
            "type": "scatterpolargl"
           }
          ],
          "scatterternary": [
           {
            "marker": {
             "colorbar": {
              "outlinewidth": 0,
              "ticks": ""
             }
            },
            "type": "scatterternary"
           }
          ],
          "surface": [
           {
            "colorbar": {
             "outlinewidth": 0,
             "ticks": ""
            },
            "colorscale": [
             [
              0,
              "#0d0887"
             ],
             [
              0.1111111111111111,
              "#46039f"
             ],
             [
              0.2222222222222222,
              "#7201a8"
             ],
             [
              0.3333333333333333,
              "#9c179e"
             ],
             [
              0.4444444444444444,
              "#bd3786"
             ],
             [
              0.5555555555555556,
              "#d8576b"
             ],
             [
              0.6666666666666666,
              "#ed7953"
             ],
             [
              0.7777777777777778,
              "#fb9f3a"
             ],
             [
              0.8888888888888888,
              "#fdca26"
             ],
             [
              1,
              "#f0f921"
             ]
            ],
            "type": "surface"
           }
          ],
          "table": [
           {
            "cells": {
             "fill": {
              "color": "#EBF0F8"
             },
             "line": {
              "color": "white"
             }
            },
            "header": {
             "fill": {
              "color": "#C8D4E3"
             },
             "line": {
              "color": "white"
             }
            },
            "type": "table"
           }
          ]
         },
         "layout": {
          "annotationdefaults": {
           "arrowcolor": "#2a3f5f",
           "arrowhead": 0,
           "arrowwidth": 1
          },
          "autotypenumbers": "strict",
          "coloraxis": {
           "colorbar": {
            "outlinewidth": 0,
            "ticks": ""
           }
          },
          "colorscale": {
           "diverging": [
            [
             0,
             "#8e0152"
            ],
            [
             0.1,
             "#c51b7d"
            ],
            [
             0.2,
             "#de77ae"
            ],
            [
             0.3,
             "#f1b6da"
            ],
            [
             0.4,
             "#fde0ef"
            ],
            [
             0.5,
             "#f7f7f7"
            ],
            [
             0.6,
             "#e6f5d0"
            ],
            [
             0.7,
             "#b8e186"
            ],
            [
             0.8,
             "#7fbc41"
            ],
            [
             0.9,
             "#4d9221"
            ],
            [
             1,
             "#276419"
            ]
           ],
           "sequential": [
            [
             0,
             "#0d0887"
            ],
            [
             0.1111111111111111,
             "#46039f"
            ],
            [
             0.2222222222222222,
             "#7201a8"
            ],
            [
             0.3333333333333333,
             "#9c179e"
            ],
            [
             0.4444444444444444,
             "#bd3786"
            ],
            [
             0.5555555555555556,
             "#d8576b"
            ],
            [
             0.6666666666666666,
             "#ed7953"
            ],
            [
             0.7777777777777778,
             "#fb9f3a"
            ],
            [
             0.8888888888888888,
             "#fdca26"
            ],
            [
             1,
             "#f0f921"
            ]
           ],
           "sequentialminus": [
            [
             0,
             "#0d0887"
            ],
            [
             0.1111111111111111,
             "#46039f"
            ],
            [
             0.2222222222222222,
             "#7201a8"
            ],
            [
             0.3333333333333333,
             "#9c179e"
            ],
            [
             0.4444444444444444,
             "#bd3786"
            ],
            [
             0.5555555555555556,
             "#d8576b"
            ],
            [
             0.6666666666666666,
             "#ed7953"
            ],
            [
             0.7777777777777778,
             "#fb9f3a"
            ],
            [
             0.8888888888888888,
             "#fdca26"
            ],
            [
             1,
             "#f0f921"
            ]
           ]
          },
          "colorway": [
           "#636efa",
           "#EF553B",
           "#00cc96",
           "#ab63fa",
           "#FFA15A",
           "#19d3f3",
           "#FF6692",
           "#B6E880",
           "#FF97FF",
           "#FECB52"
          ],
          "font": {
           "color": "#2a3f5f"
          },
          "geo": {
           "bgcolor": "white",
           "lakecolor": "white",
           "landcolor": "#E5ECF6",
           "showlakes": true,
           "showland": true,
           "subunitcolor": "white"
          },
          "hoverlabel": {
           "align": "left"
          },
          "hovermode": "closest",
          "mapbox": {
           "style": "light"
          },
          "paper_bgcolor": "white",
          "plot_bgcolor": "#E5ECF6",
          "polar": {
           "angularaxis": {
            "gridcolor": "white",
            "linecolor": "white",
            "ticks": ""
           },
           "bgcolor": "#E5ECF6",
           "radialaxis": {
            "gridcolor": "white",
            "linecolor": "white",
            "ticks": ""
           }
          },
          "scene": {
           "xaxis": {
            "backgroundcolor": "#E5ECF6",
            "gridcolor": "white",
            "gridwidth": 2,
            "linecolor": "white",
            "showbackground": true,
            "ticks": "",
            "zerolinecolor": "white"
           },
           "yaxis": {
            "backgroundcolor": "#E5ECF6",
            "gridcolor": "white",
            "gridwidth": 2,
            "linecolor": "white",
            "showbackground": true,
            "ticks": "",
            "zerolinecolor": "white"
           },
           "zaxis": {
            "backgroundcolor": "#E5ECF6",
            "gridcolor": "white",
            "gridwidth": 2,
            "linecolor": "white",
            "showbackground": true,
            "ticks": "",
            "zerolinecolor": "white"
           }
          },
          "shapedefaults": {
           "line": {
            "color": "#2a3f5f"
           }
          },
          "ternary": {
           "aaxis": {
            "gridcolor": "white",
            "linecolor": "white",
            "ticks": ""
           },
           "baxis": {
            "gridcolor": "white",
            "linecolor": "white",
            "ticks": ""
           },
           "bgcolor": "#E5ECF6",
           "caxis": {
            "gridcolor": "white",
            "linecolor": "white",
            "ticks": ""
           }
          },
          "title": {
           "x": 0.05
          },
          "xaxis": {
           "automargin": true,
           "gridcolor": "white",
           "linecolor": "white",
           "ticks": "",
           "title": {
            "standoff": 15
           },
           "zerolinecolor": "white",
           "zerolinewidth": 2
          },
          "yaxis": {
           "automargin": true,
           "gridcolor": "white",
           "linecolor": "white",
           "ticks": "",
           "title": {
            "standoff": 15
           },
           "zerolinecolor": "white",
           "zerolinewidth": 2
          }
         }
        },
        "title": {
         "text": "Nelson-Siegel-Svensson Model Fitted with Steepened Yield Compared to Zero-Coupon Yields",
         "x": 0.5
        },
        "width": 900,
        "xaxis": {
         "linecolor": "black",
         "linewidth": 1,
         "range": [
          0,
          27
         ],
         "showline": true,
         "ticklen": 5,
         "ticks": "inside",
         "tickson": "boundaries",
         "tickvals": [
          1,
          2,
          3,
          4,
          5,
          6,
          7,
          8,
          9,
          10,
          15,
          20,
          25
         ],
         "title": {
          "text": "Time to Maturity (Years)"
         }
        },
        "yaxis": {
         "gridcolor": "rgba(38,38,38,0.15)",
         "linecolor": "Grey",
         "linewidth": 1,
         "showline": true,
         "title": {
          "text": "Yield (%)"
         }
        }
       }
      }
     },
     "metadata": {},
     "output_type": "display_data"
    }
   ],
   "source": [
    "gr.Graph_EstimationVSZero(Yield,Yield['Zero-Coupon Yield'],t,y_model_values*100,'Nelson-Siegel-Svensson Model Fitted with Steepened Yield Compared to Zero-Coupon Yields','NSS Model Yields')"
   ]
  },
  {
   "cell_type": "code",
   "execution_count": 51,
   "id": "1c856758",
   "metadata": {},
   "outputs": [
    {
     "data": {
      "application/vnd.plotly.v1+json": {
       "config": {
        "plotlyServerURL": "https://plot.ly"
       },
       "data": [
        {
         "marker": {
          "color": "rgb(0, 71, 102)",
          "size": 8
         },
         "mode": "lines",
         "name": "Discount Function NSS",
         "type": "scatter",
         "x": [
          0.5,
          1,
          1.5,
          2,
          2.5,
          3,
          3.5,
          4,
          4.5,
          5,
          5.5,
          6,
          6.5,
          7,
          7.5,
          8,
          8.5,
          9,
          9.5,
          10,
          10.5,
          11,
          11.5,
          12,
          12.5,
          13,
          13.5,
          14,
          14.5,
          15,
          15.5,
          16,
          16.5,
          17,
          17.5,
          18,
          18.5,
          19,
          19.5,
          20,
          20.5,
          21,
          21.5,
          22,
          22.5,
          23,
          23.5,
          24,
          24.5,
          25,
          25.5,
          26
         ],
         "y": [
          0.9971918207377523,
          0.9914651592447941,
          0.982755938531316,
          0.9711502555754031,
          0.9568430464573995,
          0.9401026761856432,
          0.9212414336776031,
          0.9005917691410955,
          0.8784879063243283,
          0.8552522835864604,
          0.831186161770425,
          0.8065636892581843,
          0.7816287253933771,
          0.7565937765327898,
          0.7316404777428002,
          0.7069211434579521,
          0.6825610016806976,
          0.6586608114904929,
          0.6352996387312919,
          0.6125376280384812,
          0.5904186607130185,
          0.5689728281982548,
          0.5482186814325486,
          0.5281652387061211,
          0.5088137504013037,
          0.4901592295676021,
          0.47219176391259854,
          0.45489762850412924,
          0.4382602201048224,
          0.4222608342429302,
          0.40687930535533756,
          0.3920945289849623,
          0.3778848833396218,
          0.3642285657083679,
          0.35110385741007666,
          0.33848932919904423,
          0.3263639974225378,
          0.31470743974180887,
          0.30349987790128785,
          0.29272223386035656,
          0.28235616458131974,
          0.2723840798851745,
          0.2627891470306657,
          0.2535552850284016,
          0.24466715115709156,
          0.2361101216905649,
          0.22787026846039052,
          0.2199343325590543,
          0.21228969622330604,
          0.2049243537181756,
          0.19782688186203898,
          0.19098641068575653
         ]
        }
       ],
       "layout": {
        "font": {
         "color": "Black",
         "family": "Time New Roman",
         "size": 15
        },
        "height": 500,
        "legend": {
         "bgcolor": "rgba(0, 0, 0, 0)"
        },
        "plot_bgcolor": "rgba(255,255,255,1)",
        "showlegend": true,
        "template": {
         "data": {
          "bar": [
           {
            "error_x": {
             "color": "#2a3f5f"
            },
            "error_y": {
             "color": "#2a3f5f"
            },
            "marker": {
             "line": {
              "color": "#E5ECF6",
              "width": 0.5
             },
             "pattern": {
              "fillmode": "overlay",
              "size": 10,
              "solidity": 0.2
             }
            },
            "type": "bar"
           }
          ],
          "barpolar": [
           {
            "marker": {
             "line": {
              "color": "#E5ECF6",
              "width": 0.5
             },
             "pattern": {
              "fillmode": "overlay",
              "size": 10,
              "solidity": 0.2
             }
            },
            "type": "barpolar"
           }
          ],
          "carpet": [
           {
            "aaxis": {
             "endlinecolor": "#2a3f5f",
             "gridcolor": "white",
             "linecolor": "white",
             "minorgridcolor": "white",
             "startlinecolor": "#2a3f5f"
            },
            "baxis": {
             "endlinecolor": "#2a3f5f",
             "gridcolor": "white",
             "linecolor": "white",
             "minorgridcolor": "white",
             "startlinecolor": "#2a3f5f"
            },
            "type": "carpet"
           }
          ],
          "choropleth": [
           {
            "colorbar": {
             "outlinewidth": 0,
             "ticks": ""
            },
            "type": "choropleth"
           }
          ],
          "contour": [
           {
            "colorbar": {
             "outlinewidth": 0,
             "ticks": ""
            },
            "colorscale": [
             [
              0,
              "#0d0887"
             ],
             [
              0.1111111111111111,
              "#46039f"
             ],
             [
              0.2222222222222222,
              "#7201a8"
             ],
             [
              0.3333333333333333,
              "#9c179e"
             ],
             [
              0.4444444444444444,
              "#bd3786"
             ],
             [
              0.5555555555555556,
              "#d8576b"
             ],
             [
              0.6666666666666666,
              "#ed7953"
             ],
             [
              0.7777777777777778,
              "#fb9f3a"
             ],
             [
              0.8888888888888888,
              "#fdca26"
             ],
             [
              1,
              "#f0f921"
             ]
            ],
            "type": "contour"
           }
          ],
          "contourcarpet": [
           {
            "colorbar": {
             "outlinewidth": 0,
             "ticks": ""
            },
            "type": "contourcarpet"
           }
          ],
          "heatmap": [
           {
            "colorbar": {
             "outlinewidth": 0,
             "ticks": ""
            },
            "colorscale": [
             [
              0,
              "#0d0887"
             ],
             [
              0.1111111111111111,
              "#46039f"
             ],
             [
              0.2222222222222222,
              "#7201a8"
             ],
             [
              0.3333333333333333,
              "#9c179e"
             ],
             [
              0.4444444444444444,
              "#bd3786"
             ],
             [
              0.5555555555555556,
              "#d8576b"
             ],
             [
              0.6666666666666666,
              "#ed7953"
             ],
             [
              0.7777777777777778,
              "#fb9f3a"
             ],
             [
              0.8888888888888888,
              "#fdca26"
             ],
             [
              1,
              "#f0f921"
             ]
            ],
            "type": "heatmap"
           }
          ],
          "heatmapgl": [
           {
            "colorbar": {
             "outlinewidth": 0,
             "ticks": ""
            },
            "colorscale": [
             [
              0,
              "#0d0887"
             ],
             [
              0.1111111111111111,
              "#46039f"
             ],
             [
              0.2222222222222222,
              "#7201a8"
             ],
             [
              0.3333333333333333,
              "#9c179e"
             ],
             [
              0.4444444444444444,
              "#bd3786"
             ],
             [
              0.5555555555555556,
              "#d8576b"
             ],
             [
              0.6666666666666666,
              "#ed7953"
             ],
             [
              0.7777777777777778,
              "#fb9f3a"
             ],
             [
              0.8888888888888888,
              "#fdca26"
             ],
             [
              1,
              "#f0f921"
             ]
            ],
            "type": "heatmapgl"
           }
          ],
          "histogram": [
           {
            "marker": {
             "pattern": {
              "fillmode": "overlay",
              "size": 10,
              "solidity": 0.2
             }
            },
            "type": "histogram"
           }
          ],
          "histogram2d": [
           {
            "colorbar": {
             "outlinewidth": 0,
             "ticks": ""
            },
            "colorscale": [
             [
              0,
              "#0d0887"
             ],
             [
              0.1111111111111111,
              "#46039f"
             ],
             [
              0.2222222222222222,
              "#7201a8"
             ],
             [
              0.3333333333333333,
              "#9c179e"
             ],
             [
              0.4444444444444444,
              "#bd3786"
             ],
             [
              0.5555555555555556,
              "#d8576b"
             ],
             [
              0.6666666666666666,
              "#ed7953"
             ],
             [
              0.7777777777777778,
              "#fb9f3a"
             ],
             [
              0.8888888888888888,
              "#fdca26"
             ],
             [
              1,
              "#f0f921"
             ]
            ],
            "type": "histogram2d"
           }
          ],
          "histogram2dcontour": [
           {
            "colorbar": {
             "outlinewidth": 0,
             "ticks": ""
            },
            "colorscale": [
             [
              0,
              "#0d0887"
             ],
             [
              0.1111111111111111,
              "#46039f"
             ],
             [
              0.2222222222222222,
              "#7201a8"
             ],
             [
              0.3333333333333333,
              "#9c179e"
             ],
             [
              0.4444444444444444,
              "#bd3786"
             ],
             [
              0.5555555555555556,
              "#d8576b"
             ],
             [
              0.6666666666666666,
              "#ed7953"
             ],
             [
              0.7777777777777778,
              "#fb9f3a"
             ],
             [
              0.8888888888888888,
              "#fdca26"
             ],
             [
              1,
              "#f0f921"
             ]
            ],
            "type": "histogram2dcontour"
           }
          ],
          "mesh3d": [
           {
            "colorbar": {
             "outlinewidth": 0,
             "ticks": ""
            },
            "type": "mesh3d"
           }
          ],
          "parcoords": [
           {
            "line": {
             "colorbar": {
              "outlinewidth": 0,
              "ticks": ""
             }
            },
            "type": "parcoords"
           }
          ],
          "pie": [
           {
            "automargin": true,
            "type": "pie"
           }
          ],
          "scatter": [
           {
            "fillpattern": {
             "fillmode": "overlay",
             "size": 10,
             "solidity": 0.2
            },
            "type": "scatter"
           }
          ],
          "scatter3d": [
           {
            "line": {
             "colorbar": {
              "outlinewidth": 0,
              "ticks": ""
             }
            },
            "marker": {
             "colorbar": {
              "outlinewidth": 0,
              "ticks": ""
             }
            },
            "type": "scatter3d"
           }
          ],
          "scattercarpet": [
           {
            "marker": {
             "colorbar": {
              "outlinewidth": 0,
              "ticks": ""
             }
            },
            "type": "scattercarpet"
           }
          ],
          "scattergeo": [
           {
            "marker": {
             "colorbar": {
              "outlinewidth": 0,
              "ticks": ""
             }
            },
            "type": "scattergeo"
           }
          ],
          "scattergl": [
           {
            "marker": {
             "colorbar": {
              "outlinewidth": 0,
              "ticks": ""
             }
            },
            "type": "scattergl"
           }
          ],
          "scattermapbox": [
           {
            "marker": {
             "colorbar": {
              "outlinewidth": 0,
              "ticks": ""
             }
            },
            "type": "scattermapbox"
           }
          ],
          "scatterpolar": [
           {
            "marker": {
             "colorbar": {
              "outlinewidth": 0,
              "ticks": ""
             }
            },
            "type": "scatterpolar"
           }
          ],
          "scatterpolargl": [
           {
            "marker": {
             "colorbar": {
              "outlinewidth": 0,
              "ticks": ""
             }
            },
            "type": "scatterpolargl"
           }
          ],
          "scatterternary": [
           {
            "marker": {
             "colorbar": {
              "outlinewidth": 0,
              "ticks": ""
             }
            },
            "type": "scatterternary"
           }
          ],
          "surface": [
           {
            "colorbar": {
             "outlinewidth": 0,
             "ticks": ""
            },
            "colorscale": [
             [
              0,
              "#0d0887"
             ],
             [
              0.1111111111111111,
              "#46039f"
             ],
             [
              0.2222222222222222,
              "#7201a8"
             ],
             [
              0.3333333333333333,
              "#9c179e"
             ],
             [
              0.4444444444444444,
              "#bd3786"
             ],
             [
              0.5555555555555556,
              "#d8576b"
             ],
             [
              0.6666666666666666,
              "#ed7953"
             ],
             [
              0.7777777777777778,
              "#fb9f3a"
             ],
             [
              0.8888888888888888,
              "#fdca26"
             ],
             [
              1,
              "#f0f921"
             ]
            ],
            "type": "surface"
           }
          ],
          "table": [
           {
            "cells": {
             "fill": {
              "color": "#EBF0F8"
             },
             "line": {
              "color": "white"
             }
            },
            "header": {
             "fill": {
              "color": "#C8D4E3"
             },
             "line": {
              "color": "white"
             }
            },
            "type": "table"
           }
          ]
         },
         "layout": {
          "annotationdefaults": {
           "arrowcolor": "#2a3f5f",
           "arrowhead": 0,
           "arrowwidth": 1
          },
          "autotypenumbers": "strict",
          "coloraxis": {
           "colorbar": {
            "outlinewidth": 0,
            "ticks": ""
           }
          },
          "colorscale": {
           "diverging": [
            [
             0,
             "#8e0152"
            ],
            [
             0.1,
             "#c51b7d"
            ],
            [
             0.2,
             "#de77ae"
            ],
            [
             0.3,
             "#f1b6da"
            ],
            [
             0.4,
             "#fde0ef"
            ],
            [
             0.5,
             "#f7f7f7"
            ],
            [
             0.6,
             "#e6f5d0"
            ],
            [
             0.7,
             "#b8e186"
            ],
            [
             0.8,
             "#7fbc41"
            ],
            [
             0.9,
             "#4d9221"
            ],
            [
             1,
             "#276419"
            ]
           ],
           "sequential": [
            [
             0,
             "#0d0887"
            ],
            [
             0.1111111111111111,
             "#46039f"
            ],
            [
             0.2222222222222222,
             "#7201a8"
            ],
            [
             0.3333333333333333,
             "#9c179e"
            ],
            [
             0.4444444444444444,
             "#bd3786"
            ],
            [
             0.5555555555555556,
             "#d8576b"
            ],
            [
             0.6666666666666666,
             "#ed7953"
            ],
            [
             0.7777777777777778,
             "#fb9f3a"
            ],
            [
             0.8888888888888888,
             "#fdca26"
            ],
            [
             1,
             "#f0f921"
            ]
           ],
           "sequentialminus": [
            [
             0,
             "#0d0887"
            ],
            [
             0.1111111111111111,
             "#46039f"
            ],
            [
             0.2222222222222222,
             "#7201a8"
            ],
            [
             0.3333333333333333,
             "#9c179e"
            ],
            [
             0.4444444444444444,
             "#bd3786"
            ],
            [
             0.5555555555555556,
             "#d8576b"
            ],
            [
             0.6666666666666666,
             "#ed7953"
            ],
            [
             0.7777777777777778,
             "#fb9f3a"
            ],
            [
             0.8888888888888888,
             "#fdca26"
            ],
            [
             1,
             "#f0f921"
            ]
           ]
          },
          "colorway": [
           "#636efa",
           "#EF553B",
           "#00cc96",
           "#ab63fa",
           "#FFA15A",
           "#19d3f3",
           "#FF6692",
           "#B6E880",
           "#FF97FF",
           "#FECB52"
          ],
          "font": {
           "color": "#2a3f5f"
          },
          "geo": {
           "bgcolor": "white",
           "lakecolor": "white",
           "landcolor": "#E5ECF6",
           "showlakes": true,
           "showland": true,
           "subunitcolor": "white"
          },
          "hoverlabel": {
           "align": "left"
          },
          "hovermode": "closest",
          "mapbox": {
           "style": "light"
          },
          "paper_bgcolor": "white",
          "plot_bgcolor": "#E5ECF6",
          "polar": {
           "angularaxis": {
            "gridcolor": "white",
            "linecolor": "white",
            "ticks": ""
           },
           "bgcolor": "#E5ECF6",
           "radialaxis": {
            "gridcolor": "white",
            "linecolor": "white",
            "ticks": ""
           }
          },
          "scene": {
           "xaxis": {
            "backgroundcolor": "#E5ECF6",
            "gridcolor": "white",
            "gridwidth": 2,
            "linecolor": "white",
            "showbackground": true,
            "ticks": "",
            "zerolinecolor": "white"
           },
           "yaxis": {
            "backgroundcolor": "#E5ECF6",
            "gridcolor": "white",
            "gridwidth": 2,
            "linecolor": "white",
            "showbackground": true,
            "ticks": "",
            "zerolinecolor": "white"
           },
           "zaxis": {
            "backgroundcolor": "#E5ECF6",
            "gridcolor": "white",
            "gridwidth": 2,
            "linecolor": "white",
            "showbackground": true,
            "ticks": "",
            "zerolinecolor": "white"
           }
          },
          "shapedefaults": {
           "line": {
            "color": "#2a3f5f"
           }
          },
          "ternary": {
           "aaxis": {
            "gridcolor": "white",
            "linecolor": "white",
            "ticks": ""
           },
           "baxis": {
            "gridcolor": "white",
            "linecolor": "white",
            "ticks": ""
           },
           "bgcolor": "#E5ECF6",
           "caxis": {
            "gridcolor": "white",
            "linecolor": "white",
            "ticks": ""
           }
          },
          "title": {
           "x": 0.05
          },
          "xaxis": {
           "automargin": true,
           "gridcolor": "white",
           "linecolor": "white",
           "ticks": "",
           "title": {
            "standoff": 15
           },
           "zerolinecolor": "white",
           "zerolinewidth": 2
          },
          "yaxis": {
           "automargin": true,
           "gridcolor": "white",
           "linecolor": "white",
           "ticks": "",
           "title": {
            "standoff": 15
           },
           "zerolinecolor": "white",
           "zerolinewidth": 2
          }
         }
        },
        "title": {
         "text": "Discount Function Estimated via Nelson-Siegel-Svensson Model",
         "x": 0.5
        },
        "width": 900,
        "xaxis": {
         "linecolor": "black",
         "linewidth": 1,
         "range": [
          0,
          27
         ],
         "showline": true,
         "ticklen": 5,
         "ticks": "inside",
         "tickson": "boundaries",
         "tickvals": [
          1,
          2,
          3,
          4,
          5,
          6,
          7,
          8,
          9,
          10,
          15,
          20,
          25
         ],
         "title": {
          "text": "Time to Maturity (Years)"
         }
        },
        "yaxis": {
         "gridcolor": "rgba(38,38,38,0.15)",
         "linecolor": "Grey",
         "linewidth": 1,
         "showline": true,
         "title": {
          "text": "Discount Factors"
         }
        }
       }
      }
     },
     "metadata": {},
     "output_type": "display_data"
    }
   ],
   "source": [
    "gr.graph_discount(t, discount_factors,'Discount Function Estimated via Nelson-Siegel-Svensson Model',\"Discount Function NSS\")"
   ]
  },
  {
   "cell_type": "code",
   "execution_count": 52,
   "id": "3e4912f4",
   "metadata": {
    "ExecuteTime": {
     "end_time": "2024-10-29T10:29:35.090596Z",
     "start_time": "2024-10-29T10:29:34.772615Z"
    }
   },
   "outputs": [],
   "source": [
    "# Function to price a bond using NSS discount factors\n",
    "def price_bond_nss(bond):\n",
    "    \n",
    "    cashflows = bond.cashflows()\n",
    "    pv = 0.0\n",
    "    \n",
    "    for cf in cashflows:\n",
    "        if cf.date() > ql.Settings.instance().evaluationDate:\n",
    "            t_cf = round(day_count.yearFraction(ql.Settings.instance().evaluationDate, cf.date()),2)\n",
    "            df = discount_factor_dict.get(t_cf, None)\n",
    "            if df is not None:\n",
    "                pv += cf.amount() * df\n",
    "            else:\n",
    "                raise ValueError(f\"No discount factor found for cash flow time {t_cf}\")\n",
    "    return pv"
   ]
  },
  {
   "cell_type": "code",
   "execution_count": 53,
   "id": "3eaff9fb",
   "metadata": {
    "ExecuteTime": {
     "end_time": "2024-10-29T11:02:22.696310Z",
     "start_time": "2024-10-29T11:02:22.554167Z"
    }
   },
   "outputs": [],
   "source": [
    "ql.Settings.instance().evaluationDate = ql.Date(15, 8, 2003)\n",
    "calendar = ql.UnitedStates(ql.UnitedStates.GovernmentBond)\n",
    "day_count = ql.ActualActual(ql.ActualActual.ISDA)\n",
    "\n",
    "# Create a dictionary mapping each time `t` to its corresponding discount factor\n",
    "discount_factor_dict = dict(zip(t, discount_factors))\n",
    "\n",
    "bonds_nss_prices = []\n",
    "\n",
    "for index, row  in df.iterrows():\n",
    "\n",
    "    issue_date = ql.Date(15, 8, 2003)\n",
    "    maturity_date = ql.Date(row['Maturity Date'].day, row['Maturity Date'].month, row['Maturity Date'].year)\n",
    "    tenor = ql.Period(ql.Semiannual)\n",
    "    settlement_days = 0\n",
    "    face_amount = 100\n",
    "    coupon_rate = [row['Coupon Rate']]\n",
    "    accrual_day_count = ql.ActualActual(ql.ActualActual.ISDA)\n",
    "    payment_convention = ql.Unadjusted\n",
    "\n",
    "    schedule = ql.Schedule(\n",
    "        issue_date,\n",
    "        maturity_date,\n",
    "        tenor,\n",
    "        calendar,\n",
    "        ql.Unadjusted,\n",
    "        ql.Unadjusted,\n",
    "        ql.DateGeneration.Backward,\n",
    "        False\n",
    "    )\n",
    "\n",
    "    bond = ql.FixedRateBond(\n",
    "        settlement_days,\n",
    "        face_amount,\n",
    "        schedule,\n",
    "        coupon_rate,\n",
    "        accrual_day_count,\n",
    "        payment_convention\n",
    "    )\n",
    "\n",
    "    nss_price = price_bond_nss(bond)\n",
    "    \n",
    "    bonds_nss_prices.append(nss_price)\n",
    "\n",
    "df['NSS Theoretical Price'] = bonds_nss_prices\n",
    "df['NSS Theoretical Price'] = df['NSS Theoretical Price'].round(4)\n",
    "\n",
    "df['Price Difference'] = df['NSS Theoretical Price'] - df['Current Price']\n",
    "\n",
    "# Identify cheap and expensive bonds\n",
    "df['Valuation'] = np.where(\n",
    "    df['Price Difference'] > 0,\n",
    "    'Cheap',\n",
    "    'Expensive'\n",
    ")"
   ]
  },
  {
   "cell_type": "code",
   "execution_count": 54,
   "id": "9910b5e9",
   "metadata": {
    "ExecuteTime": {
     "end_time": "2024-10-29T11:02:25.154952Z",
     "start_time": "2024-10-29T11:02:25.029835Z"
    }
   },
   "outputs": [
    {
     "data": {
      "text/html": [
       "<div>\n",
       "<style scoped>\n",
       "    .dataframe tbody tr th:only-of-type {\n",
       "        vertical-align: middle;\n",
       "    }\n",
       "\n",
       "    .dataframe tbody tr th {\n",
       "        vertical-align: top;\n",
       "    }\n",
       "\n",
       "    .dataframe thead th {\n",
       "        text-align: right;\n",
       "    }\n",
       "</style>\n",
       "<table border=\"1\" class=\"dataframe\">\n",
       "  <thead>\n",
       "    <tr style=\"text-align: right;\">\n",
       "      <th></th>\n",
       "      <th>Maturity Date</th>\n",
       "      <th>Coupon Rate (%)</th>\n",
       "      <th>Current Price</th>\n",
       "      <th>NSS Theoretical Price</th>\n",
       "      <th>Price Difference</th>\n",
       "      <th>Valuation</th>\n",
       "    </tr>\n",
       "  </thead>\n",
       "  <tbody>\n",
       "    <tr>\n",
       "      <th>0</th>\n",
       "      <td>2004-02-15</td>\n",
       "      <td>3</td>\n",
       "      <td>101.0544</td>\n",
       "      <td>101.2263</td>\n",
       "      <td>0.1719</td>\n",
       "      <td>Cheap</td>\n",
       "    </tr>\n",
       "    <tr>\n",
       "      <th>1</th>\n",
       "      <td>2004-08-15</td>\n",
       "      <td>2.125</td>\n",
       "      <td>100.9254</td>\n",
       "      <td>101.2617</td>\n",
       "      <td>0.3363</td>\n",
       "      <td>Cheap</td>\n",
       "    </tr>\n",
       "    <tr>\n",
       "      <th>2</th>\n",
       "      <td>2005-02-15</td>\n",
       "      <td>1.5</td>\n",
       "      <td>99.8942</td>\n",
       "      <td>100.5103</td>\n",
       "      <td>0.6161</td>\n",
       "      <td>Cheap</td>\n",
       "    </tr>\n",
       "    <tr>\n",
       "      <th>3</th>\n",
       "      <td>2005-08-15</td>\n",
       "      <td>6.5</td>\n",
       "      <td>109.0934</td>\n",
       "      <td>109.9289</td>\n",
       "      <td>0.8355</td>\n",
       "      <td>Cheap</td>\n",
       "    </tr>\n",
       "    <tr>\n",
       "      <th>4</th>\n",
       "      <td>2006-02-15</td>\n",
       "      <td>5.625</td>\n",
       "      <td>108.4380</td>\n",
       "      <td>109.4864</td>\n",
       "      <td>1.0484</td>\n",
       "      <td>Cheap</td>\n",
       "    </tr>\n",
       "  </tbody>\n",
       "</table>\n",
       "</div>"
      ],
      "text/plain": [
       "  Maturity Date Coupon Rate (%)  Current Price  NSS Theoretical Price  \\\n",
       "0    2004-02-15               3       101.0544               101.2263   \n",
       "1    2004-08-15           2.125       100.9254               101.2617   \n",
       "2    2005-02-15             1.5        99.8942               100.5103   \n",
       "3    2005-08-15             6.5       109.0934               109.9289   \n",
       "4    2006-02-15           5.625       108.4380               109.4864   \n",
       "\n",
       "   Price Difference Valuation  \n",
       "0            0.1719     Cheap  \n",
       "1            0.3363     Cheap  \n",
       "2            0.6161     Cheap  \n",
       "3            0.8355     Cheap  \n",
       "4            1.0484     Cheap  "
      ]
     },
     "execution_count": 54,
     "metadata": {},
     "output_type": "execute_result"
    }
   ],
   "source": [
    "# Display results\n",
    "display_columns = ['Maturity Date', 'Coupon Rate (%)', 'Current Price', 'NSS Theoretical Price', 'Price Difference', 'Valuation']\n",
    "df[display_columns].head()"
   ]
  },
  {
   "cell_type": "markdown",
   "id": "615e5975ae66d327",
   "metadata": {},
   "source": [
    "#### Question 5.3\n"
   ]
  },
  {
   "cell_type": "code",
   "execution_count": 55,
   "id": "8aeb6f01",
   "metadata": {
    "ExecuteTime": {
     "end_time": "2024-10-29T11:02:31.564907Z",
     "start_time": "2024-10-29T11:02:31.439398Z"
    }
   },
   "outputs": [],
   "source": [
    "# For cheap bonds\n",
    "cheap_bonds = df[df['Valuation'] == 'Cheap'].reset_index(drop=True)\n",
    "cheap_bonds['EP_per_Dollar'] = cheap_bonds['Price Difference'] / cheap_bonds['Current Price']\n",
    "\n",
    "# For expensive bonds\n",
    "expensive_bonds = df[df['Valuation'] == 'Expensive'].reset_index(drop=True)\n",
    "expensive_bonds['EP_per_Dollar'] = (-expensive_bonds['Price Difference']) / expensive_bonds['Current Price']\n",
    "\n",
    "# Calculate total expected profit per dollar for each group\n",
    "total_expected_profit_cheap = cheap_bonds['EP_per_Dollar'].sum()\n",
    "total_expected_profit_expensive = expensive_bonds['EP_per_Dollar'].sum()\n",
    "\n",
    "# Allocate Investments within each group to sum up to $100\n",
    "cheap_bonds['Investment'] = (cheap_bonds['EP_per_Dollar'] / total_expected_profit_cheap) * 100\n",
    "expensive_bonds['Investment'] = (expensive_bonds['EP_per_Dollar'] / total_expected_profit_expensive) * 100"
   ]
  },
  {
   "cell_type": "code",
   "execution_count": 56,
   "id": "a4c47ccb31c3724b",
   "metadata": {
    "ExecuteTime": {
     "end_time": "2024-10-29T11:02:33.395019Z",
     "start_time": "2024-10-29T11:02:33.240797Z"
    }
   },
   "outputs": [
    {
     "name": "stdout",
     "output_type": "stream",
     "text": [
      "Investment Allocation for Cheap Bonds:\n"
     ]
    },
    {
     "data": {
      "text/html": [
       "<style type=\"text/css\">\n",
       "</style>\n",
       "<table id=\"T_d04c8\">\n",
       "  <caption>Cheap Bonds</caption>\n",
       "  <thead>\n",
       "    <tr>\n",
       "      <th class=\"blank level0\" >&nbsp;</th>\n",
       "      <th id=\"T_d04c8_level0_col0\" class=\"col_heading level0 col0\" >Maturity Date</th>\n",
       "      <th id=\"T_d04c8_level0_col1\" class=\"col_heading level0 col1\" >Coupon Rate (%)</th>\n",
       "      <th id=\"T_d04c8_level0_col2\" class=\"col_heading level0 col2\" >Current Price</th>\n",
       "      <th id=\"T_d04c8_level0_col3\" class=\"col_heading level0 col3\" >NSS Theoretical Price</th>\n",
       "      <th id=\"T_d04c8_level0_col4\" class=\"col_heading level0 col4\" >Price Difference</th>\n",
       "      <th id=\"T_d04c8_level0_col5\" class=\"col_heading level0 col5\" >Valuation</th>\n",
       "    </tr>\n",
       "  </thead>\n",
       "  <tbody>\n",
       "    <tr>\n",
       "      <th id=\"T_d04c8_level0_row0\" class=\"row_heading level0 row0\" >0</th>\n",
       "      <td id=\"T_d04c8_row0_col0\" class=\"data row0 col0\" >2004-02-15</td>\n",
       "      <td id=\"T_d04c8_row0_col1\" class=\"data row0 col1\" >3.000</td>\n",
       "      <td id=\"T_d04c8_row0_col2\" class=\"data row0 col2\" >101.05</td>\n",
       "      <td id=\"T_d04c8_row0_col3\" class=\"data row0 col3\" >101.23</td>\n",
       "      <td id=\"T_d04c8_row0_col4\" class=\"data row0 col4\" >0.17</td>\n",
       "      <td id=\"T_d04c8_row0_col5\" class=\"data row0 col5\" >Cheap</td>\n",
       "    </tr>\n",
       "    <tr>\n",
       "      <th id=\"T_d04c8_level0_row1\" class=\"row_heading level0 row1\" >1</th>\n",
       "      <td id=\"T_d04c8_row1_col0\" class=\"data row1 col0\" >2004-08-15</td>\n",
       "      <td id=\"T_d04c8_row1_col1\" class=\"data row1 col1\" >2.125</td>\n",
       "      <td id=\"T_d04c8_row1_col2\" class=\"data row1 col2\" >100.93</td>\n",
       "      <td id=\"T_d04c8_row1_col3\" class=\"data row1 col3\" >101.26</td>\n",
       "      <td id=\"T_d04c8_row1_col4\" class=\"data row1 col4\" >0.34</td>\n",
       "      <td id=\"T_d04c8_row1_col5\" class=\"data row1 col5\" >Cheap</td>\n",
       "    </tr>\n",
       "    <tr>\n",
       "      <th id=\"T_d04c8_level0_row2\" class=\"row_heading level0 row2\" >2</th>\n",
       "      <td id=\"T_d04c8_row2_col0\" class=\"data row2 col0\" >2005-02-15</td>\n",
       "      <td id=\"T_d04c8_row2_col1\" class=\"data row2 col1\" >1.500</td>\n",
       "      <td id=\"T_d04c8_row2_col2\" class=\"data row2 col2\" >99.89</td>\n",
       "      <td id=\"T_d04c8_row2_col3\" class=\"data row2 col3\" >100.51</td>\n",
       "      <td id=\"T_d04c8_row2_col4\" class=\"data row2 col4\" >0.62</td>\n",
       "      <td id=\"T_d04c8_row2_col5\" class=\"data row2 col5\" >Cheap</td>\n",
       "    </tr>\n",
       "    <tr>\n",
       "      <th id=\"T_d04c8_level0_row3\" class=\"row_heading level0 row3\" >3</th>\n",
       "      <td id=\"T_d04c8_row3_col0\" class=\"data row3 col0\" >2005-08-15</td>\n",
       "      <td id=\"T_d04c8_row3_col1\" class=\"data row3 col1\" >6.500</td>\n",
       "      <td id=\"T_d04c8_row3_col2\" class=\"data row3 col2\" >109.09</td>\n",
       "      <td id=\"T_d04c8_row3_col3\" class=\"data row3 col3\" >109.93</td>\n",
       "      <td id=\"T_d04c8_row3_col4\" class=\"data row3 col4\" >0.84</td>\n",
       "      <td id=\"T_d04c8_row3_col5\" class=\"data row3 col5\" >Cheap</td>\n",
       "    </tr>\n",
       "    <tr>\n",
       "      <th id=\"T_d04c8_level0_row4\" class=\"row_heading level0 row4\" >4</th>\n",
       "      <td id=\"T_d04c8_row4_col0\" class=\"data row4 col0\" >2006-02-15</td>\n",
       "      <td id=\"T_d04c8_row4_col1\" class=\"data row4 col1\" >5.625</td>\n",
       "      <td id=\"T_d04c8_row4_col2\" class=\"data row4 col2\" >108.44</td>\n",
       "      <td id=\"T_d04c8_row4_col3\" class=\"data row4 col3\" >109.49</td>\n",
       "      <td id=\"T_d04c8_row4_col4\" class=\"data row4 col4\" >1.05</td>\n",
       "      <td id=\"T_d04c8_row4_col5\" class=\"data row4 col5\" >Cheap</td>\n",
       "    </tr>\n",
       "    <tr>\n",
       "      <th id=\"T_d04c8_level0_row5\" class=\"row_heading level0 row5\" >5</th>\n",
       "      <td id=\"T_d04c8_row5_col0\" class=\"data row5 col0\" >2006-08-15</td>\n",
       "      <td id=\"T_d04c8_row5_col1\" class=\"data row5 col1\" >2.375</td>\n",
       "      <td id=\"T_d04c8_row5_col2\" class=\"data row5 col2\" >99.78</td>\n",
       "      <td id=\"T_d04c8_row5_col3\" class=\"data row5 col3\" >100.94</td>\n",
       "      <td id=\"T_d04c8_row5_col4\" class=\"data row5 col4\" >1.16</td>\n",
       "      <td id=\"T_d04c8_row5_col5\" class=\"data row5 col5\" >Cheap</td>\n",
       "    </tr>\n",
       "    <tr>\n",
       "      <th id=\"T_d04c8_level0_row6\" class=\"row_heading level0 row6\" >6</th>\n",
       "      <td id=\"T_d04c8_row6_col0\" class=\"data row6 col0\" >2007-02-15</td>\n",
       "      <td id=\"T_d04c8_row6_col1\" class=\"data row6 col1\" >6.250</td>\n",
       "      <td id=\"T_d04c8_row6_col2\" class=\"data row6 col2\" >111.72</td>\n",
       "      <td id=\"T_d04c8_row6_col3\" class=\"data row6 col3\" >113.28</td>\n",
       "      <td id=\"T_d04c8_row6_col4\" class=\"data row6 col4\" >1.56</td>\n",
       "      <td id=\"T_d04c8_row6_col5\" class=\"data row6 col5\" >Cheap</td>\n",
       "    </tr>\n",
       "    <tr>\n",
       "      <th id=\"T_d04c8_level0_row7\" class=\"row_heading level0 row7\" >7</th>\n",
       "      <td id=\"T_d04c8_row7_col0\" class=\"data row7 col0\" >2007-08-15</td>\n",
       "      <td id=\"T_d04c8_row7_col1\" class=\"data row7 col1\" >3.250</td>\n",
       "      <td id=\"T_d04c8_row7_col2\" class=\"data row7 col2\" >101.08</td>\n",
       "      <td id=\"T_d04c8_row7_col3\" class=\"data row7 col3\" >102.51</td>\n",
       "      <td id=\"T_d04c8_row7_col4\" class=\"data row7 col4\" >1.43</td>\n",
       "      <td id=\"T_d04c8_row7_col5\" class=\"data row7 col5\" >Cheap</td>\n",
       "    </tr>\n",
       "    <tr>\n",
       "      <th id=\"T_d04c8_level0_row8\" class=\"row_heading level0 row8\" >8</th>\n",
       "      <td id=\"T_d04c8_row8_col0\" class=\"data row8 col0\" >2008-02-15</td>\n",
       "      <td id=\"T_d04c8_row8_col1\" class=\"data row8 col1\" >3.000</td>\n",
       "      <td id=\"T_d04c8_row8_col2\" class=\"data row8 col2\" >99.17</td>\n",
       "      <td id=\"T_d04c8_row8_col3\" class=\"data row8 col3\" >100.67</td>\n",
       "      <td id=\"T_d04c8_row8_col4\" class=\"data row8 col4\" >1.50</td>\n",
       "      <td id=\"T_d04c8_row8_col5\" class=\"data row8 col5\" >Cheap</td>\n",
       "    </tr>\n",
       "    <tr>\n",
       "      <th id=\"T_d04c8_level0_row9\" class=\"row_heading level0 row9\" >9</th>\n",
       "      <td id=\"T_d04c8_row9_col0\" class=\"data row9 col0\" >2008-08-15</td>\n",
       "      <td id=\"T_d04c8_row9_col1\" class=\"data row9 col1\" >3.250</td>\n",
       "      <td id=\"T_d04c8_row9_col2\" class=\"data row9 col2\" >99.27</td>\n",
       "      <td id=\"T_d04c8_row9_col3\" class=\"data row9 col3\" >100.80</td>\n",
       "      <td id=\"T_d04c8_row9_col4\" class=\"data row9 col4\" >1.53</td>\n",
       "      <td id=\"T_d04c8_row9_col5\" class=\"data row9 col5\" >Cheap</td>\n",
       "    </tr>\n",
       "    <tr>\n",
       "      <th id=\"T_d04c8_level0_row10\" class=\"row_heading level0 row10\" >10</th>\n",
       "      <td id=\"T_d04c8_row10_col0\" class=\"data row10 col0\" >2009-02-15</td>\n",
       "      <td id=\"T_d04c8_row10_col1\" class=\"data row10 col1\" >5.500</td>\n",
       "      <td id=\"T_d04c8_row10_col2\" class=\"data row10 col2\" >109.77</td>\n",
       "      <td id=\"T_d04c8_row10_col3\" class=\"data row10 col3\" >111.26</td>\n",
       "      <td id=\"T_d04c8_row10_col4\" class=\"data row10 col4\" >1.49</td>\n",
       "      <td id=\"T_d04c8_row10_col5\" class=\"data row10 col5\" >Cheap</td>\n",
       "    </tr>\n",
       "    <tr>\n",
       "      <th id=\"T_d04c8_level0_row11\" class=\"row_heading level0 row11\" >11</th>\n",
       "      <td id=\"T_d04c8_row11_col0\" class=\"data row11 col0\" >2009-08-15</td>\n",
       "      <td id=\"T_d04c8_row11_col1\" class=\"data row11 col1\" >6.000</td>\n",
       "      <td id=\"T_d04c8_row11_col2\" class=\"data row11 col2\" >112.14</td>\n",
       "      <td id=\"T_d04c8_row11_col3\" class=\"data row11 col3\" >113.76</td>\n",
       "      <td id=\"T_d04c8_row11_col4\" class=\"data row11 col4\" >1.61</td>\n",
       "      <td id=\"T_d04c8_row11_col5\" class=\"data row11 col5\" >Cheap</td>\n",
       "    </tr>\n",
       "    <tr>\n",
       "      <th id=\"T_d04c8_level0_row12\" class=\"row_heading level0 row12\" >12</th>\n",
       "      <td id=\"T_d04c8_row12_col0\" class=\"data row12 col0\" >2010-02-15</td>\n",
       "      <td id=\"T_d04c8_row12_col1\" class=\"data row12 col1\" >6.500</td>\n",
       "      <td id=\"T_d04c8_row12_col2\" class=\"data row12 col2\" >114.91</td>\n",
       "      <td id=\"T_d04c8_row12_col3\" class=\"data row12 col3\" >116.58</td>\n",
       "      <td id=\"T_d04c8_row12_col4\" class=\"data row12 col4\" >1.68</td>\n",
       "      <td id=\"T_d04c8_row12_col5\" class=\"data row12 col5\" >Cheap</td>\n",
       "    </tr>\n",
       "    <tr>\n",
       "      <th id=\"T_d04c8_level0_row13\" class=\"row_heading level0 row13\" >13</th>\n",
       "      <td id=\"T_d04c8_row13_col0\" class=\"data row13 col0\" >2010-08-15</td>\n",
       "      <td id=\"T_d04c8_row13_col1\" class=\"data row13 col1\" >5.750</td>\n",
       "      <td id=\"T_d04c8_row13_col2\" class=\"data row13 col2\" >110.39</td>\n",
       "      <td id=\"T_d04c8_row13_col3\" class=\"data row13 col3\" >111.80</td>\n",
       "      <td id=\"T_d04c8_row13_col4\" class=\"data row13 col4\" >1.41</td>\n",
       "      <td id=\"T_d04c8_row13_col5\" class=\"data row13 col5\" >Cheap</td>\n",
       "    </tr>\n",
       "    <tr>\n",
       "      <th id=\"T_d04c8_level0_row14\" class=\"row_heading level0 row14\" >14</th>\n",
       "      <td id=\"T_d04c8_row14_col0\" class=\"data row14 col0\" >2011-02-15</td>\n",
       "      <td id=\"T_d04c8_row14_col1\" class=\"data row14 col1\" >5.000</td>\n",
       "      <td id=\"T_d04c8_row14_col2\" class=\"data row14 col2\" >105.29</td>\n",
       "      <td id=\"T_d04c8_row14_col3\" class=\"data row14 col3\" >106.44</td>\n",
       "      <td id=\"T_d04c8_row14_col4\" class=\"data row14 col4\" >1.15</td>\n",
       "      <td id=\"T_d04c8_row14_col5\" class=\"data row14 col5\" >Cheap</td>\n",
       "    </tr>\n",
       "    <tr>\n",
       "      <th id=\"T_d04c8_level0_row15\" class=\"row_heading level0 row15\" >15</th>\n",
       "      <td id=\"T_d04c8_row15_col0\" class=\"data row15 col0\" >2011-08-15</td>\n",
       "      <td id=\"T_d04c8_row15_col1\" class=\"data row15 col1\" >5.000</td>\n",
       "      <td id=\"T_d04c8_row15_col2\" class=\"data row15 col2\" >104.76</td>\n",
       "      <td id=\"T_d04c8_row15_col3\" class=\"data row15 col3\" >105.72</td>\n",
       "      <td id=\"T_d04c8_row15_col4\" class=\"data row15 col4\" >0.96</td>\n",
       "      <td id=\"T_d04c8_row15_col5\" class=\"data row15 col5\" >Cheap</td>\n",
       "    </tr>\n",
       "    <tr>\n",
       "      <th id=\"T_d04c8_level0_row16\" class=\"row_heading level0 row16\" >16</th>\n",
       "      <td id=\"T_d04c8_row16_col0\" class=\"data row16 col0\" >2012-02-15</td>\n",
       "      <td id=\"T_d04c8_row16_col1\" class=\"data row16 col1\" >4.875</td>\n",
       "      <td id=\"T_d04c8_row16_col2\" class=\"data row16 col2\" >103.44</td>\n",
       "      <td id=\"T_d04c8_row16_col3\" class=\"data row16 col3\" >104.08</td>\n",
       "      <td id=\"T_d04c8_row16_col4\" class=\"data row16 col4\" >0.64</td>\n",
       "      <td id=\"T_d04c8_row16_col5\" class=\"data row16 col5\" >Cheap</td>\n",
       "    </tr>\n",
       "    <tr>\n",
       "      <th id=\"T_d04c8_level0_row17\" class=\"row_heading level0 row17\" >17</th>\n",
       "      <td id=\"T_d04c8_row17_col0\" class=\"data row17 col0\" >2012-08-15</td>\n",
       "      <td id=\"T_d04c8_row17_col1\" class=\"data row17 col1\" >4.375</td>\n",
       "      <td id=\"T_d04c8_row17_col2\" class=\"data row17 col2\" >99.28</td>\n",
       "      <td id=\"T_d04c8_row17_col3\" class=\"data row17 col3\" >99.45</td>\n",
       "      <td id=\"T_d04c8_row17_col4\" class=\"data row17 col4\" >0.17</td>\n",
       "      <td id=\"T_d04c8_row17_col5\" class=\"data row17 col5\" >Cheap</td>\n",
       "    </tr>\n",
       "    <tr>\n",
       "      <th id=\"T_d04c8_level0_row18\" class=\"row_heading level0 row18\" >18</th>\n",
       "      <td id=\"T_d04c8_row18_col0\" class=\"data row18 col0\" >2015-02-15</td>\n",
       "      <td id=\"T_d04c8_row18_col1\" class=\"data row18 col1\" >11.250</td>\n",
       "      <td id=\"T_d04c8_row18_col2\" class=\"data row18 col2\" >157.06</td>\n",
       "      <td id=\"T_d04c8_row18_col3\" class=\"data row18 col3\" >157.83</td>\n",
       "      <td id=\"T_d04c8_row18_col4\" class=\"data row18 col4\" >0.78</td>\n",
       "      <td id=\"T_d04c8_row18_col5\" class=\"data row18 col5\" >Cheap</td>\n",
       "    </tr>\n",
       "    <tr>\n",
       "      <th id=\"T_d04c8_level0_row19\" class=\"row_heading level0 row19\" >19</th>\n",
       "      <td id=\"T_d04c8_row19_col0\" class=\"data row19 col0\" >2015-08-15</td>\n",
       "      <td id=\"T_d04c8_row19_col1\" class=\"data row19 col1\" >10.625</td>\n",
       "      <td id=\"T_d04c8_row19_col2\" class=\"data row19 col2\" >152.42</td>\n",
       "      <td id=\"T_d04c8_row19_col3\" class=\"data row19 col3\" >152.89</td>\n",
       "      <td id=\"T_d04c8_row19_col4\" class=\"data row19 col4\" >0.46</td>\n",
       "      <td id=\"T_d04c8_row19_col5\" class=\"data row19 col5\" >Cheap</td>\n",
       "    </tr>\n",
       "    <tr>\n",
       "      <th id=\"T_d04c8_level0_row20\" class=\"row_heading level0 row20\" >20</th>\n",
       "      <td id=\"T_d04c8_row20_col0\" class=\"data row20 col0\" >2016-02-15</td>\n",
       "      <td id=\"T_d04c8_row20_col1\" class=\"data row20 col1\" >9.250</td>\n",
       "      <td id=\"T_d04c8_row20_col2\" class=\"data row20 col2\" >140.01</td>\n",
       "      <td id=\"T_d04c8_row20_col3\" class=\"data row20 col3\" >140.37</td>\n",
       "      <td id=\"T_d04c8_row20_col4\" class=\"data row20 col4\" >0.36</td>\n",
       "      <td id=\"T_d04c8_row20_col5\" class=\"data row20 col5\" >Cheap</td>\n",
       "    </tr>\n",
       "    <tr>\n",
       "      <th id=\"T_d04c8_level0_row21\" class=\"row_heading level0 row21\" >21</th>\n",
       "      <td id=\"T_d04c8_row21_col0\" class=\"data row21 col0\" >2016-08-15</td>\n",
       "      <td id=\"T_d04c8_row21_col1\" class=\"data row21 col1\" >7.500</td>\n",
       "      <td id=\"T_d04c8_row21_col2\" class=\"data row21 col2\" >123.30</td>\n",
       "      <td id=\"T_d04c8_row21_col3\" class=\"data row21 col3\" >123.40</td>\n",
       "      <td id=\"T_d04c8_row21_col4\" class=\"data row21 col4\" >0.10</td>\n",
       "      <td id=\"T_d04c8_row21_col5\" class=\"data row21 col5\" >Cheap</td>\n",
       "    </tr>\n",
       "    <tr>\n",
       "      <th id=\"T_d04c8_level0_row22\" class=\"row_heading level0 row22\" >22</th>\n",
       "      <td id=\"T_d04c8_row22_col0\" class=\"data row22 col0\" >2017-02-15</td>\n",
       "      <td id=\"T_d04c8_row22_col1\" class=\"data row22 col1\" >8.750</td>\n",
       "      <td id=\"T_d04c8_row22_col2\" class=\"data row22 col2\" >136.06</td>\n",
       "      <td id=\"T_d04c8_row22_col3\" class=\"data row22 col3\" >136.08</td>\n",
       "      <td id=\"T_d04c8_row22_col4\" class=\"data row22 col4\" >0.02</td>\n",
       "      <td id=\"T_d04c8_row22_col5\" class=\"data row22 col5\" >Cheap</td>\n",
       "    </tr>\n",
       "    <tr>\n",
       "      <th id=\"T_d04c8_level0_row23\" class=\"row_heading level0 row23\" >23</th>\n",
       "      <td id=\"T_d04c8_row23_col0\" class=\"data row23 col0\" >2017-08-15</td>\n",
       "      <td id=\"T_d04c8_row23_col1\" class=\"data row23 col1\" >8.875</td>\n",
       "      <td id=\"T_d04c8_row23_col2\" class=\"data row23 col2\" >137.50</td>\n",
       "      <td id=\"T_d04c8_row23_col3\" class=\"data row23 col3\" >137.63</td>\n",
       "      <td id=\"T_d04c8_row23_col4\" class=\"data row23 col4\" >0.12</td>\n",
       "      <td id=\"T_d04c8_row23_col5\" class=\"data row23 col5\" >Cheap</td>\n",
       "    </tr>\n",
       "  </tbody>\n",
       "</table>\n"
      ],
      "text/plain": [
       "<pandas.io.formats.style.Styler at 0x23893b25e80>"
      ]
     },
     "metadata": {},
     "output_type": "display_data"
    }
   ],
   "source": [
    "print(\"Investment Allocation for Cheap Bonds:\")\n",
    "\n",
    "display(\n",
    "    cheap_bonds[display_columns].style.format({\n",
    "        'Coupon Rate (%)': '{:.3f}',\n",
    "        'Current Price': '{:.2f}',\n",
    "        'Time to Maturity': '{:.1f}',\n",
    "        'NSS Theoretical Price': '{:.2f}',\n",
    "        'Price Difference': '{:.2f}',\n",
    "        'EP_per_Dollar': '{:.5f}',\n",
    "        'Investment': '{:.4f}%',\n",
    "        'Starting Date': '{:%Y-%m-%d}',\n",
    "        'Maturity Date': '{:%Y-%m-%d}'\n",
    "    }).set_caption(\"Cheap Bonds\")  \n",
    ")"
   ]
  },
  {
   "cell_type": "code",
   "execution_count": 57,
   "id": "a7eb4ee6",
   "metadata": {
    "ExecuteTime": {
     "end_time": "2024-10-29T11:02:38.817301Z",
     "start_time": "2024-10-29T11:02:38.684327Z"
    }
   },
   "outputs": [
    {
     "name": "stdout",
     "output_type": "stream",
     "text": [
      "\n",
      "Investment Allocation for Expensive Bonds:\n"
     ]
    },
    {
     "data": {
      "text/html": [
       "<style type=\"text/css\">\n",
       "</style>\n",
       "<table id=\"T_0e4d0\">\n",
       "  <caption>Expensive Bonds</caption>\n",
       "  <thead>\n",
       "    <tr>\n",
       "      <th class=\"blank level0\" >&nbsp;</th>\n",
       "      <th id=\"T_0e4d0_level0_col0\" class=\"col_heading level0 col0\" >Maturity Date</th>\n",
       "      <th id=\"T_0e4d0_level0_col1\" class=\"col_heading level0 col1\" >Coupon Rate (%)</th>\n",
       "      <th id=\"T_0e4d0_level0_col2\" class=\"col_heading level0 col2\" >Current Price</th>\n",
       "      <th id=\"T_0e4d0_level0_col3\" class=\"col_heading level0 col3\" >NSS Theoretical Price</th>\n",
       "      <th id=\"T_0e4d0_level0_col4\" class=\"col_heading level0 col4\" >Price Difference</th>\n",
       "      <th id=\"T_0e4d0_level0_col5\" class=\"col_heading level0 col5\" >Valuation</th>\n",
       "    </tr>\n",
       "  </thead>\n",
       "  <tbody>\n",
       "    <tr>\n",
       "      <th id=\"T_0e4d0_level0_row0\" class=\"row_heading level0 row0\" >0</th>\n",
       "      <td id=\"T_0e4d0_row0_col0\" class=\"data row0 col0\" >2013-02-15</td>\n",
       "      <td id=\"T_0e4d0_row0_col1\" class=\"data row0 col1\" >3.875</td>\n",
       "      <td id=\"T_0e4d0_row0_col2\" class=\"data row0 col2\" >95.03</td>\n",
       "      <td id=\"T_0e4d0_row0_col3\" class=\"data row0 col3\" >94.52</td>\n",
       "      <td id=\"T_0e4d0_row0_col4\" class=\"data row0 col4\" >-0.51</td>\n",
       "      <td id=\"T_0e4d0_row0_col5\" class=\"data row0 col5\" >Expensive</td>\n",
       "    </tr>\n",
       "    <tr>\n",
       "      <th id=\"T_0e4d0_level0_row1\" class=\"row_heading level0 row1\" >1</th>\n",
       "      <td id=\"T_0e4d0_row1_col0\" class=\"data row1 col0\" >2013-08-15</td>\n",
       "      <td id=\"T_0e4d0_row1_col1\" class=\"data row1 col1\" >4.250</td>\n",
       "      <td id=\"T_0e4d0_row1_col2\" class=\"data row1 col2\" >97.77</td>\n",
       "      <td id=\"T_0e4d0_row1_col3\" class=\"data row1 col3\" >96.53</td>\n",
       "      <td id=\"T_0e4d0_row1_col4\" class=\"data row1 col4\" >-1.24</td>\n",
       "      <td id=\"T_0e4d0_row1_col5\" class=\"data row1 col5\" >Expensive</td>\n",
       "    </tr>\n",
       "    <tr>\n",
       "      <th id=\"T_0e4d0_level0_row2\" class=\"row_heading level0 row2\" >2</th>\n",
       "      <td id=\"T_0e4d0_row2_col0\" class=\"data row2 col0\" >2014-02-15</td>\n",
       "      <td id=\"T_0e4d0_row2_col1\" class=\"data row2 col1\" >13.250</td>\n",
       "      <td id=\"T_0e4d0_row2_col2\" class=\"data row2 col2\" >174.33</td>\n",
       "      <td id=\"T_0e4d0_row2_col3\" class=\"data row2 col3\" >172.96</td>\n",
       "      <td id=\"T_0e4d0_row2_col4\" class=\"data row2 col4\" >-1.36</td>\n",
       "      <td id=\"T_0e4d0_row2_col5\" class=\"data row2 col5\" >Expensive</td>\n",
       "    </tr>\n",
       "    <tr>\n",
       "      <th id=\"T_0e4d0_level0_row3\" class=\"row_heading level0 row3\" >3</th>\n",
       "      <td id=\"T_0e4d0_row3_col0\" class=\"data row3 col0\" >2014-08-15</td>\n",
       "      <td id=\"T_0e4d0_row3_col1\" class=\"data row3 col1\" >12.500</td>\n",
       "      <td id=\"T_0e4d0_row3_col2\" class=\"data row3 col2\" >168.94</td>\n",
       "      <td id=\"T_0e4d0_row3_col3\" class=\"data row3 col3\" >167.90</td>\n",
       "      <td id=\"T_0e4d0_row3_col4\" class=\"data row3 col4\" >-1.04</td>\n",
       "      <td id=\"T_0e4d0_row3_col5\" class=\"data row3 col5\" >Expensive</td>\n",
       "    </tr>\n",
       "    <tr>\n",
       "      <th id=\"T_0e4d0_level0_row4\" class=\"row_heading level0 row4\" >4</th>\n",
       "      <td id=\"T_0e4d0_row4_col0\" class=\"data row4 col0\" >2018-02-15</td>\n",
       "      <td id=\"T_0e4d0_row4_col1\" class=\"data row4 col1\" >9.125</td>\n",
       "      <td id=\"T_0e4d0_row4_col2\" class=\"data row4 col2\" >140.79</td>\n",
       "      <td id=\"T_0e4d0_row4_col3\" class=\"data row4 col3\" >140.57</td>\n",
       "      <td id=\"T_0e4d0_row4_col4\" class=\"data row4 col4\" >-0.22</td>\n",
       "      <td id=\"T_0e4d0_row4_col5\" class=\"data row4 col5\" >Expensive</td>\n",
       "    </tr>\n",
       "    <tr>\n",
       "      <th id=\"T_0e4d0_level0_row5\" class=\"row_heading level0 row5\" >5</th>\n",
       "      <td id=\"T_0e4d0_row5_col0\" class=\"data row5 col0\" >2018-08-15</td>\n",
       "      <td id=\"T_0e4d0_row5_col1\" class=\"data row5 col1\" >9.000</td>\n",
       "      <td id=\"T_0e4d0_row5_col2\" class=\"data row5 col2\" >139.91</td>\n",
       "      <td id=\"T_0e4d0_row5_col3\" class=\"data row5 col3\" >139.53</td>\n",
       "      <td id=\"T_0e4d0_row5_col4\" class=\"data row5 col4\" >-0.38</td>\n",
       "      <td id=\"T_0e4d0_row5_col5\" class=\"data row5 col5\" >Expensive</td>\n",
       "    </tr>\n",
       "    <tr>\n",
       "      <th id=\"T_0e4d0_level0_row6\" class=\"row_heading level0 row6\" >6</th>\n",
       "      <td id=\"T_0e4d0_row6_col0\" class=\"data row6 col0\" >2019-02-15</td>\n",
       "      <td id=\"T_0e4d0_row6_col1\" class=\"data row6 col1\" >8.875</td>\n",
       "      <td id=\"T_0e4d0_row6_col2\" class=\"data row6 col2\" >138.74</td>\n",
       "      <td id=\"T_0e4d0_row6_col3\" class=\"data row6 col3\" >138.46</td>\n",
       "      <td id=\"T_0e4d0_row6_col4\" class=\"data row6 col4\" >-0.28</td>\n",
       "      <td id=\"T_0e4d0_row6_col5\" class=\"data row6 col5\" >Expensive</td>\n",
       "    </tr>\n",
       "    <tr>\n",
       "      <th id=\"T_0e4d0_level0_row7\" class=\"row_heading level0 row7\" >7</th>\n",
       "      <td id=\"T_0e4d0_row7_col0\" class=\"data row7 col0\" >2019-08-15</td>\n",
       "      <td id=\"T_0e4d0_row7_col1\" class=\"data row7 col1\" >8.125</td>\n",
       "      <td id=\"T_0e4d0_row7_col2\" class=\"data row7 col2\" >130.72</td>\n",
       "      <td id=\"T_0e4d0_row7_col3\" class=\"data row7 col3\" >130.30</td>\n",
       "      <td id=\"T_0e4d0_row7_col4\" class=\"data row7 col4\" >-0.41</td>\n",
       "      <td id=\"T_0e4d0_row7_col5\" class=\"data row7 col5\" >Expensive</td>\n",
       "    </tr>\n",
       "    <tr>\n",
       "      <th id=\"T_0e4d0_level0_row8\" class=\"row_heading level0 row8\" >8</th>\n",
       "      <td id=\"T_0e4d0_row8_col0\" class=\"data row8 col0\" >2020-02-15</td>\n",
       "      <td id=\"T_0e4d0_row8_col1\" class=\"data row8 col1\" >8.500</td>\n",
       "      <td id=\"T_0e4d0_row8_col2\" class=\"data row8 col2\" >135.29</td>\n",
       "      <td id=\"T_0e4d0_row8_col3\" class=\"data row8 col3\" >134.70</td>\n",
       "      <td id=\"T_0e4d0_row8_col4\" class=\"data row8 col4\" >-0.59</td>\n",
       "      <td id=\"T_0e4d0_row8_col5\" class=\"data row8 col5\" >Expensive</td>\n",
       "    </tr>\n",
       "    <tr>\n",
       "      <th id=\"T_0e4d0_level0_row9\" class=\"row_heading level0 row9\" >9</th>\n",
       "      <td id=\"T_0e4d0_row9_col0\" class=\"data row9 col0\" >2020-08-15</td>\n",
       "      <td id=\"T_0e4d0_row9_col1\" class=\"data row9 col1\" >8.750</td>\n",
       "      <td id=\"T_0e4d0_row9_col2\" class=\"data row9 col2\" >138.35</td>\n",
       "      <td id=\"T_0e4d0_row9_col3\" class=\"data row9 col3\" >137.77</td>\n",
       "      <td id=\"T_0e4d0_row9_col4\" class=\"data row9 col4\" >-0.57</td>\n",
       "      <td id=\"T_0e4d0_row9_col5\" class=\"data row9 col5\" >Expensive</td>\n",
       "    </tr>\n",
       "    <tr>\n",
       "      <th id=\"T_0e4d0_level0_row10\" class=\"row_heading level0 row10\" >10</th>\n",
       "      <td id=\"T_0e4d0_row10_col0\" class=\"data row10 col0\" >2021-02-15</td>\n",
       "      <td id=\"T_0e4d0_row10_col1\" class=\"data row10 col1\" >7.875</td>\n",
       "      <td id=\"T_0e4d0_row10_col2\" class=\"data row10 col2\" >128.50</td>\n",
       "      <td id=\"T_0e4d0_row10_col3\" class=\"data row10 col3\" >127.72</td>\n",
       "      <td id=\"T_0e4d0_row10_col4\" class=\"data row10 col4\" >-0.78</td>\n",
       "      <td id=\"T_0e4d0_row10_col5\" class=\"data row10 col5\" >Expensive</td>\n",
       "    </tr>\n",
       "    <tr>\n",
       "      <th id=\"T_0e4d0_level0_row11\" class=\"row_heading level0 row11\" >11</th>\n",
       "      <td id=\"T_0e4d0_row11_col0\" class=\"data row11 col0\" >2021-08-15</td>\n",
       "      <td id=\"T_0e4d0_row11_col1\" class=\"data row11 col1\" >8.125</td>\n",
       "      <td id=\"T_0e4d0_row11_col2\" class=\"data row11 col2\" >131.73</td>\n",
       "      <td id=\"T_0e4d0_row11_col3\" class=\"data row11 col3\" >130.76</td>\n",
       "      <td id=\"T_0e4d0_row11_col4\" class=\"data row11 col4\" >-0.98</td>\n",
       "      <td id=\"T_0e4d0_row11_col5\" class=\"data row11 col5\" >Expensive</td>\n",
       "    </tr>\n",
       "    <tr>\n",
       "      <th id=\"T_0e4d0_level0_row12\" class=\"row_heading level0 row12\" >12</th>\n",
       "      <td id=\"T_0e4d0_row12_col0\" class=\"data row12 col0\" >2022-02-15</td>\n",
       "      <td id=\"T_0e4d0_row12_col1\" class=\"data row12 col1\" >8.000</td>\n",
       "      <td id=\"T_0e4d0_row12_col2\" class=\"data row12 col2\" >130.47</td>\n",
       "      <td id=\"T_0e4d0_row12_col3\" class=\"data row12 col3\" >129.37</td>\n",
       "      <td id=\"T_0e4d0_row12_col4\" class=\"data row12 col4\" >-1.10</td>\n",
       "      <td id=\"T_0e4d0_row12_col5\" class=\"data row12 col5\" >Expensive</td>\n",
       "    </tr>\n",
       "    <tr>\n",
       "      <th id=\"T_0e4d0_level0_row13\" class=\"row_heading level0 row13\" >13</th>\n",
       "      <td id=\"T_0e4d0_row13_col0\" class=\"data row13 col0\" >2022-08-15</td>\n",
       "      <td id=\"T_0e4d0_row13_col1\" class=\"data row13 col1\" >7.250</td>\n",
       "      <td id=\"T_0e4d0_row13_col2\" class=\"data row13 col2\" >121.58</td>\n",
       "      <td id=\"T_0e4d0_row13_col3\" class=\"data row13 col3\" >120.27</td>\n",
       "      <td id=\"T_0e4d0_row13_col4\" class=\"data row13 col4\" >-1.31</td>\n",
       "      <td id=\"T_0e4d0_row13_col5\" class=\"data row13 col5\" >Expensive</td>\n",
       "    </tr>\n",
       "    <tr>\n",
       "      <th id=\"T_0e4d0_level0_row14\" class=\"row_heading level0 row14\" >14</th>\n",
       "      <td id=\"T_0e4d0_row14_col0\" class=\"data row14 col0\" >2023-02-15</td>\n",
       "      <td id=\"T_0e4d0_row14_col1\" class=\"data row14 col1\" >7.125</td>\n",
       "      <td id=\"T_0e4d0_row14_col2\" class=\"data row14 col2\" >120.17</td>\n",
       "      <td id=\"T_0e4d0_row14_col3\" class=\"data row14 col3\" >118.71</td>\n",
       "      <td id=\"T_0e4d0_row14_col4\" class=\"data row14 col4\" >-1.47</td>\n",
       "      <td id=\"T_0e4d0_row14_col5\" class=\"data row14 col5\" >Expensive</td>\n",
       "    </tr>\n",
       "    <tr>\n",
       "      <th id=\"T_0e4d0_level0_row15\" class=\"row_heading level0 row15\" >15</th>\n",
       "      <td id=\"T_0e4d0_row15_col0\" class=\"data row15 col0\" >2023-08-15</td>\n",
       "      <td id=\"T_0e4d0_row15_col1\" class=\"data row15 col1\" >6.250</td>\n",
       "      <td id=\"T_0e4d0_row15_col2\" class=\"data row15 col2\" >109.45</td>\n",
       "      <td id=\"T_0e4d0_row15_col3\" class=\"data row15 col3\" >107.68</td>\n",
       "      <td id=\"T_0e4d0_row15_col4\" class=\"data row15 col4\" >-1.77</td>\n",
       "      <td id=\"T_0e4d0_row15_col5\" class=\"data row15 col5\" >Expensive</td>\n",
       "    </tr>\n",
       "    <tr>\n",
       "      <th id=\"T_0e4d0_level0_row16\" class=\"row_heading level0 row16\" >16</th>\n",
       "      <td id=\"T_0e4d0_row16_col0\" class=\"data row16 col0\" >2024-02-15</td>\n",
       "      <td id=\"T_0e4d0_row16_col1\" class=\"data row16 col1\" >7.500</td>\n",
       "      <td id=\"T_0e4d0_row16_col2\" class=\"data row16 col2\" >125.46</td>\n",
       "      <td id=\"T_0e4d0_row16_col3\" class=\"data row16 col3\" >123.40</td>\n",
       "      <td id=\"T_0e4d0_row16_col4\" class=\"data row16 col4\" >-2.06</td>\n",
       "      <td id=\"T_0e4d0_row16_col5\" class=\"data row16 col5\" >Expensive</td>\n",
       "    </tr>\n",
       "    <tr>\n",
       "      <th id=\"T_0e4d0_level0_row17\" class=\"row_heading level0 row17\" >17</th>\n",
       "      <td id=\"T_0e4d0_row17_col0\" class=\"data row17 col0\" >2024-08-15</td>\n",
       "      <td id=\"T_0e4d0_row17_col1\" class=\"data row17 col1\" >7.500</td>\n",
       "      <td id=\"T_0e4d0_row17_col2\" class=\"data row17 col2\" >125.45</td>\n",
       "      <td id=\"T_0e4d0_row17_col3\" class=\"data row17 col3\" >123.42</td>\n",
       "      <td id=\"T_0e4d0_row17_col4\" class=\"data row17 col4\" >-2.03</td>\n",
       "      <td id=\"T_0e4d0_row17_col5\" class=\"data row17 col5\" >Expensive</td>\n",
       "    </tr>\n",
       "    <tr>\n",
       "      <th id=\"T_0e4d0_level0_row18\" class=\"row_heading level0 row18\" >18</th>\n",
       "      <td id=\"T_0e4d0_row18_col0\" class=\"data row18 col0\" >2025-02-15</td>\n",
       "      <td id=\"T_0e4d0_row18_col1\" class=\"data row18 col1\" >7.625</td>\n",
       "      <td id=\"T_0e4d0_row18_col2\" class=\"data row18 col2\" >127.15</td>\n",
       "      <td id=\"T_0e4d0_row18_col3\" class=\"data row18 col3\" >125.07</td>\n",
       "      <td id=\"T_0e4d0_row18_col4\" class=\"data row18 col4\" >-2.08</td>\n",
       "      <td id=\"T_0e4d0_row18_col5\" class=\"data row18 col5\" >Expensive</td>\n",
       "    </tr>\n",
       "    <tr>\n",
       "      <th id=\"T_0e4d0_level0_row19\" class=\"row_heading level0 row19\" >19</th>\n",
       "      <td id=\"T_0e4d0_row19_col0\" class=\"data row19 col0\" >2025-08-15</td>\n",
       "      <td id=\"T_0e4d0_row19_col1\" class=\"data row19 col1\" >6.875</td>\n",
       "      <td id=\"T_0e4d0_row19_col2\" class=\"data row19 col2\" >117.55</td>\n",
       "      <td id=\"T_0e4d0_row19_col3\" class=\"data row19 col3\" >115.29</td>\n",
       "      <td id=\"T_0e4d0_row19_col4\" class=\"data row19 col4\" >-2.26</td>\n",
       "      <td id=\"T_0e4d0_row19_col5\" class=\"data row19 col5\" >Expensive</td>\n",
       "    </tr>\n",
       "    <tr>\n",
       "      <th id=\"T_0e4d0_level0_row20\" class=\"row_heading level0 row20\" >20</th>\n",
       "      <td id=\"T_0e4d0_row20_col0\" class=\"data row20 col0\" >2026-02-15</td>\n",
       "      <td id=\"T_0e4d0_row20_col1\" class=\"data row20 col1\" >6.000</td>\n",
       "      <td id=\"T_0e4d0_row20_col2\" class=\"data row20 col2\" >106.36</td>\n",
       "      <td id=\"T_0e4d0_row20_col3\" class=\"data row20 col3\" >103.70</td>\n",
       "      <td id=\"T_0e4d0_row20_col4\" class=\"data row20 col4\" >-2.67</td>\n",
       "      <td id=\"T_0e4d0_row20_col5\" class=\"data row20 col5\" >Expensive</td>\n",
       "    </tr>\n",
       "    <tr>\n",
       "      <th id=\"T_0e4d0_level0_row21\" class=\"row_heading level0 row21\" >21</th>\n",
       "      <td id=\"T_0e4d0_row21_col0\" class=\"data row21 col0\" >2026-08-15</td>\n",
       "      <td id=\"T_0e4d0_row21_col1\" class=\"data row21 col1\" >6.750</td>\n",
       "      <td id=\"T_0e4d0_row21_col2\" class=\"data row21 col2\" >116.20</td>\n",
       "      <td id=\"T_0e4d0_row21_col3\" class=\"data row21 col3\" >113.54</td>\n",
       "      <td id=\"T_0e4d0_row21_col4\" class=\"data row21 col4\" >-2.66</td>\n",
       "      <td id=\"T_0e4d0_row21_col5\" class=\"data row21 col5\" >Expensive</td>\n",
       "    </tr>\n",
       "    <tr>\n",
       "      <th id=\"T_0e4d0_level0_row22\" class=\"row_heading level0 row22\" >22</th>\n",
       "      <td id=\"T_0e4d0_row22_col0\" class=\"data row22 col0\" >2027-02-15</td>\n",
       "      <td id=\"T_0e4d0_row22_col1\" class=\"data row22 col1\" >6.625</td>\n",
       "      <td id=\"T_0e4d0_row22_col2\" class=\"data row22 col2\" >114.71</td>\n",
       "      <td id=\"T_0e4d0_row22_col3\" class=\"data row22 col3\" >111.81</td>\n",
       "      <td id=\"T_0e4d0_row22_col4\" class=\"data row22 col4\" >-2.90</td>\n",
       "      <td id=\"T_0e4d0_row22_col5\" class=\"data row22 col5\" >Expensive</td>\n",
       "    </tr>\n",
       "    <tr>\n",
       "      <th id=\"T_0e4d0_level0_row23\" class=\"row_heading level0 row23\" >23</th>\n",
       "      <td id=\"T_0e4d0_row23_col0\" class=\"data row23 col0\" >2027-08-15</td>\n",
       "      <td id=\"T_0e4d0_row23_col1\" class=\"data row23 col1\" >6.375</td>\n",
       "      <td id=\"T_0e4d0_row23_col2\" class=\"data row23 col2\" >111.40</td>\n",
       "      <td id=\"T_0e4d0_row23_col3\" class=\"data row23 col3\" >108.35</td>\n",
       "      <td id=\"T_0e4d0_row23_col4\" class=\"data row23 col4\" >-3.05</td>\n",
       "      <td id=\"T_0e4d0_row23_col5\" class=\"data row23 col5\" >Expensive</td>\n",
       "    </tr>\n",
       "    <tr>\n",
       "      <th id=\"T_0e4d0_level0_row24\" class=\"row_heading level0 row24\" >24</th>\n",
       "      <td id=\"T_0e4d0_row24_col0\" class=\"data row24 col0\" >2028-02-15</td>\n",
       "      <td id=\"T_0e4d0_row24_col1\" class=\"data row24 col1\" >6.125</td>\n",
       "      <td id=\"T_0e4d0_row24_col2\" class=\"data row24 col2\" >108.04</td>\n",
       "      <td id=\"T_0e4d0_row24_col3\" class=\"data row24 col3\" >104.85</td>\n",
       "      <td id=\"T_0e4d0_row24_col4\" class=\"data row24 col4\" >-3.19</td>\n",
       "      <td id=\"T_0e4d0_row24_col5\" class=\"data row24 col5\" >Expensive</td>\n",
       "    </tr>\n",
       "    <tr>\n",
       "      <th id=\"T_0e4d0_level0_row25\" class=\"row_heading level0 row25\" >25</th>\n",
       "      <td id=\"T_0e4d0_row25_col0\" class=\"data row25 col0\" >2028-08-15</td>\n",
       "      <td id=\"T_0e4d0_row25_col1\" class=\"data row25 col1\" >5.500</td>\n",
       "      <td id=\"T_0e4d0_row25_col2\" class=\"data row25 col2\" >99.63</td>\n",
       "      <td id=\"T_0e4d0_row25_col3\" class=\"data row25 col3\" >96.14</td>\n",
       "      <td id=\"T_0e4d0_row25_col4\" class=\"data row25 col4\" >-3.49</td>\n",
       "      <td id=\"T_0e4d0_row25_col5\" class=\"data row25 col5\" >Expensive</td>\n",
       "    </tr>\n",
       "    <tr>\n",
       "      <th id=\"T_0e4d0_level0_row26\" class=\"row_heading level0 row26\" >26</th>\n",
       "      <td id=\"T_0e4d0_row26_col0\" class=\"data row26 col0\" >2029-02-15</td>\n",
       "      <td id=\"T_0e4d0_row26_col1\" class=\"data row26 col1\" >5.250</td>\n",
       "      <td id=\"T_0e4d0_row26_col2\" class=\"data row26 col2\" >96.29</td>\n",
       "      <td id=\"T_0e4d0_row26_col3\" class=\"data row26 col3\" >92.52</td>\n",
       "      <td id=\"T_0e4d0_row26_col4\" class=\"data row26 col4\" >-3.77</td>\n",
       "      <td id=\"T_0e4d0_row26_col5\" class=\"data row26 col5\" >Expensive</td>\n",
       "    </tr>\n",
       "    <tr>\n",
       "      <th id=\"T_0e4d0_level0_row27\" class=\"row_heading level0 row27\" >27</th>\n",
       "      <td id=\"T_0e4d0_row27_col0\" class=\"data row27 col0\" >2029-08-15</td>\n",
       "      <td id=\"T_0e4d0_row27_col1\" class=\"data row27 col1\" >6.125</td>\n",
       "      <td id=\"T_0e4d0_row27_col2\" class=\"data row27 col2\" >108.41</td>\n",
       "      <td id=\"T_0e4d0_row27_col3\" class=\"data row27 col3\" >104.54</td>\n",
       "      <td id=\"T_0e4d0_row27_col4\" class=\"data row27 col4\" >-3.87</td>\n",
       "      <td id=\"T_0e4d0_row27_col5\" class=\"data row27 col5\" >Expensive</td>\n",
       "    </tr>\n",
       "  </tbody>\n",
       "</table>\n"
      ],
      "text/plain": [
       "<pandas.io.formats.style.Styler at 0x23893b1e490>"
      ]
     },
     "metadata": {},
     "output_type": "display_data"
    }
   ],
   "source": [
    "print(\"\\nInvestment Allocation for Expensive Bonds:\")\n",
    "\n",
    "display(\n",
    "    expensive_bonds[display_columns].style.format({\n",
    "        'Coupon Rate (%)': '{:.3f}',\n",
    "        'Current Price': '{:.2f}',\n",
    "        'Time to Maturity': '{:.1f}',\n",
    "        'NSS Theoretical Price': '{:.2f}',\n",
    "        'Price Difference': '{:.2f}',\n",
    "        'EP_per_Dollar': '{:.5f}',\n",
    "        'Investment': '{:.4f}%',\n",
    "        'Starting Date': '{:%Y-%m-%d}',\n",
    "        'Maturity Date': '{:%Y-%m-%d}'\n",
    "    }).set_caption(\"Expensive Bonds\")\n",
    ")"
   ]
  },
  {
   "cell_type": "code",
   "execution_count": 58,
   "id": "8a9b1024",
   "metadata": {
    "ExecuteTime": {
     "end_time": "2024-10-29T11:02:41.363874Z",
     "start_time": "2024-10-29T11:02:41.234102Z"
    }
   },
   "outputs": [
    {
     "name": "stdout",
     "output_type": "stream",
     "text": [
      "\n",
      "Total Investment Allocated: $200.00\n",
      "\n",
      "Total Long Expected Profit: $1.16\n",
      "\n",
      "Total Short Expected Profit: $2.30\n",
      "\n",
      "Total Expected Profit: $3.46\n",
      "Expected Return Percentage: 1.73%\n"
     ]
    }
   ],
   "source": [
    "\n",
    "total_investment = cheap_bonds['Investment'].sum() + expensive_bonds['Investment'].sum()\n",
    "print(f\"\\nTotal Investment Allocated: ${total_investment:.2f}\")\n",
    "\n",
    "# Calculate Total Expected Profit and Return\n",
    "total_expected_profit_long = (cheap_bonds['EP_per_Dollar'] * cheap_bonds['Investment']).sum()\n",
    "print(f\"\\nTotal Long Expected Profit: ${total_expected_profit_long:.2f}\")\n",
    "total_expected_profit_short = (expensive_bonds['EP_per_Dollar'] * expensive_bonds['Investment']).sum()\n",
    "print(f\"\\nTotal Short Expected Profit: ${total_expected_profit_short:.2f}\")\n",
    "net_expected_return = total_expected_profit_long + total_expected_profit_short\n",
    "expected_return_percentage = (net_expected_return / 200) * 100 \n",
    "\n",
    "print(f\"\\nTotal Expected Profit: ${net_expected_return:.2f}\")\n",
    "print(f\"Expected Return Percentage: {expected_return_percentage:.2f}%\")"
   ]
  }
 ],
 "metadata": {
  "kernelspec": {
   "display_name": ".venv",
   "language": "python",
   "name": "python3"
  },
  "language_info": {
   "codemirror_mode": {
    "name": "ipython",
    "version": 3
   },
   "file_extension": ".py",
   "mimetype": "text/x-python",
   "name": "python",
   "nbconvert_exporter": "python",
   "pygments_lexer": "ipython3",
   "version": "3.13.0"
  }
 },
 "nbformat": 4,
 "nbformat_minor": 5
}
